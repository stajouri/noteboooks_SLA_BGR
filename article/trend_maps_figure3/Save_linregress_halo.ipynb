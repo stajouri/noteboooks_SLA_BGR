{
 "cells": [
  {
   "cell_type": "code",
   "execution_count": 1,
   "id": "87489df2-da8c-499c-80bc-95e2a27105ba",
   "metadata": {
    "tags": []
   },
   "outputs": [],
   "source": [
    "## standart libraries\n",
    "\n",
    "import os,sys\n",
    "import numpy as np\n",
    "\n",
    "# xarray\n",
    "import xarray as xr\n",
    "import esmtools"
   ]
  },
  {
   "cell_type": "code",
   "execution_count": 2,
   "id": "54025e80-8a35-4b02-aae6-290461c8f1da",
   "metadata": {
    "tags": []
   },
   "outputs": [
    {
     "name": "stderr",
     "output_type": "stream",
     "text": [
      "/linkhome/rech/genlop01/uor98hu/.local/lib/python3.9/site-packages/distributed/node.py:183: UserWarning: Port 8787 is already in use.\n",
      "Perhaps you already have a cluster running?\n",
      "Hosting the HTTP server on port 42005 instead\n",
      "  warnings.warn(\n"
     ]
    },
    {
     "data": {
      "text/html": [
       "<div>\n",
       "    <div style=\"width: 24px; height: 24px; background-color: #e1e1e1; border: 3px solid #9D9D9D; border-radius: 5px; position: absolute;\"> </div>\n",
       "    <div style=\"margin-left: 48px;\">\n",
       "        <h3 style=\"margin-bottom: 0px;\">Client</h3>\n",
       "        <p style=\"color: #9D9D9D; margin-bottom: 0px;\">Client-be2a4869-c4ce-11ee-b28e-0cc47af5bf5b</p>\n",
       "        <table style=\"width: 100%; text-align: left;\">\n",
       "\n",
       "        <tr>\n",
       "        \n",
       "            <td style=\"text-align: left;\"><strong>Connection method:</strong> Cluster object</td>\n",
       "            <td style=\"text-align: left;\"><strong>Cluster type:</strong> distributed.LocalCluster</td>\n",
       "        \n",
       "        </tr>\n",
       "\n",
       "        \n",
       "            <tr>\n",
       "                <td style=\"text-align: left;\">\n",
       "                    <strong>Dashboard: </strong> <a href=\"http://127.0.0.1:42005/status\" target=\"_blank\">http://127.0.0.1:42005/status</a>\n",
       "                </td>\n",
       "                <td style=\"text-align: left;\"></td>\n",
       "            </tr>\n",
       "        \n",
       "\n",
       "        </table>\n",
       "\n",
       "        \n",
       "            <details>\n",
       "            <summary style=\"margin-bottom: 20px;\"><h3 style=\"display: inline;\">Cluster Info</h3></summary>\n",
       "            <div class=\"jp-RenderedHTMLCommon jp-RenderedHTML jp-mod-trusted jp-OutputArea-output\">\n",
       "    <div style=\"width: 24px; height: 24px; background-color: #e1e1e1; border: 3px solid #9D9D9D; border-radius: 5px; position: absolute;\">\n",
       "    </div>\n",
       "    <div style=\"margin-left: 48px;\">\n",
       "        <h3 style=\"margin-bottom: 0px; margin-top: 0px;\">LocalCluster</h3>\n",
       "        <p style=\"color: #9D9D9D; margin-bottom: 0px;\">8a405d04</p>\n",
       "        <table style=\"width: 100%; text-align: left;\">\n",
       "            <tr>\n",
       "                <td style=\"text-align: left;\">\n",
       "                    <strong>Dashboard:</strong> <a href=\"http://127.0.0.1:42005/status\" target=\"_blank\">http://127.0.0.1:42005/status</a>\n",
       "                </td>\n",
       "                <td style=\"text-align: left;\">\n",
       "                    <strong>Workers:</strong> 5\n",
       "                </td>\n",
       "            </tr>\n",
       "            <tr>\n",
       "                <td style=\"text-align: left;\">\n",
       "                    <strong>Total threads:</strong> 20\n",
       "                </td>\n",
       "                <td style=\"text-align: left;\">\n",
       "                    <strong>Total memory:</strong> 40.00 GiB\n",
       "                </td>\n",
       "            </tr>\n",
       "            \n",
       "            <tr>\n",
       "    <td style=\"text-align: left;\"><strong>Status:</strong> running</td>\n",
       "    <td style=\"text-align: left;\"><strong>Using processes:</strong> True</td>\n",
       "</tr>\n",
       "\n",
       "            \n",
       "        </table>\n",
       "\n",
       "        <details>\n",
       "            <summary style=\"margin-bottom: 20px;\">\n",
       "                <h3 style=\"display: inline;\">Scheduler Info</h3>\n",
       "            </summary>\n",
       "\n",
       "            <div style=\"\">\n",
       "    <div>\n",
       "        <div style=\"width: 24px; height: 24px; background-color: #FFF7E5; border: 3px solid #FF6132; border-radius: 5px; position: absolute;\"> </div>\n",
       "        <div style=\"margin-left: 48px;\">\n",
       "            <h3 style=\"margin-bottom: 0px;\">Scheduler</h3>\n",
       "            <p style=\"color: #9D9D9D; margin-bottom: 0px;\">Scheduler-a953ccbe-a38d-4cb4-9c70-56ff1bcd012b</p>\n",
       "            <table style=\"width: 100%; text-align: left;\">\n",
       "                <tr>\n",
       "                    <td style=\"text-align: left;\">\n",
       "                        <strong>Comm:</strong> tcp://127.0.0.1:34701\n",
       "                    </td>\n",
       "                    <td style=\"text-align: left;\">\n",
       "                        <strong>Workers:</strong> 5\n",
       "                    </td>\n",
       "                </tr>\n",
       "                <tr>\n",
       "                    <td style=\"text-align: left;\">\n",
       "                        <strong>Dashboard:</strong> <a href=\"http://127.0.0.1:42005/status\" target=\"_blank\">http://127.0.0.1:42005/status</a>\n",
       "                    </td>\n",
       "                    <td style=\"text-align: left;\">\n",
       "                        <strong>Total threads:</strong> 20\n",
       "                    </td>\n",
       "                </tr>\n",
       "                <tr>\n",
       "                    <td style=\"text-align: left;\">\n",
       "                        <strong>Started:</strong> Just now\n",
       "                    </td>\n",
       "                    <td style=\"text-align: left;\">\n",
       "                        <strong>Total memory:</strong> 40.00 GiB\n",
       "                    </td>\n",
       "                </tr>\n",
       "            </table>\n",
       "        </div>\n",
       "    </div>\n",
       "\n",
       "    <details style=\"margin-left: 48px;\">\n",
       "        <summary style=\"margin-bottom: 20px;\">\n",
       "            <h3 style=\"display: inline;\">Workers</h3>\n",
       "        </summary>\n",
       "\n",
       "        \n",
       "        <div style=\"margin-bottom: 20px;\">\n",
       "            <div style=\"width: 24px; height: 24px; background-color: #DBF5FF; border: 3px solid #4CC9FF; border-radius: 5px; position: absolute;\"> </div>\n",
       "            <div style=\"margin-left: 48px;\">\n",
       "            <details>\n",
       "                <summary>\n",
       "                    <h4 style=\"margin-bottom: 0px; display: inline;\">Worker: 0</h4>\n",
       "                </summary>\n",
       "                <table style=\"width: 100%; text-align: left;\">\n",
       "                    <tr>\n",
       "                        <td style=\"text-align: left;\">\n",
       "                            <strong>Comm: </strong> tcp://127.0.0.1:40073\n",
       "                        </td>\n",
       "                        <td style=\"text-align: left;\">\n",
       "                            <strong>Total threads: </strong> 4\n",
       "                        </td>\n",
       "                    </tr>\n",
       "                    <tr>\n",
       "                        <td style=\"text-align: left;\">\n",
       "                            <strong>Dashboard: </strong> <a href=\"http://127.0.0.1:39737/status\" target=\"_blank\">http://127.0.0.1:39737/status</a>\n",
       "                        </td>\n",
       "                        <td style=\"text-align: left;\">\n",
       "                            <strong>Memory: </strong> 8.00 GiB\n",
       "                        </td>\n",
       "                    </tr>\n",
       "                    <tr>\n",
       "                        <td style=\"text-align: left;\">\n",
       "                            <strong>Nanny: </strong> tcp://127.0.0.1:42041\n",
       "                        </td>\n",
       "                        <td style=\"text-align: left;\"></td>\n",
       "                    </tr>\n",
       "                    <tr>\n",
       "                        <td colspan=\"2\" style=\"text-align: left;\">\n",
       "                            <strong>Local directory: </strong> /tmp/dask-worker-space/worker-4fbk15gr\n",
       "                        </td>\n",
       "                    </tr>\n",
       "\n",
       "                    \n",
       "\n",
       "                    \n",
       "\n",
       "                </table>\n",
       "            </details>\n",
       "            </div>\n",
       "        </div>\n",
       "        \n",
       "        <div style=\"margin-bottom: 20px;\">\n",
       "            <div style=\"width: 24px; height: 24px; background-color: #DBF5FF; border: 3px solid #4CC9FF; border-radius: 5px; position: absolute;\"> </div>\n",
       "            <div style=\"margin-left: 48px;\">\n",
       "            <details>\n",
       "                <summary>\n",
       "                    <h4 style=\"margin-bottom: 0px; display: inline;\">Worker: 1</h4>\n",
       "                </summary>\n",
       "                <table style=\"width: 100%; text-align: left;\">\n",
       "                    <tr>\n",
       "                        <td style=\"text-align: left;\">\n",
       "                            <strong>Comm: </strong> tcp://127.0.0.1:42661\n",
       "                        </td>\n",
       "                        <td style=\"text-align: left;\">\n",
       "                            <strong>Total threads: </strong> 4\n",
       "                        </td>\n",
       "                    </tr>\n",
       "                    <tr>\n",
       "                        <td style=\"text-align: left;\">\n",
       "                            <strong>Dashboard: </strong> <a href=\"http://127.0.0.1:38475/status\" target=\"_blank\">http://127.0.0.1:38475/status</a>\n",
       "                        </td>\n",
       "                        <td style=\"text-align: left;\">\n",
       "                            <strong>Memory: </strong> 8.00 GiB\n",
       "                        </td>\n",
       "                    </tr>\n",
       "                    <tr>\n",
       "                        <td style=\"text-align: left;\">\n",
       "                            <strong>Nanny: </strong> tcp://127.0.0.1:34259\n",
       "                        </td>\n",
       "                        <td style=\"text-align: left;\"></td>\n",
       "                    </tr>\n",
       "                    <tr>\n",
       "                        <td colspan=\"2\" style=\"text-align: left;\">\n",
       "                            <strong>Local directory: </strong> /tmp/dask-worker-space/worker-px2_exn_\n",
       "                        </td>\n",
       "                    </tr>\n",
       "\n",
       "                    \n",
       "\n",
       "                    \n",
       "\n",
       "                </table>\n",
       "            </details>\n",
       "            </div>\n",
       "        </div>\n",
       "        \n",
       "        <div style=\"margin-bottom: 20px;\">\n",
       "            <div style=\"width: 24px; height: 24px; background-color: #DBF5FF; border: 3px solid #4CC9FF; border-radius: 5px; position: absolute;\"> </div>\n",
       "            <div style=\"margin-left: 48px;\">\n",
       "            <details>\n",
       "                <summary>\n",
       "                    <h4 style=\"margin-bottom: 0px; display: inline;\">Worker: 2</h4>\n",
       "                </summary>\n",
       "                <table style=\"width: 100%; text-align: left;\">\n",
       "                    <tr>\n",
       "                        <td style=\"text-align: left;\">\n",
       "                            <strong>Comm: </strong> tcp://127.0.0.1:35805\n",
       "                        </td>\n",
       "                        <td style=\"text-align: left;\">\n",
       "                            <strong>Total threads: </strong> 4\n",
       "                        </td>\n",
       "                    </tr>\n",
       "                    <tr>\n",
       "                        <td style=\"text-align: left;\">\n",
       "                            <strong>Dashboard: </strong> <a href=\"http://127.0.0.1:37067/status\" target=\"_blank\">http://127.0.0.1:37067/status</a>\n",
       "                        </td>\n",
       "                        <td style=\"text-align: left;\">\n",
       "                            <strong>Memory: </strong> 8.00 GiB\n",
       "                        </td>\n",
       "                    </tr>\n",
       "                    <tr>\n",
       "                        <td style=\"text-align: left;\">\n",
       "                            <strong>Nanny: </strong> tcp://127.0.0.1:38659\n",
       "                        </td>\n",
       "                        <td style=\"text-align: left;\"></td>\n",
       "                    </tr>\n",
       "                    <tr>\n",
       "                        <td colspan=\"2\" style=\"text-align: left;\">\n",
       "                            <strong>Local directory: </strong> /tmp/dask-worker-space/worker-x17mx7hj\n",
       "                        </td>\n",
       "                    </tr>\n",
       "\n",
       "                    \n",
       "\n",
       "                    \n",
       "\n",
       "                </table>\n",
       "            </details>\n",
       "            </div>\n",
       "        </div>\n",
       "        \n",
       "        <div style=\"margin-bottom: 20px;\">\n",
       "            <div style=\"width: 24px; height: 24px; background-color: #DBF5FF; border: 3px solid #4CC9FF; border-radius: 5px; position: absolute;\"> </div>\n",
       "            <div style=\"margin-left: 48px;\">\n",
       "            <details>\n",
       "                <summary>\n",
       "                    <h4 style=\"margin-bottom: 0px; display: inline;\">Worker: 3</h4>\n",
       "                </summary>\n",
       "                <table style=\"width: 100%; text-align: left;\">\n",
       "                    <tr>\n",
       "                        <td style=\"text-align: left;\">\n",
       "                            <strong>Comm: </strong> tcp://127.0.0.1:41531\n",
       "                        </td>\n",
       "                        <td style=\"text-align: left;\">\n",
       "                            <strong>Total threads: </strong> 4\n",
       "                        </td>\n",
       "                    </tr>\n",
       "                    <tr>\n",
       "                        <td style=\"text-align: left;\">\n",
       "                            <strong>Dashboard: </strong> <a href=\"http://127.0.0.1:41583/status\" target=\"_blank\">http://127.0.0.1:41583/status</a>\n",
       "                        </td>\n",
       "                        <td style=\"text-align: left;\">\n",
       "                            <strong>Memory: </strong> 8.00 GiB\n",
       "                        </td>\n",
       "                    </tr>\n",
       "                    <tr>\n",
       "                        <td style=\"text-align: left;\">\n",
       "                            <strong>Nanny: </strong> tcp://127.0.0.1:39227\n",
       "                        </td>\n",
       "                        <td style=\"text-align: left;\"></td>\n",
       "                    </tr>\n",
       "                    <tr>\n",
       "                        <td colspan=\"2\" style=\"text-align: left;\">\n",
       "                            <strong>Local directory: </strong> /tmp/dask-worker-space/worker-ettnhi2h\n",
       "                        </td>\n",
       "                    </tr>\n",
       "\n",
       "                    \n",
       "\n",
       "                    \n",
       "\n",
       "                </table>\n",
       "            </details>\n",
       "            </div>\n",
       "        </div>\n",
       "        \n",
       "        <div style=\"margin-bottom: 20px;\">\n",
       "            <div style=\"width: 24px; height: 24px; background-color: #DBF5FF; border: 3px solid #4CC9FF; border-radius: 5px; position: absolute;\"> </div>\n",
       "            <div style=\"margin-left: 48px;\">\n",
       "            <details>\n",
       "                <summary>\n",
       "                    <h4 style=\"margin-bottom: 0px; display: inline;\">Worker: 4</h4>\n",
       "                </summary>\n",
       "                <table style=\"width: 100%; text-align: left;\">\n",
       "                    <tr>\n",
       "                        <td style=\"text-align: left;\">\n",
       "                            <strong>Comm: </strong> tcp://127.0.0.1:39869\n",
       "                        </td>\n",
       "                        <td style=\"text-align: left;\">\n",
       "                            <strong>Total threads: </strong> 4\n",
       "                        </td>\n",
       "                    </tr>\n",
       "                    <tr>\n",
       "                        <td style=\"text-align: left;\">\n",
       "                            <strong>Dashboard: </strong> <a href=\"http://127.0.0.1:44995/status\" target=\"_blank\">http://127.0.0.1:44995/status</a>\n",
       "                        </td>\n",
       "                        <td style=\"text-align: left;\">\n",
       "                            <strong>Memory: </strong> 8.00 GiB\n",
       "                        </td>\n",
       "                    </tr>\n",
       "                    <tr>\n",
       "                        <td style=\"text-align: left;\">\n",
       "                            <strong>Nanny: </strong> tcp://127.0.0.1:36581\n",
       "                        </td>\n",
       "                        <td style=\"text-align: left;\"></td>\n",
       "                    </tr>\n",
       "                    <tr>\n",
       "                        <td colspan=\"2\" style=\"text-align: left;\">\n",
       "                            <strong>Local directory: </strong> /tmp/dask-worker-space/worker-1m9wxxun\n",
       "                        </td>\n",
       "                    </tr>\n",
       "\n",
       "                    \n",
       "\n",
       "                    \n",
       "\n",
       "                </table>\n",
       "            </details>\n",
       "            </div>\n",
       "        </div>\n",
       "        \n",
       "\n",
       "    </details>\n",
       "</div>\n",
       "\n",
       "        </details>\n",
       "    </div>\n",
       "</div>\n",
       "            </details>\n",
       "        \n",
       "\n",
       "    </div>\n",
       "</div>"
      ],
      "text/plain": [
       "<Client: 'tcp://127.0.0.1:34701' processes=5 threads=20, memory=40.00 GiB>"
      ]
     },
     "execution_count": 2,
     "metadata": {},
     "output_type": "execute_result"
    }
   ],
   "source": [
    "from dask.distributed import Client\n",
    "c = Client()\n",
    "c"
   ]
  },
  {
   "cell_type": "markdown",
   "id": "1116d420-d803-4088-a3f9-f7c25b9b7133",
   "metadata": {},
   "source": [
    "# load data"
   ]
  },
  {
   "cell_type": "code",
   "execution_count": 3,
   "id": "4ba9ff7a-c5d4-438a-8078-e76c7f3da3b1",
   "metadata": {
    "tags": []
   },
   "outputs": [],
   "source": [
    "chunk_size = {\"x\":133,\"y\":320}"
   ]
  },
  {
   "cell_type": "markdown",
   "id": "f7792190-fd7b-4e36-99e6-d32d79872e4c",
   "metadata": {},
   "source": [
    "## halosteric"
   ]
  },
  {
   "cell_type": "code",
   "execution_count": 4,
   "id": "39eddf1b-a21a-415d-9763-56a83e319ae7",
   "metadata": {
    "tags": []
   },
   "outputs": [],
   "source": [
    "path = '/gpfswork/rech/cli/uor98hu/MYDATA/SLdecomposition_WP1/una12nf/'\n",
    "\n",
    "decomposition = 'halosteric'\n",
    "\n",
    "nexp = 'GAI'\n",
    "sl_GAI = xr.open_dataset(path+nexp+'/'+decomposition+'/'+'eORCA025.L75-IMHOTEP.'+nexp+'_y2005_2018.1y_halosteric_0_bottomprime.nc',chunks=chunk_size).sosteric\n",
    "nexp = 'AI'\n",
    "sl_AI = xr.open_dataset(path+nexp+'/'+decomposition+'/'+'eORCA025.L75-IMHOTEP.'+nexp+'_y2005_2018.1y_halosteric_0_bottomprime.nc',chunks=chunk_size).sosteric\n",
    "nexp = 'S'\n",
    "sl_S = xr.open_dataset(path+nexp+'/'+decomposition+'/'+'eORCA025.L75-IMHOTEP.'+nexp+'_y2005_2018.1y_halosteric_0_bottomprime.nc',chunks=chunk_size).sosteric"
   ]
  },
  {
   "cell_type": "markdown",
   "id": "d6557034-d22d-41fa-9e85-1af5d0038a63",
   "metadata": {},
   "source": [
    "# GAI"
   ]
  },
  {
   "cell_type": "code",
   "execution_count": 6,
   "id": "3df95cb5-d4d0-47f7-8c00-81e85593907c",
   "metadata": {
    "tags": []
   },
   "outputs": [],
   "source": [
    "sl_GAI_comp = (sl_GAI*1000).compute()\n"
   ]
  },
  {
   "cell_type": "code",
   "execution_count": 7,
   "id": "33ef8837-b648-49c3-81a0-570fff4d97da",
   "metadata": {
    "tags": []
   },
   "outputs": [
    {
     "name": "stderr",
     "output_type": "stream",
     "text": [
      "/gpfslocalsup/pub/anaconda-py3/2020.11/envs/climate_science/lib/python3.9/site-packages/esmtools/stats.py:394: FutureWarning: ``output_sizes`` should be given in the ``dask_gufunc_kwargs`` parameter. It will be removed as direct parameter in a future version.\n",
      "  results = xr.apply_ufunc(\n"
     ]
    },
    {
     "name": "stdout",
     "output_type": "stream",
     "text": [
      "CPU times: user 8min 50s, sys: 42.2 s, total: 9min 32s\n",
      "Wall time: 8min 48s\n"
     ]
    }
   ],
   "source": [
    "%%time\n",
    "lin_GAI = esmtools.stats.linregress(sl_GAI_comp, dim=\"year\")"
   ]
  },
  {
   "cell_type": "code",
   "execution_count": 8,
   "id": "680cc361-50c1-40fa-98af-ba2b0a28bdf3",
   "metadata": {
    "tags": []
   },
   "outputs": [],
   "source": [
    "diro = \"/gpfswork/rech/cli/uor98hu/MYDATA/SLdecomposition_WP1/una12nf/\"\n",
    "\n",
    "# convert into dataset and save : GAI\n",
    "ds2save = xr.Dataset(data_vars=dict(linregress=([\"y\", \"x\",\"parameter\"], lin_GAI.data)),\n",
    "                    coords=dict(parameter = ([\"parameter\"],['slope', 'intercept', 'rvalue', 'pvalue', 'stderr'])),\n",
    "            attrs=dict(description=\"halosteric - time mean, then linear trend over 2005-2018 (mm/yr) calculated over yearly data, saved the 16 Feb 2024\"))\n",
    "\n",
    "ds2save.to_netcdf(diro + \"/eORCA025.L75-IMHOTEP._y2005_2018.1y_halosteric_0_bottom_trendGAI_linregress.nc\")\n"
   ]
  },
  {
   "cell_type": "code",
   "execution_count": null,
   "id": "20a42353-65ba-451f-bd24-057025310773",
   "metadata": {},
   "outputs": [],
   "source": []
  },
  {
   "cell_type": "markdown",
   "id": "f072bd80-e913-48cd-ae1e-271df44af6e8",
   "metadata": {
    "jp-MarkdownHeadingCollapsed": true,
    "tags": []
   },
   "source": [
    "# DIFF"
   ]
  },
  {
   "cell_type": "code",
   "execution_count": 5,
   "id": "7d087c45-8c3d-4e5b-b422-e1ac9901b6be",
   "metadata": {
    "tags": []
   },
   "outputs": [
    {
     "name": "stdout",
     "output_type": "stream",
     "text": [
      "CPU times: user 760 ms, sys: 531 ms, total: 1.29 s\n",
      "Wall time: 2.85 s\n"
     ]
    }
   ],
   "source": [
    "%%time\n",
    "sl_GAI_AI = ( (sl_GAI - sl_AI)*1000).compute()\n",
    "sl_AI_S   = ( (sl_AI  - sl_S) *1000).compute()\n",
    "sl_GAI_S  = ( (sl_GAI - sl_S) *1000).compute()"
   ]
  },
  {
   "cell_type": "code",
   "execution_count": 6,
   "id": "dcd45d5f-fda1-4f27-b40c-d55493076635",
   "metadata": {
    "tags": []
   },
   "outputs": [
    {
     "name": "stderr",
     "output_type": "stream",
     "text": [
      "/gpfslocalsup/pub/anaconda-py3/2020.11/envs/climate_science/lib/python3.9/site-packages/esmtools/stats.py:394: FutureWarning: ``output_sizes`` should be given in the ``dask_gufunc_kwargs`` parameter. It will be removed as direct parameter in a future version.\n",
      "  results = xr.apply_ufunc(\n"
     ]
    },
    {
     "name": "stdout",
     "output_type": "stream",
     "text": [
      "CPU times: user 33min 3s, sys: 2min 37s, total: 35min 41s\n",
      "Wall time: 33min 3s\n"
     ]
    }
   ],
   "source": [
    "%%time\n",
    "lin_GAI_AI = esmtools.stats.linregress(sl_GAI_AI, dim=\"year\")\n",
    "lin_AI_S   = esmtools.stats.linregress(sl_AI_S, dim=\"year\")\n",
    "lin_GAI_S  = esmtools.stats.linregress(sl_GAI_S, dim=\"year\")"
   ]
  },
  {
   "cell_type": "code",
   "execution_count": 7,
   "id": "7c603191-8042-4e1a-9a4d-aecae77dd5f6",
   "metadata": {
    "tags": []
   },
   "outputs": [
    {
     "name": "stdout",
     "output_type": "stream",
     "text": [
      "CPU times: user 39 ms, sys: 71.3 ms, total: 110 ms\n",
      "Wall time: 269 ms\n"
     ]
    }
   ],
   "source": [
    "%%time\n",
    "\n",
    "diro = \"/gpfswork/rech/cli/uor98hu/MYDATA/SLdecomposition_WP1/una12nf/\"\n",
    "\n",
    "# convert into dataset and save : GAI -AI\n",
    "ds2save = xr.Dataset(data_vars=dict(linregress=([\"y\", \"x\",\"parameter\"], lin_GAI_AI.data)),\n",
    "                    coords=dict(parameter = ([\"parameter\"],['slope', 'intercept', 'rvalue', 'pvalue', 'stderr'])),\n",
    "            attrs=dict(description=\"SSH - time mean, then linear trend over 2005-2018 (mm/yr) calculated over yearly data, saved the 13 Nov 2023\"))\n",
    "\n",
    "ds2save.to_netcdf(diro + \"/eORCA025.L75-IMHOTEP._y2005_2018.1y_halosteric_0_bottom_trendGAI_AI_linregress.nc\")\n",
    "\n",
    "\n",
    "# convert into dataset and save : AI -S\n",
    "ds2save = xr.Dataset(data_vars=dict(linregress=([\"y\", \"x\",\"parameter\"], lin_AI_S.data)),\n",
    "                    coords=dict(parameter = ([\"parameter\"],['slope', 'intercept', 'rvalue', 'pvalue', 'stderr'])),\n",
    "            attrs=dict(description=\"SSH - time mean, then linear trend over 2005-2018 (mm/yr) calculated over yearly data, saved the 13 Nov 2023\"))\n",
    "\n",
    "ds2save.to_netcdf(diro + \"/eORCA025.L75-IMHOTEP._y2005_2018.1y_halosteric_0_bottom_trendAI_S_linregress.nc\")\n",
    "\n",
    "\n",
    "# convert into dataset and save : GAI -S\n",
    "ds2save = xr.Dataset(data_vars=dict(linregress=([\"y\", \"x\",\"parameter\"], lin_GAI_S.data)),\n",
    "                    coords=dict(parameter = ([\"parameter\"],['slope', 'intercept', 'rvalue', 'pvalue', 'stderr'])),\n",
    "            attrs=dict(description=\"SSH - time mean, then linear trend over 2005-2018 (mm/yr) calculated over yearly data, saved the 13 Nov 2023\"))\n",
    "\n",
    "ds2save.to_netcdf(diro + \"/eORCA025.L75-IMHOTEP._y2005_2018.1y_halosteric_0_bottom_trendGAI_S_linregress.nc\")"
   ]
  },
  {
   "cell_type": "code",
   "execution_count": null,
   "id": "a18d66f8-de6a-4d00-92ac-f3b34176e275",
   "metadata": {},
   "outputs": [],
   "source": []
  }
 ],
 "metadata": {
  "kernelspec": {
   "display_name": "climate_science",
   "language": "python",
   "name": "module-conda-env-climate_science"
  },
  "language_info": {
   "codemirror_mode": {
    "name": "ipython",
    "version": 3
   },
   "file_extension": ".py",
   "mimetype": "text/x-python",
   "name": "python",
   "nbconvert_exporter": "python",
   "pygments_lexer": "ipython3",
   "version": "3.9.1"
  }
 },
 "nbformat": 4,
 "nbformat_minor": 5
}
