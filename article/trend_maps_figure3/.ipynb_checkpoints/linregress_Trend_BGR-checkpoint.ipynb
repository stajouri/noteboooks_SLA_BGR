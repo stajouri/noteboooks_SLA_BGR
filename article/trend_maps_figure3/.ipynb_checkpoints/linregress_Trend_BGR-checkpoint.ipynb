{
 "cells": [
  {
   "cell_type": "markdown",
   "id": "b30251ea-dc8e-442a-b3df-59724469c2d9",
   "metadata": {},
   "source": [
    "but: compute the linear trend for the bgr box: SLA"
   ]
  },
  {
   "cell_type": "code",
   "execution_count": null,
   "id": "3467f882-992d-478a-9ae8-1f897f817ce5",
   "metadata": {},
   "outputs": [],
   "source": []
  }
 ],
 "metadata": {
  "kernelspec": {
   "display_name": "climate_science",
   "language": "python",
   "name": "module-conda-env-climate_science"
  },
  "language_info": {
   "codemirror_mode": {
    "name": "ipython",
    "version": 3
   },
   "file_extension": ".py",
   "mimetype": "text/x-python",
   "name": "python",
   "nbconvert_exporter": "python",
   "pygments_lexer": "ipython3",
   "version": "3.9.1"
  }
 },
 "nbformat": 4,
 "nbformat_minor": 5
}
