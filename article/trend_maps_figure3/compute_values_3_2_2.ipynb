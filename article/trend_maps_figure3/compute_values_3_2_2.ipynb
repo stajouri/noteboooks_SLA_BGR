{
 "cells": [
  {
   "cell_type": "code",
   "execution_count": 1,
   "id": "567c7491-730f-4c0a-842c-15871f190ee2",
   "metadata": {
    "tags": []
   },
   "outputs": [],
   "source": [
    "# ------------------------\n",
    "## ----import libraries\n",
    "# ------------------------\n",
    "import os,sys\n",
    "import numpy as np\n",
    "# xarray\n",
    "import xarray as xr\n",
    "# plot\n",
    "import cartopy\n",
    "import cartopy.crs as ccrs\n",
    "import cartopy.feature as cfeature\n",
    "\n",
    "import matplotlib.pyplot as plt\n",
    "import matplotlib.colors as mcolors\n",
    "import matplotlib.dates as mdates\n",
    "import matplotlib.cm as cm\n",
    "import matplotlib.ticker as mticker\n",
    "from matplotlib.colors import Colormap\n",
    "from matplotlib.colors import from_levels_and_colors\n",
    "from mpl_toolkits.axes_grid1.inset_locator import inset_axes\n",
    "\n",
    "import cmocean as ccm\n"
   ]
  },
  {
   "cell_type": "code",
   "execution_count": 2,
   "id": "5b3faf65-0c29-4f84-bb73-9bf1f66b2c73",
   "metadata": {
    "tags": []
   },
   "outputs": [
    {
     "name": "stderr",
     "output_type": "stream",
     "text": [
      "/linkhome/rech/genlop01/uor98hu/.local/lib/python3.9/site-packages/distributed/node.py:183: UserWarning: Port 8787 is already in use.\n",
      "Perhaps you already have a cluster running?\n",
      "Hosting the HTTP server on port 35283 instead\n",
      "  warnings.warn(\n"
     ]
    },
    {
     "data": {
      "text/html": [
       "<div>\n",
       "    <div style=\"width: 24px; height: 24px; background-color: #e1e1e1; border: 3px solid #9D9D9D; border-radius: 5px; position: absolute;\"> </div>\n",
       "    <div style=\"margin-left: 48px;\">\n",
       "        <h3 style=\"margin-bottom: 0px;\">Client</h3>\n",
       "        <p style=\"color: #9D9D9D; margin-bottom: 0px;\">Client-6a7377ca-6381-11ee-ba29-0cc47af5c0b7</p>\n",
       "        <table style=\"width: 100%; text-align: left;\">\n",
       "\n",
       "        <tr>\n",
       "        \n",
       "            <td style=\"text-align: left;\"><strong>Connection method:</strong> Cluster object</td>\n",
       "            <td style=\"text-align: left;\"><strong>Cluster type:</strong> distributed.LocalCluster</td>\n",
       "        \n",
       "        </tr>\n",
       "\n",
       "        \n",
       "            <tr>\n",
       "                <td style=\"text-align: left;\">\n",
       "                    <strong>Dashboard: </strong> <a href=\"http://127.0.0.1:35283/status\" target=\"_blank\">http://127.0.0.1:35283/status</a>\n",
       "                </td>\n",
       "                <td style=\"text-align: left;\"></td>\n",
       "            </tr>\n",
       "        \n",
       "\n",
       "        </table>\n",
       "\n",
       "        \n",
       "            <details>\n",
       "            <summary style=\"margin-bottom: 20px;\"><h3 style=\"display: inline;\">Cluster Info</h3></summary>\n",
       "            <div class=\"jp-RenderedHTMLCommon jp-RenderedHTML jp-mod-trusted jp-OutputArea-output\">\n",
       "    <div style=\"width: 24px; height: 24px; background-color: #e1e1e1; border: 3px solid #9D9D9D; border-radius: 5px; position: absolute;\">\n",
       "    </div>\n",
       "    <div style=\"margin-left: 48px;\">\n",
       "        <h3 style=\"margin-bottom: 0px; margin-top: 0px;\">LocalCluster</h3>\n",
       "        <p style=\"color: #9D9D9D; margin-bottom: 0px;\">33687568</p>\n",
       "        <table style=\"width: 100%; text-align: left;\">\n",
       "            <tr>\n",
       "                <td style=\"text-align: left;\">\n",
       "                    <strong>Dashboard:</strong> <a href=\"http://127.0.0.1:35283/status\" target=\"_blank\">http://127.0.0.1:35283/status</a>\n",
       "                </td>\n",
       "                <td style=\"text-align: left;\">\n",
       "                    <strong>Workers:</strong> 5\n",
       "                </td>\n",
       "            </tr>\n",
       "            <tr>\n",
       "                <td style=\"text-align: left;\">\n",
       "                    <strong>Total threads:</strong> 10\n",
       "                </td>\n",
       "                <td style=\"text-align: left;\">\n",
       "                    <strong>Total memory:</strong> 20.00 GiB\n",
       "                </td>\n",
       "            </tr>\n",
       "            \n",
       "            <tr>\n",
       "    <td style=\"text-align: left;\"><strong>Status:</strong> running</td>\n",
       "    <td style=\"text-align: left;\"><strong>Using processes:</strong> True</td>\n",
       "</tr>\n",
       "\n",
       "            \n",
       "        </table>\n",
       "\n",
       "        <details>\n",
       "            <summary style=\"margin-bottom: 20px;\">\n",
       "                <h3 style=\"display: inline;\">Scheduler Info</h3>\n",
       "            </summary>\n",
       "\n",
       "            <div style=\"\">\n",
       "    <div>\n",
       "        <div style=\"width: 24px; height: 24px; background-color: #FFF7E5; border: 3px solid #FF6132; border-radius: 5px; position: absolute;\"> </div>\n",
       "        <div style=\"margin-left: 48px;\">\n",
       "            <h3 style=\"margin-bottom: 0px;\">Scheduler</h3>\n",
       "            <p style=\"color: #9D9D9D; margin-bottom: 0px;\">Scheduler-5f419ca7-064a-4341-a440-7a01368a0a9e</p>\n",
       "            <table style=\"width: 100%; text-align: left;\">\n",
       "                <tr>\n",
       "                    <td style=\"text-align: left;\">\n",
       "                        <strong>Comm:</strong> tcp://127.0.0.1:41661\n",
       "                    </td>\n",
       "                    <td style=\"text-align: left;\">\n",
       "                        <strong>Workers:</strong> 5\n",
       "                    </td>\n",
       "                </tr>\n",
       "                <tr>\n",
       "                    <td style=\"text-align: left;\">\n",
       "                        <strong>Dashboard:</strong> <a href=\"http://127.0.0.1:35283/status\" target=\"_blank\">http://127.0.0.1:35283/status</a>\n",
       "                    </td>\n",
       "                    <td style=\"text-align: left;\">\n",
       "                        <strong>Total threads:</strong> 10\n",
       "                    </td>\n",
       "                </tr>\n",
       "                <tr>\n",
       "                    <td style=\"text-align: left;\">\n",
       "                        <strong>Started:</strong> Just now\n",
       "                    </td>\n",
       "                    <td style=\"text-align: left;\">\n",
       "                        <strong>Total memory:</strong> 20.00 GiB\n",
       "                    </td>\n",
       "                </tr>\n",
       "            </table>\n",
       "        </div>\n",
       "    </div>\n",
       "\n",
       "    <details style=\"margin-left: 48px;\">\n",
       "        <summary style=\"margin-bottom: 20px;\">\n",
       "            <h3 style=\"display: inline;\">Workers</h3>\n",
       "        </summary>\n",
       "\n",
       "        \n",
       "        <div style=\"margin-bottom: 20px;\">\n",
       "            <div style=\"width: 24px; height: 24px; background-color: #DBF5FF; border: 3px solid #4CC9FF; border-radius: 5px; position: absolute;\"> </div>\n",
       "            <div style=\"margin-left: 48px;\">\n",
       "            <details>\n",
       "                <summary>\n",
       "                    <h4 style=\"margin-bottom: 0px; display: inline;\">Worker: 0</h4>\n",
       "                </summary>\n",
       "                <table style=\"width: 100%; text-align: left;\">\n",
       "                    <tr>\n",
       "                        <td style=\"text-align: left;\">\n",
       "                            <strong>Comm: </strong> tcp://127.0.0.1:38371\n",
       "                        </td>\n",
       "                        <td style=\"text-align: left;\">\n",
       "                            <strong>Total threads: </strong> 2\n",
       "                        </td>\n",
       "                    </tr>\n",
       "                    <tr>\n",
       "                        <td style=\"text-align: left;\">\n",
       "                            <strong>Dashboard: </strong> <a href=\"http://127.0.0.1:33439/status\" target=\"_blank\">http://127.0.0.1:33439/status</a>\n",
       "                        </td>\n",
       "                        <td style=\"text-align: left;\">\n",
       "                            <strong>Memory: </strong> 4.00 GiB\n",
       "                        </td>\n",
       "                    </tr>\n",
       "                    <tr>\n",
       "                        <td style=\"text-align: left;\">\n",
       "                            <strong>Nanny: </strong> tcp://127.0.0.1:37831\n",
       "                        </td>\n",
       "                        <td style=\"text-align: left;\"></td>\n",
       "                    </tr>\n",
       "                    <tr>\n",
       "                        <td colspan=\"2\" style=\"text-align: left;\">\n",
       "                            <strong>Local directory: </strong> /tmp/dask-worker-space/worker-4m15nim1\n",
       "                        </td>\n",
       "                    </tr>\n",
       "\n",
       "                    \n",
       "\n",
       "                    \n",
       "\n",
       "                </table>\n",
       "            </details>\n",
       "            </div>\n",
       "        </div>\n",
       "        \n",
       "        <div style=\"margin-bottom: 20px;\">\n",
       "            <div style=\"width: 24px; height: 24px; background-color: #DBF5FF; border: 3px solid #4CC9FF; border-radius: 5px; position: absolute;\"> </div>\n",
       "            <div style=\"margin-left: 48px;\">\n",
       "            <details>\n",
       "                <summary>\n",
       "                    <h4 style=\"margin-bottom: 0px; display: inline;\">Worker: 1</h4>\n",
       "                </summary>\n",
       "                <table style=\"width: 100%; text-align: left;\">\n",
       "                    <tr>\n",
       "                        <td style=\"text-align: left;\">\n",
       "                            <strong>Comm: </strong> tcp://127.0.0.1:43169\n",
       "                        </td>\n",
       "                        <td style=\"text-align: left;\">\n",
       "                            <strong>Total threads: </strong> 2\n",
       "                        </td>\n",
       "                    </tr>\n",
       "                    <tr>\n",
       "                        <td style=\"text-align: left;\">\n",
       "                            <strong>Dashboard: </strong> <a href=\"http://127.0.0.1:33409/status\" target=\"_blank\">http://127.0.0.1:33409/status</a>\n",
       "                        </td>\n",
       "                        <td style=\"text-align: left;\">\n",
       "                            <strong>Memory: </strong> 4.00 GiB\n",
       "                        </td>\n",
       "                    </tr>\n",
       "                    <tr>\n",
       "                        <td style=\"text-align: left;\">\n",
       "                            <strong>Nanny: </strong> tcp://127.0.0.1:42721\n",
       "                        </td>\n",
       "                        <td style=\"text-align: left;\"></td>\n",
       "                    </tr>\n",
       "                    <tr>\n",
       "                        <td colspan=\"2\" style=\"text-align: left;\">\n",
       "                            <strong>Local directory: </strong> /tmp/dask-worker-space/worker-m5hnc7yu\n",
       "                        </td>\n",
       "                    </tr>\n",
       "\n",
       "                    \n",
       "\n",
       "                    \n",
       "\n",
       "                </table>\n",
       "            </details>\n",
       "            </div>\n",
       "        </div>\n",
       "        \n",
       "        <div style=\"margin-bottom: 20px;\">\n",
       "            <div style=\"width: 24px; height: 24px; background-color: #DBF5FF; border: 3px solid #4CC9FF; border-radius: 5px; position: absolute;\"> </div>\n",
       "            <div style=\"margin-left: 48px;\">\n",
       "            <details>\n",
       "                <summary>\n",
       "                    <h4 style=\"margin-bottom: 0px; display: inline;\">Worker: 2</h4>\n",
       "                </summary>\n",
       "                <table style=\"width: 100%; text-align: left;\">\n",
       "                    <tr>\n",
       "                        <td style=\"text-align: left;\">\n",
       "                            <strong>Comm: </strong> tcp://127.0.0.1:37665\n",
       "                        </td>\n",
       "                        <td style=\"text-align: left;\">\n",
       "                            <strong>Total threads: </strong> 2\n",
       "                        </td>\n",
       "                    </tr>\n",
       "                    <tr>\n",
       "                        <td style=\"text-align: left;\">\n",
       "                            <strong>Dashboard: </strong> <a href=\"http://127.0.0.1:35149/status\" target=\"_blank\">http://127.0.0.1:35149/status</a>\n",
       "                        </td>\n",
       "                        <td style=\"text-align: left;\">\n",
       "                            <strong>Memory: </strong> 4.00 GiB\n",
       "                        </td>\n",
       "                    </tr>\n",
       "                    <tr>\n",
       "                        <td style=\"text-align: left;\">\n",
       "                            <strong>Nanny: </strong> tcp://127.0.0.1:39165\n",
       "                        </td>\n",
       "                        <td style=\"text-align: left;\"></td>\n",
       "                    </tr>\n",
       "                    <tr>\n",
       "                        <td colspan=\"2\" style=\"text-align: left;\">\n",
       "                            <strong>Local directory: </strong> /tmp/dask-worker-space/worker-gzf865t_\n",
       "                        </td>\n",
       "                    </tr>\n",
       "\n",
       "                    \n",
       "\n",
       "                    \n",
       "\n",
       "                </table>\n",
       "            </details>\n",
       "            </div>\n",
       "        </div>\n",
       "        \n",
       "        <div style=\"margin-bottom: 20px;\">\n",
       "            <div style=\"width: 24px; height: 24px; background-color: #DBF5FF; border: 3px solid #4CC9FF; border-radius: 5px; position: absolute;\"> </div>\n",
       "            <div style=\"margin-left: 48px;\">\n",
       "            <details>\n",
       "                <summary>\n",
       "                    <h4 style=\"margin-bottom: 0px; display: inline;\">Worker: 3</h4>\n",
       "                </summary>\n",
       "                <table style=\"width: 100%; text-align: left;\">\n",
       "                    <tr>\n",
       "                        <td style=\"text-align: left;\">\n",
       "                            <strong>Comm: </strong> tcp://127.0.0.1:34111\n",
       "                        </td>\n",
       "                        <td style=\"text-align: left;\">\n",
       "                            <strong>Total threads: </strong> 2\n",
       "                        </td>\n",
       "                    </tr>\n",
       "                    <tr>\n",
       "                        <td style=\"text-align: left;\">\n",
       "                            <strong>Dashboard: </strong> <a href=\"http://127.0.0.1:33041/status\" target=\"_blank\">http://127.0.0.1:33041/status</a>\n",
       "                        </td>\n",
       "                        <td style=\"text-align: left;\">\n",
       "                            <strong>Memory: </strong> 4.00 GiB\n",
       "                        </td>\n",
       "                    </tr>\n",
       "                    <tr>\n",
       "                        <td style=\"text-align: left;\">\n",
       "                            <strong>Nanny: </strong> tcp://127.0.0.1:44821\n",
       "                        </td>\n",
       "                        <td style=\"text-align: left;\"></td>\n",
       "                    </tr>\n",
       "                    <tr>\n",
       "                        <td colspan=\"2\" style=\"text-align: left;\">\n",
       "                            <strong>Local directory: </strong> /tmp/dask-worker-space/worker-yjg8hyvh\n",
       "                        </td>\n",
       "                    </tr>\n",
       "\n",
       "                    \n",
       "\n",
       "                    \n",
       "\n",
       "                </table>\n",
       "            </details>\n",
       "            </div>\n",
       "        </div>\n",
       "        \n",
       "        <div style=\"margin-bottom: 20px;\">\n",
       "            <div style=\"width: 24px; height: 24px; background-color: #DBF5FF; border: 3px solid #4CC9FF; border-radius: 5px; position: absolute;\"> </div>\n",
       "            <div style=\"margin-left: 48px;\">\n",
       "            <details>\n",
       "                <summary>\n",
       "                    <h4 style=\"margin-bottom: 0px; display: inline;\">Worker: 4</h4>\n",
       "                </summary>\n",
       "                <table style=\"width: 100%; text-align: left;\">\n",
       "                    <tr>\n",
       "                        <td style=\"text-align: left;\">\n",
       "                            <strong>Comm: </strong> tcp://127.0.0.1:37811\n",
       "                        </td>\n",
       "                        <td style=\"text-align: left;\">\n",
       "                            <strong>Total threads: </strong> 2\n",
       "                        </td>\n",
       "                    </tr>\n",
       "                    <tr>\n",
       "                        <td style=\"text-align: left;\">\n",
       "                            <strong>Dashboard: </strong> <a href=\"http://127.0.0.1:45459/status\" target=\"_blank\">http://127.0.0.1:45459/status</a>\n",
       "                        </td>\n",
       "                        <td style=\"text-align: left;\">\n",
       "                            <strong>Memory: </strong> 4.00 GiB\n",
       "                        </td>\n",
       "                    </tr>\n",
       "                    <tr>\n",
       "                        <td style=\"text-align: left;\">\n",
       "                            <strong>Nanny: </strong> tcp://127.0.0.1:46513\n",
       "                        </td>\n",
       "                        <td style=\"text-align: left;\"></td>\n",
       "                    </tr>\n",
       "                    <tr>\n",
       "                        <td colspan=\"2\" style=\"text-align: left;\">\n",
       "                            <strong>Local directory: </strong> /tmp/dask-worker-space/worker-g2qv33gv\n",
       "                        </td>\n",
       "                    </tr>\n",
       "\n",
       "                    \n",
       "\n",
       "                    \n",
       "\n",
       "                </table>\n",
       "            </details>\n",
       "            </div>\n",
       "        </div>\n",
       "        \n",
       "\n",
       "    </details>\n",
       "</div>\n",
       "\n",
       "        </details>\n",
       "    </div>\n",
       "</div>\n",
       "            </details>\n",
       "        \n",
       "\n",
       "    </div>\n",
       "</div>"
      ],
      "text/plain": [
       "<Client: 'tcp://127.0.0.1:41661' processes=5 threads=10, memory=20.00 GiB>"
      ]
     },
     "execution_count": 2,
     "metadata": {},
     "output_type": "execute_result"
    }
   ],
   "source": [
    "from dask.distributed import Client\n",
    "c = Client()\n",
    "c"
   ]
  },
  {
   "cell_type": "code",
   "execution_count": 3,
   "id": "d610dd1a-b921-4e3e-a422-7e44e372d8d2",
   "metadata": {
    "tags": []
   },
   "outputs": [],
   "source": [
    "y1='2005'\n",
    "y2='2018'\n",
    "\n",
    "# plot directory\n",
    "diro = \"/gpfsscratch/rech/cli/uor98hu/PLOTS/\""
   ]
  },
  {
   "cell_type": "code",
   "execution_count": 4,
   "id": "36ef3357-e593-4402-961d-974db197864a",
   "metadata": {
    "tags": []
   },
   "outputs": [],
   "source": [
    "# read grid files\n",
    "diri=\"/gpfswork/rech/cli/rcli002/eORCA025.L75/eORCA025.L75-I/\"\n",
    "mesh =  xr.open_dataset(diri+'mesh_hgr.nc').squeeze()\n",
    "tmask = mesh['tmask'][0,:,:] # grille lat/lon\n",
    "nav_lon = mesh['nav_lon']\n",
    "nav_lat = mesh['nav_lat']\n",
    "e1t = mesh.e1t\n",
    "e2t = mesh.e2t\n",
    "\n",
    "cellArea= e1t * e2t \n",
    "mbathy = xr.open_dataset(diri+'eORCA025.L75_domain_cfg_closed_seas_greenland.nc')['bathy_meter'].isel(t=0) # grille lat/lon\n",
    "\n",
    "BGRmask = xr.open_dataset('/gpfswork/rech/cli/uor98hu/MYDATA/TRANSPORT_WP1/BGRmaskobs.nc').BGRmask.squeeze()\n",
    "# default gridlines parameters\n",
    "gridl=False\n",
    "incrgridlon=30\n",
    "incrgridlat=10\n",
    "\n",
    "# vue N.Atl\n",
    "# loncentr=330 # before it was zero\n",
    "# latcentr=70\n",
    "\n",
    "#vue polaire\n",
    "loncentr=200 # before it was zero\n",
    "latcentr=90\n",
    "\n",
    "sath=2085831\n"
   ]
  },
  {
   "cell_type": "code",
   "execution_count": 5,
   "id": "dfb51aa5-e878-4082-b5d4-2cedd94efc3a",
   "metadata": {
    "tags": []
   },
   "outputs": [],
   "source": [
    "WeightBGR = cellArea.where(BGRmask, drop=True) / cellArea.where(BGRmask, drop=True).sum()"
   ]
  },
  {
   "cell_type": "code",
   "execution_count": 6,
   "id": "89b0fa91-ad0e-4e36-b686-723e0eb07db6",
   "metadata": {
    "tags": []
   },
   "outputs": [],
   "source": [
    "Fullmask = xr.open_dataset('/gpfswork/rech/cli/uor98hu/MYDATA/remoteGr_mask/Arctic_Grfull_mask.nc').polymask.squeeze()\n",
    "WeightArctic = cellArea.where(Fullmask, drop=True) / cellArea.where(Fullmask, drop=True).sum()\n"
   ]
  },
  {
   "cell_type": "markdown",
   "id": "521651d7-9148-4d17-9d12-be46a0704206",
   "metadata": {
    "tags": []
   },
   "source": [
    "## prop rivers in SLA"
   ]
  },
  {
   "cell_type": "code",
   "execution_count": 8,
   "id": "d4601534-6851-4caf-8834-464f2c2817c1",
   "metadata": {
    "tags": []
   },
   "outputs": [],
   "source": [
    "slaTrGAI_AI = xr.open_dataset('/gpfswork/rech/cli/uor98hu/MYDATA/SSH/eORCA025.L75-IMHOTEP._y2005_2018.1y_trendGAI_AIGMSLcorrected.nc').trend\n",
    "slaTrAI_S = xr.open_dataset('/gpfswork/rech/cli/uor98hu/MYDATA/SSH/eORCA025.L75-IMHOTEP._y2005_2018.1y_trendS_AIGMSLcorrected.nc').trend *(-1)\n",
    "slaTrGAI_S = slaTrGAI_AI + slaTrAI_S"
   ]
  },
  {
   "cell_type": "code",
   "execution_count": 12,
   "id": "2a46c9d4-11d4-4cee-a960-85652e72263b",
   "metadata": {
    "tags": []
   },
   "outputs": [],
   "source": [
    "# proportion de SLA Gr+Riv controlée par GREENLAND et par RIVERS\n",
    "slaTrGAI_Sprop = abs(slaTrGAI_AI) + abs(slaTrAI_S)\n",
    "propRIVERS = ((abs(slaTrAI_S)/slaTrGAI_Sprop)*100).where(nav_lat>60)\n",
    "propGREENLAND = ((abs(slaTrGAI_AI)/slaTrGAI_Sprop)*100).where(nav_lat>60)"
   ]
  },
  {
   "cell_type": "code",
   "execution_count": 13,
   "id": "7fa6c14b-dd05-4dc1-8c0d-9438ff56b240",
   "metadata": {
    "tags": []
   },
   "outputs": [
    {
     "name": "stdout",
     "output_type": "stream",
     "text": [
      "61.63314465846855\n",
      "44.94686068631565\n"
     ]
    }
   ],
   "source": [
    "# in the BGR box\n",
    "meanBGRboxpropRIVERS = (propRIVERS.where(BGRmask, drop=True) * WeightBGR).sum()\n",
    "# in the whole Arctic box\n",
    "meanArcticpropRIVERS = (propRIVERS.where(Fullmask, drop=True) * WeightArctic ).sum()\n",
    "\n",
    "print(meanBGRboxpropRIVERS.values)\n",
    "print(meanArcticpropRIVERS.values)"
   ]
  },
  {
   "cell_type": "code",
   "execution_count": 22,
   "id": "b103d7ab-233f-4197-a6d8-b66eb9be7efb",
   "metadata": {
    "tags": []
   },
   "outputs": [
    {
     "data": {
      "text/plain": [
       "<matplotlib.collections.QuadMesh at 0x15045c141af0>"
      ]
     },
     "execution_count": 22,
     "metadata": {},
     "output_type": "execute_result"
    },
    {
     "data": {
      "image/png": "[encoded data removed]",
      "text/plain": [
       "<Figure size 432x288 with 2 Axes>"
      ]
     },
     "metadata": {
      "needs_background": "light"
     },
     "output_type": "display_data"
    }
   ],
   "source": [
    "WeightArctic.plot()"
   ]
  },
  {
   "cell_type": "markdown",
   "id": "2308f399-25ba-4920-a51a-0253b7e20cf6",
   "metadata": {
    "tags": []
   },
   "source": [
    "## Prop steric in SLA"
   ]
  },
  {
   "cell_type": "code",
   "execution_count": 9,
   "id": "354dd822-7000-49b4-84f0-3371607c9f45",
   "metadata": {
    "tags": []
   },
   "outputs": [],
   "source": [
    "# load data\n",
    "prof = \"bottom\"\n",
    "decomposition = \"steric\" \n",
    "pathuna12nf = '/gpfswork/rech/cli/uor98hu/MYDATA/SLdecomposition_WP1/una12nf/'\n",
    "TrGAI = xr.open_dataset(pathuna12nf+'GAI/'+decomposition+'/eORCA025.L75-IMHOTEP.GAI_y'+y1+'_'+y2+'.1y_'+decomposition+'_0_'+prof+'trend.nc').trend\n",
    "TrAI = xr.open_dataset(pathuna12nf+'AI/'+decomposition+'/eORCA025.L75-IMHOTEP.AI_y'+y1+'_'+y2+'.1y_'+decomposition+'_0_'+prof+'trend.nc').trend\n",
    "TrS = xr.open_dataset(pathuna12nf+'S/'+decomposition+'/eORCA025.L75-IMHOTEP.S_y'+y1+'_'+y2+'.1y_'+decomposition+'_0_'+prof+'trend.nc').trend\n",
    "\n",
    "steTrGAI_S = TrGAI - TrS\n",
    "steTrGAI_AI = TrGAI - TrAI\n",
    "steTrAI_S = TrAI - TrS\n",
    "\n",
    "manTrGAI_S  = slaTrGAI_S  - steTrGAI_S\n",
    "manTrGAI_AI = slaTrGAI_AI - steTrGAI_AI\n",
    "manTrAI_S   = slaTrAI_S   - steTrAI_S"
   ]
  },
  {
   "cell_type": "code",
   "execution_count": 10,
   "id": "2bbc42a4-1baa-44c1-a2c2-324214d92ae6",
   "metadata": {
    "tags": []
   },
   "outputs": [],
   "source": [
    "###############------------- proportion de SLA Gr+Riv décidée par steric\n",
    "slaTrGAI_Sprop = abs(steTrGAI_S) + abs(manTrGAI_S)\n",
    "propSTEgrriv = ((abs(steTrGAI_S)/slaTrGAI_Sprop)*100).where(nav_lat>60)\n",
    "# in the BGR box\n",
    "meanBGRpropSTEgrriv = (propSTEgrriv.where(BGRmask, drop=True) * WeightBGR).sum()\n",
    "# in the whole Arctic box\n",
    "meanArcticpropSTEgrriv = (propSTEgrriv.where(Fullmask, drop=True) * WeightArctic).sum()\n",
    "\n",
    "\n",
    "###############------------- proportion de SLA Gr décidée par steric\n",
    "slaTrGAI_AIprop = abs(steTrGAI_AI) + abs(manTrGAI_AI)\n",
    "propSTEGr = ((abs(steTrGAI_AI)/slaTrGAI_AIprop)*100).where(nav_lat>60)\n",
    "# in the BGR box\n",
    "meanBGRpropSTEgr = (propSTEGr.where(BGRmask, drop=True) * WeightBGR).sum()\n",
    "# in the whole Arctic box\n",
    "meanArcticpropSTEgr = (propSTEGr.where(Fullmask, drop=True) * WeightArctic).sum()\n",
    "\n",
    "###############------------- proportion de SLA Riv décidée par steric\n",
    "slaTrAI_Sprop = abs(steTrAI_S) + abs(manTrAI_S)\n",
    "propSTERIV = ((abs(steTrAI_S)/slaTrAI_Sprop)*100).where(nav_lat>60)\n",
    "# in the BGR box\n",
    "meanBGRpropSTEriv = (propSTERIV.where(BGRmask, drop=True) * WeightBGR).sum()\n",
    "# in the whole Arctic box\n",
    "meanArcticpropSTEriv = (propSTERIV.where(Fullmask, drop=True) * WeightArctic).sum()"
   ]
  },
  {
   "cell_type": "code",
   "execution_count": 11,
   "id": "cdd34796-f5d2-4c59-8b8c-63bc92db114f",
   "metadata": {
    "tags": []
   },
   "outputs": [
    {
     "name": "stdout",
     "output_type": "stream",
     "text": [
      "Gr+Riv\n",
      "87.55252463178716\n",
      "34.30177877386551\n",
      "Gr\n",
      "74.2194176966618\n",
      "19.90452134063748\n",
      "Riv\n",
      "79.70684173740014\n",
      "25.98786160993807\n",
      "mean(Gr+Riv, gr, riv)\n",
      "80.49292802194971\n",
      "26.731387241480352\n"
     ]
    }
   ],
   "source": [
    "print(\"Gr+Riv\")\n",
    "print(meanBGRpropSTEgrriv.values)\n",
    "print(meanArcticpropSTEgrriv.values)\n",
    "\n",
    "\n",
    "print(\"Gr\")\n",
    "print(meanBGRpropSTEgr.values)\n",
    "print(meanArcticpropSTEgr.values)\n",
    "\n",
    "\n",
    "print(\"Riv\")\n",
    "print(meanBGRpropSTEriv.values)\n",
    "print(meanArcticpropSTEriv.values)\n",
    "\n",
    "print(\"mean(Gr+Riv, gr, riv)\")\n",
    "print(np.mean([meanBGRpropSTEgrriv.values,meanBGRpropSTEgr.values, meanBGRpropSTEriv.values]))\n",
    "print(np.mean([meanArcticpropSTEgrriv.values, meanArcticpropSTEgr.values, meanArcticpropSTEriv.values]))"
   ]
  },
  {
   "cell_type": "markdown",
   "id": "2ff0d444-7283-41d1-9c9d-05397f039d18",
   "metadata": {},
   "source": [
    "## proportion halosteric in steric"
   ]
  },
  {
   "cell_type": "code",
   "execution_count": 12,
   "id": "bbe8201b-583c-4170-b094-38dbca62cf11",
   "metadata": {
    "tags": []
   },
   "outputs": [],
   "source": [
    "# load halostérique\n",
    "prof = \"bottom\"\n",
    "decomposition = \"halosteric\" \n",
    "pathuna12nf = '/gpfswork/rech/cli/uor98hu/MYDATA/SLdecomposition_WP1/una12nf/'\n",
    "TrGAI = xr.open_dataset(pathuna12nf+'GAI/'+decomposition+'/eORCA025.L75-IMHOTEP.GAI_y'+y1+'_'+y2+'.1y_'+decomposition+'_0_'+prof+'trend.nc').trend\n",
    "TrAI = xr.open_dataset(pathuna12nf+'AI/'+decomposition+'/eORCA025.L75-IMHOTEP.AI_y'+y1+'_'+y2+'.1y_'+decomposition+'_0_'+prof+'trend.nc').trend\n",
    "TrS = xr.open_dataset(pathuna12nf+'S/'+decomposition+'/eORCA025.L75-IMHOTEP.S_y'+y1+'_'+y2+'.1y_'+decomposition+'_0_'+prof+'trend.nc').trend\n",
    "\n",
    "halTrGAI_S = TrGAI - TrS\n",
    "halTrGAI_AI = TrGAI - TrAI\n",
    "halTrAI_S = TrAI - TrS\n",
    "\n",
    "# load thermostérique\n",
    "prof = \"bottom\"\n",
    "decomposition = \"thermosteric\"\n",
    "pathuna12nf = '/gpfswork/rech/cli/uor98hu/MYDATA/SLdecomposition_WP1/una12nf/'\n",
    "TrGAI = xr.open_dataset(pathuna12nf+'GAI/'+decomposition+'/eORCA025.L75-IMHOTEP.GAI_y'+y1+'_'+y2+'.1y_'+decomposition+'_0_'+prof+'trend.nc').trend\n",
    "TrAI = xr.open_dataset(pathuna12nf+'AI/'+decomposition+'/eORCA025.L75-IMHOTEP.AI_y'+y1+'_'+y2+'.1y_'+decomposition+'_0_'+prof+'trend.nc').trend\n",
    "TrS = xr.open_dataset(pathuna12nf+'S/'+decomposition+'/eORCA025.L75-IMHOTEP.S_y'+y1+'_'+y2+'.1y_'+decomposition+'_0_'+prof+'trend.nc').trend\n",
    "\n",
    "theTrGAI_S = TrGAI - TrS\n",
    "theTrGAI_AI = TrGAI - TrAI\n",
    "theTrAI_S = TrAI - TrS"
   ]
  },
  {
   "cell_type": "code",
   "execution_count": 13,
   "id": "22b5b4a1-2915-44d6-b80c-4f1909d099c8",
   "metadata": {
    "tags": []
   },
   "outputs": [],
   "source": [
    "###############------------- proportion de SLA Gr+Riv décidée par steric\n",
    "steTrGAI_Sprop = abs(halTrGAI_S) + abs(theTrGAI_S)\n",
    "propHALgrriv = ((abs(halTrGAI_S)/steTrGAI_Sprop)*100).where(nav_lat>60)\n",
    "# in the BGR box\n",
    "meanBGRpropHALgrriv = (propHALgrriv.where(BGRmask, drop=True) * WeightBGR).sum()\n",
    "# in the whole Arctic box\n",
    "meanArcticpropHALgrriv = (propHALgrriv.where(Fullmask, drop=True) * WeightArctic).sum()\n",
    "\n",
    "\n",
    "###############------------- proportion de SLA Gr décidée par steric\n",
    "steTrGAI_AIprop = abs(halTrGAI_AI) + abs(theTrGAI_AI)\n",
    "propHALGr = ((abs(halTrGAI_AI)/steTrGAI_AIprop)*100).where(nav_lat>60)\n",
    "# in the BGR box\n",
    "meanBGRpropHALgr = (propHALGr.where(BGRmask, drop=True) * WeightBGR).sum()\n",
    "# in the whole Arctic box\n",
    "meanArcticpropHALgr = (propHALGr.where(Fullmask, drop=True) * WeightArctic).sum()\n",
    "\n",
    "###############------------- proportion de SLA Riv décidée par steric\n",
    "steTrAI_Sprop = abs(halTrAI_S) + abs(theTrAI_S)\n",
    "propHALRIV = ((abs(halTrAI_S)/steTrAI_Sprop)*100).where(nav_lat>60)\n",
    "# in the BGR box\n",
    "meanBGRpropHALriv = (propHALRIV.where(BGRmask, drop=True) * WeightBGR).sum()\n",
    "# in the whole Arctic box\n",
    "meanArcticpropHALriv = (propHALRIV.where(Fullmask, drop=True) * WeightArctic).sum()"
   ]
  },
  {
   "cell_type": "code",
   "execution_count": 34,
   "id": "16ec1db0-2729-45e0-800a-194dd87ee69e",
   "metadata": {
    "tags": []
   },
   "outputs": [
    {
     "name": "stdout",
     "output_type": "stream",
     "text": [
      "Gr+Riv\n",
      "87.19223124062074\n",
      "38.903184066780206\n",
      "Gr\n",
      "88.09208589418638\n",
      "37.55501001259318\n",
      "Riv\n",
      "89.93341517065575\n",
      "39.57455035118363\n",
      "mean(Gr+Riv, gr, riv)\n",
      "88.40591076848762\n",
      "38.67758147685234\n"
     ]
    }
   ],
   "source": [
    "print(\"Gr+Riv\")\n",
    "print(meanBGRpropHALgrriv.values)\n",
    "print(meanArcticpropHALgrriv.values)\n",
    "\n",
    "\n",
    "print(\"Gr\")\n",
    "print(meanBGRpropHALgr.values)\n",
    "print(meanArcticpropHALgr.values)\n",
    "\n",
    "\n",
    "print(\"Riv\")\n",
    "print(meanBGRpropHALriv.values)\n",
    "print(meanArcticpropHALriv.values)\n",
    "\n",
    "print(\"mean(Gr+Riv, gr, riv)\")\n",
    "print(np.mean([meanBGRpropHALgrriv.values,meanBGRpropHALgr.values, meanBGRpropHALriv.values]))\n",
    "print(np.mean([meanArcticpropHALgrriv.values, meanArcticpropHALgr.values, meanArcticpropHALriv.values]))"
   ]
  },
  {
   "cell_type": "code",
   "execution_count": null,
   "id": "e9e4c625-8c05-4b22-8bd3-a86913665266",
   "metadata": {},
   "outputs": [],
   "source": []
  },
  {
   "cell_type": "code",
   "execution_count": null,
   "id": "e861e074-cee0-4352-8f2f-70646aa13d77",
   "metadata": {},
   "outputs": [],
   "source": []
  },
  {
   "cell_type": "code",
   "execution_count": null,
   "id": "a26313fa-4fb0-4309-9347-f28d058a2da9",
   "metadata": {},
   "outputs": [],
   "source": []
  }
 ],
 "metadata": {
  "kernelspec": {
   "display_name": "Python [conda env:climate_science]",
   "language": "python",
   "name": "conda-env-climate_science-py"
  },
  "language_info": {
   "codemirror_mode": {
    "name": "ipython",
    "version": 3
   },
   "file_extension": ".py",
   "mimetype": "text/x-python",
   "name": "python",
   "nbconvert_exporter": "python",
   "pygments_lexer": "ipython3",
   "version": "3.9.1"
  }
 },
 "nbformat": 4,
 "nbformat_minor": 5
}
