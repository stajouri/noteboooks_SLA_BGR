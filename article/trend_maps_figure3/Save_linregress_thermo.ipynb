{
 "cells": [
  {
   "cell_type": "code",
   "execution_count": 1,
   "id": "87489df2-da8c-499c-80bc-95e2a27105ba",
   "metadata": {
    "tags": []
   },
   "outputs": [],
   "source": [
    "## standart libraries\n",
    "\n",
    "import os,sys\n",
    "import numpy as np\n",
    "\n",
    "# xarray\n",
    "import xarray as xr\n",
    "import esmtools"
   ]
  },
  {
   "cell_type": "code",
   "execution_count": 2,
   "id": "54025e80-8a35-4b02-aae6-290461c8f1da",
   "metadata": {
    "tags": []
   },
   "outputs": [
    {
     "name": "stderr",
     "output_type": "stream",
     "text": [
      "/linkhome/rech/genlop01/uor98hu/.local/lib/python3.9/site-packages/distributed/node.py:183: UserWarning: Port 8787 is already in use.\n",
      "Perhaps you already have a cluster running?\n",
      "Hosting the HTTP server on port 39669 instead\n",
      "  warnings.warn(\n"
     ]
    },
    {
     "data": {
      "text/html": [
       "<div>\n",
       "    <div style=\"width: 24px; height: 24px; background-color: #e1e1e1; border: 3px solid #9D9D9D; border-radius: 5px; position: absolute;\"> </div>\n",
       "    <div style=\"margin-left: 48px;\">\n",
       "        <h3 style=\"margin-bottom: 0px;\">Client</h3>\n",
       "        <p style=\"color: #9D9D9D; margin-bottom: 0px;\">Client-11ac29fe-c4cf-11ee-b30e-0cc47af5bf5b</p>\n",
       "        <table style=\"width: 100%; text-align: left;\">\n",
       "\n",
       "        <tr>\n",
       "        \n",
       "            <td style=\"text-align: left;\"><strong>Connection method:</strong> Cluster object</td>\n",
       "            <td style=\"text-align: left;\"><strong>Cluster type:</strong> distributed.LocalCluster</td>\n",
       "        \n",
       "        </tr>\n",
       "\n",
       "        \n",
       "            <tr>\n",
       "                <td style=\"text-align: left;\">\n",
       "                    <strong>Dashboard: </strong> <a href=\"http://127.0.0.1:39669/status\" target=\"_blank\">http://127.0.0.1:39669/status</a>\n",
       "                </td>\n",
       "                <td style=\"text-align: left;\"></td>\n",
       "            </tr>\n",
       "        \n",
       "\n",
       "        </table>\n",
       "\n",
       "        \n",
       "            <details>\n",
       "            <summary style=\"margin-bottom: 20px;\"><h3 style=\"display: inline;\">Cluster Info</h3></summary>\n",
       "            <div class=\"jp-RenderedHTMLCommon jp-RenderedHTML jp-mod-trusted jp-OutputArea-output\">\n",
       "    <div style=\"width: 24px; height: 24px; background-color: #e1e1e1; border: 3px solid #9D9D9D; border-radius: 5px; position: absolute;\">\n",
       "    </div>\n",
       "    <div style=\"margin-left: 48px;\">\n",
       "        <h3 style=\"margin-bottom: 0px; margin-top: 0px;\">LocalCluster</h3>\n",
       "        <p style=\"color: #9D9D9D; margin-bottom: 0px;\">d6508128</p>\n",
       "        <table style=\"width: 100%; text-align: left;\">\n",
       "            <tr>\n",
       "                <td style=\"text-align: left;\">\n",
       "                    <strong>Dashboard:</strong> <a href=\"http://127.0.0.1:39669/status\" target=\"_blank\">http://127.0.0.1:39669/status</a>\n",
       "                </td>\n",
       "                <td style=\"text-align: left;\">\n",
       "                    <strong>Workers:</strong> 5\n",
       "                </td>\n",
       "            </tr>\n",
       "            <tr>\n",
       "                <td style=\"text-align: left;\">\n",
       "                    <strong>Total threads:</strong> 20\n",
       "                </td>\n",
       "                <td style=\"text-align: left;\">\n",
       "                    <strong>Total memory:</strong> 40.00 GiB\n",
       "                </td>\n",
       "            </tr>\n",
       "            \n",
       "            <tr>\n",
       "    <td style=\"text-align: left;\"><strong>Status:</strong> running</td>\n",
       "    <td style=\"text-align: left;\"><strong>Using processes:</strong> True</td>\n",
       "</tr>\n",
       "\n",
       "            \n",
       "        </table>\n",
       "\n",
       "        <details>\n",
       "            <summary style=\"margin-bottom: 20px;\">\n",
       "                <h3 style=\"display: inline;\">Scheduler Info</h3>\n",
       "            </summary>\n",
       "\n",
       "            <div style=\"\">\n",
       "    <div>\n",
       "        <div style=\"width: 24px; height: 24px; background-color: #FFF7E5; border: 3px solid #FF6132; border-radius: 5px; position: absolute;\"> </div>\n",
       "        <div style=\"margin-left: 48px;\">\n",
       "            <h3 style=\"margin-bottom: 0px;\">Scheduler</h3>\n",
       "            <p style=\"color: #9D9D9D; margin-bottom: 0px;\">Scheduler-830b3a2b-8161-4947-9cbf-bc5f32db715a</p>\n",
       "            <table style=\"width: 100%; text-align: left;\">\n",
       "                <tr>\n",
       "                    <td style=\"text-align: left;\">\n",
       "                        <strong>Comm:</strong> tcp://127.0.0.1:39289\n",
       "                    </td>\n",
       "                    <td style=\"text-align: left;\">\n",
       "                        <strong>Workers:</strong> 5\n",
       "                    </td>\n",
       "                </tr>\n",
       "                <tr>\n",
       "                    <td style=\"text-align: left;\">\n",
       "                        <strong>Dashboard:</strong> <a href=\"http://127.0.0.1:39669/status\" target=\"_blank\">http://127.0.0.1:39669/status</a>\n",
       "                    </td>\n",
       "                    <td style=\"text-align: left;\">\n",
       "                        <strong>Total threads:</strong> 20\n",
       "                    </td>\n",
       "                </tr>\n",
       "                <tr>\n",
       "                    <td style=\"text-align: left;\">\n",
       "                        <strong>Started:</strong> Just now\n",
       "                    </td>\n",
       "                    <td style=\"text-align: left;\">\n",
       "                        <strong>Total memory:</strong> 40.00 GiB\n",
       "                    </td>\n",
       "                </tr>\n",
       "            </table>\n",
       "        </div>\n",
       "    </div>\n",
       "\n",
       "    <details style=\"margin-left: 48px;\">\n",
       "        <summary style=\"margin-bottom: 20px;\">\n",
       "            <h3 style=\"display: inline;\">Workers</h3>\n",
       "        </summary>\n",
       "\n",
       "        \n",
       "        <div style=\"margin-bottom: 20px;\">\n",
       "            <div style=\"width: 24px; height: 24px; background-color: #DBF5FF; border: 3px solid #4CC9FF; border-radius: 5px; position: absolute;\"> </div>\n",
       "            <div style=\"margin-left: 48px;\">\n",
       "            <details>\n",
       "                <summary>\n",
       "                    <h4 style=\"margin-bottom: 0px; display: inline;\">Worker: 0</h4>\n",
       "                </summary>\n",
       "                <table style=\"width: 100%; text-align: left;\">\n",
       "                    <tr>\n",
       "                        <td style=\"text-align: left;\">\n",
       "                            <strong>Comm: </strong> tcp://127.0.0.1:37991\n",
       "                        </td>\n",
       "                        <td style=\"text-align: left;\">\n",
       "                            <strong>Total threads: </strong> 4\n",
       "                        </td>\n",
       "                    </tr>\n",
       "                    <tr>\n",
       "                        <td style=\"text-align: left;\">\n",
       "                            <strong>Dashboard: </strong> <a href=\"http://127.0.0.1:33749/status\" target=\"_blank\">http://127.0.0.1:33749/status</a>\n",
       "                        </td>\n",
       "                        <td style=\"text-align: left;\">\n",
       "                            <strong>Memory: </strong> 8.00 GiB\n",
       "                        </td>\n",
       "                    </tr>\n",
       "                    <tr>\n",
       "                        <td style=\"text-align: left;\">\n",
       "                            <strong>Nanny: </strong> tcp://127.0.0.1:46863\n",
       "                        </td>\n",
       "                        <td style=\"text-align: left;\"></td>\n",
       "                    </tr>\n",
       "                    <tr>\n",
       "                        <td colspan=\"2\" style=\"text-align: left;\">\n",
       "                            <strong>Local directory: </strong> /tmp/dask-worker-space/worker-ipfl1zhv\n",
       "                        </td>\n",
       "                    </tr>\n",
       "\n",
       "                    \n",
       "\n",
       "                    \n",
       "\n",
       "                </table>\n",
       "            </details>\n",
       "            </div>\n",
       "        </div>\n",
       "        \n",
       "        <div style=\"margin-bottom: 20px;\">\n",
       "            <div style=\"width: 24px; height: 24px; background-color: #DBF5FF; border: 3px solid #4CC9FF; border-radius: 5px; position: absolute;\"> </div>\n",
       "            <div style=\"margin-left: 48px;\">\n",
       "            <details>\n",
       "                <summary>\n",
       "                    <h4 style=\"margin-bottom: 0px; display: inline;\">Worker: 1</h4>\n",
       "                </summary>\n",
       "                <table style=\"width: 100%; text-align: left;\">\n",
       "                    <tr>\n",
       "                        <td style=\"text-align: left;\">\n",
       "                            <strong>Comm: </strong> tcp://127.0.0.1:37669\n",
       "                        </td>\n",
       "                        <td style=\"text-align: left;\">\n",
       "                            <strong>Total threads: </strong> 4\n",
       "                        </td>\n",
       "                    </tr>\n",
       "                    <tr>\n",
       "                        <td style=\"text-align: left;\">\n",
       "                            <strong>Dashboard: </strong> <a href=\"http://127.0.0.1:43767/status\" target=\"_blank\">http://127.0.0.1:43767/status</a>\n",
       "                        </td>\n",
       "                        <td style=\"text-align: left;\">\n",
       "                            <strong>Memory: </strong> 8.00 GiB\n",
       "                        </td>\n",
       "                    </tr>\n",
       "                    <tr>\n",
       "                        <td style=\"text-align: left;\">\n",
       "                            <strong>Nanny: </strong> tcp://127.0.0.1:38833\n",
       "                        </td>\n",
       "                        <td style=\"text-align: left;\"></td>\n",
       "                    </tr>\n",
       "                    <tr>\n",
       "                        <td colspan=\"2\" style=\"text-align: left;\">\n",
       "                            <strong>Local directory: </strong> /tmp/dask-worker-space/worker-cdrilpxc\n",
       "                        </td>\n",
       "                    </tr>\n",
       "\n",
       "                    \n",
       "\n",
       "                    \n",
       "\n",
       "                </table>\n",
       "            </details>\n",
       "            </div>\n",
       "        </div>\n",
       "        \n",
       "        <div style=\"margin-bottom: 20px;\">\n",
       "            <div style=\"width: 24px; height: 24px; background-color: #DBF5FF; border: 3px solid #4CC9FF; border-radius: 5px; position: absolute;\"> </div>\n",
       "            <div style=\"margin-left: 48px;\">\n",
       "            <details>\n",
       "                <summary>\n",
       "                    <h4 style=\"margin-bottom: 0px; display: inline;\">Worker: 2</h4>\n",
       "                </summary>\n",
       "                <table style=\"width: 100%; text-align: left;\">\n",
       "                    <tr>\n",
       "                        <td style=\"text-align: left;\">\n",
       "                            <strong>Comm: </strong> tcp://127.0.0.1:45917\n",
       "                        </td>\n",
       "                        <td style=\"text-align: left;\">\n",
       "                            <strong>Total threads: </strong> 4\n",
       "                        </td>\n",
       "                    </tr>\n",
       "                    <tr>\n",
       "                        <td style=\"text-align: left;\">\n",
       "                            <strong>Dashboard: </strong> <a href=\"http://127.0.0.1:37671/status\" target=\"_blank\">http://127.0.0.1:37671/status</a>\n",
       "                        </td>\n",
       "                        <td style=\"text-align: left;\">\n",
       "                            <strong>Memory: </strong> 8.00 GiB\n",
       "                        </td>\n",
       "                    </tr>\n",
       "                    <tr>\n",
       "                        <td style=\"text-align: left;\">\n",
       "                            <strong>Nanny: </strong> tcp://127.0.0.1:43701\n",
       "                        </td>\n",
       "                        <td style=\"text-align: left;\"></td>\n",
       "                    </tr>\n",
       "                    <tr>\n",
       "                        <td colspan=\"2\" style=\"text-align: left;\">\n",
       "                            <strong>Local directory: </strong> /tmp/dask-worker-space/worker-cem86jr7\n",
       "                        </td>\n",
       "                    </tr>\n",
       "\n",
       "                    \n",
       "\n",
       "                    \n",
       "\n",
       "                </table>\n",
       "            </details>\n",
       "            </div>\n",
       "        </div>\n",
       "        \n",
       "        <div style=\"margin-bottom: 20px;\">\n",
       "            <div style=\"width: 24px; height: 24px; background-color: #DBF5FF; border: 3px solid #4CC9FF; border-radius: 5px; position: absolute;\"> </div>\n",
       "            <div style=\"margin-left: 48px;\">\n",
       "            <details>\n",
       "                <summary>\n",
       "                    <h4 style=\"margin-bottom: 0px; display: inline;\">Worker: 3</h4>\n",
       "                </summary>\n",
       "                <table style=\"width: 100%; text-align: left;\">\n",
       "                    <tr>\n",
       "                        <td style=\"text-align: left;\">\n",
       "                            <strong>Comm: </strong> tcp://127.0.0.1:43131\n",
       "                        </td>\n",
       "                        <td style=\"text-align: left;\">\n",
       "                            <strong>Total threads: </strong> 4\n",
       "                        </td>\n",
       "                    </tr>\n",
       "                    <tr>\n",
       "                        <td style=\"text-align: left;\">\n",
       "                            <strong>Dashboard: </strong> <a href=\"http://127.0.0.1:44599/status\" target=\"_blank\">http://127.0.0.1:44599/status</a>\n",
       "                        </td>\n",
       "                        <td style=\"text-align: left;\">\n",
       "                            <strong>Memory: </strong> 8.00 GiB\n",
       "                        </td>\n",
       "                    </tr>\n",
       "                    <tr>\n",
       "                        <td style=\"text-align: left;\">\n",
       "                            <strong>Nanny: </strong> tcp://127.0.0.1:33747\n",
       "                        </td>\n",
       "                        <td style=\"text-align: left;\"></td>\n",
       "                    </tr>\n",
       "                    <tr>\n",
       "                        <td colspan=\"2\" style=\"text-align: left;\">\n",
       "                            <strong>Local directory: </strong> /tmp/dask-worker-space/worker-my0zs8cu\n",
       "                        </td>\n",
       "                    </tr>\n",
       "\n",
       "                    \n",
       "\n",
       "                    \n",
       "\n",
       "                </table>\n",
       "            </details>\n",
       "            </div>\n",
       "        </div>\n",
       "        \n",
       "        <div style=\"margin-bottom: 20px;\">\n",
       "            <div style=\"width: 24px; height: 24px; background-color: #DBF5FF; border: 3px solid #4CC9FF; border-radius: 5px; position: absolute;\"> </div>\n",
       "            <div style=\"margin-left: 48px;\">\n",
       "            <details>\n",
       "                <summary>\n",
       "                    <h4 style=\"margin-bottom: 0px; display: inline;\">Worker: 4</h4>\n",
       "                </summary>\n",
       "                <table style=\"width: 100%; text-align: left;\">\n",
       "                    <tr>\n",
       "                        <td style=\"text-align: left;\">\n",
       "                            <strong>Comm: </strong> tcp://127.0.0.1:42991\n",
       "                        </td>\n",
       "                        <td style=\"text-align: left;\">\n",
       "                            <strong>Total threads: </strong> 4\n",
       "                        </td>\n",
       "                    </tr>\n",
       "                    <tr>\n",
       "                        <td style=\"text-align: left;\">\n",
       "                            <strong>Dashboard: </strong> <a href=\"http://127.0.0.1:46131/status\" target=\"_blank\">http://127.0.0.1:46131/status</a>\n",
       "                        </td>\n",
       "                        <td style=\"text-align: left;\">\n",
       "                            <strong>Memory: </strong> 8.00 GiB\n",
       "                        </td>\n",
       "                    </tr>\n",
       "                    <tr>\n",
       "                        <td style=\"text-align: left;\">\n",
       "                            <strong>Nanny: </strong> tcp://127.0.0.1:37001\n",
       "                        </td>\n",
       "                        <td style=\"text-align: left;\"></td>\n",
       "                    </tr>\n",
       "                    <tr>\n",
       "                        <td colspan=\"2\" style=\"text-align: left;\">\n",
       "                            <strong>Local directory: </strong> /tmp/dask-worker-space/worker-cy4zace5\n",
       "                        </td>\n",
       "                    </tr>\n",
       "\n",
       "                    \n",
       "\n",
       "                    \n",
       "\n",
       "                </table>\n",
       "            </details>\n",
       "            </div>\n",
       "        </div>\n",
       "        \n",
       "\n",
       "    </details>\n",
       "</div>\n",
       "\n",
       "        </details>\n",
       "    </div>\n",
       "</div>\n",
       "            </details>\n",
       "        \n",
       "\n",
       "    </div>\n",
       "</div>"
      ],
      "text/plain": [
       "<Client: 'tcp://127.0.0.1:39289' processes=5 threads=20, memory=40.00 GiB>"
      ]
     },
     "execution_count": 2,
     "metadata": {},
     "output_type": "execute_result"
    }
   ],
   "source": [
    "from dask.distributed import Client\n",
    "c = Client()\n",
    "c"
   ]
  },
  {
   "cell_type": "markdown",
   "id": "1116d420-d803-4088-a3f9-f7c25b9b7133",
   "metadata": {},
   "source": [
    "# load data"
   ]
  },
  {
   "cell_type": "code",
   "execution_count": 3,
   "id": "4ba9ff7a-c5d4-438a-8078-e76c7f3da3b1",
   "metadata": {
    "tags": []
   },
   "outputs": [],
   "source": [
    "chunk_size = {\"x\":133,\"y\":320}"
   ]
  },
  {
   "cell_type": "markdown",
   "id": "f7792190-fd7b-4e36-99e6-d32d79872e4c",
   "metadata": {},
   "source": [
    "## Thermosteric"
   ]
  },
  {
   "cell_type": "code",
   "execution_count": 4,
   "id": "39eddf1b-a21a-415d-9763-56a83e319ae7",
   "metadata": {
    "tags": []
   },
   "outputs": [],
   "source": [
    "path = '/gpfswork/rech/cli/uor98hu/MYDATA/SLdecomposition_WP1/una12nf/'\n",
    "\n",
    "decomposition = 'thermosteric'\n",
    "\n",
    "nexp = 'GAI'\n",
    "sl_GAI = xr.open_dataset(path+nexp+'/'+decomposition+'/'+'eORCA025.L75-IMHOTEP.'+nexp+'_y2005_2018.1y_thermosteric_0_bottomprime.nc',chunks=chunk_size).sosteric\n",
    "nexp = 'AI'\n",
    "sl_AI = xr.open_dataset(path+nexp+'/'+decomposition+'/'+'eORCA025.L75-IMHOTEP.'+nexp+'_y2005_2018.1y_thermosteric_0_bottomprime.nc',chunks=chunk_size).sosteric\n",
    "nexp = 'S'\n",
    "sl_S = xr.open_dataset(path+nexp+'/'+decomposition+'/'+'eORCA025.L75-IMHOTEP.'+nexp+'_y2005_2018.1y_thermosteric_0_bottomprime.nc',chunks=chunk_size).sosteric"
   ]
  },
  {
   "cell_type": "markdown",
   "id": "5b13329b-c205-480d-a8fd-da1f5a4791c2",
   "metadata": {},
   "source": [
    "# GAI"
   ]
  },
  {
   "cell_type": "code",
   "execution_count": 5,
   "id": "9defbcea-6803-4e04-9c87-f0a828c11c69",
   "metadata": {
    "tags": []
   },
   "outputs": [],
   "source": [
    "sl_GAI_comp = (sl_GAI*1000).compute()\n"
   ]
  },
  {
   "cell_type": "code",
   "execution_count": 6,
   "id": "87b9d74e-8a00-4046-b0bb-e32d4dab1c57",
   "metadata": {
    "tags": []
   },
   "outputs": [
    {
     "name": "stderr",
     "output_type": "stream",
     "text": [
      "/gpfslocalsup/pub/anaconda-py3/2020.11/envs/climate_science/lib/python3.9/site-packages/esmtools/stats.py:394: FutureWarning: ``output_sizes`` should be given in the ``dask_gufunc_kwargs`` parameter. It will be removed as direct parameter in a future version.\n",
      "  results = xr.apply_ufunc(\n"
     ]
    },
    {
     "name": "stdout",
     "output_type": "stream",
     "text": [
      "CPU times: user 8min 54s, sys: 53.3 s, total: 9min 48s\n",
      "Wall time: 8min 51s\n"
     ]
    }
   ],
   "source": [
    "%%time\n",
    "lin_GAI = esmtools.stats.linregress(sl_GAI_comp, dim=\"year\")"
   ]
  },
  {
   "cell_type": "code",
   "execution_count": 7,
   "id": "38d59d5a-6a8c-4c26-914d-0b48a70ac883",
   "metadata": {
    "tags": []
   },
   "outputs": [],
   "source": [
    "diro = \"/gpfswork/rech/cli/uor98hu/MYDATA/SLdecomposition_WP1/una12nf/\"\n",
    "\n",
    "# convert into dataset and save : GAI -AI\n",
    "ds2save = xr.Dataset(data_vars=dict(linregress=([\"y\", \"x\",\"parameter\"], lin_GAI.data)),\n",
    "                    coords=dict(parameter = ([\"parameter\"],['slope', 'intercept', 'rvalue', 'pvalue', 'stderr'])),\n",
    "            attrs=dict(description=\"thermosteric sea level - time mean, then linear trend over 2005-2018 (mm/yr) calculated over yearly data, saved the 16 Feb 2024\"))\n",
    "\n",
    "ds2save.to_netcdf(diro + \"/eORCA025.L75-IMHOTEP._y2005_2018.1y_thermosteric_0_bottom_trendGAI_linregress.nc\")\n"
   ]
  },
  {
   "cell_type": "markdown",
   "id": "eb17b99a-4539-409e-a5b8-9dd5af50b71c",
   "metadata": {
    "jp-MarkdownHeadingCollapsed": true,
    "tags": []
   },
   "source": [
    "# DIFF"
   ]
  },
  {
   "cell_type": "code",
   "execution_count": 5,
   "id": "7d087c45-8c3d-4e5b-b422-e1ac9901b6be",
   "metadata": {
    "tags": []
   },
   "outputs": [
    {
     "name": "stdout",
     "output_type": "stream",
     "text": [
      "CPU times: user 836 ms, sys: 577 ms, total: 1.41 s\n",
      "Wall time: 2.62 s\n"
     ]
    }
   ],
   "source": [
    "%%time\n",
    "sl_GAI_AI = ( (sl_GAI - sl_AI)*1000).compute()\n",
    "sl_AI_S   = ( (sl_AI  - sl_S) *1000).compute()\n",
    "sl_GAI_S  = ( (sl_GAI - sl_S) *1000).compute()"
   ]
  },
  {
   "cell_type": "code",
   "execution_count": 6,
   "id": "dcd45d5f-fda1-4f27-b40c-d55493076635",
   "metadata": {
    "tags": []
   },
   "outputs": [
    {
     "name": "stderr",
     "output_type": "stream",
     "text": [
      "/gpfslocalsup/pub/anaconda-py3/2020.11/envs/climate_science/lib/python3.9/site-packages/esmtools/stats.py:394: FutureWarning: ``output_sizes`` should be given in the ``dask_gufunc_kwargs`` parameter. It will be removed as direct parameter in a future version.\n",
      "  results = xr.apply_ufunc(\n"
     ]
    },
    {
     "name": "stdout",
     "output_type": "stream",
     "text": [
      "CPU times: user 32min 39s, sys: 2min 34s, total: 35min 13s\n",
      "Wall time: 32min 38s\n"
     ]
    }
   ],
   "source": [
    "%%time\n",
    "lin_GAI_AI = esmtools.stats.linregress(sl_GAI_AI, dim=\"year\")\n",
    "lin_AI_S   = esmtools.stats.linregress(sl_AI_S, dim=\"year\")\n",
    "lin_GAI_S  = esmtools.stats.linregress(sl_GAI_S, dim=\"year\")"
   ]
  },
  {
   "cell_type": "code",
   "execution_count": 7,
   "id": "7c603191-8042-4e1a-9a4d-aecae77dd5f6",
   "metadata": {
    "tags": []
   },
   "outputs": [
    {
     "name": "stdout",
     "output_type": "stream",
     "text": [
      "CPU times: user 37.1 ms, sys: 60.4 ms, total: 97.5 ms\n",
      "Wall time: 354 ms\n"
     ]
    }
   ],
   "source": [
    "%%time\n",
    "\n",
    "diro = \"/gpfswork/rech/cli/uor98hu/MYDATA/SLdecomposition_WP1/una12nf/\"\n",
    "\n",
    "# convert into dataset and save : GAI -AI\n",
    "ds2save = xr.Dataset(data_vars=dict(linregress=([\"y\", \"x\",\"parameter\"], lin_GAI_AI.data)),\n",
    "                    coords=dict(parameter = ([\"parameter\"],['slope', 'intercept', 'rvalue', 'pvalue', 'stderr'])),\n",
    "            attrs=dict(description=\"SSH - time mean, then linear trend over 2005-2018 (mm/yr) calculated over yearly data, saved the 13 Nov 2023\"))\n",
    "\n",
    "ds2save.to_netcdf(diro + \"/eORCA025.L75-IMHOTEP._y2005_2018.1y_thermosteric_0_bottom_trendGAI_AI_linregress.nc\")\n",
    "\n",
    "\n",
    "# convert into dataset and save : AI -S\n",
    "ds2save = xr.Dataset(data_vars=dict(linregress=([\"y\", \"x\",\"parameter\"], lin_AI_S.data)),\n",
    "                    coords=dict(parameter = ([\"parameter\"],['slope', 'intercept', 'rvalue', 'pvalue', 'stderr'])),\n",
    "            attrs=dict(description=\"SSH - time mean, then linear trend over 2005-2018 (mm/yr) calculated over yearly data, saved the 13 Nov 2023\"))\n",
    "\n",
    "ds2save.to_netcdf(diro + \"/eORCA025.L75-IMHOTEP._y2005_2018.1y_thermosteric_0_bottom_trendAI_S_linregress.nc\")\n",
    "\n",
    "\n",
    "# convert into dataset and save : GAI -S\n",
    "ds2save = xr.Dataset(data_vars=dict(linregress=([\"y\", \"x\",\"parameter\"], lin_GAI_S.data)),\n",
    "                    coords=dict(parameter = ([\"parameter\"],['slope', 'intercept', 'rvalue', 'pvalue', 'stderr'])),\n",
    "            attrs=dict(description=\"SSH - time mean, then linear trend over 2005-2018 (mm/yr) calculated over yearly data, saved the 13 Nov 2023\"))\n",
    "\n",
    "ds2save.to_netcdf(diro + \"/eORCA025.L75-IMHOTEP._y2005_2018.1y_thermosteric_0_bottom_trendGAI_S_linregress.nc\")"
   ]
  },
  {
   "cell_type": "code",
   "execution_count": null,
   "id": "dc809766-a72e-439a-a66c-6f24160da6ed",
   "metadata": {},
   "outputs": [],
   "source": []
  }
 ],
 "metadata": {
  "kernelspec": {
   "display_name": "climate_science",
   "language": "python",
   "name": "module-conda-env-climate_science"
  },
  "language_info": {
   "codemirror_mode": {
    "name": "ipython",
    "version": 3
   },
   "file_extension": ".py",
   "mimetype": "text/x-python",
   "name": "python",
   "nbconvert_exporter": "python",
   "pygments_lexer": "ipython3",
   "version": "3.9.1"
  }
 },
 "nbformat": 4,
 "nbformat_minor": 5
}
