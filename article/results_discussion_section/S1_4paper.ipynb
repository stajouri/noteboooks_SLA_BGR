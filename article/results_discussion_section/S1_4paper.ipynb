{
 "cells": [
  {
   "cell_type": "code",
   "execution_count": 1,
   "id": "c78c34a1-09bf-4748-b542-b4386e404890",
   "metadata": {
    "tags": []
   },
   "outputs": [],
   "source": [
    "# ------------------------\n",
    "## ----import libraries\n",
    "# ------------------------\n",
    "import os,sys\n",
    "import numpy as np\n",
    "# xarray\n",
    "import xarray as xr\n",
    "# plot\n",
    "import matplotlib.image as image\n",
    "from matplotlib.offsetbox import OffsetImage,AnchoredOffsetbox\n",
    "\n",
    "import cartopy\n",
    "import cartopy.crs as ccrs\n",
    "import cartopy.feature as cfeature\n",
    "import matplotlib.pyplot as plt\n",
    "from matplotlib.colors import Colormap\n",
    "import matplotlib.cm as cm\n"
   ]
  },
  {
   "cell_type": "code",
   "execution_count": 2,
   "id": "f9334d1c-5ec5-4404-8d8a-5668e35bda67",
   "metadata": {
    "tags": []
   },
   "outputs": [
    {
     "name": "stderr",
     "output_type": "stream",
     "text": [
      "/linkhome/rech/genlop01/uor98hu/.local/lib/python3.9/site-packages/distributed/node.py:183: UserWarning: Port 8787 is already in use.\n",
      "Perhaps you already have a cluster running?\n",
      "Hosting the HTTP server on port 33697 instead\n",
      "  warnings.warn(\n"
     ]
    },
    {
     "data": {
      "text/html": [
       "<div>\n",
       "    <div style=\"width: 24px; height: 24px; background-color: #e1e1e1; border: 3px solid #9D9D9D; border-radius: 5px; position: absolute;\"> </div>\n",
       "    <div style=\"margin-left: 48px;\">\n",
       "        <h3 style=\"margin-bottom: 0px;\">Client</h3>\n",
       "        <p style=\"color: #9D9D9D; margin-bottom: 0px;\">Client-0c021279-8550-11ee-bf14-0cc47af5c49d</p>\n",
       "        <table style=\"width: 100%; text-align: left;\">\n",
       "\n",
       "        <tr>\n",
       "        \n",
       "            <td style=\"text-align: left;\"><strong>Connection method:</strong> Cluster object</td>\n",
       "            <td style=\"text-align: left;\"><strong>Cluster type:</strong> distributed.LocalCluster</td>\n",
       "        \n",
       "        </tr>\n",
       "\n",
       "        \n",
       "            <tr>\n",
       "                <td style=\"text-align: left;\">\n",
       "                    <strong>Dashboard: </strong> <a href=\"http://127.0.0.1:33697/status\" target=\"_blank\">http://127.0.0.1:33697/status</a>\n",
       "                </td>\n",
       "                <td style=\"text-align: left;\"></td>\n",
       "            </tr>\n",
       "        \n",
       "\n",
       "        </table>\n",
       "\n",
       "        \n",
       "            <details>\n",
       "            <summary style=\"margin-bottom: 20px;\"><h3 style=\"display: inline;\">Cluster Info</h3></summary>\n",
       "            <div class=\"jp-RenderedHTMLCommon jp-RenderedHTML jp-mod-trusted jp-OutputArea-output\">\n",
       "    <div style=\"width: 24px; height: 24px; background-color: #e1e1e1; border: 3px solid #9D9D9D; border-radius: 5px; position: absolute;\">\n",
       "    </div>\n",
       "    <div style=\"margin-left: 48px;\">\n",
       "        <h3 style=\"margin-bottom: 0px; margin-top: 0px;\">LocalCluster</h3>\n",
       "        <p style=\"color: #9D9D9D; margin-bottom: 0px;\">6f27fd1a</p>\n",
       "        <table style=\"width: 100%; text-align: left;\">\n",
       "            <tr>\n",
       "                <td style=\"text-align: left;\">\n",
       "                    <strong>Dashboard:</strong> <a href=\"http://127.0.0.1:33697/status\" target=\"_blank\">http://127.0.0.1:33697/status</a>\n",
       "                </td>\n",
       "                <td style=\"text-align: left;\">\n",
       "                    <strong>Workers:</strong> 5\n",
       "                </td>\n",
       "            </tr>\n",
       "            <tr>\n",
       "                <td style=\"text-align: left;\">\n",
       "                    <strong>Total threads:</strong> 10\n",
       "                </td>\n",
       "                <td style=\"text-align: left;\">\n",
       "                    <strong>Total memory:</strong> 20.00 GiB\n",
       "                </td>\n",
       "            </tr>\n",
       "            \n",
       "            <tr>\n",
       "    <td style=\"text-align: left;\"><strong>Status:</strong> running</td>\n",
       "    <td style=\"text-align: left;\"><strong>Using processes:</strong> True</td>\n",
       "</tr>\n",
       "\n",
       "            \n",
       "        </table>\n",
       "\n",
       "        <details>\n",
       "            <summary style=\"margin-bottom: 20px;\">\n",
       "                <h3 style=\"display: inline;\">Scheduler Info</h3>\n",
       "            </summary>\n",
       "\n",
       "            <div style=\"\">\n",
       "    <div>\n",
       "        <div style=\"width: 24px; height: 24px; background-color: #FFF7E5; border: 3px solid #FF6132; border-radius: 5px; position: absolute;\"> </div>\n",
       "        <div style=\"margin-left: 48px;\">\n",
       "            <h3 style=\"margin-bottom: 0px;\">Scheduler</h3>\n",
       "            <p style=\"color: #9D9D9D; margin-bottom: 0px;\">Scheduler-f85d3d69-162f-45f6-a093-cd11dfe06589</p>\n",
       "            <table style=\"width: 100%; text-align: left;\">\n",
       "                <tr>\n",
       "                    <td style=\"text-align: left;\">\n",
       "                        <strong>Comm:</strong> tcp://127.0.0.1:35315\n",
       "                    </td>\n",
       "                    <td style=\"text-align: left;\">\n",
       "                        <strong>Workers:</strong> 5\n",
       "                    </td>\n",
       "                </tr>\n",
       "                <tr>\n",
       "                    <td style=\"text-align: left;\">\n",
       "                        <strong>Dashboard:</strong> <a href=\"http://127.0.0.1:33697/status\" target=\"_blank\">http://127.0.0.1:33697/status</a>\n",
       "                    </td>\n",
       "                    <td style=\"text-align: left;\">\n",
       "                        <strong>Total threads:</strong> 10\n",
       "                    </td>\n",
       "                </tr>\n",
       "                <tr>\n",
       "                    <td style=\"text-align: left;\">\n",
       "                        <strong>Started:</strong> Just now\n",
       "                    </td>\n",
       "                    <td style=\"text-align: left;\">\n",
       "                        <strong>Total memory:</strong> 20.00 GiB\n",
       "                    </td>\n",
       "                </tr>\n",
       "            </table>\n",
       "        </div>\n",
       "    </div>\n",
       "\n",
       "    <details style=\"margin-left: 48px;\">\n",
       "        <summary style=\"margin-bottom: 20px;\">\n",
       "            <h3 style=\"display: inline;\">Workers</h3>\n",
       "        </summary>\n",
       "\n",
       "        \n",
       "        <div style=\"margin-bottom: 20px;\">\n",
       "            <div style=\"width: 24px; height: 24px; background-color: #DBF5FF; border: 3px solid #4CC9FF; border-radius: 5px; position: absolute;\"> </div>\n",
       "            <div style=\"margin-left: 48px;\">\n",
       "            <details>\n",
       "                <summary>\n",
       "                    <h4 style=\"margin-bottom: 0px; display: inline;\">Worker: 0</h4>\n",
       "                </summary>\n",
       "                <table style=\"width: 100%; text-align: left;\">\n",
       "                    <tr>\n",
       "                        <td style=\"text-align: left;\">\n",
       "                            <strong>Comm: </strong> tcp://127.0.0.1:33287\n",
       "                        </td>\n",
       "                        <td style=\"text-align: left;\">\n",
       "                            <strong>Total threads: </strong> 2\n",
       "                        </td>\n",
       "                    </tr>\n",
       "                    <tr>\n",
       "                        <td style=\"text-align: left;\">\n",
       "                            <strong>Dashboard: </strong> <a href=\"http://127.0.0.1:33713/status\" target=\"_blank\">http://127.0.0.1:33713/status</a>\n",
       "                        </td>\n",
       "                        <td style=\"text-align: left;\">\n",
       "                            <strong>Memory: </strong> 4.00 GiB\n",
       "                        </td>\n",
       "                    </tr>\n",
       "                    <tr>\n",
       "                        <td style=\"text-align: left;\">\n",
       "                            <strong>Nanny: </strong> tcp://127.0.0.1:39985\n",
       "                        </td>\n",
       "                        <td style=\"text-align: left;\"></td>\n",
       "                    </tr>\n",
       "                    <tr>\n",
       "                        <td colspan=\"2\" style=\"text-align: left;\">\n",
       "                            <strong>Local directory: </strong> /tmp/dask-worker-space/worker-4sz73e35\n",
       "                        </td>\n",
       "                    </tr>\n",
       "\n",
       "                    \n",
       "\n",
       "                    \n",
       "\n",
       "                </table>\n",
       "            </details>\n",
       "            </div>\n",
       "        </div>\n",
       "        \n",
       "        <div style=\"margin-bottom: 20px;\">\n",
       "            <div style=\"width: 24px; height: 24px; background-color: #DBF5FF; border: 3px solid #4CC9FF; border-radius: 5px; position: absolute;\"> </div>\n",
       "            <div style=\"margin-left: 48px;\">\n",
       "            <details>\n",
       "                <summary>\n",
       "                    <h4 style=\"margin-bottom: 0px; display: inline;\">Worker: 1</h4>\n",
       "                </summary>\n",
       "                <table style=\"width: 100%; text-align: left;\">\n",
       "                    <tr>\n",
       "                        <td style=\"text-align: left;\">\n",
       "                            <strong>Comm: </strong> tcp://127.0.0.1:43385\n",
       "                        </td>\n",
       "                        <td style=\"text-align: left;\">\n",
       "                            <strong>Total threads: </strong> 2\n",
       "                        </td>\n",
       "                    </tr>\n",
       "                    <tr>\n",
       "                        <td style=\"text-align: left;\">\n",
       "                            <strong>Dashboard: </strong> <a href=\"http://127.0.0.1:36357/status\" target=\"_blank\">http://127.0.0.1:36357/status</a>\n",
       "                        </td>\n",
       "                        <td style=\"text-align: left;\">\n",
       "                            <strong>Memory: </strong> 4.00 GiB\n",
       "                        </td>\n",
       "                    </tr>\n",
       "                    <tr>\n",
       "                        <td style=\"text-align: left;\">\n",
       "                            <strong>Nanny: </strong> tcp://127.0.0.1:45903\n",
       "                        </td>\n",
       "                        <td style=\"text-align: left;\"></td>\n",
       "                    </tr>\n",
       "                    <tr>\n",
       "                        <td colspan=\"2\" style=\"text-align: left;\">\n",
       "                            <strong>Local directory: </strong> /tmp/dask-worker-space/worker-31gsmcz2\n",
       "                        </td>\n",
       "                    </tr>\n",
       "\n",
       "                    \n",
       "\n",
       "                    \n",
       "\n",
       "                </table>\n",
       "            </details>\n",
       "            </div>\n",
       "        </div>\n",
       "        \n",
       "        <div style=\"margin-bottom: 20px;\">\n",
       "            <div style=\"width: 24px; height: 24px; background-color: #DBF5FF; border: 3px solid #4CC9FF; border-radius: 5px; position: absolute;\"> </div>\n",
       "            <div style=\"margin-left: 48px;\">\n",
       "            <details>\n",
       "                <summary>\n",
       "                    <h4 style=\"margin-bottom: 0px; display: inline;\">Worker: 2</h4>\n",
       "                </summary>\n",
       "                <table style=\"width: 100%; text-align: left;\">\n",
       "                    <tr>\n",
       "                        <td style=\"text-align: left;\">\n",
       "                            <strong>Comm: </strong> tcp://127.0.0.1:40615\n",
       "                        </td>\n",
       "                        <td style=\"text-align: left;\">\n",
       "                            <strong>Total threads: </strong> 2\n",
       "                        </td>\n",
       "                    </tr>\n",
       "                    <tr>\n",
       "                        <td style=\"text-align: left;\">\n",
       "                            <strong>Dashboard: </strong> <a href=\"http://127.0.0.1:41709/status\" target=\"_blank\">http://127.0.0.1:41709/status</a>\n",
       "                        </td>\n",
       "                        <td style=\"text-align: left;\">\n",
       "                            <strong>Memory: </strong> 4.00 GiB\n",
       "                        </td>\n",
       "                    </tr>\n",
       "                    <tr>\n",
       "                        <td style=\"text-align: left;\">\n",
       "                            <strong>Nanny: </strong> tcp://127.0.0.1:44013\n",
       "                        </td>\n",
       "                        <td style=\"text-align: left;\"></td>\n",
       "                    </tr>\n",
       "                    <tr>\n",
       "                        <td colspan=\"2\" style=\"text-align: left;\">\n",
       "                            <strong>Local directory: </strong> /tmp/dask-worker-space/worker-c00lopzy\n",
       "                        </td>\n",
       "                    </tr>\n",
       "\n",
       "                    \n",
       "\n",
       "                    \n",
       "\n",
       "                </table>\n",
       "            </details>\n",
       "            </div>\n",
       "        </div>\n",
       "        \n",
       "        <div style=\"margin-bottom: 20px;\">\n",
       "            <div style=\"width: 24px; height: 24px; background-color: #DBF5FF; border: 3px solid #4CC9FF; border-radius: 5px; position: absolute;\"> </div>\n",
       "            <div style=\"margin-left: 48px;\">\n",
       "            <details>\n",
       "                <summary>\n",
       "                    <h4 style=\"margin-bottom: 0px; display: inline;\">Worker: 3</h4>\n",
       "                </summary>\n",
       "                <table style=\"width: 100%; text-align: left;\">\n",
       "                    <tr>\n",
       "                        <td style=\"text-align: left;\">\n",
       "                            <strong>Comm: </strong> tcp://127.0.0.1:38117\n",
       "                        </td>\n",
       "                        <td style=\"text-align: left;\">\n",
       "                            <strong>Total threads: </strong> 2\n",
       "                        </td>\n",
       "                    </tr>\n",
       "                    <tr>\n",
       "                        <td style=\"text-align: left;\">\n",
       "                            <strong>Dashboard: </strong> <a href=\"http://127.0.0.1:36013/status\" target=\"_blank\">http://127.0.0.1:36013/status</a>\n",
       "                        </td>\n",
       "                        <td style=\"text-align: left;\">\n",
       "                            <strong>Memory: </strong> 4.00 GiB\n",
       "                        </td>\n",
       "                    </tr>\n",
       "                    <tr>\n",
       "                        <td style=\"text-align: left;\">\n",
       "                            <strong>Nanny: </strong> tcp://127.0.0.1:41983\n",
       "                        </td>\n",
       "                        <td style=\"text-align: left;\"></td>\n",
       "                    </tr>\n",
       "                    <tr>\n",
       "                        <td colspan=\"2\" style=\"text-align: left;\">\n",
       "                            <strong>Local directory: </strong> /tmp/dask-worker-space/worker-r12ld_8v\n",
       "                        </td>\n",
       "                    </tr>\n",
       "\n",
       "                    \n",
       "\n",
       "                    \n",
       "\n",
       "                </table>\n",
       "            </details>\n",
       "            </div>\n",
       "        </div>\n",
       "        \n",
       "        <div style=\"margin-bottom: 20px;\">\n",
       "            <div style=\"width: 24px; height: 24px; background-color: #DBF5FF; border: 3px solid #4CC9FF; border-radius: 5px; position: absolute;\"> </div>\n",
       "            <div style=\"margin-left: 48px;\">\n",
       "            <details>\n",
       "                <summary>\n",
       "                    <h4 style=\"margin-bottom: 0px; display: inline;\">Worker: 4</h4>\n",
       "                </summary>\n",
       "                <table style=\"width: 100%; text-align: left;\">\n",
       "                    <tr>\n",
       "                        <td style=\"text-align: left;\">\n",
       "                            <strong>Comm: </strong> tcp://127.0.0.1:34213\n",
       "                        </td>\n",
       "                        <td style=\"text-align: left;\">\n",
       "                            <strong>Total threads: </strong> 2\n",
       "                        </td>\n",
       "                    </tr>\n",
       "                    <tr>\n",
       "                        <td style=\"text-align: left;\">\n",
       "                            <strong>Dashboard: </strong> <a href=\"http://127.0.0.1:38575/status\" target=\"_blank\">http://127.0.0.1:38575/status</a>\n",
       "                        </td>\n",
       "                        <td style=\"text-align: left;\">\n",
       "                            <strong>Memory: </strong> 4.00 GiB\n",
       "                        </td>\n",
       "                    </tr>\n",
       "                    <tr>\n",
       "                        <td style=\"text-align: left;\">\n",
       "                            <strong>Nanny: </strong> tcp://127.0.0.1:43537\n",
       "                        </td>\n",
       "                        <td style=\"text-align: left;\"></td>\n",
       "                    </tr>\n",
       "                    <tr>\n",
       "                        <td colspan=\"2\" style=\"text-align: left;\">\n",
       "                            <strong>Local directory: </strong> /tmp/dask-worker-space/worker-3_ddtqmq\n",
       "                        </td>\n",
       "                    </tr>\n",
       "\n",
       "                    \n",
       "\n",
       "                    \n",
       "\n",
       "                </table>\n",
       "            </details>\n",
       "            </div>\n",
       "        </div>\n",
       "        \n",
       "\n",
       "    </details>\n",
       "</div>\n",
       "\n",
       "        </details>\n",
       "    </div>\n",
       "</div>\n",
       "            </details>\n",
       "        \n",
       "\n",
       "    </div>\n",
       "</div>"
      ],
      "text/plain": [
       "<Client: 'tcp://127.0.0.1:35315' processes=5 threads=10, memory=20.00 GiB>"
      ]
     },
     "execution_count": 2,
     "metadata": {},
     "output_type": "execute_result"
    }
   ],
   "source": [
    "from dask.distributed import Client\n",
    "c = Client()\n",
    "c"
   ]
  },
  {
   "cell_type": "code",
   "execution_count": 3,
   "id": "e8cf29d8-3982-4d78-90ac-f710a18ba9e1",
   "metadata": {
    "tags": []
   },
   "outputs": [],
   "source": [
    "# read grid files\n",
    "diri=\"/gpfswork/rech/cli/rcli002/eORCA025.L75/eORCA025.L75-I/\"\n",
    "mesh = xr.open_dataset(diri+'mesh_hgr.nc').squeeze()\n",
    "tmask = mesh.tmask.isel(nav_lev=0) # grille lat/lon\n",
    "nav_lon = mesh['nav_lon']\n",
    "nav_lat = mesh['nav_lat']\n",
    "e1t = mesh['e1t']\n",
    "e2t = mesh['e2t']\n",
    "cellArea=e1t*e2t"
   ]
  },
  {
   "cell_type": "code",
   "execution_count": 4,
   "id": "589e47ee-1247-44b1-b7ac-b8e57fb7f5e1",
   "metadata": {
    "tags": []
   },
   "outputs": [],
   "source": [
    "path = \"/gpfsstore/rech/cli/rcli002/eORCA025.L75/eORCA025.L75-I\"\n",
    "chunk_size = {\"time_counter\":1}"
   ]
  },
  {
   "cell_type": "code",
   "execution_count": 5,
   "id": "4edca7c7-9fed-4884-b0f7-c2ba3d6a54a9",
   "metadata": {
    "tags": []
   },
   "outputs": [],
   "source": [
    "# greenland runoff\n",
    "dsrnf = xr.open_mfdataset(path+\"/eORCA025.L75_1m_greenland_rnfbis_y*.nc\", chunks=chunk_size).sel(time_counter=slice('1980','2018'))\n",
    "rnfmask = dsrnf.socoefr\n",
    "gr_rnf = dsrnf.sorunoff\n",
    "\n",
    "maskrnf = xr.where(rnfmask[0]!=0,1,0)"
   ]
  },
  {
   "cell_type": "code",
   "execution_count": 6,
   "id": "99e759b8-de23-4e13-b7bd-aae0a3017d90",
   "metadata": {
    "tags": []
   },
   "outputs": [],
   "source": [
    "# greenland isf\n",
    "dsisf = xr.open_mfdataset(path+\"/eORCA025.L75_1m_greenland_isfbis_y*.nc\", chunks=chunk_size).sel(time_counter=slice('1980','2018'))\n",
    "sornfisf = dsisf.sornfisf\n",
    "\n",
    "sumisf = sornfisf.sum('time_counter')\n",
    "maskisf = xr.where(sumisf!=0,1,0)\n"
   ]
  },
  {
   "cell_type": "code",
   "execution_count": 7,
   "id": "c5e7fa34-417c-4a97-b4d1-d7eb13d66246",
   "metadata": {
    "tags": []
   },
   "outputs": [],
   "source": [
    "dsicb = xr.open_mfdataset(path+\"/eORCA025.L75_1m_greenland_calvingbis_y*.nc\", chunks=chunk_size).sel(time_counter=slice('1980','2018'))\n",
    "soicbclv = dsicb.soicbclv\n",
    "\n",
    "sumicb = soicbclv.sum('time_counter')\n",
    "maskixccb = xr.where(sumicb!=0,1,0)\n"
   ]
  },
  {
   "cell_type": "code",
   "execution_count": 8,
   "id": "7587a771-a4e9-482a-962d-98d036ddedf2",
   "metadata": {},
   "outputs": [],
   "source": [
    "# combinbaison des masks"
   ]
  },
  {
   "cell_type": "code",
   "execution_count": 9,
   "id": "25a77e64-f68e-4681-a81c-19d6fb38587b",
   "metadata": {
    "tags": []
   },
   "outputs": [],
   "source": [
    "masktot = maskixccb + maskisf + maskrnf"
   ]
  },
  {
   "cell_type": "code",
   "execution_count": 10,
   "id": "01a37a0a-e5d6-47d9-9197-77d02f611b12",
   "metadata": {
    "tags": []
   },
   "outputs": [],
   "source": [
    "maskrns_isf = maskisf + maskrnf"
   ]
  },
  {
   "cell_type": "code",
   "execution_count": 11,
   "id": "ffa1a1f8-301d-40f7-8a78-9831df0de846",
   "metadata": {
    "tags": []
   },
   "outputs": [],
   "source": [
    "maskisf_icb = maskixccb + maskisf"
   ]
  },
  {
   "cell_type": "code",
   "execution_count": 12,
   "id": "f1bcb481-300e-4d98-852f-4456d8385eb8",
   "metadata": {
    "tags": []
   },
   "outputs": [],
   "source": [
    "maskicb_rnf = maskixccb  + maskrnf"
   ]
  },
  {
   "cell_type": "code",
   "execution_count": 13,
   "id": "2c3d331f-c35c-4e9a-aac5-9e4306467de9",
   "metadata": {
    "tags": []
   },
   "outputs": [],
   "source": [
    "# préparation du masque final\n",
    "typesmask3 = xr.where(masktot==3,1,0) # points ou on a les 3; plot : masktot.where(masktot==3)\n",
    "# points ou on a les 2; plot : masktot.where(masktot==2)\n",
    "# points ou on a  1; plot : masktot.where(masktot==1) c'est que du rnf"
   ]
  },
  {
   "cell_type": "code",
   "execution_count": 14,
   "id": "96f3f262-65eb-436b-b44d-08db0fbd1952",
   "metadata": {
    "tags": []
   },
   "outputs": [],
   "source": [
    "# point ou on a que 2 type de sources; (tous sont du style icb+rnf)\n",
    "masktot2 = masktot.where(masktot==2)\n",
    "maskicb_rnf2 = maskicb_rnf.where(maskicb_rnf==2)\n",
    "mask_only_rnf_icb = masktot2 + maskicb_rnf2"
   ]
  },
  {
   "cell_type": "code",
   "execution_count": 15,
   "id": "03ff1990-8ea1-499d-9b7a-6486d6b35536",
   "metadata": {
    "tags": []
   },
   "outputs": [],
   "source": [
    "# point ou on a que 1 type de sources;\n",
    "masktot1 = masktot.where(masktot==1)\n",
    "maskrnf1 = maskrnf.where(maskrnf==1)\n",
    "maskisf1 = maskisf.where(maskisf==1)\n",
    "maskixccb1 = maskixccb.where(maskixccb==1)\n",
    "\n",
    "mask_only_rnf = masktot1 + maskrnf1 # 38 pt\n",
    "mask_only_isf = masktot1 + maskisf1# 0 pt\n",
    "mask_only_icb = masktot1 + maskixccb1 # 0 pt"
   ]
  },
  {
   "cell_type": "code",
   "execution_count": 16,
   "id": "2953434d-3c31-4d2a-82df-efe3abeafe39",
   "metadata": {
    "tags": []
   },
   "outputs": [
    {
     "data": {
      "text/plain": [
       "<matplotlib.collections.QuadMesh at 0x14b405921cd0>"
      ]
     },
     "execution_count": 16,
     "metadata": {},
     "output_type": "execute_result"
    },
    {
     "data": {
      "image/png": "[encoded data removed]",
      "text/plain": [
       "<Figure size 432x288 with 2 Axes>"
      ]
     },
     "metadata": {
      "needs_background": "light"
     },
     "output_type": "display_data"
    }
   ],
   "source": [
    "masktot.where(masktot!=0,drop=True).plot()"
   ]
  },
  {
   "cell_type": "code",
   "execution_count": 17,
   "id": "1912a82c-1bba-4968-8de7-e44a36ec18d4",
   "metadata": {},
   "outputs": [],
   "source": [
    "# they have all characteristicsc\n",
    "#sizearray = xr.DataArray(data=8* np.ones(( 1207, 1442)),dims=[\"y\", \"x\"],)\n",
    "# markersizelmasks = sizearray.where(masktot==3)\n"
   ]
  },
  {
   "cell_type": "code",
   "execution_count": 18,
   "id": "ba851a30-794d-46e2-a3b5-043a2d7eaed3",
   "metadata": {
    "tags": []
   },
   "outputs": [],
   "source": [
    "dep_gr = xr.open_dataset(diri+'eORCA025.L75_y1950-2020_1m_greenland_isfbis.nc')\n",
    "dep_gr_min = dep_gr.sozisfmin\n",
    "dep_gr_max = dep_gr.sozisfmax"
   ]
  },
  {
   "cell_type": "markdown",
   "id": "dcbb2cb6-4008-445d-ae54-ac5448403edd",
   "metadata": {},
   "source": [
    "# PLOT"
   ]
  },
  {
   "cell_type": "code",
   "execution_count": 19,
   "id": "3e982699-0b27-48ec-a7f4-b91011f47fcb",
   "metadata": {
    "tags": []
   },
   "outputs": [],
   "source": [
    "#vue polaire\n",
    "loncentr=320 \n",
    "latcentr=70\n",
    "sath=2085831"
   ]
  },
  {
   "cell_type": "code",
   "execution_count": 20,
   "id": "cb75fc5b-e27c-48ec-bf47-bb310a81bccd",
   "metadata": {
    "tags": []
   },
   "outputs": [
    {
     "name": "stdout",
     "output_type": "stream",
     "text": [
      "figS1.png\n"
     ]
    },
    {
     "name": "stderr",
     "output_type": "stream",
     "text": [
      "/gpfslocalsup/pub/anaconda-py3/2020.11/envs/climate_science/lib/python3.9/site-packages/cartopy/mpl/geoaxes.py:1597: UserWarning: The input coordinates to pcolormesh are interpreted as cell centers, but are not monotonically increasing or decreasing. This may lead to incorrectly calculated cell edges, in which case, please supply explicit cell edges to pcolormesh.\n",
      "  X, Y, C, shading = self._pcolorargs('pcolormesh', *args,\n",
      "/gpfslocalsup/pub/anaconda-py3/2020.11/envs/climate_science/lib/python3.9/site-packages/cartopy/mpl/geoaxes.py:1597: UserWarning: The input coordinates to pcolormesh are interpreted as cell centers, but are not monotonically increasing or decreasing. This may lead to incorrectly calculated cell edges, in which case, please supply explicit cell edges to pcolormesh.\n",
      "  X, Y, C, shading = self._pcolorargs('pcolormesh', *args,\n"
     ]
    }
   ],
   "source": [
    "#========= CREATE FIGURE\n",
    "diro = \"/gpfsscratch/rech/cli/uor98hu/PLOTS/\"\n",
    "namo  =\"figS1.png\"\n",
    "print(namo)\n",
    "#===========================================\n",
    "trdata  = ccrs.PlateCarree() # Data system proj (if coords are in lat lon, use PlateCarre here)\n",
    "proj = ccrs.NearsidePerspective(central_longitude=loncentr, central_latitude=latcentr,satellite_height=sath)\n",
    "extent = [-57,-25,58,84] # (x0, x1, y0, y1)\n",
    "\n",
    "#========= stylme de freshwater discharge\n",
    "\n",
    "fig, (axa,axb) = plt.subplots(1, 2,figsize=(18,10),facecolor='none', dpi=72*2,subplot_kw={'projection': proj})\n",
    "plt.subplots_adjust(wspace=0, hspace=0.1)\n",
    "\n",
    "axa.set_extent(extent)\n",
    "\n",
    "cl2 = axa.add_feature(cfeature.LAND.with_scale('50m'),facecolor=\"none\",edgecolor='k',alpha=1, zorder=5, linewidth=0.5)\n",
    "\n",
    "axa.pcolormesh(nav_lon, nav_lat, masktot.where(masktot!=0), transform=trdata, cmap='viridis') # markersizelmasks.T) #where(dep_gr_max!=0)\n",
    "\n",
    "\n",
    "#========= DEPTH GLACIERS\n",
    "\n",
    "axb.set_extent(extent)\n",
    "\n",
    "cl2 = axb.add_feature(cfeature.LAND.with_scale('50m'),facecolor=\"none\",edgecolor='k',alpha=1, zorder=5, linewidth=0.5)\n",
    "\n",
    "cs = axb.pcolormesh(nav_lon, nav_lat, dep_gr_max.where(dep_gr_max!=0),cmap =cm.Reds, transform=trdata)\n",
    "              \n",
    "cbar = fig.colorbar(cs)\n",
    "cbar.ax.tick_params(labelsize=14)\n",
    "cbar.set_label(r'Depth of the grounding line [$m$]', fontsize=20)\n",
    "\n",
    "\n",
    "axa.text(-0.035, 0.98, 'a)', fontsize=24, horizontalalignment='center', verticalalignment='center', transform=axa.transAxes)\n",
    "axb.text(-0.035, 0.98, 'b)', fontsize=24, horizontalalignment='center', verticalalignment='center', transform=axb.transAxes)\n",
    "\n",
    "# plt.show()\n",
    "# fig.savefig(diro+namo, facecolor=fig.get_facecolor(), bbox_inches='tight') #,edgecolor='none', \n",
    "\n",
    "fig.savefig(diro+namo, facecolor=fig.get_facecolor(), bbox_inches='tight',edgecolor='none') \n",
    "plt.close(fig)"
   ]
  },
  {
   "cell_type": "code",
   "execution_count": null,
   "id": "b31ad279-d037-41cb-991f-6100a9d675de",
   "metadata": {},
   "outputs": [],
   "source": []
  },
  {
   "cell_type": "code",
   "execution_count": null,
   "id": "1411f25b-947c-41f3-a50d-d754da156fc0",
   "metadata": {
    "tags": []
   },
   "outputs": [],
   "source": []
  },
  {
   "cell_type": "code",
   "execution_count": null,
   "id": "8e762e64-6b22-455e-ad99-55f97f9fcefe",
   "metadata": {},
   "outputs": [],
   "source": []
  },
  {
   "cell_type": "code",
   "execution_count": null,
   "id": "eff9ac13-363c-49f9-8233-d4b978a204e0",
   "metadata": {},
   "outputs": [],
   "source": []
  }
 ],
 "metadata": {
  "kernelspec": {
   "display_name": "climate_science",
   "language": "python",
   "name": "module-conda-env-climate_science"
  },
  "language_info": {
   "codemirror_mode": {
    "name": "ipython",
    "version": 3
   },
   "file_extension": ".py",
   "mimetype": "text/x-python",
   "name": "python",
   "nbconvert_exporter": "python",
   "pygments_lexer": "ipython3",
   "version": "3.9.1"
  }
 },
 "nbformat": 4,
 "nbformat_minor": 5
}
