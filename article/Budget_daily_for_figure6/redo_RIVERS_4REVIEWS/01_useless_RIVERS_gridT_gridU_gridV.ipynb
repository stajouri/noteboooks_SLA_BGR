{
 "cells": [
  {
   "cell_type": "raw",
   "id": "b02b32a4-1d88-414f-b034-9b8048a65a3f",
   "metadata": {},
   "source": [
    "AIM : I used this notebook to compute the gridT, gridU and gridV files en 1d pour GAI-AI. We keep the nomenclature of NEMO."
   ]
  },
  {
   "cell_type": "code",
   "execution_count": 1,
   "id": "f1870329-d779-4822-abd8-bd2d076aa97e",
   "metadata": {
    "tags": []
   },
   "outputs": [
    {
     "data": {
      "text/html": [
       "<table style=\"border: 2px solid white;\">\n",
       "<tr>\n",
       "<td style=\"vertical-align: top; border: 0px solid white\">\n",
       "<h3 style=\"text-align: left;\">Client</h3>\n",
       "<ul style=\"text-align: left; list-style: none; margin: 0; padding: 0;\">\n",
       "  <li><b>Scheduler: </b>tcp://127.0.0.1:34521</li>\n",
       "  <li><b>Dashboard: </b><a href='http://127.0.0.1:8787/status' target='_blank'>http://127.0.0.1:8787/status</a></li>\n",
       "</ul>\n",
       "</td>\n",
       "<td style=\"vertical-align: top; border: 0px solid white\">\n",
       "<h3 style=\"text-align: left;\">Cluster</h3>\n",
       "<ul style=\"text-align: left; list-style:none; margin: 0; padding: 0;\">\n",
       "  <li><b>Workers: </b>5</li>\n",
       "  <li><b>Cores: </b>10</li>\n",
       "  <li><b>Memory: </b>322.12 GB</li>\n",
       "</ul>\n",
       "</td>\n",
       "</tr>\n",
       "</table>"
      ],
      "text/plain": [
       "<Client: 'tcp://127.0.0.1:34521' processes=5 threads=10, memory=322.12 GB>"
      ]
     },
     "execution_count": 1,
     "metadata": {},
     "output_type": "execute_result"
    }
   ],
   "source": [
    "import os,sys\n",
    "import numpy as np\n",
    "# xarray\n",
    "import xarray as xr\n",
    "\n",
    "import multiprocessing.popen_spawn_posix\n",
    "from distributed import Client\n",
    "# from dask.distributed import Client\n",
    "c = Client()\n",
    "c"
   ]
  },
  {
   "cell_type": "code",
   "execution_count": 2,
   "id": "7924a4db-4e9c-4e1d-b126-a3eddf6bfc79",
   "metadata": {
    "tags": []
   },
   "outputs": [],
   "source": [
    "prefix = \"eORCA025.L75-IMHOTEP\"\n",
    "fo=\"1d\" \n",
    "decomposition = \"GREENLAND\"\n",
    "diridat=\"/gpfsstore/rech/cli/rcli002/eORCA025.L75/\"+prefix+\".\"\n",
    "diro = \"/gpfsscratch/rech/cli/uor98hu/Bilans_4_fig6/\"+decomposition+\"/\"\n",
    "\n",
    "chunk_size = {\"time_counter\":10,\"x\":200,\"y\":320}"
   ]
  },
  {
   "cell_type": "code",
   "execution_count": null,
   "id": "5490c6dc-ed4d-4c30-930b-1c1dcd1974db",
   "metadata": {
    "tags": []
   },
   "outputs": [
    {
     "name": "stdout",
     "output_type": "stream",
     "text": [
      "1980\n",
      "saving gridT\n"
     ]
    }
   ],
   "source": [
    "%%time\n",
    "for year in np.arange(1980,1981):\n",
    "    y1 = str(year)\n",
    "    print(y1)\n",
    "    # create directory for the year\n",
    "    diroyear = y1+\"-concat\"\n",
    "    diropath = os.path.join(diro, diroyear)\n",
    "    # os.mkdir(diropath)\n",
    "    i = 0\n",
    "    for month in ['01']: #,'02','03','04','05','06','07','08','09','10','11','12']: # \n",
    "        # print(\"month\",month)\n",
    "\n",
    "        ######## ---------- load GAI\n",
    "        nexp1 = \"GAI\"\n",
    "        # print(nexp)\n",
    "\n",
    "        fileT_exp1 = diridat+nexp1+\"-S/\"+\"/1d/\"+y1+\"-concat\"+\"/\"+prefix+\".\"+nexp1+\"_y\"+y1+\"m\"+month+\"_1d_gridT.nc\"\n",
    "        fileU_exp1 = diridat+nexp1+\"-S/\"+\"/1d/\"+y1+\"-concat\"+\"/\"+prefix+\".\"+nexp1+\"_y\"+y1+\"m\"+month+\"_1d_gridU.nc\"\n",
    "        fileV_exp1 = diridat+nexp1+\"-S/\"+\"/1d/\"+y1+\"-concat\"+\"/\"+prefix+\".\"+nexp1+\"_y\"+y1+\"m\"+month+\"_1d_gridV.nc\"\n",
    "        \n",
    "        gridT_exp1 = xr.open_dataset(fileT_exp1,chunks = chunk_size).squeeze()\n",
    "        gridU_exp1 = xr.open_dataset(fileU_exp1,chunks = chunk_size).squeeze()\n",
    "        gridV_exp1 = xr.open_dataset(fileV_exp1,chunks = chunk_size).squeeze()\n",
    "\n",
    "        S_exp1 = gridT_exp1.vosaline\n",
    "        U_exp1 = gridU_exp1.vozocrtx\n",
    "        V_exp1 = gridV_exp1.vomecrty\n",
    "    \n",
    "        ######## ---------- load AI\n",
    "        nexp2 = \"AI\"\n",
    "        # print(nexp)\n",
    "\n",
    "        fileT_exp2 = diridat+nexp2+\"-S/\"+\"/1d/\"+y1+\"-concat\"+\"/\"+prefix+\".\"+nexp2+\"_y\"+y1+\"m\"+month+\"_1d_gridT.nc\"\n",
    "        fileU_exp2 = diridat+nexp2+\"-S/\"+\"/1d/\"+y1+\"-concat\"+\"/\"+prefix+\".\"+nexp2+\"_y\"+y1+\"m\"+month+\"_1d_gridU.nc\"\n",
    "        fileV_exp2 = diridat+nexp2+\"-S/\"+\"/1d/\"+y1+\"-concat\"+\"/\"+prefix+\".\"+nexp2+\"_y\"+y1+\"m\"+month+\"_1d_gridV.nc\"\n",
    "        \n",
    "        gridT_exp2 = xr.open_dataset(fileT_exp2,chunks = chunk_size).squeeze()\n",
    "        # gridU_exp2 = xr.open_dataset(fileU_exp2,chunks = chunk_size).squeeze()\n",
    "        # gridV_exp2 = xr.open_dataset(fileV_exp2,chunks = chunk_size).squeeze()\n",
    "\n",
    "        S_exp2 = gridT_exp2.vosaline\n",
    "#         U_exp2 = gridU_exp2.vozocrtx\n",
    "#         V_exp2 = gridV_exp2.vomecrty\n",
    "        \n",
    "        ####### --------------- compute Greenland's terms\n",
    "        S_G = S_exp1 - S_exp2\n",
    "        # U_G = U_exp1 - U_exp2\n",
    "        # V_G = V_exp1 - V_exp2\n",
    "        \n",
    "        ####### ------------- assign the new variables to the dataset\n",
    "        # gridT_exp1_changed = gridT_exp1.assign(vosaline=S_G)\n",
    "        gridT_exp1_changed = gridT_exp1.copy(data={\"vosaline\": S_G, 'votemper':gridT_exp1.votemper, 'time_counter_bounds':gridT_exp1.time_counter_bounds,\\\n",
    "                                                   'deptht_bounds':gridT_exp1.deptht_bounds, 'time_centered_bounds':gridT_exp1.time_centered_bounds, 'e3t':gridT_exp1.e3t})\n",
    "        # gridU_exp1_changed = gridU_exp1.assign(vozocrtx=U_G)\n",
    "        # gridV_exp1_changed = gridV_exp1.assign(vomecrty=V_G)\n",
    "        \n",
    "        print(\"saving gridT\")\n",
    "        # gridT_exp1_changed.to_netcdf(diropath+\"/eORCA025.L75-IMHOTEP.\"+decomposition+\"_y\"+y1+\"m\"+month+\"_1d_gridT.nc\", mode='w')\n",
    "        gridT_exp1_changed.to_netcdf(diropath+\"/eORCA025.L75-IMHOTEP.\"+decomposition+\"_y\"+y1+\"m\"+month+\"_1d_gridT_v2.nc\", mode='w')\n",
    "\n",
    "        # print(\"saving gridU\")\n",
    "        # gridU_exp1_changed.to_netcdf(diropath+\"/eORCA025.L75-IMHOTEP.\"+decomposition+\"_y\"+y1+\"m\"+month+\"_1d_gridU.nc\", mode='w')\n",
    "        # print(\"saving gridV\")\n",
    "        # gridV_exp1_changed.to_netcdf(diropath+\"/eORCA025.L75-IMHOTEP.\"+decomposition+\"_y\"+y1+\"m\"+month+\"_1d_gridV.nc\", mode='w')\n"
   ]
  },
  {
   "cell_type": "code",
   "execution_count": 13,
   "id": "9ba44860-5d37-4ef6-b7ac-7830831bcfaa",
   "metadata": {
    "tags": []
   },
   "outputs": [
    {
     "data": {
      "text/plain": [
       "array(1.02393591)"
      ]
     },
     "execution_count": 13,
     "metadata": {},
     "output_type": "execute_result"
    }
   ],
   "source": [
    "gridT_exp1.e3t[0,0,500,500].values"
   ]
  },
  {
   "cell_type": "code",
   "execution_count": 14,
   "id": "a931e17a-d1e4-40ee-affd-f4b84fac6257",
   "metadata": {
    "tags": []
   },
   "outputs": [
    {
     "data": {
      "text/plain": [
       "array(1.02393591)"
      ]
     },
     "execution_count": 14,
     "metadata": {},
     "output_type": "execute_result"
    }
   ],
   "source": [
    "xr.open_dataset(diropath+\"/eORCA025.L75-IMHOTEP.\"+decomposition+\"_y\"+y1+\"m\"+month+\"_1d_gridT.nc\").e3t[0,0,500,500].values\n"
   ]
  },
  {
   "cell_type": "code",
   "execution_count": null,
   "id": "e6fcca07-3405-4392-b43a-ab8dc8d24e66",
   "metadata": {},
   "outputs": [],
   "source": []
  }
 ],
 "metadata": {
  "kernelspec": {
   "display_name": "climate_science",
   "language": "python",
   "name": "module-conda-env-climate_science"
  },
  "language_info": {
   "codemirror_mode": {
    "name": "ipython",
    "version": 3
   },
   "file_extension": ".py",
   "mimetype": "text/x-python",
   "name": "python",
   "nbconvert_exporter": "python",
   "pygments_lexer": "ipython3",
   "version": "3.9.1"
  }
 },
 "nbformat": 4,
 "nbformat_minor": 5
}
