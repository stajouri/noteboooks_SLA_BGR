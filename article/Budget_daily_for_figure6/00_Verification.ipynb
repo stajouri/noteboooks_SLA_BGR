{
 "cells": [
  {
   "cell_type": "markdown",
   "id": "0b3c470a-1518-4fd0-8160-61f053d9f480",
   "metadata": {},
   "source": [
    "Aim: check the approximations doen to perform the decompostion of the horizontal advection"
   ]
  },
  {
   "cell_type": "code",
   "execution_count": 1,
   "id": "f3d04c05-f74f-4707-96bb-f069252c68fe",
   "metadata": {},
   "outputs": [],
   "source": [
    "import os,sys\n",
    "import numpy as np\n",
    "# xarray\n",
    "import xarray as xr\n",
    "\n",
    "from dask.distributed import Client\n",
    "c = Client()\n"
   ]
  },
  {
   "cell_type": "code",
   "execution_count": 31,
   "id": "dcc7c132-0df5-42a3-bce1-3924ad1ab5de",
   "metadata": {},
   "outputs": [],
   "source": [
    "# ------------------------\n",
    "# loading data\n",
    "# ------------------------\n",
    "chunk_size = {\"x\":500,\"y\":500}\n",
    "prefix = \"eORCA025.L75-IMHOTEP\"\n",
    "fo=\"1d\" # frequency used\n",
    "year =\"1999\" \n",
    "maskBG = xr.open_dataset('/gpfswork/rech/cli/uor98hu/MYDATA/TRANSPORT_WP1/polymask2.nc',chunks=chunk_size).polymask.squeeze()\n",
    "\n",
    "nexp=\"GAI\"\n",
    "diridatref=\"/gpfsstore/rech/cli/rcli002/eORCA025.L75/\"+prefix+\".\"+nexp+\"-S/\"\n",
    "listUfiles=diridatref+\"1d/\"+year+\"-concat/*1d_gridU.nc\"\n",
    "listVfiles=diridatref+\"1d/\"+year+\"-concat/*1d_gridV.nc\"\n",
    "listTfiles=diridatref+\"1d/\"+year+\"-concat/*1d_gridT.nc\"\n",
    "\n",
    "GAI_U_ds= xr.open_mfdataset(listUfiles, chunks=chunk_size,parallel=True)\n",
    "GAI_V_ds = xr.open_mfdataset(listVfiles, chunks=chunk_size,parallel=True)\n",
    "GAI_T_ds = xr.open_mfdataset(listTfiles, chunks=chunk_size,parallel=True)\n",
    "\n",
    "nexp=\"AI\"\n",
    "diridatref=\"/gpfsstore/rech/cli/rcli002/eORCA025.L75/\"+prefix+\".\"+nexp+\"-S/\"\n",
    "listUfiles=diridatref+\"1d/\"+year+\"-concat/*1d_gridU.nc\"\n",
    "listVfiles=diridatref+\"1d/\"+year+\"-concat/*1d_gridV.nc\"\n",
    "listTfiles=diridatref+\"1d/\"+year+\"-concat/*1d_gridT.nc\"\n",
    "\n",
    "AI_U_ds= xr.open_mfdataset(listUfiles, chunks=chunk_size,parallel=True)\n",
    "AI_V_ds = xr.open_mfdataset(listVfiles, chunks=chunk_size,parallel=True)\n",
    "AI_T_ds = xr.open_mfdataset(listTfiles, chunks=chunk_size,parallel=True)"
   ]
  },
  {
   "cell_type": "code",
   "execution_count": 39,
   "id": "91021dcc-8a7f-416c-b9c3-e53e6dfa71b1",
   "metadata": {},
   "outputs": [],
   "source": [
    "# vérivication de facteurs d'échelle\n",
    "GAI_e3u = GAI_U_ds.e3u.where(maskBG,drop=True)\n",
    "GAI_e3v = GAI_V_ds.e3v.where(maskBG,drop=True)\n",
    "AI_e3u = AI_U_ds.e3u.where(maskBG,drop=True)\n",
    "AI_e3v = AI_V_ds.e3v.where(maskBG,drop=True)\n",
    "GAI_e3t = GAI_T_ds.e3t.where(maskBG,drop=True)\n",
    "AI_e3t = AI_T_ds.e3t.where(maskBG,drop=True)"
   ]
  },
  {
   "cell_type": "code",
   "execution_count": 40,
   "id": "bf7a980d-18de-4470-94dc-6571eb22f052",
   "metadata": {},
   "outputs": [],
   "source": [
    "diff_e3u = GAI_e3u - AI_e3u\n",
    "diff_e3v = GAI_e3v - AI_e3v\n",
    "diff_e3t = GAI_e3t - AI_e3t"
   ]
  },
  {
   "cell_type": "code",
   "execution_count": 51,
   "id": "5466c6ba-519c-4881-902b-ac33b5e25f91",
   "metadata": {},
   "outputs": [],
   "source": []
  },
  {
   "cell_type": "code",
   "execution_count": 42,
   "id": "c86b1d90-ae77-4857-b224-9042013b9d13",
   "metadata": {},
   "outputs": [],
   "source": [
    "diff_e3u = diff_e3u.compute()"
   ]
  },
  {
   "cell_type": "code",
   "execution_count": 43,
   "id": "6ca35769-10d6-43d3-924c-b8ee15a58036",
   "metadata": {},
   "outputs": [
    {
     "data": {
      "text/plain": [
       "array(0.00254822, dtype=float32)"
      ]
     },
     "execution_count": 43,
     "metadata": {},
     "output_type": "execute_result"
    }
   ],
   "source": [
    "diff_e3u.max().values"
   ]
  },
  {
   "cell_type": "code",
   "execution_count": 44,
   "id": "60583390-0942-4b28-88c5-cc5c79cc1e13",
   "metadata": {},
   "outputs": [
    {
     "data": {
      "text/plain": [
       "(array([1.1440000e+03, 2.0066000e+04, 1.0781400e+05, 5.8495100e+05,\n",
       "        1.6429750e+06, 2.9097540e+06, 1.9486572e+07, 9.8266200e+05,\n",
       "        1.2114400e+05, 1.2293000e+04]),\n",
       " array([-5.7373047e-03, -4.9087526e-03, -4.0802001e-03, -3.2516480e-03,\n",
       "        -2.4230957e-03, -1.5945435e-03, -7.6599122e-04,  6.2561034e-05,\n",
       "         8.9111330e-04,  1.7196655e-03,  2.5482178e-03], dtype=float32),\n",
       " <BarContainer object of 10 artists>)"
      ]
     },
     "execution_count": 44,
     "metadata": {},
     "output_type": "execute_result"
    },
    {
     "data": {
      "image/png": "[encoded data removed]",
      "text/plain": [
       "<Figure size 432x288 with 1 Axes>"
      ]
     },
     "metadata": {
      "needs_background": "light"
     },
     "output_type": "display_data"
    }
   ],
   "source": [
    "diff_e3u.plot.hist()"
   ]
  },
  {
   "cell_type": "code",
   "execution_count": 46,
   "id": "69c65ef3-ffcc-4fcd-baa7-091f0e6eb03a",
   "metadata": {},
   "outputs": [],
   "source": [
    "diff_e3v = diff_e3v.compute()"
   ]
  },
  {
   "cell_type": "code",
   "execution_count": 47,
   "id": "b8b0c31d-674a-4830-82a3-1f5402e21348",
   "metadata": {},
   "outputs": [
    {
     "data": {
      "text/plain": [
       "array(0.00254822, dtype=float32)"
      ]
     },
     "execution_count": 47,
     "metadata": {},
     "output_type": "execute_result"
    }
   ],
   "source": [
    "diff_e3v.max().values"
   ]
  },
  {
   "cell_type": "code",
   "execution_count": 48,
   "id": "c629a84b-b270-4502-b1f3-927b1f68c7b4",
   "metadata": {},
   "outputs": [
    {
     "data": {
      "text/plain": [
       "(array([1.1850000e+03, 2.0755000e+04, 1.1051100e+05, 5.7745000e+05,\n",
       "        1.6319130e+06, 2.8902340e+06, 1.9456439e+07, 1.0383630e+06,\n",
       "        1.2976500e+05, 1.2760000e+04]),\n",
       " array([-5.7220459e-03, -4.8950193e-03, -4.0679933e-03, -3.2409667e-03,\n",
       "        -2.4139404e-03, -1.5869141e-03, -7.5988768e-04,  6.7138673e-05,\n",
       "         8.9416502e-04,  1.7211915e-03,  2.5482178e-03], dtype=float32),\n",
       " <BarContainer object of 10 artists>)"
      ]
     },
     "execution_count": 48,
     "metadata": {},
     "output_type": "execute_result"
    },
    {
     "data": {
      "image/png": "[encoded data removed]",
      "text/plain": [
       "<Figure size 432x288 with 1 Axes>"
      ]
     },
     "metadata": {
      "needs_background": "light"
     },
     "output_type": "display_data"
    }
   ],
   "source": [
    "diff_e3v.plot.hist()"
   ]
  },
  {
   "cell_type": "code",
   "execution_count": 57,
   "id": "e11ad64c-e503-42d3-a367-a2bb3a9b11c8",
   "metadata": {},
   "outputs": [],
   "source": [
    "diff_e3t = diff_e3t.compute()"
   ]
  },
  {
   "cell_type": "code",
   "execution_count": 58,
   "id": "3c7a127a-bee0-47e7-af2f-ef7a12478daa",
   "metadata": {},
   "outputs": [
    {
     "data": {
      "text/plain": [
       "array(0.00256348, dtype=float32)"
      ]
     },
     "execution_count": 58,
     "metadata": {},
     "output_type": "execute_result"
    }
   ],
   "source": [
    "diff_e3t.max().values"
   ]
  },
  {
   "cell_type": "code",
   "execution_count": 59,
   "id": "43e57a06-fd18-436a-b665-383a884a3a62",
   "metadata": {},
   "outputs": [
    {
     "data": {
      "text/plain": [
       "(array([9.7100000e+02, 1.8702000e+04, 1.0287700e+05, 5.5373000e+05,\n",
       "        1.5958380e+06, 2.8820670e+06, 1.9503575e+07, 1.0750170e+06,\n",
       "        1.2512100e+05, 1.1477000e+04]),\n",
       " array([-5.7983398e-03, -4.9621584e-03, -4.1259765e-03, -3.2897950e-03,\n",
       "        -2.4536133e-03, -1.6174316e-03, -7.8125001e-04,  5.4931639e-05,\n",
       "         8.9111330e-04,  1.7272949e-03,  2.5634766e-03], dtype=float32),\n",
       " <BarContainer object of 10 artists>)"
      ]
     },
     "execution_count": 59,
     "metadata": {},
     "output_type": "execute_result"
    },
    {
     "data": {
      "image/png": "[encoded data removed]",
      "text/plain": [
       "<Figure size 432x288 with 1 Axes>"
      ]
     },
     "metadata": {
      "needs_background": "light"
     },
     "output_type": "display_data"
    }
   ],
   "source": [
    "diff_e3t.plot.hist()"
   ]
  },
  {
   "cell_type": "code",
   "execution_count": 61,
   "id": "256be97c-1c1e-4054-99ea-85043ddbd6a5",
   "metadata": {},
   "outputs": [
    {
     "data": {
      "text/plain": [
       "(array([10692675.,  2092180.,  1413280.,  1081495.,  1104489.,   758836.,\n",
       "         1115805.,  1159605.,  1886252.,  4564758.]),\n",
       " array([  1.0237161,  21.296421 ,  41.569126 ,  61.84183  ,  82.11453  ,\n",
       "        102.38724  , 122.65994  , 142.93265  , 163.20535  , 183.47806  ,\n",
       "        203.75076  ], dtype=float32),\n",
       " <BarContainer object of 10 artists>)"
      ]
     },
     "execution_count": 61,
     "metadata": {},
     "output_type": "execute_result"
    },
    {
     "data": {
      "image/png": "[encoded data removed]",
      "text/plain": [
       "<Figure size 432x288 with 1 Axes>"
      ]
     },
     "metadata": {
      "needs_background": "light"
     },
     "output_type": "display_data"
    }
   ],
   "source": [
    "GAI_e3t.plot.hist()"
   ]
  },
  {
   "cell_type": "markdown",
   "id": "505aa202-8f17-4ed4-aeb8-9d2f2f38bec7",
   "metadata": {},
   "source": [
    "# calcul de Ug"
   ]
  },
  {
   "cell_type": "code",
   "execution_count": 56,
   "id": "b67f29cf-c3c8-4cb2-88c0-703ca6bbc007",
   "metadata": {},
   "outputs": [],
   "source": [
    "GAI_U = GAI_U_ds.vozocrtx\n",
    "AI_U = AI_U_ds.vozocrtx\n",
    "\n",
    "GAI_V = GAI_V_ds.vomecrty\n",
    "AI_V = AI_V_ds.vomecrty\n",
    "\n",
    "Ug = GAI_U - AI_U\n",
    "Vg = GAI_V - AI_V"
   ]
  },
  {
   "cell_type": "code",
   "execution_count": null,
   "id": "5c7e8f54-6cb3-493d-9467-78799d2d46f4",
   "metadata": {},
   "outputs": [],
   "source": []
  }
 ],
 "metadata": {
  "kernelspec": {
   "display_name": "Python 3 (ipykernel)",
   "language": "python",
   "name": "python3"
  },
  "language_info": {
   "codemirror_mode": {
    "name": "ipython",
    "version": 3
   },
   "file_extension": ".py",
   "mimetype": "text/x-python",
   "name": "python",
   "nbconvert_exporter": "python",
   "pygments_lexer": "ipython3",
   "version": "3.10.0"
  }
 },
 "nbformat": 4,
 "nbformat_minor": 5
}
