{
 "cells": [
  {
   "cell_type": "markdown",
   "id": "41d81091-0262-4430-bc5d-9d6f23bebd33",
   "metadata": {},
   "source": [
    "aim: save daily data only for the BGR to fasten the calculations afterwards"
   ]
  },
  {
   "cell_type": "code",
   "execution_count": 1,
   "id": "665911b3-8cde-48d8-bfd0-4725eeef0976",
   "metadata": {
    "tags": []
   },
   "outputs": [],
   "source": [
    "import os,sys\n",
    "import numpy as np\n",
    "\n",
    "import xarray as xr\n",
    "import zarr"
   ]
  },
  {
   "cell_type": "code",
   "execution_count": 2,
   "id": "268d870f-fc85-4e49-b205-feed0c86f377",
   "metadata": {
    "tags": []
   },
   "outputs": [],
   "source": [
    "from dask.distributed import Client\n",
    "c = Client()\n",
    "c"
   ]
  },
  {
   "cell_type": "code",
   "execution_count": 4,
   "id": "7cdb15ac-44b2-4d3d-9cbf-554aa87d88d0",
   "metadata": {
    "tags": []
   },
   "outputs": [],
   "source": [
    "# nexpREF = \"GAI\"\n",
    "nexpREF = \"AI\""
   ]
  },
  {
   "cell_type": "code",
   "execution_count": 6,
   "id": "f1d82b40-7144-4582-8991-f7fb94d9f4f1",
   "metadata": {
    "tags": []
   },
   "outputs": [
    {
     "name": "stdout",
     "output_type": "stream",
     "text": [
      "/gpfsstore/rech/cli/rcli002/eORCA025.L75/eORCA025.L75-IMHOTEP.AI-S/\n"
     ]
    }
   ],
   "source": [
    "prefix = \"eORCA025.L75-IMHOTEP\"\n",
    "diridatref=\"/gpfsstore/rech/cli/rcli002/eORCA025.L75/\"+prefix+\".\"+nexpREF+\"-S/\"\n",
    "print(diridatref)"
   ]
  },
  {
   "cell_type": "code",
   "execution_count": 8,
   "id": "ab98dd97-6fc1-41f5-af6a-8d2ef89e433c",
   "metadata": {
    "tags": []
   },
   "outputs": [],
   "source": [
    "maskBG = xr.open_dataset('/gpfswork/rech/cli/uor98hu/MYDATA/TRANSPORT_WP1/BGRmaskobs.nc', chunks = {\"x\":200,\"y\":320}).BGRmask.squeeze()"
   ]
  },
  {
   "cell_type": "markdown",
   "id": "4ccf67af-715c-4fd1-876e-b29409b47138",
   "metadata": {},
   "source": [
    "# daily data"
   ]
  },
  {
   "cell_type": "markdown",
   "id": "20e1c6b2-03ae-4e7c-9d26-8ccbc7e794d6",
   "metadata": {
    "tags": []
   },
   "source": [
    "## save in zarr format the 3d daily date in the BGR box"
   ]
  },
  {
   "cell_type": "code",
   "execution_count": 13,
   "id": "fa3baaa9-f987-4852-a971-d8a4c2cc172c",
   "metadata": {
    "tags": []
   },
   "outputs": [
    {
     "name": "stdout",
     "output_type": "stream",
     "text": [
      "/gpfsscratch/rech/cli/uor98hu/BILANS/AI/dSdt/bg_data/\n"
     ]
    }
   ],
   "source": [
    "chunk_size = {\"x\":200,\"y\":320, 'deptht':5}\n",
    "dirsc = \"/gpfsscratch/rech/cli/uor98hu/BILANS/\"+nexpREF+\"/dSdt/bg_data/\"\n",
    "print(dirsc)"
   ]
  },
  {
   "cell_type": "code",
   "execution_count": null,
   "id": "17cbb949-43b3-4454-aefa-f2205fc2159f",
   "metadata": {
    "tags": []
   },
   "outputs": [
    {
     "name": "stdout",
     "output_type": "stream",
     "text": [
      "AI_y1980_1d_vosaline_BGR.zarr\n",
      "AI_y1981_1d_vosaline_BGR.zarr\n",
      "AI_y1982_1d_vosaline_BGR.zarr\n",
      "AI_y1983_1d_vosaline_BGR.zarr\n",
      "AI_y1984_1d_vosaline_BGR.zarr\n",
      "AI_y1985_1d_vosaline_BGR.zarr\n",
      "AI_y1986_1d_vosaline_BGR.zarr\n",
      "AI_y1987_1d_vosaline_BGR.zarr\n"
     ]
    }
   ],
   "source": [
    "%%time\n",
    "for year in np.arange(1980,2019):\n",
    "    y1 = str(year)\n",
    "    file = diridatref+\"/1d/\"+y1+\"-concat/eORCA025.L75-IMHOTEP.\"+nexpREF+\"_y*_1d_gridT.nc\"\n",
    "    S_1d = xr.open_mfdataset(file,chunks = chunk_size, decode_coords=False, parallel=True).squeeze().vosaline\n",
    "    S_1d_BGR = S_1d.chunk({'time_counter':S_1d.shape[0]}).where(maskBG,drop=True)\n",
    "    \n",
    "    # saving\n",
    "    namo = nexpREF+\"_y\"+y1+\"_1d_vosaline_BGR.zarr\"\n",
    "    print(namo)\n",
    "    S_1d_BGR.to_dataset().to_zarr(dirsc+namo)"
   ]
  },
  {
   "cell_type": "code",
   "execution_count": null,
   "id": "6b637d9b-5f56-43c9-8815-e4fc1cda47f9",
   "metadata": {},
   "outputs": [],
   "source": []
  }
 ],
 "metadata": {
  "kernelspec": {
   "display_name": "climate_science",
   "language": "python",
   "name": "module-conda-env-climate_science"
  },
  "language_info": {
   "codemirror_mode": {
    "name": "ipython",
    "version": 3
   },
   "file_extension": ".py",
   "mimetype": "text/x-python",
   "name": "python",
   "nbconvert_exporter": "python",
   "pygments_lexer": "ipython3",
   "version": "3.9.1"
  }
 },
 "nbformat": 4,
 "nbformat_minor": 5
}
