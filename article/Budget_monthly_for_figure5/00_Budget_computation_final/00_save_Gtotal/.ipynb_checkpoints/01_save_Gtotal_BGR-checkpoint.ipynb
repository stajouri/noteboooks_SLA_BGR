{
 "cells": [
  {
   "cell_type": "markdown",
   "id": "3118bd83-b69f-4e5e-b3fc-0a02e9ae97ac",
   "metadata": {},
   "source": [
    "aim: recompute for the BGR box the dS cumsum  of figure 5 with out the rrors previously made"
   ]
  },
  {
   "cell_type": "code",
   "execution_count": 1,
   "id": "cb026e5c-43fb-4292-ae84-a63e44836f33",
   "metadata": {
    "tags": []
   },
   "outputs": [],
   "source": [
    "import os,sys\n",
    "import numpy as np\n",
    "# xarray\n",
    "import xarray as xr\n",
    "\n",
    "import zarr"
   ]
  },
  {
   "cell_type": "code",
   "execution_count": 2,
   "id": "c6babfe1-e083-4b5f-a843-0751abe0f554",
   "metadata": {
    "tags": []
   },
   "outputs": [
    {
     "name": "stderr",
     "output_type": "stream",
     "text": [
      "/linkhome/rech/genlop01/uor98hu/.local/lib/python3.9/site-packages/distributed/node.py:183: UserWarning: Port 8787 is already in use.\n",
      "Perhaps you already have a cluster running?\n",
      "Hosting the HTTP server on port 41621 instead\n",
      "  warnings.warn(\n"
     ]
    }
   ],
   "source": [
    "from dask.distributed import Client\n",
    "c = Client()\n",
    "c"
   ]
  },
  {
   "cell_type": "code",
   "execution_count": 5,
   "id": "15c5f469-029d-4840-8144-2aa8dff74be8",
   "metadata": {
    "tags": []
   },
   "outputs": [],
   "source": [
    "maskBG = xr.open_dataset('/gpfswork/rech/cli/uor98hu/MYDATA/TRANSPORT_WP1/BGRmaskobs.nc', chunks = chunk_size = {\"x\":200,\"y\":320}).BGRmask.squeeze()\n",
    "\n",
    "# ------------------------\n",
    "# loading data to prepare for the volume weighted mean\n",
    "# ------------------------\n",
    "diri=\"/gpfswork/rech/cli/rcli002/eORCA025.L75/eORCA025.L75-I/\"\n",
    "mesh_hgr=xr.open_dataset(diri+'mesh_hgr.nc', chunks = chunk_size).squeeze()\n",
    "e1t = mesh_hgr.e1t.fillna(0)\n",
    "e2t = mesh_hgr.e2t.fillna(0)\n",
    "\n",
    "bgr_e1t = e1t.where(maskBG,drop=True)\n",
    "bgr_e2t = e2t.where(maskBG,drop=True)\n",
    "\n",
    "prefix = \"eORCA025.L75-IMHOTEP\"\n",
    "dirww = \"/gpfswork/rech/cli/uor98hu/MYDATA/BILAN/BILANS/data4figure/final_after_review/\"\n",
    "\n",
    "# les lignes à modifier entre expériences\n",
    "nexpREF = \"GAI\"\n",
    "dirsc = \"/gpfsscratch/rech/cli/uor98hu/BILANS/\"+nexpREF+\"/dSdt/new_comp/bg_data/\"\n",
    "# fin lignes à modifier\n",
    "\n",
    "diridatref=\"/gpfsstore/rech/cli/rcli002/eORCA025.L75/\"+prefix+\".\"+nexpREF+\"-S/\"\n",
    "chunk_size = {\"x\":200,\"y\":320, 'deptht':5}\n",
    "\n",
    "# ------------------------\n",
    "# read e3t and compute the volume weight\n",
    "# ------------------------\n",
    "e3t = xr.open_mfdataset(diridatref+\"1m/????/*1m_gridT.nc\",decode_coords=False,chunks=chunk_size\\\n",
    "                            ,parallel=True).e3t\n",
    "\n",
    "bgr_e3t = e3t.chunk({'time_counter':e3t.shape[0]}).where(maskBG,drop=True)\n",
    "\n",
    "# gridcell volume\n",
    "btbox = bgr_e3t*bgr_e2t*bgr_e1t\n",
    "voltotal = btbox.sum((\"deptht\",\"y\",\"x\"))"
   ]
  },
  {
   "cell_type": "code",
   "execution_count": 13,
   "id": "d1c9727a-984e-41f9-8291-be83dab7d497",
   "metadata": {
    "tags": []
   },
   "outputs": [],
   "source": [
    "# ------------------------\n",
    "# load daily data\n",
    "# ------------------------\n",
    "S_1d_bgr =xr.open_mfdataset(dirsc+nexpREF+\"_y*_1d_vosaline_BGR.zarr\", engine=\"zarr\").vosaline\n",
    "\n",
    "# select the first day of each month\n",
    "S_1d_first_day = S_1d_bgr.where(S_1d_bgr.time_counter.dt.day==1, drop=True)\n",
    "\n",
    "# compute deltaS between S of the first day of two consecutive month\n",
    "deltaS = (S_1d_first_day.roll(time_counter=-1) - S_1d_first_day) # garder en tete que le dernier point n'est pas bon\n",
    "\n",
    "# change time coordinates of deltaS to match the one from monthly data\n",
    "deltaS = deltaS.assign_coords(time_counter=btbox.time_counter)\n",
    "\n",
    "# compute the volume weighted mean of deltaS in the bGR box\n",
    "bgr_dSdt_mean = ( (deltaS * btbox).sum((\"deptht\",\"y\",\"x\")) / voltotal ).compute()\n",
    "\n",
    "# compute the cumulative in time\n",
    "bgr_dSdt_mean_comp = bgr_dSdt_mean.cumsum().compute()\n",
    "\n",
    "# save in the work\n",
    "bgr_dSdt_mean_comp.to_dataset(name='dScumsum').to_netcdf(path = dirww+nexpREF+\"_dScumsum_1980_2018_after_review.nc\", mode='w')"
   ]
  },
  {
   "cell_type": "code",
   "execution_count": 39,
   "id": "7aa4e914-85b0-4037-8a46-c5189792903e",
   "metadata": {
    "tags": []
   },
   "outputs": [],
   "source": []
  },
  {
   "cell_type": "code",
   "execution_count": 73,
   "id": "3665627f-11ed-4e16-9b37-0d6fa0075c45",
   "metadata": {
    "tags": []
   },
   "outputs": [],
   "source": [
    "# new_Gtotal = xr.open_dataset(dirww+nexpREF+\"_dScumsum_1980_2018_after_review.nc\").dScumsum"
   ]
  },
  {
   "cell_type": "code",
   "execution_count": null,
   "id": "4723c0b4-499a-41b2-ac3c-d5fa1a41a34f",
   "metadata": {},
   "outputs": [],
   "source": []
  }
 ],
 "metadata": {
  "kernelspec": {
   "display_name": "climate_science",
   "language": "python",
   "name": "module-conda-env-climate_science"
  },
  "language_info": {
   "codemirror_mode": {
    "name": "ipython",
    "version": 3
   },
   "file_extension": ".py",
   "mimetype": "text/x-python",
   "name": "python",
   "nbconvert_exporter": "python",
   "pygments_lexer": "ipython3",
   "version": "3.9.1"
  }
 },
 "nbformat": 4,
 "nbformat_minor": 5
}
