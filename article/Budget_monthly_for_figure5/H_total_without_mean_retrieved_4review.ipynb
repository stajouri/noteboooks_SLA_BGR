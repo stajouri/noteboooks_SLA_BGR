{
 "cells": [
  {
   "cell_type": "code",
   "execution_count": 1,
   "id": "52b1d2ad-110e-4b2b-a5f4-b39ad62058c2",
   "metadata": {
    "tags": []
   },
   "outputs": [],
   "source": [
    "import os,sys\n",
    "import numpy as np\n",
    "# xarray\n",
    "import xarray as xr"
   ]
  },
  {
   "cell_type": "code",
   "execution_count": 2,
   "id": "30c96138-b2ee-4849-8d11-d63268f88a20",
   "metadata": {
    "tags": []
   },
   "outputs": [],
   "source": [
    "# plot\n",
    "import matplotlib.pyplot as plt\n",
    "from matplotlib.colors import Colormap\n",
    "\n",
    "import matplotlib.colors as mcolors\n",
    "import matplotlib.dates as mdates\n",
    "import matplotlib.cm as cm\n",
    "import matplotlib.dates as mdates\n",
    "import matplotlib.ticker as mticker\n",
    "from matplotlib.colors import from_levels_and_colors\n",
    "from mpl_toolkits.axes_grid1.inset_locator import inset_axes"
   ]
  },
  {
   "cell_type": "code",
   "execution_count": 3,
   "id": "23a54826-00a0-4e58-bacc-cca6c8c469d6",
   "metadata": {
    "tags": []
   },
   "outputs": [
    {
     "name": "stderr",
     "output_type": "stream",
     "text": [
      "/linkhome/rech/genlop01/uor98hu/.local/lib/python3.9/site-packages/distributed/node.py:183: UserWarning: Port 8787 is already in use.\n",
      "Perhaps you already have a cluster running?\n",
      "Hosting the HTTP server on port 32819 instead\n",
      "  warnings.warn(\n"
     ]
    }
   ],
   "source": [
    "from dask.distributed import Client\n",
    "c = Client()\n",
    "c"
   ]
  },
  {
   "cell_type": "markdown",
   "id": "eaef6b61-473b-4302-a1a4-118cf0785fa8",
   "metadata": {},
   "source": [
    "# vielle façon de calculer"
   ]
  },
  {
   "cell_type": "code",
   "execution_count": 4,
   "id": "68070a47-24f7-4533-b5ec-f2e31036f66e",
   "metadata": {
    "tags": []
   },
   "outputs": [],
   "source": [
    "nexpREF = \"GAI\""
   ]
  },
  {
   "cell_type": "code",
   "execution_count": 5,
   "id": "09c95222-f5ef-46df-bf53-33d49a4cef74",
   "metadata": {
    "tags": []
   },
   "outputs": [],
   "source": [
    "# ------------------------\n",
    "# loading data\n",
    "# ------------------------\n",
    "diro = \"/gpfsscratch/rech/cli/uor98hu/BILANS/\"+nexpREF+\"/\" \n",
    "diri=\"/gpfswork/rech/cli/rcli002/eORCA025.L75/eORCA025.L75-I/\"\n",
    "mesh_hgr=xr.open_dataset(diri+'mesh_hgr.nc').squeeze()\n",
    "\n",
    "tmask = mesh_hgr.tmask.rename({'nav_lev':\"deptht\"})\n",
    "tmaskutil = mesh_hgr.tmaskutil\n",
    "\n",
    "e1t = mesh_hgr.e1t.fillna(0)\n",
    "e2t = mesh_hgr.e2t.fillna(0)\n",
    "e2u = mesh_hgr.e2u.fillna(0)\n",
    "e1v = mesh_hgr.e1v.fillna(0)\n",
    "\n",
    "nav_lon =  mesh_hgr.nav_lon\n",
    "nav_lat =  mesh_hgr.nav_lat\n"
   ]
  },
  {
   "cell_type": "code",
   "execution_count": 6,
   "id": "888da704-90bc-43ee-ad5d-3b6de63eb3fb",
   "metadata": {
    "tags": []
   },
   "outputs": [],
   "source": [
    "chunk_size = {\"x\":500,\"y\":500}\n",
    "\n",
    "prefix = \"eORCA025.L75-IMHOTEP\"\n",
    "diridatref=\"/gpfsstore/rech/cli/rcli002/eORCA025.L75/\"+prefix+\".\"+nexpREF+\"-S/\""
   ]
  },
  {
   "cell_type": "code",
   "execution_count": 7,
   "id": "921db8e4-760c-45a9-8a1e-dd7f03e1c9fc",
   "metadata": {
    "tags": []
   },
   "outputs": [],
   "source": [
    "# load data dSdt\n",
    "dirsc= \"/gpfsscratch/rech/cli/uor98hu/BILANS/GAI/dSdt/gpfsscratch/rech/cli/uor98hu/BILANS/GAI/dSdt/\"\n",
    "dSdt = xr.open_mfdataset(dirsc+\"GAI_dSdt_1m*.nc\", parallel=True, chunks={\"x\":133,\"y\":320,'deptht':40}).dSdt.squeeze()"
   ]
  },
  {
   "cell_type": "code",
   "execution_count": 8,
   "id": "61cf7c98-38f4-4504-8f5d-d602beb1fce1",
   "metadata": {
    "tags": []
   },
   "outputs": [],
   "source": [
    "nbsec  = xr.open_dataset('/gpfswork/rech/cli/uor98hu/MYDATA/BILAN/BILANS/nbsec_1m.nc',chunks={'time_counter':1}).nbsec"
   ]
  },
  {
   "cell_type": "code",
   "execution_count": 9,
   "id": "8cc84aba-7ae5-4ae9-993a-ad0a743bbd6e",
   "metadata": {},
   "outputs": [],
   "source": [
    "## processing (suite)"
   ]
  },
  {
   "cell_type": "code",
   "execution_count": 10,
   "id": "b8c2bb1a-7b84-4d68-95a5-a699ca90f3d6",
   "metadata": {
    "tags": []
   },
   "outputs": [],
   "source": [
    "maskBG = xr.open_dataset('/gpfswork/rech/cli/uor98hu/MYDATA/TRANSPORT_WP1/BGRmaskobs.nc').BGRmask.squeeze()"
   ]
  },
  {
   "cell_type": "code",
   "execution_count": 11,
   "id": "616efec7-14c9-4690-a099-6ecb866a08f7",
   "metadata": {
    "tags": []
   },
   "outputs": [],
   "source": [
    "bgr_dSdt =  dSdt.where(maskBG,drop=True)"
   ]
  },
  {
   "cell_type": "code",
   "execution_count": 12,
   "id": "f3ae6e11-6ece-40c6-a181-da9fc931dd89",
   "metadata": {
    "tags": []
   },
   "outputs": [
    {
     "data": {
      "text/html": [
       "<div><svg style=\"position: absolute; width: 0; height: 0; overflow: hidden\">\n",
       "<defs>\n",
       "<symbol id=\"icon-database\" viewBox=\"0 0 32 32\">\n",
       "<path d=\"M16 0c-8.837 0-16 2.239-16 5v4c0 2.761 7.163 5 16 5s16-2.239 16-5v-4c0-2.761-7.163-5-16-5z\"></path>\n",
       "<path d=\"M16 17c-8.837 0-16-2.239-16-5v6c0 2.761 7.163 5 16 5s16-2.239 16-5v-6c0 2.761-7.163 5-16 5z\"></path>\n",
       "<path d=\"M16 26c-8.837 0-16-2.239-16-5v6c0 2.761 7.163 5 16 5s16-2.239 16-5v-6c0 2.761-7.163 5-16 5z\"></path>\n",
       "</symbol>\n",
       "<symbol id=\"icon-file-text2\" viewBox=\"0 0 32 32\">\n",
       "<path d=\"M28.681 7.159c-0.694-0.947-1.662-2.053-2.724-3.116s-2.169-2.030-3.116-2.724c-1.612-1.182-2.393-1.319-2.841-1.319h-15.5c-1.378 0-2.5 1.121-2.5 2.5v27c0 1.378 1.122 2.5 2.5 2.5h23c1.378 0 2.5-1.122 2.5-2.5v-19.5c0-0.448-0.137-1.23-1.319-2.841zM24.543 5.457c0.959 0.959 1.712 1.825 2.268 2.543h-4.811v-4.811c0.718 0.556 1.584 1.309 2.543 2.268zM28 29.5c0 0.271-0.229 0.5-0.5 0.5h-23c-0.271 0-0.5-0.229-0.5-0.5v-27c0-0.271 0.229-0.5 0.5-0.5 0 0 15.499-0 15.5 0v7c0 0.552 0.448 1 1 1h7v19.5z\"></path>\n",
       "<path d=\"M23 26h-14c-0.552 0-1-0.448-1-1s0.448-1 1-1h14c0.552 0 1 0.448 1 1s-0.448 1-1 1z\"></path>\n",
       "<path d=\"M23 22h-14c-0.552 0-1-0.448-1-1s0.448-1 1-1h14c0.552 0 1 0.448 1 1s-0.448 1-1 1z\"></path>\n",
       "<path d=\"M23 18h-14c-0.552 0-1-0.448-1-1s0.448-1 1-1h14c0.552 0 1 0.448 1 1s-0.448 1-1 1z\"></path>\n",
       "</symbol>\n",
       "</defs>\n",
       "</svg>\n",
       "<style>/* CSS stylesheet for displaying xarray objects in jupyterlab.\n",
       " *\n",
       " */\n",
       "\n",
       ":root {\n",
       "  --xr-font-color0: var(--jp-content-font-color0, rgba(0, 0, 0, 1));\n",
       "  --xr-font-color2: var(--jp-content-font-color2, rgba(0, 0, 0, 0.54));\n",
       "  --xr-font-color3: var(--jp-content-font-color3, rgba(0, 0, 0, 0.38));\n",
       "  --xr-border-color: var(--jp-border-color2, #e0e0e0);\n",
       "  --xr-disabled-color: var(--jp-layout-color3, #bdbdbd);\n",
       "  --xr-background-color: var(--jp-layout-color0, white);\n",
       "  --xr-background-color-row-even: var(--jp-layout-color1, white);\n",
       "  --xr-background-color-row-odd: var(--jp-layout-color2, #eeeeee);\n",
       "}\n",
       "\n",
       "html[theme=dark],\n",
       "body.vscode-dark {\n",
       "  --xr-font-color0: rgba(255, 255, 255, 1);\n",
       "  --xr-font-color2: rgba(255, 255, 255, 0.54);\n",
       "  --xr-font-color3: rgba(255, 255, 255, 0.38);\n",
       "  --xr-border-color: #1F1F1F;\n",
       "  --xr-disabled-color: #515151;\n",
       "  --xr-background-color: #111111;\n",
       "  --xr-background-color-row-even: #111111;\n",
       "  --xr-background-color-row-odd: #313131;\n",
       "}\n",
       "\n",
       ".xr-wrap {\n",
       "  display: block !important;\n",
       "  min-width: 300px;\n",
       "  max-width: 700px;\n",
       "}\n",
       "\n",
       ".xr-text-repr-fallback {\n",
       "  /* fallback to plain text repr when CSS is not injected (untrusted notebook) */\n",
       "  display: none;\n",
       "}\n",
       "\n",
       ".xr-header {\n",
       "  padding-top: 6px;\n",
       "  padding-bottom: 6px;\n",
       "  margin-bottom: 4px;\n",
       "  border-bottom: solid 1px var(--xr-border-color);\n",
       "}\n",
       "\n",
       ".xr-header > div,\n",
       ".xr-header > ul {\n",
       "  display: inline;\n",
       "  margin-top: 0;\n",
       "  margin-bottom: 0;\n",
       "}\n",
       "\n",
       ".xr-obj-type,\n",
       ".xr-array-name {\n",
       "  margin-left: 2px;\n",
       "  margin-right: 10px;\n",
       "}\n",
       "\n",
       ".xr-obj-type {\n",
       "  color: var(--xr-font-color2);\n",
       "}\n",
       "\n",
       ".xr-sections {\n",
       "  padding-left: 0 !important;\n",
       "  display: grid;\n",
       "  grid-template-columns: 150px auto auto 1fr 20px 20px;\n",
       "}\n",
       "\n",
       ".xr-section-item {\n",
       "  display: contents;\n",
       "}\n",
       "\n",
       ".xr-section-item input {\n",
       "  display: none;\n",
       "}\n",
       "\n",
       ".xr-section-item input + label {\n",
       "  color: var(--xr-disabled-color);\n",
       "}\n",
       "\n",
       ".xr-section-item input:enabled + label {\n",
       "  cursor: pointer;\n",
       "  color: var(--xr-font-color2);\n",
       "}\n",
       "\n",
       ".xr-section-item input:enabled + label:hover {\n",
       "  color: var(--xr-font-color0);\n",
       "}\n",
       "\n",
       ".xr-section-summary {\n",
       "  grid-column: 1;\n",
       "  color: var(--xr-font-color2);\n",
       "  font-weight: 500;\n",
       "}\n",
       "\n",
       ".xr-section-summary > span {\n",
       "  display: inline-block;\n",
       "  padding-left: 0.5em;\n",
       "}\n",
       "\n",
       ".xr-section-summary-in:disabled + label {\n",
       "  color: var(--xr-font-color2);\n",
       "}\n",
       "\n",
       ".xr-section-summary-in + label:before {\n",
       "  display: inline-block;\n",
       "  content: '►';\n",
       "  font-size: 11px;\n",
       "  width: 15px;\n",
       "  text-align: center;\n",
       "}\n",
       "\n",
       ".xr-section-summary-in:disabled + label:before {\n",
       "  color: var(--xr-disabled-color);\n",
       "}\n",
       "\n",
       ".xr-section-summary-in:checked + label:before {\n",
       "  content: '▼';\n",
       "}\n",
       "\n",
       ".xr-section-summary-in:checked + label > span {\n",
       "  display: none;\n",
       "}\n",
       "\n",
       ".xr-section-summary,\n",
       ".xr-section-inline-details {\n",
       "  padding-top: 4px;\n",
       "  padding-bottom: 4px;\n",
       "}\n",
       "\n",
       ".xr-section-inline-details {\n",
       "  grid-column: 2 / -1;\n",
       "}\n",
       "\n",
       ".xr-section-details {\n",
       "  display: none;\n",
       "  grid-column: 1 / -1;\n",
       "  margin-bottom: 5px;\n",
       "}\n",
       "\n",
       ".xr-section-summary-in:checked ~ .xr-section-details {\n",
       "  display: contents;\n",
       "}\n",
       "\n",
       ".xr-array-wrap {\n",
       "  grid-column: 1 / -1;\n",
       "  display: grid;\n",
       "  grid-template-columns: 20px auto;\n",
       "}\n",
       "\n",
       ".xr-array-wrap > label {\n",
       "  grid-column: 1;\n",
       "  vertical-align: top;\n",
       "}\n",
       "\n",
       ".xr-preview {\n",
       "  color: var(--xr-font-color3);\n",
       "}\n",
       "\n",
       ".xr-array-preview,\n",
       ".xr-array-data {\n",
       "  padding: 0 5px !important;\n",
       "  grid-column: 2;\n",
       "}\n",
       "\n",
       ".xr-array-data,\n",
       ".xr-array-in:checked ~ .xr-array-preview {\n",
       "  display: none;\n",
       "}\n",
       "\n",
       ".xr-array-in:checked ~ .xr-array-data,\n",
       ".xr-array-preview {\n",
       "  display: inline-block;\n",
       "}\n",
       "\n",
       ".xr-dim-list {\n",
       "  display: inline-block !important;\n",
       "  list-style: none;\n",
       "  padding: 0 !important;\n",
       "  margin: 0;\n",
       "}\n",
       "\n",
       ".xr-dim-list li {\n",
       "  display: inline-block;\n",
       "  padding: 0;\n",
       "  margin: 0;\n",
       "}\n",
       "\n",
       ".xr-dim-list:before {\n",
       "  content: '(';\n",
       "}\n",
       "\n",
       ".xr-dim-list:after {\n",
       "  content: ')';\n",
       "}\n",
       "\n",
       ".xr-dim-list li:not(:last-child):after {\n",
       "  content: ',';\n",
       "  padding-right: 5px;\n",
       "}\n",
       "\n",
       ".xr-has-index {\n",
       "  font-weight: bold;\n",
       "}\n",
       "\n",
       ".xr-var-list,\n",
       ".xr-var-item {\n",
       "  display: contents;\n",
       "}\n",
       "\n",
       ".xr-var-item > div,\n",
       ".xr-var-item label,\n",
       ".xr-var-item > .xr-var-name span {\n",
       "  background-color: var(--xr-background-color-row-even);\n",
       "  margin-bottom: 0;\n",
       "}\n",
       "\n",
       ".xr-var-item > .xr-var-name:hover span {\n",
       "  padding-right: 5px;\n",
       "}\n",
       "\n",
       ".xr-var-list > li:nth-child(odd) > div,\n",
       ".xr-var-list > li:nth-child(odd) > label,\n",
       ".xr-var-list > li:nth-child(odd) > .xr-var-name span {\n",
       "  background-color: var(--xr-background-color-row-odd);\n",
       "}\n",
       "\n",
       ".xr-var-name {\n",
       "  grid-column: 1;\n",
       "}\n",
       "\n",
       ".xr-var-dims {\n",
       "  grid-column: 2;\n",
       "}\n",
       "\n",
       ".xr-var-dtype {\n",
       "  grid-column: 3;\n",
       "  text-align: right;\n",
       "  color: var(--xr-font-color2);\n",
       "}\n",
       "\n",
       ".xr-var-preview {\n",
       "  grid-column: 4;\n",
       "}\n",
       "\n",
       ".xr-var-name,\n",
       ".xr-var-dims,\n",
       ".xr-var-dtype,\n",
       ".xr-preview,\n",
       ".xr-attrs dt {\n",
       "  white-space: nowrap;\n",
       "  overflow: hidden;\n",
       "  text-overflow: ellipsis;\n",
       "  padding-right: 10px;\n",
       "}\n",
       "\n",
       ".xr-var-name:hover,\n",
       ".xr-var-dims:hover,\n",
       ".xr-var-dtype:hover,\n",
       ".xr-attrs dt:hover {\n",
       "  overflow: visible;\n",
       "  width: auto;\n",
       "  z-index: 1;\n",
       "}\n",
       "\n",
       ".xr-var-attrs,\n",
       ".xr-var-data {\n",
       "  display: none;\n",
       "  background-color: var(--xr-background-color) !important;\n",
       "  padding-bottom: 5px !important;\n",
       "}\n",
       "\n",
       ".xr-var-attrs-in:checked ~ .xr-var-attrs,\n",
       ".xr-var-data-in:checked ~ .xr-var-data {\n",
       "  display: block;\n",
       "}\n",
       "\n",
       ".xr-var-data > table {\n",
       "  float: right;\n",
       "}\n",
       "\n",
       ".xr-var-name span,\n",
       ".xr-var-data,\n",
       ".xr-attrs {\n",
       "  padding-left: 25px !important;\n",
       "}\n",
       "\n",
       ".xr-attrs,\n",
       ".xr-var-attrs,\n",
       ".xr-var-data {\n",
       "  grid-column: 1 / -1;\n",
       "}\n",
       "\n",
       "dl.xr-attrs {\n",
       "  padding: 0;\n",
       "  margin: 0;\n",
       "  display: grid;\n",
       "  grid-template-columns: 125px auto;\n",
       "}\n",
       "\n",
       ".xr-attrs dt,\n",
       ".xr-attrs dd {\n",
       "  padding: 0;\n",
       "  margin: 0;\n",
       "  float: left;\n",
       "  padding-right: 10px;\n",
       "  width: auto;\n",
       "}\n",
       "\n",
       ".xr-attrs dt {\n",
       "  font-weight: normal;\n",
       "  grid-column: 1;\n",
       "}\n",
       "\n",
       ".xr-attrs dt:hover span {\n",
       "  display: inline-block;\n",
       "  background: var(--xr-background-color);\n",
       "  padding-right: 10px;\n",
       "}\n",
       "\n",
       ".xr-attrs dd {\n",
       "  grid-column: 2;\n",
       "  white-space: pre-wrap;\n",
       "  word-break: break-all;\n",
       "}\n",
       "\n",
       ".xr-icon-database,\n",
       ".xr-icon-file-text2 {\n",
       "  display: inline-block;\n",
       "  vertical-align: middle;\n",
       "  width: 1em;\n",
       "  height: 1.5em !important;\n",
       "  stroke-width: 0;\n",
       "  stroke: currentColor;\n",
       "  fill: currentColor;\n",
       "}\n",
       "</style><pre class='xr-text-repr-fallback'>&lt;xarray.DataArray &#x27;time_counter&#x27; (time_counter: 468)&gt;\n",
       "array([&#x27;1980-01-16T12:00:00.000000000&#x27;, &#x27;1980-02-15T12:00:00.000000000&#x27;,\n",
       "       &#x27;1980-03-16T12:00:00.000000000&#x27;, ..., &#x27;2018-10-16T12:00:00.000000000&#x27;,\n",
       "       &#x27;2018-11-16T00:00:00.000000000&#x27;, &#x27;2018-12-16T12:00:00.000000000&#x27;],\n",
       "      dtype=&#x27;datetime64[ns]&#x27;)\n",
       "Coordinates:\n",
       "  * time_counter  (time_counter) datetime64[ns] 1980-01-16T12:00:00 ... 2018-...</pre><div class='xr-wrap' style='display:none'><div class='xr-header'><div class='xr-obj-type'>xarray.DataArray</div><div class='xr-array-name'>'time_counter'</div><ul class='xr-dim-list'><li><span class='xr-has-index'>time_counter</span>: 468</li></ul></div><ul class='xr-sections'><li class='xr-section-item'><div class='xr-array-wrap'><input id='section-2d9e7c65-8c19-4450-8de9-62e897dd2d16' class='xr-array-in' type='checkbox' checked><label for='section-2d9e7c65-8c19-4450-8de9-62e897dd2d16' title='Show/hide data repr'><svg class='icon xr-icon-database'><use xlink:href='#icon-database'></use></svg></label><div class='xr-array-preview xr-preview'><span>1980-01-16T12:00:00 1980-02-15T12:00:00 ... 2018-12-16T12:00:00</span></div><div class='xr-array-data'><pre>array([&#x27;1980-01-16T12:00:00.000000000&#x27;, &#x27;1980-02-15T12:00:00.000000000&#x27;,\n",
       "       &#x27;1980-03-16T12:00:00.000000000&#x27;, ..., &#x27;2018-10-16T12:00:00.000000000&#x27;,\n",
       "       &#x27;2018-11-16T00:00:00.000000000&#x27;, &#x27;2018-12-16T12:00:00.000000000&#x27;],\n",
       "      dtype=&#x27;datetime64[ns]&#x27;)</pre></div></div></li><li class='xr-section-item'><input id='section-55a9d4ff-3fa1-4506-aaf2-279fa99248c7' class='xr-section-summary-in' type='checkbox'  checked><label for='section-55a9d4ff-3fa1-4506-aaf2-279fa99248c7' class='xr-section-summary' >Coordinates: <span>(1)</span></label><div class='xr-section-inline-details'></div><div class='xr-section-details'><ul class='xr-var-list'><li class='xr-var-item'><div class='xr-var-name'><span class='xr-has-index'>time_counter</span></div><div class='xr-var-dims'>(time_counter)</div><div class='xr-var-dtype'>datetime64[ns]</div><div class='xr-var-preview xr-preview'>1980-01-16T12:00:00 ... 2018-12-...</div><input id='attrs-c7c9a7d2-0539-4ead-832d-0cdf05a60848' class='xr-var-attrs-in' type='checkbox' disabled><label for='attrs-c7c9a7d2-0539-4ead-832d-0cdf05a60848' title='Show/Hide attributes'><svg class='icon xr-icon-file-text2'><use xlink:href='#icon-file-text2'></use></svg></label><input id='data-0c8d70e1-489b-430a-ad42-d34a912d0718' class='xr-var-data-in' type='checkbox'><label for='data-0c8d70e1-489b-430a-ad42-d34a912d0718' title='Show/Hide data repr'><svg class='icon xr-icon-database'><use xlink:href='#icon-database'></use></svg></label><div class='xr-var-attrs'><dl class='xr-attrs'></dl></div><div class='xr-var-data'><pre>array([&#x27;1980-01-16T12:00:00.000000000&#x27;, &#x27;1980-02-15T12:00:00.000000000&#x27;,\n",
       "       &#x27;1980-03-16T12:00:00.000000000&#x27;, ..., &#x27;2018-10-16T12:00:00.000000000&#x27;,\n",
       "       &#x27;2018-11-16T00:00:00.000000000&#x27;, &#x27;2018-12-16T12:00:00.000000000&#x27;],\n",
       "      dtype=&#x27;datetime64[ns]&#x27;)</pre></div></li></ul></div></li><li class='xr-section-item'><input id='section-132ee723-26cd-4f09-af09-ac35973d95be' class='xr-section-summary-in' type='checkbox' disabled ><label for='section-132ee723-26cd-4f09-af09-ac35973d95be' class='xr-section-summary'  title='Expand/collapse section'>Attributes: <span>(0)</span></label><div class='xr-section-inline-details'></div><div class='xr-section-details'><dl class='xr-attrs'></dl></div></li></ul></div></div>"
      ],
      "text/plain": [
       "<xarray.DataArray 'time_counter' (time_counter: 468)>\n",
       "array(['1980-01-16T12:00:00.000000000', '1980-02-15T12:00:00.000000000',\n",
       "       '1980-03-16T12:00:00.000000000', ..., '2018-10-16T12:00:00.000000000',\n",
       "       '2018-11-16T00:00:00.000000000', '2018-12-16T12:00:00.000000000'],\n",
       "      dtype='datetime64[ns]')\n",
       "Coordinates:\n",
       "  * time_counter  (time_counter) datetime64[ns] 1980-01-16T12:00:00 ... 2018-..."
      ]
     },
     "execution_count": 12,
     "metadata": {},
     "output_type": "execute_result"
    }
   ],
   "source": [
    "bgr_dSdt.time_counter"
   ]
  },
  {
   "cell_type": "code",
   "execution_count": 13,
   "id": "2ebb7406-96d9-45fe-813f-6152b0ad4669",
   "metadata": {
    "tags": []
   },
   "outputs": [
    {
     "name": "stdout",
     "output_type": "stream",
     "text": [
      "CPU times: user 7.58 s, sys: 416 ms, total: 8 s\n",
      "Wall time: 20.9 s\n"
     ]
    }
   ],
   "source": [
    "%%time\n",
    "# read e3t\n",
    "prefix = \"eORCA025.L75-IMHOTEP\"\n",
    "diridatref=\"/gpfsstore/rech/cli/rcli002/eORCA025.L75/\"+prefix+\".\"+nexpREF+\"-S/\"\n",
    "# years to read data from:\n",
    "bgr_e3t = xr.open_mfdataset(diridatref+\"1m/????/*1m_gridT.nc\",decode_coords=False,chunks={\"x\":133,\"y\":320,'deptht':40}\\\n",
    "                            ,parallel=True).e3t.where(maskBG,drop=True)"
   ]
  },
  {
   "cell_type": "code",
   "execution_count": 15,
   "id": "76a7f444-d6ce-4e25-b4a5-e781cb598133",
   "metadata": {
    "tags": []
   },
   "outputs": [],
   "source": [
    "bgr_e1t = e1t.where(maskBG,drop=True)\n",
    "bgr_e2t = e2t.where(maskBG,drop=True)"
   ]
  },
  {
   "cell_type": "code",
   "execution_count": 16,
   "id": "7fdada17-b5cb-477b-be02-497c5037a778",
   "metadata": {
    "tags": []
   },
   "outputs": [],
   "source": [
    "# gridcell volume\n",
    "btbox = bgr_e3t*bgr_e2t*bgr_e1t\n",
    "\n",
    "# --------------------\n",
    "# Budget in the box full depth\n",
    "# --------------------\n",
    "voltotal = btbox.sum((\"deptht\",\"y\",\"x\"))#.compute()\n",
    "\n",
    "bgr_dSdt_mean = (bgr_dSdt * btbox).sum((\"deptht\",\"y\",\"x\")) / voltotal\n",
    "\n",
    "# --------------------\n",
    "# retirer la time mean de toutes les séries temporelles \n",
    "# --------------------\n",
    "bgr_dSdt_mean_prime = bgr_dSdt_mean - bgr_dSdt_mean.mean()"
   ]
  },
  {
   "cell_type": "code",
   "execution_count": 17,
   "id": "51288df1-d575-460e-b4d3-f1842c4c282c",
   "metadata": {
    "tags": []
   },
   "outputs": [],
   "source": [
    "# dSdt averaged over the box BGR \n",
    "bgr_dSdt_mean_comp = bgr_dSdt_mean.compute()"
   ]
  },
  {
   "cell_type": "code",
   "execution_count": null,
   "id": "599719da-584e-4166-bdf8-25aa1eda40a3",
   "metadata": {
    "tags": []
   },
   "outputs": [],
   "source": [
    "# dSdt averaged over the box BGR with the time mean retrieved\n",
    "bgr_dSdt_mean_prime_comp = bgr_dSdt_mean_prime.compute()"
   ]
  },
  {
   "cell_type": "code",
   "execution_count": 44,
   "id": "0e5415ea-46c3-4e75-b689-c6f72e48bd6f",
   "metadata": {
    "tags": []
   },
   "outputs": [],
   "source": [
    "# time-integrated dS averaged over the box BGR with the time mean retrieved\n",
    "bgr_dSdt_mean_prime_compcumsum = (bgr_dSdt_mean_prime_comp*nbsec).cumsum().compute()\n"
   ]
  },
  {
   "cell_type": "code",
   "execution_count": 18,
   "id": "89499a11-9804-4cb5-8cd0-13b379902368",
   "metadata": {
    "tags": []
   },
   "outputs": [],
   "source": [
    "# ce que j'aurais du faire: je ne change qu'un paramètre\n",
    "# time-integrated dS averaged over the box BGR WITHOUT the time mean retrieved\n",
    "bgr_dS_mean_compcumsum = (bgr_dSdt_mean_comp*nbsec).cumsum().compute()"
   ]
  },
  {
   "cell_type": "code",
   "execution_count": 20,
   "id": "cb5fd6da-2be8-4bfd-acac-c7e4e0e8ed3a",
   "metadata": {
    "tags": []
   },
   "outputs": [],
   "source": [
    "### parenthèse: pour voir old fashion of calculating dS versus new fashion\n",
    "dirww = \"/gpfswork/rech/cli/uor98hu/MYDATA/BILAN/BILANS/data4figure/\"\n",
    "new_Gtotal = xr.open_dataset(dirww+nexpREF+\"_dScumsum_1980_2018_after_review.nc\").dScumsum"
   ]
  },
  {
   "cell_type": "code",
   "execution_count": 30,
   "id": "6a5d3cd2-60b4-4320-be07-86d1870c9bbe",
   "metadata": {
    "tags": []
   },
   "outputs": [
    {
     "data": {
      "text/plain": [
       "[<matplotlib.lines.Line2D at 0x14df319fac70>]"
      ]
     },
     "execution_count": 30,
     "metadata": {},
     "output_type": "execute_result"
    },
    {
     "data": {
      "image/png": "[encoded data removed]",
      "text/plain": [
       "<Figure size 432x288 with 1 Axes>"
      ]
     },
     "metadata": {
      "needs_background": "light"
     },
     "output_type": "display_data"
    }
   ],
   "source": [
    "plt.plot(bgr_dS_mean_compcumsum[:-1])\n",
    "plt.plot(new_Gtotal[:-1])"
   ]
  },
  {
   "cell_type": "code",
   "execution_count": 39,
   "id": "794193b3-8289-4a55-9957-3bf621d9a1dd",
   "metadata": {
    "tags": []
   },
   "outputs": [
    {
     "data": {
      "text/plain": [
       "[<matplotlib.lines.Line2D at 0x14df25f1c6d0>]"
      ]
     },
     "execution_count": 39,
     "metadata": {},
     "output_type": "execute_result"
    },
    {
     "data": {
      "image/png": "[encoded data removed]",
      "text/plain": [
       "<Figure size 432x288 with 1 Axes>"
      ]
     },
     "metadata": {
      "needs_background": "light"
     },
     "output_type": "display_data"
    }
   ],
   "source": [
    "plt.plot((bgr_dS_mean_compcumsum[:-1] - new_Gtotal[:-1])/new_Gtotal[:-1])"
   ]
  },
  {
   "cell_type": "code",
   "execution_count": null,
   "id": "b5e5d748-532d-4e1c-90a1-529bca43fc51",
   "metadata": {},
   "outputs": [],
   "source": [
    "#### conclusion: il n'y a pas de différence significative entre l'ancienne méhode et la nouvelle méthode pour calculer le Gtotal mais il y a un point qui était largement faux qui a été corrigé. "
   ]
  },
  {
   "cell_type": "code",
   "execution_count": 92,
   "id": "45b59fb8-8719-44c6-b2a5-7bef4be75a29",
   "metadata": {
    "tags": []
   },
   "outputs": [],
   "source": [
    "# time-integrated dS averaged over the box BGR with its own time mean retrieved retrieved\n",
    "bgr_dS_mean_compcumsum_nomean = bgr_dS_mean_compcumsum - bgr_dS_mean_compcumsum.mean()"
   ]
  },
  {
   "cell_type": "code",
   "execution_count": 94,
   "id": "60d37047-3a35-4166-9823-be6fc969777e",
   "metadata": {
    "tags": []
   },
   "outputs": [
    {
     "data": {
      "text/html": [
       "<div><svg style=\"position: absolute; width: 0; height: 0; overflow: hidden\">\n",
       "<defs>\n",
       "<symbol id=\"icon-database\" viewBox=\"0 0 32 32\">\n",
       "<path d=\"M16 0c-8.837 0-16 2.239-16 5v4c0 2.761 7.163 5 16 5s16-2.239 16-5v-4c0-2.761-7.163-5-16-5z\"></path>\n",
       "<path d=\"M16 17c-8.837 0-16-2.239-16-5v6c0 2.761 7.163 5 16 5s16-2.239 16-5v-6c0 2.761-7.163 5-16 5z\"></path>\n",
       "<path d=\"M16 26c-8.837 0-16-2.239-16-5v6c0 2.761 7.163 5 16 5s16-2.239 16-5v-6c0 2.761-7.163 5-16 5z\"></path>\n",
       "</symbol>\n",
       "<symbol id=\"icon-file-text2\" viewBox=\"0 0 32 32\">\n",
       "<path d=\"M28.681 7.159c-0.694-0.947-1.662-2.053-2.724-3.116s-2.169-2.030-3.116-2.724c-1.612-1.182-2.393-1.319-2.841-1.319h-15.5c-1.378 0-2.5 1.121-2.5 2.5v27c0 1.378 1.122 2.5 2.5 2.5h23c1.378 0 2.5-1.122 2.5-2.5v-19.5c0-0.448-0.137-1.23-1.319-2.841zM24.543 5.457c0.959 0.959 1.712 1.825 2.268 2.543h-4.811v-4.811c0.718 0.556 1.584 1.309 2.543 2.268zM28 29.5c0 0.271-0.229 0.5-0.5 0.5h-23c-0.271 0-0.5-0.229-0.5-0.5v-27c0-0.271 0.229-0.5 0.5-0.5 0 0 15.499-0 15.5 0v7c0 0.552 0.448 1 1 1h7v19.5z\"></path>\n",
       "<path d=\"M23 26h-14c-0.552 0-1-0.448-1-1s0.448-1 1-1h14c0.552 0 1 0.448 1 1s-0.448 1-1 1z\"></path>\n",
       "<path d=\"M23 22h-14c-0.552 0-1-0.448-1-1s0.448-1 1-1h14c0.552 0 1 0.448 1 1s-0.448 1-1 1z\"></path>\n",
       "<path d=\"M23 18h-14c-0.552 0-1-0.448-1-1s0.448-1 1-1h14c0.552 0 1 0.448 1 1s-0.448 1-1 1z\"></path>\n",
       "</symbol>\n",
       "</defs>\n",
       "</svg>\n",
       "<style>/* CSS stylesheet for displaying xarray objects in jupyterlab.\n",
       " *\n",
       " */\n",
       "\n",
       ":root {\n",
       "  --xr-font-color0: var(--jp-content-font-color0, rgba(0, 0, 0, 1));\n",
       "  --xr-font-color2: var(--jp-content-font-color2, rgba(0, 0, 0, 0.54));\n",
       "  --xr-font-color3: var(--jp-content-font-color3, rgba(0, 0, 0, 0.38));\n",
       "  --xr-border-color: var(--jp-border-color2, #e0e0e0);\n",
       "  --xr-disabled-color: var(--jp-layout-color3, #bdbdbd);\n",
       "  --xr-background-color: var(--jp-layout-color0, white);\n",
       "  --xr-background-color-row-even: var(--jp-layout-color1, white);\n",
       "  --xr-background-color-row-odd: var(--jp-layout-color2, #eeeeee);\n",
       "}\n",
       "\n",
       "html[theme=dark],\n",
       "body.vscode-dark {\n",
       "  --xr-font-color0: rgba(255, 255, 255, 1);\n",
       "  --xr-font-color2: rgba(255, 255, 255, 0.54);\n",
       "  --xr-font-color3: rgba(255, 255, 255, 0.38);\n",
       "  --xr-border-color: #1F1F1F;\n",
       "  --xr-disabled-color: #515151;\n",
       "  --xr-background-color: #111111;\n",
       "  --xr-background-color-row-even: #111111;\n",
       "  --xr-background-color-row-odd: #313131;\n",
       "}\n",
       "\n",
       ".xr-wrap {\n",
       "  display: block !important;\n",
       "  min-width: 300px;\n",
       "  max-width: 700px;\n",
       "}\n",
       "\n",
       ".xr-text-repr-fallback {\n",
       "  /* fallback to plain text repr when CSS is not injected (untrusted notebook) */\n",
       "  display: none;\n",
       "}\n",
       "\n",
       ".xr-header {\n",
       "  padding-top: 6px;\n",
       "  padding-bottom: 6px;\n",
       "  margin-bottom: 4px;\n",
       "  border-bottom: solid 1px var(--xr-border-color);\n",
       "}\n",
       "\n",
       ".xr-header > div,\n",
       ".xr-header > ul {\n",
       "  display: inline;\n",
       "  margin-top: 0;\n",
       "  margin-bottom: 0;\n",
       "}\n",
       "\n",
       ".xr-obj-type,\n",
       ".xr-array-name {\n",
       "  margin-left: 2px;\n",
       "  margin-right: 10px;\n",
       "}\n",
       "\n",
       ".xr-obj-type {\n",
       "  color: var(--xr-font-color2);\n",
       "}\n",
       "\n",
       ".xr-sections {\n",
       "  padding-left: 0 !important;\n",
       "  display: grid;\n",
       "  grid-template-columns: 150px auto auto 1fr 20px 20px;\n",
       "}\n",
       "\n",
       ".xr-section-item {\n",
       "  display: contents;\n",
       "}\n",
       "\n",
       ".xr-section-item input {\n",
       "  display: none;\n",
       "}\n",
       "\n",
       ".xr-section-item input + label {\n",
       "  color: var(--xr-disabled-color);\n",
       "}\n",
       "\n",
       ".xr-section-item input:enabled + label {\n",
       "  cursor: pointer;\n",
       "  color: var(--xr-font-color2);\n",
       "}\n",
       "\n",
       ".xr-section-item input:enabled + label:hover {\n",
       "  color: var(--xr-font-color0);\n",
       "}\n",
       "\n",
       ".xr-section-summary {\n",
       "  grid-column: 1;\n",
       "  color: var(--xr-font-color2);\n",
       "  font-weight: 500;\n",
       "}\n",
       "\n",
       ".xr-section-summary > span {\n",
       "  display: inline-block;\n",
       "  padding-left: 0.5em;\n",
       "}\n",
       "\n",
       ".xr-section-summary-in:disabled + label {\n",
       "  color: var(--xr-font-color2);\n",
       "}\n",
       "\n",
       ".xr-section-summary-in + label:before {\n",
       "  display: inline-block;\n",
       "  content: '►';\n",
       "  font-size: 11px;\n",
       "  width: 15px;\n",
       "  text-align: center;\n",
       "}\n",
       "\n",
       ".xr-section-summary-in:disabled + label:before {\n",
       "  color: var(--xr-disabled-color);\n",
       "}\n",
       "\n",
       ".xr-section-summary-in:checked + label:before {\n",
       "  content: '▼';\n",
       "}\n",
       "\n",
       ".xr-section-summary-in:checked + label > span {\n",
       "  display: none;\n",
       "}\n",
       "\n",
       ".xr-section-summary,\n",
       ".xr-section-inline-details {\n",
       "  padding-top: 4px;\n",
       "  padding-bottom: 4px;\n",
       "}\n",
       "\n",
       ".xr-section-inline-details {\n",
       "  grid-column: 2 / -1;\n",
       "}\n",
       "\n",
       ".xr-section-details {\n",
       "  display: none;\n",
       "  grid-column: 1 / -1;\n",
       "  margin-bottom: 5px;\n",
       "}\n",
       "\n",
       ".xr-section-summary-in:checked ~ .xr-section-details {\n",
       "  display: contents;\n",
       "}\n",
       "\n",
       ".xr-array-wrap {\n",
       "  grid-column: 1 / -1;\n",
       "  display: grid;\n",
       "  grid-template-columns: 20px auto;\n",
       "}\n",
       "\n",
       ".xr-array-wrap > label {\n",
       "  grid-column: 1;\n",
       "  vertical-align: top;\n",
       "}\n",
       "\n",
       ".xr-preview {\n",
       "  color: var(--xr-font-color3);\n",
       "}\n",
       "\n",
       ".xr-array-preview,\n",
       ".xr-array-data {\n",
       "  padding: 0 5px !important;\n",
       "  grid-column: 2;\n",
       "}\n",
       "\n",
       ".xr-array-data,\n",
       ".xr-array-in:checked ~ .xr-array-preview {\n",
       "  display: none;\n",
       "}\n",
       "\n",
       ".xr-array-in:checked ~ .xr-array-data,\n",
       ".xr-array-preview {\n",
       "  display: inline-block;\n",
       "}\n",
       "\n",
       ".xr-dim-list {\n",
       "  display: inline-block !important;\n",
       "  list-style: none;\n",
       "  padding: 0 !important;\n",
       "  margin: 0;\n",
       "}\n",
       "\n",
       ".xr-dim-list li {\n",
       "  display: inline-block;\n",
       "  padding: 0;\n",
       "  margin: 0;\n",
       "}\n",
       "\n",
       ".xr-dim-list:before {\n",
       "  content: '(';\n",
       "}\n",
       "\n",
       ".xr-dim-list:after {\n",
       "  content: ')';\n",
       "}\n",
       "\n",
       ".xr-dim-list li:not(:last-child):after {\n",
       "  content: ',';\n",
       "  padding-right: 5px;\n",
       "}\n",
       "\n",
       ".xr-has-index {\n",
       "  font-weight: bold;\n",
       "}\n",
       "\n",
       ".xr-var-list,\n",
       ".xr-var-item {\n",
       "  display: contents;\n",
       "}\n",
       "\n",
       ".xr-var-item > div,\n",
       ".xr-var-item label,\n",
       ".xr-var-item > .xr-var-name span {\n",
       "  background-color: var(--xr-background-color-row-even);\n",
       "  margin-bottom: 0;\n",
       "}\n",
       "\n",
       ".xr-var-item > .xr-var-name:hover span {\n",
       "  padding-right: 5px;\n",
       "}\n",
       "\n",
       ".xr-var-list > li:nth-child(odd) > div,\n",
       ".xr-var-list > li:nth-child(odd) > label,\n",
       ".xr-var-list > li:nth-child(odd) > .xr-var-name span {\n",
       "  background-color: var(--xr-background-color-row-odd);\n",
       "}\n",
       "\n",
       ".xr-var-name {\n",
       "  grid-column: 1;\n",
       "}\n",
       "\n",
       ".xr-var-dims {\n",
       "  grid-column: 2;\n",
       "}\n",
       "\n",
       ".xr-var-dtype {\n",
       "  grid-column: 3;\n",
       "  text-align: right;\n",
       "  color: var(--xr-font-color2);\n",
       "}\n",
       "\n",
       ".xr-var-preview {\n",
       "  grid-column: 4;\n",
       "}\n",
       "\n",
       ".xr-var-name,\n",
       ".xr-var-dims,\n",
       ".xr-var-dtype,\n",
       ".xr-preview,\n",
       ".xr-attrs dt {\n",
       "  white-space: nowrap;\n",
       "  overflow: hidden;\n",
       "  text-overflow: ellipsis;\n",
       "  padding-right: 10px;\n",
       "}\n",
       "\n",
       ".xr-var-name:hover,\n",
       ".xr-var-dims:hover,\n",
       ".xr-var-dtype:hover,\n",
       ".xr-attrs dt:hover {\n",
       "  overflow: visible;\n",
       "  width: auto;\n",
       "  z-index: 1;\n",
       "}\n",
       "\n",
       ".xr-var-attrs,\n",
       ".xr-var-data {\n",
       "  display: none;\n",
       "  background-color: var(--xr-background-color) !important;\n",
       "  padding-bottom: 5px !important;\n",
       "}\n",
       "\n",
       ".xr-var-attrs-in:checked ~ .xr-var-attrs,\n",
       ".xr-var-data-in:checked ~ .xr-var-data {\n",
       "  display: block;\n",
       "}\n",
       "\n",
       ".xr-var-data > table {\n",
       "  float: right;\n",
       "}\n",
       "\n",
       ".xr-var-name span,\n",
       ".xr-var-data,\n",
       ".xr-attrs {\n",
       "  padding-left: 25px !important;\n",
       "}\n",
       "\n",
       ".xr-attrs,\n",
       ".xr-var-attrs,\n",
       ".xr-var-data {\n",
       "  grid-column: 1 / -1;\n",
       "}\n",
       "\n",
       "dl.xr-attrs {\n",
       "  padding: 0;\n",
       "  margin: 0;\n",
       "  display: grid;\n",
       "  grid-template-columns: 125px auto;\n",
       "}\n",
       "\n",
       ".xr-attrs dt,\n",
       ".xr-attrs dd {\n",
       "  padding: 0;\n",
       "  margin: 0;\n",
       "  float: left;\n",
       "  padding-right: 10px;\n",
       "  width: auto;\n",
       "}\n",
       "\n",
       ".xr-attrs dt {\n",
       "  font-weight: normal;\n",
       "  grid-column: 1;\n",
       "}\n",
       "\n",
       ".xr-attrs dt:hover span {\n",
       "  display: inline-block;\n",
       "  background: var(--xr-background-color);\n",
       "  padding-right: 10px;\n",
       "}\n",
       "\n",
       ".xr-attrs dd {\n",
       "  grid-column: 2;\n",
       "  white-space: pre-wrap;\n",
       "  word-break: break-all;\n",
       "}\n",
       "\n",
       ".xr-icon-database,\n",
       ".xr-icon-file-text2 {\n",
       "  display: inline-block;\n",
       "  vertical-align: middle;\n",
       "  width: 1em;\n",
       "  height: 1.5em !important;\n",
       "  stroke-width: 0;\n",
       "  stroke: currentColor;\n",
       "  fill: currentColor;\n",
       "}\n",
       "</style><pre class='xr-text-repr-fallback'>&lt;xarray.DataArray ()&gt;\n",
       "array(0.01147801)</pre><div class='xr-wrap' style='display:none'><div class='xr-header'><div class='xr-obj-type'>xarray.DataArray</div><div class='xr-array-name'></div></div><ul class='xr-sections'><li class='xr-section-item'><div class='xr-array-wrap'><input id='section-40bccd51-b3d1-4518-a89e-7193cb6edb4a' class='xr-array-in' type='checkbox' checked><label for='section-40bccd51-b3d1-4518-a89e-7193cb6edb4a' title='Show/hide data repr'><svg class='icon xr-icon-database'><use xlink:href='#icon-database'></use></svg></label><div class='xr-array-preview xr-preview'><span>0.01148</span></div><div class='xr-array-data'><pre>array(0.01147801)</pre></div></div></li><li class='xr-section-item'><input id='section-e854e35d-f76e-40d1-afab-807e2a50d37d' class='xr-section-summary-in' type='checkbox' disabled ><label for='section-e854e35d-f76e-40d1-afab-807e2a50d37d' class='xr-section-summary'  title='Expand/collapse section'>Coordinates: <span>(0)</span></label><div class='xr-section-inline-details'></div><div class='xr-section-details'><ul class='xr-var-list'></ul></div></li><li class='xr-section-item'><input id='section-d60b5b2f-4da5-4bcf-af41-a5a94132b95f' class='xr-section-summary-in' type='checkbox' disabled ><label for='section-d60b5b2f-4da5-4bcf-af41-a5a94132b95f' class='xr-section-summary'  title='Expand/collapse section'>Attributes: <span>(0)</span></label><div class='xr-section-inline-details'></div><div class='xr-section-details'><dl class='xr-attrs'></dl></div></li></ul></div></div>"
      ],
      "text/plain": [
       "<xarray.DataArray ()>\n",
       "array(0.01147801)"
      ]
     },
     "execution_count": 94,
     "metadata": {},
     "output_type": "execute_result"
    }
   ],
   "source": [
    "bgr_dS_mean_compcumsum.mean()"
   ]
  },
  {
   "cell_type": "code",
   "execution_count": 97,
   "id": "8118fc79-a44d-4df9-a39a-100f664281cf",
   "metadata": {
    "tags": []
   },
   "outputs": [],
   "source": [
    "# en enlevant la première valeur \n",
    "bgr_dS_mean_compcumsum_min1val = bgr_dS_mean_compcumsum - bgr_dS_mean_compcumsum[0]\n"
   ]
  },
  {
   "cell_type": "code",
   "execution_count": 66,
   "id": "f4427898-b382-44fa-9ea4-87ec1c3fe8a5",
   "metadata": {
    "tags": []
   },
   "outputs": [],
   "source": [
    "# bgr_dSdt_mean_comp.plot()\n",
    "# bgr_dSdt_mean_prime_comp.plot()"
   ]
  },
  {
   "cell_type": "code",
   "execution_count": 98,
   "id": "d83db375-f891-486f-b003-3094176bbb93",
   "metadata": {
    "tags": []
   },
   "outputs": [
    {
     "data": {
      "image/png": "[encoded data removed]",
      "text/plain": [
       "<Figure size 1190.55x566.929 with 1 Axes>"
      ]
     },
     "metadata": {
      "needs_background": "light"
     },
     "output_type": "display_data"
    }
   ],
   "source": [
    "\n",
    "cm = 1/2.54  # centimeters in inches\n",
    "fig = plt.figure(figsize=(21*cm, 10*cm), facecolor='none', dpi=72*2)\n",
    "\n",
    "(1e3*bgr_dSdt_mean_prime_compcumsum).plot(color='r', linewidth=1)\n",
    "(1e3*bgr_dS_mean_compcumsum).plot(color='b', linewidth=1)\n",
    "# (1e3*bgr_dS_mean_compcumsum_min1val).plot()\n",
    "\n",
    "\n",
    "plt.legend([\"with time mean removed\",\"without time mean removed\"], fontsize=8)\n",
    "plt.ylabel(r\"[$10^{-3}$ $g$ $kg^{-1}$]\")\n",
    "plt.xlabel(\"Time\")\n",
    "\n",
    "plt.title(\"Timeseries of time-integrated dS averaged over the box BGR (run exp1)\")\n",
    "plt.grid()\n",
    "plt.ylim(-40,60)\n",
    "\n",
    "# plt.show()\n",
    "\n",
    "diro = \"/gpfsscratch/rech/cli/uor98hu/PLOTS/\" # plot directory\n",
    "namo = 'ts_exp1_Gtotal_mean_removed_vs_mean_not_removed.jpg'\n",
    "\n",
    "# fig.savefig(diro+namo, facecolor=fig.get_facecolor(), bbox_inches='tight', transparent=True) #,edgecolor='none', bbox_inches='tight'\n"
   ]
  },
  {
   "cell_type": "markdown",
   "id": "9335a2bd-56d0-49ca-8584-575f02a6e74f",
   "metadata": {
    "tags": []
   },
   "source": [
    "# morale: changer dans la figure 5: ne pas nelever de time-mean à aucun omment. à la limite enlever la first value de la série dejà en cumsum. "
   ]
  },
  {
   "cell_type": "code",
   "execution_count": 71,
   "id": "0bdc5fdd-30e8-42e7-b4fe-2905b5a9112c",
   "metadata": {
    "tags": []
   },
   "outputs": [],
   "source": [
    "dirww = \"/gpfswork/rech/cli/uor98hu/MYDATA/BILAN/BILANS/data4figure/\""
   ]
  },
  {
   "cell_type": "code",
   "execution_count": 75,
   "id": "1871de4d-0635-4a90-8550-73233e89a150",
   "metadata": {
    "tags": []
   },
   "outputs": [],
   "source": [
    "maskname = 'BGRmaskobs'\n",
    "ww_dS = xr.open_dataset(dirww + \"averageGAI_Sbudgetterms1980_2018_1m_000_bottom_\"+maskname+\".nc\").dSdt_boxtscomp \n",
    "ww_dScumsum = (ww_dS*nbsec).cumsum().compute()\n"
   ]
  },
  {
   "cell_type": "code",
   "execution_count": 76,
   "id": "26b7b2d3-622a-4a46-8d4b-6dbbfbe8dc6e",
   "metadata": {
    "tags": []
   },
   "outputs": [
    {
     "data": {
      "text/plain": [
       "[<matplotlib.lines.Line2D at 0x1510e1451070>]"
      ]
     },
     "execution_count": 76,
     "metadata": {},
     "output_type": "execute_result"
    },
    {
     "data": {
      "image/png": "[encoded data removed]",
      "text/plain": [
       "<Figure size 432x288 with 1 Axes>"
      ]
     },
     "metadata": {
      "needs_background": "light"
     },
     "output_type": "display_data"
    }
   ],
   "source": [
    "ww_dScumsum.plot()"
   ]
  },
  {
   "cell_type": "code",
   "execution_count": null,
   "id": "2ad54222-1ddf-479a-9fbe-d36bee800742",
   "metadata": {},
   "outputs": [],
   "source": []
  }
 ],
 "metadata": {
  "kernelspec": {
   "display_name": "climate_science",
   "language": "python",
   "name": "module-conda-env-climate_science"
  },
  "language_info": {
   "codemirror_mode": {
    "name": "ipython",
    "version": 3
   },
   "file_extension": ".py",
   "mimetype": "text/x-python",
   "name": "python",
   "nbconvert_exporter": "python",
   "pygments_lexer": "ipython3",
   "version": "3.9.1"
  }
 },
 "nbformat": 4,
 "nbformat_minor": 5
}
