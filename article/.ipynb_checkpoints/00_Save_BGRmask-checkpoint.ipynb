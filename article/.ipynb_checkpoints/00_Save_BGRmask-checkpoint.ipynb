{
 "cells": [
  {
   "cell_type": "markdown",
   "id": "9fb72ca7-e12c-4451-8930-0aae6f9954ef",
   "metadata": {},
   "source": [
    "# Create the mask of the Beaufort Gyre Region used in the study"
   ]
  },
  {
   "cell_type": "code",
   "execution_count": 1,
   "id": "e78bc86b-7161-4303-9d84-12d3f355dbb1",
   "metadata": {},
   "outputs": [],
   "source": [
    "## standart libraries\n",
    "\n",
    "import os,sys\n",
    "import numpy as np\n",
    "\n",
    "# xarray\n",
    "import xarray as xr\n",
    "\n",
    "# plot\n",
    "import cartopy\n",
    "import cartopy.crs as ccrs\n",
    "import cartopy.feature as cfeature\n",
    "\n",
    "import matplotlib.pyplot as plt\n",
    "from matplotlib.colors import Colormap\n",
    "import matplotlib.colors as mcolors\n",
    "import matplotlib.dates as mdates\n",
    "import matplotlib.cm as cm\n",
    "import matplotlib.ticker as mticker\n",
    "from matplotlib.colors import from_levels_and_colors\n",
    "from mpl_toolkits.axes_grid1.inset_locator import inset_axes\n",
    "import cmocean as ccm\n",
    "\n",
    "# custom tools for plotting\n",
    "import lib_SLXtools_IMHOTEP_2021 as slx\n",
    "\n",
    "import matplotlib.style as style\n",
    "style.use('tableau-colorblind10')"
   ]
  },
  {
   "cell_type": "code",
   "execution_count": 2,
   "id": "a14cc38d-3218-431a-afeb-5b9198f730c4",
   "metadata": {},
   "outputs": [
    {
     "name": "stderr",
     "output_type": "stream",
     "text": [
      "/linkhome/rech/genlop01/uor98hu/.local/lib/python3.9/site-packages/distributed/node.py:183: UserWarning: Port 8787 is already in use.\n",
      "Perhaps you already have a cluster running?\n",
      "Hosting the HTTP server on port 37409 instead\n",
      "  warnings.warn(\n"
     ]
    }
   ],
   "source": [
    "import multiprocessing.popen_spawn_posix\n",
    "from dask.distributed import Client\n",
    "c = Client()"
   ]
  },
  {
   "cell_type": "code",
   "execution_count": 3,
   "id": "be7ce02a-f527-4f45-85ed-0839600ffc3f",
   "metadata": {},
   "outputs": [],
   "source": [
    "# read grid files\n",
    "diri=\"/gpfswork/rech/cli/rcli002/eORCA025.L75/eORCA025.L75-I/\"\n",
    "tmask = xr.open_dataset(diri+'mesh_hgr.nc')['tmask'][0,0,:,:] # grille lat/lon\n",
    "nav_lon = xr.open_dataset(diri+'mesh_hgr.nc')['nav_lon']\n",
    "nav_lat = xr.open_dataset(diri+'mesh_hgr.nc')['nav_lat']\n",
    "mbathy = xr.open_dataset(diri+'eORCA025.L75_domain_cfg_closed_seas_greenland.nc')['bathy_meter'].isel(t=0) # grille lat/lon\n",
    "\n",
    "# land mask from model\n",
    "m2plt      = tmask.where(tmask==0)\n",
    "# default gridlines parameters\n",
    "gridl=False\n",
    "incrgridlon=30\n",
    "incrgridlat=10\n",
    "\n",
    "# vue N.Atl\n",
    "loncentr=330 # before it was zero\n",
    "latcentr=70\n",
    "#vue polaire\n",
    "loncentr=200 # before it was zero\n",
    "latcentr=90\n",
    "\n",
    "sath=2085831\n",
    "\n",
    "#========= Plot settings ===============\n",
    "# colormap\n",
    "def truncate_colormap(cmap, minval=0.0, maxval=1.0, n=100):\n",
    "    new_cmap = mcolors.LinearSegmentedColormap.from_list(\n",
    "        'trunc({n},{a:.2f},{b:.2f})'.format(n=cmap.name, a=minval, b=maxval),\n",
    "        cmap(np.linspace(minval, maxval, n)))\n",
    "    return new_cmap\n",
    "\n",
    "cmap = cm.RdYlBu_r\n",
    "my_map1 = truncate_colormap(cmap)\n",
    "colors = my_map1(np.linspace(0., 1, 50))\n",
    "mycm = mcolors.LinearSegmentedColormap.from_list('my_colormap', colors)\n",
    "\n",
    "lmin = -10.0\n",
    "incr = 1\n",
    "lmax = lmin*(-1)+0.1\n",
    "# define the bins and normalize\n",
    "bounds = np.arange(lmin,lmax,incr)\n",
    "norm = mcolors.BoundaryNorm(bounds, mycm.N)"
   ]
  },
  {
   "cell_type": "code",
   "execution_count": 19,
   "id": "caeb16c7-08a0-4853-9be2-a79f574333dc",
   "metadata": {},
   "outputs": [],
   "source": [
    "BGRmask = tmask.where((nav_lon<-130) & (nav_lon>-170) & (nav_lat<81) & (nav_lat>70)& (mbathy>300),0)"
   ]
  },
  {
   "cell_type": "code",
   "execution_count": 8,
   "id": "3daedd07-7560-4c2f-990d-ecb5ad51dc22",
   "metadata": {},
   "outputs": [],
   "source": [
    "# saving the mask\n",
    "ds = xr.Dataset(\n",
    "            data_vars=dict(BGRmask=([\"y\", \"x\"], BGRmask.data)),\n",
    "            attrs=dict(\n",
    "                description=\"mask of the Beaufort Gyre region defined as tmask.where((nav_lon<-130) & (nav_lon>-160) & (nav_lat<80.5) & (nav_lat>70.5)& (mbathy>300),0)\"))\n",
    "\n",
    "ds.to_netcdf('/gpfswork/rech/cli/uor98hu/MYDATA/TRANSPORT_WP1/BGRmaskobs.nc', mode='w')\n"
   ]
  },
  {
   "cell_type": "code",
   "execution_count": null,
   "id": "3e08c114-b111-4ee5-b55b-f142f3ea874e",
   "metadata": {},
   "outputs": [],
   "source": []
  }
 ],
 "metadata": {
  "kernelspec": {
   "display_name": "climate_science",
   "language": "python",
   "name": "module-conda-env-climate_science"
  },
  "language_info": {
   "codemirror_mode": {
    "name": "ipython",
    "version": 3
   },
   "file_extension": ".py",
   "mimetype": "text/x-python",
   "name": "python",
   "nbconvert_exporter": "python",
   "pygments_lexer": "ipython3",
   "version": "3.9.1"
  }
 },
 "nbformat": 4,
 "nbformat_minor": 5
}
