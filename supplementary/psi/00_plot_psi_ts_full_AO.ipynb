{
 "cells": [
  {
   "cell_type": "code",
   "execution_count": 1,
   "id": "43e36de4-e96a-4cf1-a73c-327f1b96e19d",
   "metadata": {},
   "outputs": [],
   "source": [
    "## standart libraries\n",
    "import os,sys\n",
    "import numpy as np\n",
    "# xarray\n",
    "import xarray as xr\n",
    "\n",
    "import matplotlib.pyplot as plt\n",
    "import matplotlib.style as style\n",
    "style.use('tableau-colorblind10')\n",
    "\n",
    "CB_colors = {\n",
    "\t'blue':\t'#377eb8',\n",
    "\t'orange':  '#ff7f00',\n",
    "\t'green':   '#4daf4a',\n",
    "\t'pink':\t'#f781bf',\n",
    "\t'brown':   '#a65628',\n",
    "\t'purple':  '#984ea3',\n",
    "\t'gray':\t'#999999',\n",
    "\t'red': \t'#e41a1c',\n",
    "\t'yellow':  '#dede00'\n",
    "}\n"
   ]
  },
  {
   "cell_type": "code",
   "execution_count": 2,
   "id": "9ef10377-cd38-4858-bf2e-42c44a3db02d",
   "metadata": {},
   "outputs": [
    {
     "name": "stderr",
     "output_type": "stream",
     "text": [
      "/gpfslocalsup/pub/anaconda-py3/2020.11/envs/climate_science/lib/python3.9/site-packages/distributed/node.py:151: UserWarning: Port 8787 is already in use.\n",
      "Perhaps you already have a cluster running?\n",
      "Hosting the HTTP server on port 35907 instead\n",
      "  warnings.warn(\n"
     ]
    },
    {
     "data": {
      "text/html": [
       "<table style=\"border: 2px solid white;\">\n",
       "<tr>\n",
       "<td style=\"vertical-align: top; border: 0px solid white\">\n",
       "<h3 style=\"text-align: left;\">Client</h3>\n",
       "<ul style=\"text-align: left; list-style: none; margin: 0; padding: 0;\">\n",
       "  <li><b>Scheduler: </b>tcp://127.0.0.1:37743</li>\n",
       "  <li><b>Dashboard: </b><a href='http://127.0.0.1:35907/status' target='_blank'>http://127.0.0.1:35907/status</a></li>\n",
       "</ul>\n",
       "</td>\n",
       "<td style=\"vertical-align: top; border: 0px solid white\">\n",
       "<h3 style=\"text-align: left;\">Cluster</h3>\n",
       "<ul style=\"text-align: left; list-style:none; margin: 0; padding: 0;\">\n",
       "  <li><b>Workers: </b>5</li>\n",
       "  <li><b>Cores: </b>10</li>\n",
       "  <li><b>Memory: </b>20.97 GB</li>\n",
       "</ul>\n",
       "</td>\n",
       "</tr>\n",
       "</table>"
      ],
      "text/plain": [
       "<Client: 'tcp://127.0.0.1:37743' processes=5 threads=10, memory=20.97 GB>"
      ]
     },
     "execution_count": 2,
     "metadata": {},
     "output_type": "execute_result"
    }
   ],
   "source": [
    "# from dask.distributed import Client\n",
    "import multiprocessing.popen_spawn_posix\n",
    "from distributed import Client\n",
    "\n",
    "c = Client()\n",
    "# c = Client(n_workers=6, threads_per_worker=1, memory_limit=\"8 GiB\",local_directory=\"/gpfsscratch/rech/cli/uor98hu/dask_tmp/\")\n",
    "c"
   ]
  },
  {
   "cell_type": "markdown",
   "id": "fa2a9878-ae7c-47fa-a8ae-7d67a2b919b7",
   "metadata": {},
   "source": [
    "# SAving data"
   ]
  },
  {
   "cell_type": "code",
   "execution_count": 3,
   "id": "26cdbede-47f0-4a3d-ba85-08760074024b",
   "metadata": {},
   "outputs": [
    {
     "name": "stderr",
     "output_type": "stream",
     "text": [
      "/gpfslocalsup/pub/anaconda-py3/2020.11/envs/climate_science/lib/python3.9/site-packages/xarray/core/indexing.py:1234: PerformanceWarning: Slicing is producing a large chunk. To accept the large\n",
      "chunk and silence this warning, set the option\n",
      "    >>> with dask.config.set(**{'array.slicing.split_large_chunks': False}):\n",
      "    ...     array[indexer]\n",
      "\n",
      "To avoid creating the large chunks, set the option\n",
      "    >>> with dask.config.set(**{'array.slicing.split_large_chunks': True}):\n",
      "    ...     array[indexer]\n",
      "  value = value[(slice(None),) * axis + (subkey,)]\n",
      "/gpfslocalsup/pub/anaconda-py3/2020.11/envs/climate_science/lib/python3.9/site-packages/xarray/core/indexing.py:1234: PerformanceWarning: Slicing is producing a large chunk. To accept the large\n",
      "chunk and silence this warning, set the option\n",
      "    >>> with dask.config.set(**{'array.slicing.split_large_chunks': False}):\n",
      "    ...     array[indexer]\n",
      "\n",
      "To avoid creating the large chunks, set the option\n",
      "    >>> with dask.config.set(**{'array.slicing.split_large_chunks': True}):\n",
      "    ...     array[indexer]\n",
      "  value = value[(slice(None),) * axis + (subkey,)]\n",
      "/gpfslocalsup/pub/anaconda-py3/2020.11/envs/climate_science/lib/python3.9/site-packages/xarray/core/indexing.py:1234: PerformanceWarning: Slicing is producing a large chunk. To accept the large\n",
      "chunk and silence this warning, set the option\n",
      "    >>> with dask.config.set(**{'array.slicing.split_large_chunks': False}):\n",
      "    ...     array[indexer]\n",
      "\n",
      "To avoid creating the large chunks, set the option\n",
      "    >>> with dask.config.set(**{'array.slicing.split_large_chunks': True}):\n",
      "    ...     array[indexer]\n",
      "  value = value[(slice(None),) * axis + (subkey,)]\n"
     ]
    }
   ],
   "source": [
    "chunk_size = {\"x\":349,\"y\":500} \n",
    "# arctic no greenland est\n",
    "Arctic_est_maskN = xr.open_dataset('/gpfswork/rech/cli/uor98hu/MYDATA/remoteGr_mask/Arctic_est_mask.nc', chunks={\"x\":349,\"y\":500}).polymask.squeeze()\n",
    "Arctic_west_mask = xr.open_dataset('/gpfswork/rech/cli/uor98hu/MYDATA/remoteGr_mask/Arctic_west_mask.nc',chunks={\"x\":349,\"y\":500}).polymask.squeeze()\n",
    "Arctic_NoGrEst_mask = Arctic_est_maskN + Arctic_west_mask\n",
    "\n",
    "dirisc= \"/gpfsscratch/rech/cli/uor98hu/Calcul_psi/\"\n",
    "GAI_psi = xr.open_mfdataset(dirisc+\"GAI/\"+\"*.nc\" ,chunks=chunk_size, parallel = True).sobarstf.where(Arctic_NoGrEst_mask,drop=True)\n",
    "AI_psi  = xr.open_mfdataset(dirisc+\"AI/\" +\"*.nc\" ,chunks=chunk_size, parallel = True).sobarstf.where(Arctic_NoGrEst_mask,drop=True)\n",
    "S_psi   = xr.open_mfdataset(dirisc+\"S/\"  +\"*.nc\" ,chunks=chunk_size, parallel = True).sobarstf.where(Arctic_NoGrEst_mask,drop=True)\n",
    "\n",
    "diri=\"/gpfswork/rech/cli/rcli002/eORCA025.L75/eORCA025.L75-I/\"\n",
    "mesh_hgr=xr.open_dataset(diri+'mesh_hgr.nc', chunks={\"x\":349,\"y\":500}).squeeze()\n",
    "# tmask = mesh_hgr.tmask\n",
    "\n",
    "e1t = mesh_hgr.e1t.where(Arctic_NoGrEst_mask,drop=True)\n",
    "e2t = mesh_hgr.e2t.where(Arctic_NoGrEst_mask,drop=True)\n",
    "\n",
    "cell_area = e2t*e1t\n",
    "area_total = cell_area.sum((\"y\",\"x\")).compute()\n",
    "WeightboxBG = (cell_area/area_total) #.compute()\n",
    "\n",
    "diro = \"/gpfsscratch/rech/cli/uor98hu/PLOTS/\""
   ]
  },
  {
   "cell_type": "code",
   "execution_count": null,
   "id": "1dd1ec61-dc16-4e2c-a4f9-b427bb1df459",
   "metadata": {
    "tags": []
   },
   "outputs": [],
   "source": []
  },
  {
   "cell_type": "markdown",
   "id": "697bd721-c9e3-42ed-8816-75ad868dc815",
   "metadata": {
    "tags": []
   },
   "source": [
    "# figure timeseries"
   ]
  },
  {
   "cell_type": "code",
   "execution_count": 4,
   "id": "a3e0459c-6a48-4c34-ace2-d3e3dab903e5",
   "metadata": {},
   "outputs": [
    {
     "name": "stdout",
     "output_type": "stream",
     "text": [
      "CPU times: user 54.2 s, sys: 1.94 s, total: 56.2 s\n",
      "Wall time: 1min 29s\n"
     ]
    }
   ],
   "source": [
    "%%time\n",
    "GAI_psi_wtmean = ((GAI_psi*WeightboxBG).sum((\"y\",\"x\"))).compute()\n",
    "AI_psi_wtmean  = ((AI_psi *WeightboxBG).sum((\"y\",\"x\"))).compute()\n",
    "S_psi_wtmean   = ((S_psi  *WeightboxBG).sum((\"y\",\"x\"))).compute()\n",
    "\n",
    "GAI_S_psi_wtmean  = GAI_psi_wtmean - S_psi_wtmean\n",
    "GAI_AI_psi_wtmean = GAI_psi_wtmean - AI_psi_wtmean\n",
    "AI_S_psi_wtmean   = AI_psi_wtmean  - S_psi_wtmean"
   ]
  },
  {
   "cell_type": "code",
   "execution_count": 6,
   "id": "423daacf-1795-425f-9c58-b164e873aee7",
   "metadata": {
    "tags": []
   },
   "outputs": [],
   "source": [
    "# #trend sur 2005-2018 sur les timeseries en originales\n",
    "# GAI_S_psi_wtmeanshort  = GAI_S_psi_wtmean.sel(time_counter=slice('2005','2018'))\n",
    "# GAI_AI_psi_wtmeanshort = GAI_AI_psi_wtmean.sel(time_counter=slice('2005','2018'))\n",
    "# AI_S_psi_wtmeanshort   = AI_S_psi_wtmean.sel(time_counter=slice('2005','2018'))\n"
   ]
  },
  {
   "cell_type": "code",
   "execution_count": 7,
   "id": "44bb0624-7ce2-475e-bea7-316c2c4fe0c8",
   "metadata": {
    "tags": []
   },
   "outputs": [
    {
     "name": "stdout",
     "output_type": "stream",
     "text": [
      "0.013818197841608239\n",
      "0.01705800824371773\n",
      "-0.003239810402109493\n"
     ]
    }
   ],
   "source": [
    "\n",
    "# # tranform into yearly data and to the linear regression\n",
    "# GAI_S_psi_wtmeanshort1y = GAI_S_psi_wtmeanshort.groupby('time_counter.year').mean('time_counter')\n",
    "# lin_reg = (GAI_S_psi_wtmeanshort1y/1e6).polyfit('year', deg=1)\n",
    "# polyfit_coeff = lin_reg.polyfit_coefficients.values\n",
    "# trcurveGAI_S = polyfit_coeff[0]*GAI_S_psi_wtmeanshort1y.year.values + polyfit_coeff[1]\n",
    "\n",
    "# GAI_AI_psi_wtmeanshort1y = GAI_AI_psi_wtmeanshort.groupby('time_counter.year').mean('time_counter')\n",
    "# lin_reg = (GAI_AI_psi_wtmeanshort1y/1e6).polyfit('year', deg=1)\n",
    "# polyfit_coeffgr = lin_reg.polyfit_coefficients.values\n",
    "# trcurveGAI_AI = polyfit_coeffgr[0]*GAI_AI_psi_wtmeanshort1y.year.values + polyfit_coeffgr[1]\n",
    "\n",
    "# AI_S_psi_wtmeanshort1y = AI_S_psi_wtmeanshort.groupby('time_counter.year').mean('time_counter')\n",
    "# lin_reg = (AI_S_psi_wtmeanshort1y/1e6).polyfit('year', deg=1)\n",
    "# polyfit_coeffriv = lin_reg.polyfit_coefficients.values\n",
    "# trcurveAI_S = polyfit_coeffriv[0]*AI_S_psi_wtmeanshort1y.year.values + polyfit_coeffriv[1]\n",
    "\n",
    "# #prepare the time array for the plot\n",
    "# time = [GAI_S_psi_wtmeanshort.time_counter[6 + i].values for i in np.arange(0,168,12)]\n",
    "# time4plot = [time[0],time[-1]]\n",
    "# trGAI_S4plot = [trcurveGAI_S[0],trcurveGAI_S[-1]] \n",
    "# trGAI_AI4plot = [trcurveGAI_AI[0],trcurveGAI_AI[-1]]\n",
    "# trAI_S4plot = [trcurveAI_S[0],trcurveAI_S[-1]] \n",
    "\n",
    "# #see the values of the trend\n",
    "# print(polyfit_coeff[0])\n",
    "# print(polyfit_coeffgr[0])\n",
    "# print(polyfit_coeffriv[0])"
   ]
  },
  {
   "cell_type": "code",
   "execution_count": 5,
   "id": "efa0607b-8022-40f8-b6be-f7d603f11299",
   "metadata": {},
   "outputs": [],
   "source": [
    "#rolling mean\n",
    "GAI_psi_wtmeanrollmean = GAI_psi_wtmean.rolling(time_counter=12).mean()\n",
    "AI_psi_wtmeanrollmean = AI_psi_wtmean.rolling(time_counter=12).mean()\n",
    "S_psi_wtmeanrollmean = S_psi_wtmean.rolling(time_counter=12).mean()\n",
    "\n",
    "GAI_S_psi_wtmeanrollmean = GAI_S_psi_wtmean.rolling(time_counter=12).mean()\n",
    "GAI_AI_psi_wtmeanrollmean = GAI_AI_psi_wtmean.rolling(time_counter=12).mean()\n",
    "AI_S_psi_wtmeanrollmean = AI_S_psi_wtmean.rolling(time_counter=12).mean()"
   ]
  },
  {
   "cell_type": "code",
   "execution_count": 12,
   "id": "79c71e25-51e3-4d53-8d9b-ad823efb8038",
   "metadata": {
    "tags": []
   },
   "outputs": [],
   "source": [
    "ds_ts = xr.Dataset(\n",
    "    data_vars=dict(GAI_psi_wtmeanrollmean=([\"time_counter\"], GAI_psi_wtmeanrollmean.data),\n",
    "                    AI_psi_wtmeanrollmean=([\"time_counter\"], AI_psi_wtmeanrollmean.data),\n",
    "                     S_psi_wtmeanrollmean=([\"time_counter\"], S_psi_wtmeanrollmean.data)),\n",
    "    coords=dict(time_counter=([\"time_counter\"], S_psi_wtmeanrollmean.time_counter.data)),\n",
    "    attrs=dict(\n",
    "        description=\"mean over the mask  No_Gr_est (full arctic as ususally defined) 1980-2018 from monthly psi, puis rolling mean\",\n",
    "        units=\"m3/s\"))\n",
    "\n",
    "ds_ts.to_netcdf('/gpfswork/rech/cli/uor98hu/MYDATA/psi/eORCA025.L75-IMHOTEP._y1980_2018.1y_GAI_AI_S_psi_ts_AO.nc', mode='w')"
   ]
  },
  {
   "cell_type": "code",
   "execution_count": 13,
   "id": "8c23d9e1-1938-4fbf-8e00-42e31ba360bf",
   "metadata": {
    "tags": []
   },
   "outputs": [],
   "source": [
    "ds_ts = xr.Dataset(\n",
    "    data_vars=dict(GAI_S_psi_wtmeanrollmean=([\"time_counter\"], GAI_S_psi_wtmeanrollmean.data),\n",
    "                    GAI_AI_psi_wtmeanrollmean=([\"time_counter\"], GAI_AI_psi_wtmeanrollmean.data),\n",
    "                     AI_S_psi_wtmeanrollmean=([\"time_counter\"], AI_S_psi_wtmeanrollmean.data)),\n",
    "    coords=dict(time_counter=([\"time_counter\"], S_psi_wtmeanrollmean.time_counter.data)),\n",
    "    attrs=dict(\n",
    "        description=\"mean over the mask  No_Gr_est (full arctic as ususally defined) 1980-2018 from monthly psi, puis rolling mean for GAI-AI, AI-S, et GAI-S\",\n",
    "        units=\"m3/s\"))\n",
    "\n",
    "ds_ts.to_netcdf('/gpfswork/rech/cli/uor98hu/MYDATA/psi/eORCA025.L75-IMHOTEP._y1980_2018.1y_sensibilities_psi_ts_AO.nc', mode='w')"
   ]
  },
  {
   "cell_type": "markdown",
   "id": "e0035b29-2b0f-4e72-930e-868cd316e106",
   "metadata": {
    "jp-MarkdownHeadingCollapsed": true,
    "tags": []
   },
   "source": [
    "## quantification"
   ]
  },
  {
   "cell_type": "code",
   "execution_count": 28,
   "id": "8483c0b9-f94a-447a-a21a-bd4f97c3cc27",
   "metadata": {
    "tags": []
   },
   "outputs": [
    {
     "name": "stdout",
     "output_type": "stream",
     "text": [
      "-2.6996056176271397\n",
      "-2.6762322783218244\n",
      "-2.7246335558257386\n",
      "-0.03096491593064465\n",
      "0.04388662164768447\n",
      "-0.0748515375783291\n"
     ]
    }
   ],
   "source": [
    "# MEAN\n",
    "print( (GAI_psi_wtmeanrollmean/1e6).min().values )\n",
    "print( (AI_psi_wtmeanrollmean/1e6).min().values )\n",
    "print( (S_psi_wtmeanrollmean/1e6).min().values )\n",
    "\n",
    "\n",
    "print( (GAI_S_psi_wtmeanrollmean /1e6).mean().values )\n",
    "print( (GAI_AI_psi_wtmeanrollmean/1e6).mean().values )\n",
    "print( (AI_S_psi_wtmeanrollmean  /1e6).mean().values )"
   ]
  },
  {
   "cell_type": "code",
   "execution_count": 29,
   "id": "e18a6c9c-c58d-4eb5-9f3f-b0bf688efcd7",
   "metadata": {
    "tags": []
   },
   "outputs": [
    {
     "name": "stdout",
     "output_type": "stream",
     "text": [
      "-2.700157150591567\n"
     ]
    }
   ],
   "source": [
    "print(np.mean([-2.6996056176271397,\n",
    "-2.6762322783218244,\n",
    "-2.7246335558257386\n",
    "]))"
   ]
  },
  {
   "cell_type": "code",
   "execution_count": 31,
   "id": "1bdd5488-97f9-4645-8d76-2fb646186f2b",
   "metadata": {
    "tags": []
   },
   "outputs": [
    {
     "name": "stdout",
     "output_type": "stream",
     "text": [
      "0.10660633166853584\n",
      "0.10827239367742406\n",
      "0.13570760567282367\n"
     ]
    }
   ],
   "source": [
    "# STD\n",
    "# print( (GAI_psi_wtmeanrollmean/1e6).std().values )\n",
    "# print( (AI_psi_wtmeanrollmean/1e6).std().values )\n",
    "# print( (S_psi_wtmeanrollmean/1e6).std().values )\n",
    "\n",
    "\n",
    "print( (GAI_S_psi_wtmeanrollmean /1e6).std().values )\n",
    "print( (GAI_AI_psi_wtmeanrollmean/1e6).std().values )\n",
    "print( (AI_S_psi_wtmeanrollmean  /1e6).std().values )\n"
   ]
  },
  {
   "cell_type": "code",
   "execution_count": 33,
   "id": "55807845-3346-4fb8-999a-c82f57f5855e",
   "metadata": {
    "tags": []
   },
   "outputs": [
    {
     "data": {
      "text/plain": [
       "1.5952831940034164"
      ]
     },
     "execution_count": 33,
     "metadata": {},
     "output_type": "execute_result"
    }
   ],
   "source": [
    "np.mean([1.5917254680223696,\n",
    "1.5501117891038436,\n",
    "1.644012324884036\n",
    "])"
   ]
  },
  {
   "cell_type": "code",
   "execution_count": 34,
   "id": "1a7f3e1e-44b0-45da-86b9-ac37bf026df1",
   "metadata": {
    "tags": []
   },
   "outputs": [
    {
     "data": {
      "text/plain": [
       "7.3254774311465765"
      ]
     },
     "execution_count": 34,
     "metadata": {},
     "output_type": "execute_result"
    }
   ],
   "source": [
    "(0.11686211033959452/1.5952831940034164)*100"
   ]
  },
  {
   "cell_type": "code",
   "execution_count": 37,
   "id": "ce05eaa0-a4a2-4867-8fcf-8c0069cc4ead",
   "metadata": {
    "tags": []
   },
   "outputs": [
    {
     "name": "stdout",
     "output_type": "stream",
     "text": [
      "<xarray.DataArray ()>\n",
      "array(8.15225925)\n",
      "<xarray.DataArray ()>\n",
      "array(8.90534925)\n",
      "<xarray.DataArray ()>\n",
      "array(9.64738064)\n",
      "8.901663046666668\n"
     ]
    }
   ],
   "source": [
    "# sur toute la période\n",
    "print(( abs((GAI_S_psi_wtmean/1e6)).mean() / abs(S_psi_wtmean/1e6).mean() )*100)\n",
    "print(( abs((GAI_AI_psi_wtmean/1e6)).mean() / abs(AI_psi_wtmean/1e6).mean() )*100)\n",
    "print(( abs((AI_S_psi_wtmean/1e6)).mean() / abs(S_psi_wtmean/1e6).mean() )*100)\n",
    "\n",
    "print(np.mean([8.15225925, 8.90534925, 9.64738064 ]))"
   ]
  },
  {
   "cell_type": "code",
   "execution_count": 40,
   "id": "23f67703-74ee-4afa-ba78-f7ee54bd76a6",
   "metadata": {
    "tags": []
   },
   "outputs": [
    {
     "name": "stdout",
     "output_type": "stream",
     "text": [
      "<xarray.DataArray ()>\n",
      "array(8.3913818)\n",
      "<xarray.DataArray ()>\n",
      "array(8.60081598)\n",
      "<xarray.DataArray ()>\n",
      "array(9.95360032)\n",
      "8.9819327\n"
     ]
    }
   ],
   "source": [
    "# sur  la période 2005-2018\n",
    "\n",
    "print(( abs((GAI_S_psi_wtmeanshort/1e6)).mean() / abs(S_psi_wtmean/1e6)  .sel(time_counter=slice('2005','2018')).mean() )*100)\n",
    "print(( abs((GAI_AI_psi_wtmeanshort/1e6)).mean() / abs(AI_psi_wtmean/1e6).sel(time_counter=slice('2005','2018')).mean() )*100)\n",
    "print(( abs((AI_S_psi_wtmeanshort/1e6)).mean() / abs(S_psi_wtmean/1e6)   .sel(time_counter=slice('2005','2018')).mean() )*100)\n",
    "\n",
    "print(np.mean([8.3913818,8.60081598, 9.95360032]))"
   ]
  },
  {
   "cell_type": "markdown",
   "id": "89ce893f-e01a-4fe3-8f47-1ba872ba3a72",
   "metadata": {},
   "source": [
    "# figure"
   ]
  },
  {
   "cell_type": "code",
   "execution_count": 6,
   "id": "4bf6bd7a-25cb-4975-ad10-cb66505a0e8f",
   "metadata": {
    "tags": []
   },
   "outputs": [
    {
     "name": "stdout",
     "output_type": "stream",
     "text": [
      "SI_ts_PSI_AO.jpg\n"
     ]
    },
    {
     "data": {
      "image/png": "[encoded data removed]",
      "text/plain": [
       "<Figure size 1077.17x651.969 with 2 Axes>"
      ]
     },
     "metadata": {
      "needs_background": "light"
     },
     "output_type": "display_data"
    }
   ],
   "source": [
    "diro = \"/gpfsscratch/rech/cli/uor98hu/PLOTS/\" # plot directory\n",
    "namo = 'SI_ts_PSI_AO.jpg'\n",
    "\n",
    "print(namo)\n",
    "cm = 1/2.54  # centimeters in inches\n",
    "fig, (ax0,ax1) = plt.subplots(2,1,figsize=(19*cm, 11.5*cm), facecolor='none', dpi=72*2, sharex=True)\n",
    "\n",
    "############-------------  Mean \n",
    "\n",
    "lim1 = -5\n",
    "lim2 = 5\n",
    "\n",
    "(GAI_psi_wtmeanrollmean/1e6).plot(ax=ax0, color=\"k\")\n",
    "(AI_psi_wtmeanrollmean/1e6).plot(ax=ax0, color=CB_colors[\"blue\"], alpha = 0.8) \n",
    "(S_psi_wtmeanrollmean/1e6).plot(ax=ax0, color=CB_colors[\"orange\"],alpha = 0.7) \n",
    "\n",
    "ax0.axvspan('2005', '2018-12', color=\"grey\", alpha=0.1)\n",
    "\n",
    "ax0.set_ylim(lim1,lim2)\n",
    "# ax0.set_title('')\n",
    "ax0.grid()\n",
    "ax0.legend([\"Exp1\",\"Exp2\", \"CLIM\"], loc ='upper left',fontsize=8) \n",
    "ax0.set_ylabel('[Sv]')\n",
    "ax0.set_xlabel('')\n",
    "\n",
    "# ax0.set_title('Mean barotropic stream function in the BGR box')\n",
    "\n",
    "\n",
    "# ############------------- partie PSI\n",
    "tt = GAI_S_psi_wtmeanrollmean.time_counter\n",
    "\n",
    "lim1 = -0.4\n",
    "lim2 = 0.4\n",
    "\n",
    "ax1.plot(tt, (GAI_S_psi_wtmeanrollmean  /1e6), color='k',linewidth=2)\n",
    "ax1.plot(tt, (GAI_AI_psi_wtmeanrollmean /1e6), linewidth=2,color=CB_colors['orange'])\n",
    "ax1.plot(tt, (AI_S_psi_wtmeanrollmean   /1e6), linewidth=2,color=CB_colors['blue'])\n",
    "\n",
    "# ax1.plot(time4plot,trGAI_S4plot  ,color='k'               ,linestyle='dashed')\n",
    "# ax1.plot(time4plot,trGAI_AI4plot,color=CB_colors['orange'],linestyle='dashed')\n",
    "# ax1.plot(time4plot,trAI_S4plot  ,color=CB_colors['blue'],linestyle='dashed')\n",
    "\n",
    "ax1.axvspan('2005', '2018-12', color=\"grey\", alpha=0.1)\n",
    "ax1.set_ylim(lim1,lim2)\n",
    "ax1.grid()\n",
    "ax1.legend(['Gr+Riv',\"GREENLAND\",\"RIVERS\"], loc=\"upper left\", fontsize=8)\n",
    "ax1.set_ylabel('[Sv]')\n",
    "# ax1.set_title('Barotropic stream function')\n",
    "\n",
    "ax1.set_xlabel('Time'); \n",
    "\n",
    "ax0.text(-0.08, 0.98, 'a)', fontsize=14, horizontalalignment='center', verticalalignment='center', transform=ax0.transAxes)\n",
    "ax1.text(-0.08, 0.98, 'b)', fontsize=14, horizontalalignment='center', verticalalignment='center', transform=ax1.transAxes)\n",
    "plt.subplots_adjust(hspace=0.1)\n",
    "\n",
    "plt.show()\n",
    "# fig.savefig(diro+namo, facecolor=fig.get_facecolor(), pad_inches=0.1, bbox_inches='tight') #,edgecolor='none', bbox_inches='tight'\n",
    "# plt.close(fig)"
   ]
  },
  {
   "cell_type": "code",
   "execution_count": null,
   "id": "e5766d1f-16b3-4044-bd7c-3f866ccd190b",
   "metadata": {},
   "outputs": [],
   "source": []
  },
  {
   "cell_type": "code",
   "execution_count": null,
   "id": "6f5f535b-507f-425c-b869-644b42a6c238",
   "metadata": {},
   "outputs": [],
   "source": []
  },
  {
   "cell_type": "code",
   "execution_count": null,
   "id": "e19f3eaf-a861-4f83-99e5-1d7ab68c82fd",
   "metadata": {},
   "outputs": [],
   "source": []
  },
  {
   "cell_type": "code",
   "execution_count": null,
   "id": "2c8d8013-0f51-4da1-b135-510c1e4dff37",
   "metadata": {},
   "outputs": [],
   "source": []
  }
 ],
 "metadata": {
  "kernelspec": {
   "display_name": "climate_science",
   "language": "python",
   "name": "module-conda-env-climate_science"
  },
  "language_info": {
   "codemirror_mode": {
    "name": "ipython",
    "version": 3
   },
   "file_extension": ".py",
   "mimetype": "text/x-python",
   "name": "python",
   "nbconvert_exporter": "python",
   "pygments_lexer": "ipython3",
   "version": "3.9.1"
  }
 },
 "nbformat": 4,
 "nbformat_minor": 5
}
