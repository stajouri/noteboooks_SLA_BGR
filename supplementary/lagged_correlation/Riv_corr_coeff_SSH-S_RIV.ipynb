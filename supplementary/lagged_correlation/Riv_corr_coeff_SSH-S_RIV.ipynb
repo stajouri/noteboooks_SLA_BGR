{
 "cells": [
  {
   "cell_type": "markdown",
   "id": "49aef471-b63d-4b6a-9eba-5de2e34f1857",
   "metadata": {},
   "source": [
    "But : compute the correlation coefficient of the lagged ssh time series and S_Riv for the period 2005-2018 for AI-S"
   ]
  },
  {
   "cell_type": "code",
   "execution_count": 1,
   "id": "6f6d6d02-c914-47df-8764-70ce66410162",
   "metadata": {},
   "outputs": [],
   "source": [
    "## standart libraries\n",
    "\n",
    "import os,sys\n",
    "import numpy as np\n",
    "\n",
    "# xarray\n",
    "import xarray as xr\n",
    "\n",
    "import cartopy\n",
    "import cartopy.crs as ccrs\n",
    "import matplotlib.pyplot as plt\n",
    "from matplotlib.colors import Colormap\n",
    "import matplotlib.colors as mcolors\n",
    "import matplotlib.dates as mdates\n",
    "import matplotlib.cm as cm\n",
    "import matplotlib.dates as mdates\n",
    "import matplotlib.ticker as mticker\n",
    "from matplotlib.colors import from_levels_and_colors\n",
    "from mpl_toolkits.axes_grid1.inset_locator import inset_axes\n",
    "\n",
    "import cartopy.feature as cfeature\n",
    "# plot\n",
    "import regress3d as reg\n",
    "import cmocean as ccm"
   ]
  },
  {
   "cell_type": "code",
   "execution_count": 2,
   "id": "3b121de7-471b-4830-a55d-db0a6324db9c",
   "metadata": {},
   "outputs": [
    {
     "name": "stderr",
     "output_type": "stream",
     "text": [
      "/linkhome/rech/genlop01/uor98hu/.local/lib/python3.9/site-packages/distributed/node.py:183: UserWarning: Port 8787 is already in use.\n",
      "Perhaps you already have a cluster running?\n",
      "Hosting the HTTP server on port 37983 instead\n",
      "  warnings.warn(\n"
     ]
    },
    {
     "data": {
      "text/html": [
       "<div>\n",
       "    <div style=\"width: 24px; height: 24px; background-color: #e1e1e1; border: 3px solid #9D9D9D; border-radius: 5px; position: absolute;\"> </div>\n",
       "    <div style=\"margin-left: 48px;\">\n",
       "        <h3 style=\"margin-bottom: 0px;\">Client</h3>\n",
       "        <p style=\"color: #9D9D9D; margin-bottom: 0px;\">Client-af846e92-fec6-11ed-95ac-0cc47af5bf5b</p>\n",
       "        <table style=\"width: 100%; text-align: left;\">\n",
       "\n",
       "        <tr>\n",
       "        \n",
       "            <td style=\"text-align: left;\"><strong>Connection method:</strong> Cluster object</td>\n",
       "            <td style=\"text-align: left;\"><strong>Cluster type:</strong> distributed.LocalCluster</td>\n",
       "        \n",
       "        </tr>\n",
       "\n",
       "        \n",
       "            <tr>\n",
       "                <td style=\"text-align: left;\">\n",
       "                    <strong>Dashboard: </strong> <a href=\"http://127.0.0.1:37983/status\" target=\"_blank\">http://127.0.0.1:37983/status</a>\n",
       "                </td>\n",
       "                <td style=\"text-align: left;\"></td>\n",
       "            </tr>\n",
       "        \n",
       "\n",
       "        </table>\n",
       "\n",
       "        \n",
       "            <details>\n",
       "            <summary style=\"margin-bottom: 20px;\"><h3 style=\"display: inline;\">Cluster Info</h3></summary>\n",
       "            <div class=\"jp-RenderedHTMLCommon jp-RenderedHTML jp-mod-trusted jp-OutputArea-output\">\n",
       "    <div style=\"width: 24px; height: 24px; background-color: #e1e1e1; border: 3px solid #9D9D9D; border-radius: 5px; position: absolute;\">\n",
       "    </div>\n",
       "    <div style=\"margin-left: 48px;\">\n",
       "        <h3 style=\"margin-bottom: 0px; margin-top: 0px;\">LocalCluster</h3>\n",
       "        <p style=\"color: #9D9D9D; margin-bottom: 0px;\">404e811a</p>\n",
       "        <table style=\"width: 100%; text-align: left;\">\n",
       "            <tr>\n",
       "                <td style=\"text-align: left;\">\n",
       "                    <strong>Dashboard:</strong> <a href=\"http://127.0.0.1:37983/status\" target=\"_blank\">http://127.0.0.1:37983/status</a>\n",
       "                </td>\n",
       "                <td style=\"text-align: left;\">\n",
       "                    <strong>Workers:</strong> 5\n",
       "                </td>\n",
       "            </tr>\n",
       "            <tr>\n",
       "                <td style=\"text-align: left;\">\n",
       "                    <strong>Total threads:</strong> 10\n",
       "                </td>\n",
       "                <td style=\"text-align: left;\">\n",
       "                    <strong>Total memory:</strong> 20.00 GiB\n",
       "                </td>\n",
       "            </tr>\n",
       "            \n",
       "            <tr>\n",
       "    <td style=\"text-align: left;\"><strong>Status:</strong> running</td>\n",
       "    <td style=\"text-align: left;\"><strong>Using processes:</strong> True</td>\n",
       "</tr>\n",
       "\n",
       "            \n",
       "        </table>\n",
       "\n",
       "        <details>\n",
       "            <summary style=\"margin-bottom: 20px;\">\n",
       "                <h3 style=\"display: inline;\">Scheduler Info</h3>\n",
       "            </summary>\n",
       "\n",
       "            <div style=\"\">\n",
       "    <div>\n",
       "        <div style=\"width: 24px; height: 24px; background-color: #FFF7E5; border: 3px solid #FF6132; border-radius: 5px; position: absolute;\"> </div>\n",
       "        <div style=\"margin-left: 48px;\">\n",
       "            <h3 style=\"margin-bottom: 0px;\">Scheduler</h3>\n",
       "            <p style=\"color: #9D9D9D; margin-bottom: 0px;\">Scheduler-e74fb355-82d4-4a71-ad2a-09ccd066fd5d</p>\n",
       "            <table style=\"width: 100%; text-align: left;\">\n",
       "                <tr>\n",
       "                    <td style=\"text-align: left;\">\n",
       "                        <strong>Comm:</strong> tcp://127.0.0.1:40949\n",
       "                    </td>\n",
       "                    <td style=\"text-align: left;\">\n",
       "                        <strong>Workers:</strong> 5\n",
       "                    </td>\n",
       "                </tr>\n",
       "                <tr>\n",
       "                    <td style=\"text-align: left;\">\n",
       "                        <strong>Dashboard:</strong> <a href=\"http://127.0.0.1:37983/status\" target=\"_blank\">http://127.0.0.1:37983/status</a>\n",
       "                    </td>\n",
       "                    <td style=\"text-align: left;\">\n",
       "                        <strong>Total threads:</strong> 10\n",
       "                    </td>\n",
       "                </tr>\n",
       "                <tr>\n",
       "                    <td style=\"text-align: left;\">\n",
       "                        <strong>Started:</strong> Just now\n",
       "                    </td>\n",
       "                    <td style=\"text-align: left;\">\n",
       "                        <strong>Total memory:</strong> 20.00 GiB\n",
       "                    </td>\n",
       "                </tr>\n",
       "            </table>\n",
       "        </div>\n",
       "    </div>\n",
       "\n",
       "    <details style=\"margin-left: 48px;\">\n",
       "        <summary style=\"margin-bottom: 20px;\">\n",
       "            <h3 style=\"display: inline;\">Workers</h3>\n",
       "        </summary>\n",
       "\n",
       "        \n",
       "        <div style=\"margin-bottom: 20px;\">\n",
       "            <div style=\"width: 24px; height: 24px; background-color: #DBF5FF; border: 3px solid #4CC9FF; border-radius: 5px; position: absolute;\"> </div>\n",
       "            <div style=\"margin-left: 48px;\">\n",
       "            <details>\n",
       "                <summary>\n",
       "                    <h4 style=\"margin-bottom: 0px; display: inline;\">Worker: 0</h4>\n",
       "                </summary>\n",
       "                <table style=\"width: 100%; text-align: left;\">\n",
       "                    <tr>\n",
       "                        <td style=\"text-align: left;\">\n",
       "                            <strong>Comm: </strong> tcp://127.0.0.1:36595\n",
       "                        </td>\n",
       "                        <td style=\"text-align: left;\">\n",
       "                            <strong>Total threads: </strong> 2\n",
       "                        </td>\n",
       "                    </tr>\n",
       "                    <tr>\n",
       "                        <td style=\"text-align: left;\">\n",
       "                            <strong>Dashboard: </strong> <a href=\"http://127.0.0.1:42701/status\" target=\"_blank\">http://127.0.0.1:42701/status</a>\n",
       "                        </td>\n",
       "                        <td style=\"text-align: left;\">\n",
       "                            <strong>Memory: </strong> 4.00 GiB\n",
       "                        </td>\n",
       "                    </tr>\n",
       "                    <tr>\n",
       "                        <td style=\"text-align: left;\">\n",
       "                            <strong>Nanny: </strong> tcp://127.0.0.1:42647\n",
       "                        </td>\n",
       "                        <td style=\"text-align: left;\"></td>\n",
       "                    </tr>\n",
       "                    <tr>\n",
       "                        <td colspan=\"2\" style=\"text-align: left;\">\n",
       "                            <strong>Local directory: </strong> /tmp/dask-worker-space/worker-zrvtroj2\n",
       "                        </td>\n",
       "                    </tr>\n",
       "\n",
       "                    \n",
       "\n",
       "                    \n",
       "\n",
       "                </table>\n",
       "            </details>\n",
       "            </div>\n",
       "        </div>\n",
       "        \n",
       "        <div style=\"margin-bottom: 20px;\">\n",
       "            <div style=\"width: 24px; height: 24px; background-color: #DBF5FF; border: 3px solid #4CC9FF; border-radius: 5px; position: absolute;\"> </div>\n",
       "            <div style=\"margin-left: 48px;\">\n",
       "            <details>\n",
       "                <summary>\n",
       "                    <h4 style=\"margin-bottom: 0px; display: inline;\">Worker: 1</h4>\n",
       "                </summary>\n",
       "                <table style=\"width: 100%; text-align: left;\">\n",
       "                    <tr>\n",
       "                        <td style=\"text-align: left;\">\n",
       "                            <strong>Comm: </strong> tcp://127.0.0.1:39705\n",
       "                        </td>\n",
       "                        <td style=\"text-align: left;\">\n",
       "                            <strong>Total threads: </strong> 2\n",
       "                        </td>\n",
       "                    </tr>\n",
       "                    <tr>\n",
       "                        <td style=\"text-align: left;\">\n",
       "                            <strong>Dashboard: </strong> <a href=\"http://127.0.0.1:46079/status\" target=\"_blank\">http://127.0.0.1:46079/status</a>\n",
       "                        </td>\n",
       "                        <td style=\"text-align: left;\">\n",
       "                            <strong>Memory: </strong> 4.00 GiB\n",
       "                        </td>\n",
       "                    </tr>\n",
       "                    <tr>\n",
       "                        <td style=\"text-align: left;\">\n",
       "                            <strong>Nanny: </strong> tcp://127.0.0.1:40027\n",
       "                        </td>\n",
       "                        <td style=\"text-align: left;\"></td>\n",
       "                    </tr>\n",
       "                    <tr>\n",
       "                        <td colspan=\"2\" style=\"text-align: left;\">\n",
       "                            <strong>Local directory: </strong> /tmp/dask-worker-space/worker-7jx8z7jo\n",
       "                        </td>\n",
       "                    </tr>\n",
       "\n",
       "                    \n",
       "\n",
       "                    \n",
       "\n",
       "                </table>\n",
       "            </details>\n",
       "            </div>\n",
       "        </div>\n",
       "        \n",
       "        <div style=\"margin-bottom: 20px;\">\n",
       "            <div style=\"width: 24px; height: 24px; background-color: #DBF5FF; border: 3px solid #4CC9FF; border-radius: 5px; position: absolute;\"> </div>\n",
       "            <div style=\"margin-left: 48px;\">\n",
       "            <details>\n",
       "                <summary>\n",
       "                    <h4 style=\"margin-bottom: 0px; display: inline;\">Worker: 2</h4>\n",
       "                </summary>\n",
       "                <table style=\"width: 100%; text-align: left;\">\n",
       "                    <tr>\n",
       "                        <td style=\"text-align: left;\">\n",
       "                            <strong>Comm: </strong> tcp://127.0.0.1:36521\n",
       "                        </td>\n",
       "                        <td style=\"text-align: left;\">\n",
       "                            <strong>Total threads: </strong> 2\n",
       "                        </td>\n",
       "                    </tr>\n",
       "                    <tr>\n",
       "                        <td style=\"text-align: left;\">\n",
       "                            <strong>Dashboard: </strong> <a href=\"http://127.0.0.1:38657/status\" target=\"_blank\">http://127.0.0.1:38657/status</a>\n",
       "                        </td>\n",
       "                        <td style=\"text-align: left;\">\n",
       "                            <strong>Memory: </strong> 4.00 GiB\n",
       "                        </td>\n",
       "                    </tr>\n",
       "                    <tr>\n",
       "                        <td style=\"text-align: left;\">\n",
       "                            <strong>Nanny: </strong> tcp://127.0.0.1:43213\n",
       "                        </td>\n",
       "                        <td style=\"text-align: left;\"></td>\n",
       "                    </tr>\n",
       "                    <tr>\n",
       "                        <td colspan=\"2\" style=\"text-align: left;\">\n",
       "                            <strong>Local directory: </strong> /tmp/dask-worker-space/worker-f1ljy9j1\n",
       "                        </td>\n",
       "                    </tr>\n",
       "\n",
       "                    \n",
       "\n",
       "                    \n",
       "\n",
       "                </table>\n",
       "            </details>\n",
       "            </div>\n",
       "        </div>\n",
       "        \n",
       "        <div style=\"margin-bottom: 20px;\">\n",
       "            <div style=\"width: 24px; height: 24px; background-color: #DBF5FF; border: 3px solid #4CC9FF; border-radius: 5px; position: absolute;\"> </div>\n",
       "            <div style=\"margin-left: 48px;\">\n",
       "            <details>\n",
       "                <summary>\n",
       "                    <h4 style=\"margin-bottom: 0px; display: inline;\">Worker: 3</h4>\n",
       "                </summary>\n",
       "                <table style=\"width: 100%; text-align: left;\">\n",
       "                    <tr>\n",
       "                        <td style=\"text-align: left;\">\n",
       "                            <strong>Comm: </strong> tcp://127.0.0.1:34615\n",
       "                        </td>\n",
       "                        <td style=\"text-align: left;\">\n",
       "                            <strong>Total threads: </strong> 2\n",
       "                        </td>\n",
       "                    </tr>\n",
       "                    <tr>\n",
       "                        <td style=\"text-align: left;\">\n",
       "                            <strong>Dashboard: </strong> <a href=\"http://127.0.0.1:40549/status\" target=\"_blank\">http://127.0.0.1:40549/status</a>\n",
       "                        </td>\n",
       "                        <td style=\"text-align: left;\">\n",
       "                            <strong>Memory: </strong> 4.00 GiB\n",
       "                        </td>\n",
       "                    </tr>\n",
       "                    <tr>\n",
       "                        <td style=\"text-align: left;\">\n",
       "                            <strong>Nanny: </strong> tcp://127.0.0.1:45503\n",
       "                        </td>\n",
       "                        <td style=\"text-align: left;\"></td>\n",
       "                    </tr>\n",
       "                    <tr>\n",
       "                        <td colspan=\"2\" style=\"text-align: left;\">\n",
       "                            <strong>Local directory: </strong> /tmp/dask-worker-space/worker-_8qsvsdx\n",
       "                        </td>\n",
       "                    </tr>\n",
       "\n",
       "                    \n",
       "\n",
       "                    \n",
       "\n",
       "                </table>\n",
       "            </details>\n",
       "            </div>\n",
       "        </div>\n",
       "        \n",
       "        <div style=\"margin-bottom: 20px;\">\n",
       "            <div style=\"width: 24px; height: 24px; background-color: #DBF5FF; border: 3px solid #4CC9FF; border-radius: 5px; position: absolute;\"> </div>\n",
       "            <div style=\"margin-left: 48px;\">\n",
       "            <details>\n",
       "                <summary>\n",
       "                    <h4 style=\"margin-bottom: 0px; display: inline;\">Worker: 4</h4>\n",
       "                </summary>\n",
       "                <table style=\"width: 100%; text-align: left;\">\n",
       "                    <tr>\n",
       "                        <td style=\"text-align: left;\">\n",
       "                            <strong>Comm: </strong> tcp://127.0.0.1:44351\n",
       "                        </td>\n",
       "                        <td style=\"text-align: left;\">\n",
       "                            <strong>Total threads: </strong> 2\n",
       "                        </td>\n",
       "                    </tr>\n",
       "                    <tr>\n",
       "                        <td style=\"text-align: left;\">\n",
       "                            <strong>Dashboard: </strong> <a href=\"http://127.0.0.1:45155/status\" target=\"_blank\">http://127.0.0.1:45155/status</a>\n",
       "                        </td>\n",
       "                        <td style=\"text-align: left;\">\n",
       "                            <strong>Memory: </strong> 4.00 GiB\n",
       "                        </td>\n",
       "                    </tr>\n",
       "                    <tr>\n",
       "                        <td style=\"text-align: left;\">\n",
       "                            <strong>Nanny: </strong> tcp://127.0.0.1:39485\n",
       "                        </td>\n",
       "                        <td style=\"text-align: left;\"></td>\n",
       "                    </tr>\n",
       "                    <tr>\n",
       "                        <td colspan=\"2\" style=\"text-align: left;\">\n",
       "                            <strong>Local directory: </strong> /tmp/dask-worker-space/worker-qesak2tk\n",
       "                        </td>\n",
       "                    </tr>\n",
       "\n",
       "                    \n",
       "\n",
       "                    \n",
       "\n",
       "                </table>\n",
       "            </details>\n",
       "            </div>\n",
       "        </div>\n",
       "        \n",
       "\n",
       "    </details>\n",
       "</div>\n",
       "\n",
       "        </details>\n",
       "    </div>\n",
       "</div>\n",
       "            </details>\n",
       "        \n",
       "\n",
       "    </div>\n",
       "</div>"
      ],
      "text/plain": [
       "<Client: 'tcp://127.0.0.1:40949' processes=5 threads=10, memory=20.00 GiB>"
      ]
     },
     "execution_count": 2,
     "metadata": {},
     "output_type": "execute_result"
    }
   ],
   "source": [
    "from dask.distributed import Client\n",
    "c = Client()\n",
    "c"
   ]
  },
  {
   "cell_type": "markdown",
   "id": "8cbb926f-f199-4254-ab95-95da088537ab",
   "metadata": {},
   "source": [
    "### prepare the time series to which I am going to compare the 3D matrix : t = 39 (years)"
   ]
  },
  {
   "cell_type": "code",
   "execution_count": 3,
   "id": "c4fe583a-17f6-43a0-9867-5422919c9934",
   "metadata": {},
   "outputs": [],
   "source": [
    "chunk_size = {\"x\":500,\"y\":500}\n",
    "diri=\"/gpfswork/rech/cli/rcli002/eORCA025.L75/eORCA025.L75-I/\"\n",
    "mesh_hgr = xr.open_dataset(diri+'mesh_hgr.nc',chunks=chunk_size).squeeze()\n",
    "tmask = mesh_hgr.tmask\n",
    "\n",
    "e1t = mesh_hgr.e1t.fillna(0)\n",
    "e2t = mesh_hgr.e2t.fillna(0)\n",
    "\n",
    "nav_lon =  mesh_hgr.nav_lon\n",
    "nav_lat =  mesh_hgr.nav_lat\n",
    "\n",
    "# constructing the weight\n",
    "bt = (e1t * e2t).load()# area of each cell"
   ]
  },
  {
   "cell_type": "code",
   "execution_count": 4,
   "id": "c0698b29-2c17-4e14-94c9-18bdfe0ae1b3",
   "metadata": {},
   "outputs": [],
   "source": [
    "maskBG = xr.open_dataset('/gpfswork/rech/cli/uor98hu/MYDATA/TRANSPORT_WP1/BGRmaskobs.nc', chunks=chunk_size).BGRmask.squeeze()\n",
    "\n",
    "diridat = '/gpfswork/rech/cli/uor98hu/MYDATA/SSH/'\n",
    "\n",
    "# daGAI = xr.open_mfdataset(diridat+'GAI/eORCA025.L75-IMHOTEP.GAI_y1980_2018.1m_sossheigCorrected.nc',chunks=chunk_size).sossheig\n",
    "daS = xr.open_mfdataset(diridat+'S/eORCA025.L75-IMHOTEP.S_y1980_2018.1m_sossheigCorrected.nc',chunks=chunk_size).sossheig\n",
    "daAI = xr.open_mfdataset(diridat+'AI/eORCA025.L75-IMHOTEP.AI_y1980_2018.1m_sossheigCorrected.nc',chunks=chunk_size).sossheig\n",
    "\n",
    "# doing mean over each year\n",
    "# daGAI = daGAI.groupby('time_counter.year').mean('time_counter')\n",
    "daS = daS.groupby('time_counter.year').mean('time_counter')\n",
    "daAI = daAI.groupby('time_counter.year').mean('time_counter')\n",
    "\n",
    "# constructing the weight\n",
    "btboxBG = bt.where(maskBG,drop=True)\n",
    "tmaskboxBG = tmask.where(maskBG,drop=True)\n",
    "oceanArea = (btboxBG*tmaskboxBG[0])  #tmask : 1 on ocean, 0 on land\n",
    "totalOceanArea = oceanArea.sum()\n",
    "WeightboxBG = (oceanArea/totalOceanArea) #.compute()\n",
    "\n",
    "# sshGAIboxBG =(daGAI.where(maskBG,drop=True) * WeightboxBG).sum(('x','y'))\n",
    "sshAIboxBG = (daAI.where(maskBG,drop=True)  * WeightboxBG).sum(('x','y'))\n",
    "sshSboxBG  = (daS.where(maskBG,drop=True)   * WeightboxBG).sum(('x','y'))\n",
    "\n",
    "# diffGAI_AI = sshGAIboxBG - sshAIboxBG\n",
    "diffS_AI = sshSboxBG - sshAIboxBG"
   ]
  },
  {
   "cell_type": "code",
   "execution_count": 5,
   "id": "048b089b-e3e3-4490-b121-e66cf02f5d4e",
   "metadata": {},
   "outputs": [
    {
     "data": {
      "text/plain": [
       "[<matplotlib.lines.Line2D at 0x153e8b3d9f70>]"
      ]
     },
     "execution_count": 5,
     "metadata": {},
     "output_type": "execute_result"
    },
    {
     "data": {
      "image/png": "[encoded data removed]",
      "text/plain": [
       "<Figure size 432x288 with 1 Axes>"
      ]
     },
     "metadata": {
      "needs_background": "light"
     },
     "output_type": "display_data"
    }
   ],
   "source": [
    "diffS_AI.plot()"
   ]
  },
  {
   "cell_type": "markdown",
   "id": "e544d030-1bdc-4567-a890-35f1a54a17cc",
   "metadata": {},
   "source": [
    "### définition de la région d'analyse"
   ]
  },
  {
   "cell_type": "code",
   "execution_count": 7,
   "id": "07587f25-597f-4970-93e7-a67fb7fef76d",
   "metadata": {},
   "outputs": [],
   "source": [
    "path = \"/gpfsscratch/rech/cli/uor98hu/Rivers_contribution/integral_wholecolumn\"\n",
    "chunk_size = {\"time_counter\":1} # {\"x\":500,\"y\":500} \"x\":360,\"y\":500\n",
    "S_riv = xr.open_mfdataset(path+\"/eORCA025.L75-IMHOTEP.RIVERS_y*mall_1m_RivSalinitywholeColumn.nc\", chunks=chunk_size).S_riv_integral\n",
    "S_riv = S_riv.groupby(\"time_counter.year\").mean('time_counter')\n",
    "\n",
    "S_riv_cropped = S_riv.where(nav_lat>=60, drop=True).load()"
   ]
  },
  {
   "cell_type": "code",
   "execution_count": null,
   "id": "6fbbb418-38e0-4a3f-941a-a5f428152955",
   "metadata": {},
   "outputs": [],
   "source": []
  },
  {
   "cell_type": "markdown",
   "id": "4274437d-24f0-40e8-bf8b-e8a58b1c4a9c",
   "metadata": {},
   "source": [
    "# compute the correlation"
   ]
  },
  {
   "cell_type": "code",
   "execution_count": 8,
   "id": "8bb551f0-48d9-4a07-8f31-7ce0134b9738",
   "metadata": {},
   "outputs": [],
   "source": [
    "r_matrix = np.zeros((6,232,1221))"
   ]
  },
  {
   "cell_type": "code",
   "execution_count": 9,
   "id": "8f9e3808-d116-40e2-9930-0086a070f628",
   "metadata": {},
   "outputs": [
    {
     "name": "stderr",
     "output_type": "stream",
     "text": [
      "/gpfsdswork/projects/rech/cli/uor98hu/pythonfiles/lagged_correlation/regress3d.py:53: RuntimeWarning: invalid value encountered in true_divide\n",
      "  expvar=(1-(SSE/SSY))*100.0\n",
      "/gpfsdswork/projects/rech/cli/uor98hu/pythonfiles/lagged_correlation/regress3d.py:72: RuntimeWarning: invalid value encountered in true_divide\n",
      "  t = coeffs[1,:] / serr\n",
      "/gpfsdswork/projects/rech/cli/uor98hu/pythonfiles/lagged_correlation/regress3d.py:80: RuntimeWarning: invalid value encountered in sqrt\n",
      "  r=0.1*np.sqrt(expvar)\n"
     ]
    }
   ],
   "source": [
    "# lag = 0\n",
    "expvar,coeffs,p,r = reg.regress3d(diffS_AI.values,S_riv_cropped.values)\n",
    "# lag = 5 ans\n",
    "expvar,coeffs,p,r_5 = reg.regress3d(diffS_AI.values[5:],S_riv_cropped.values[:-5,:,:]) \n",
    "# lag = 10 ans\n",
    "expvar,coeffs,p,r_10 = reg.regress3d(diffS_AI.values[10:],S_riv_cropped.values[:-10,:,:]) \n",
    "# lag = 15\n",
    "expvar,coeffs,p,r_15 = reg.regress3d(diffS_AI.values[15:],S_riv_cropped.values[:-15,:,:]) \n",
    "# lag =20\n",
    "expvar,coeffs,p,r_20 = reg.regress3d(diffS_AI.values[20:],S_riv_cropped.values[:-20,:,:]) \n",
    "# lag = 25\n",
    "expvar,coeffs,p,r_25 = reg.regress3d(diffS_AI.values[25:],S_riv_cropped.values[:-25,:,:]) "
   ]
  },
  {
   "cell_type": "code",
   "execution_count": 10,
   "id": "d33bf8e3-9fc8-4029-97e5-a250317cf9b6",
   "metadata": {},
   "outputs": [],
   "source": [
    "r2plot = xr.DataArray(r,dims=[\"y\", \"x\"])\n",
    "r_matrix[0,:,:] = r\n",
    "r_matrix[1,:,:] = r_5\n",
    "r_matrix[2,:,:] = r_10\n",
    "r_matrix[3,:,:] = r_15\n",
    "r_matrix[4,:,:] = r_20\n",
    "r_matrix[5,:,:] = r_25\n",
    "\n",
    "r_matrix2plot = xr.DataArray(r_matrix,dims=[\"lag\",\"y\", \"x\"], coords=dict(lag=np.arange(0,30,5)))\n"
   ]
  },
  {
   "cell_type": "markdown",
   "id": "251d1a34-09d3-4885-9264-f866bfed6b10",
   "metadata": {},
   "source": [
    "## plot nicely"
   ]
  },
  {
   "cell_type": "code",
   "execution_count": 11,
   "id": "2ae98476-f8a1-47e8-932d-3ee33f014045",
   "metadata": {},
   "outputs": [],
   "source": [
    "def truncate_colormap(cmap, minval=0.0, maxval=1.0, n=100):\n",
    "    new_cmap = mcolors.LinearSegmentedColormap.from_list(\n",
    "        'trunc({n},{a:.2f},{b:.2f})'.format(n=cmap.name, a=minval, b=maxval),\n",
    "        cmap(np.linspace(minval, maxval, n)))\n",
    "    return new_cmap"
   ]
  },
  {
   "cell_type": "code",
   "execution_count": 12,
   "id": "f4025433-b0b1-412e-8116-5ea2f031ea63",
   "metadata": {},
   "outputs": [],
   "source": [
    "# read grid files\n",
    "diri=\"/gpfswork/rech/cli/rcli002/eORCA025.L75/eORCA025.L75-I/\"\n",
    "nav_lat = xr.open_dataset(diri+'mesh_hgr.nc')['nav_lat'].squeeze()#.where(nav_lat>=60, drop=True)\n",
    "\n",
    "maskBG2plot = maskBG.where(nav_lat>=60, drop=True)\n",
    "tmask = xr.open_dataset(diri+'mesh_hgr.nc')['tmask'][0,0,:,:].where(nav_lat>=60, drop=True) # grille lat/lon\n",
    "nav_lon = xr.open_dataset(diri+'mesh_hgr.nc')['nav_lon'].squeeze().where(nav_lat>=60, drop=True)\n",
    "mbathy = xr.open_dataset(diri+'eORCA025.L75_domain_cfg_closed_seas_greenland.nc')['bathy_meter'].isel(t=0).where(nav_lat>=60, drop=True) # grille lat/lon\n",
    "nav_lat = nav_lat.where(nav_lat>=60, drop=True)\n",
    "\n",
    "# land mask from model\n",
    "m2plt      = tmask.where(tmask==0)\n",
    "\n",
    "# default gridlines parameters\n",
    "gridl=False\n",
    "incrgridlon=30\n",
    "incrgridlat=10\n",
    "\n",
    "# vue N.Atl\n",
    "# loncentr=330 # before it was zero\n",
    "# latcentr=70\n",
    "#vue polaire\n",
    "loncentr=200 # before it was zero\n",
    "latcentr=90\n",
    "\n",
    "sath=2085831\n",
    "\n",
    "nav_lon2plot = nav_lon.fillna(0)\n",
    "nav_lat2plot = nav_lat.fillna(0)\n"
   ]
  },
  {
   "cell_type": "code",
   "execution_count": 13,
   "id": "c77b8a10-ffc8-4a52-bbed-bfc506c1111d",
   "metadata": {},
   "outputs": [],
   "source": [
    "cmap = ccm.cm.balance\n",
    "my_map1 = truncate_colormap(cmap, 0, 0.4)\n",
    "my_map2 = truncate_colormap(cmap, 0.6, 1)\n",
    "colors1 = my_map1(np.linspace(0., 1, 50))\n",
    "colors2 = my_map2(np.linspace(0., 1, 50))\n",
    "colors = np.vstack(( colors1, colors2))\n",
    "mycm = mcolors.LinearSegmentedColormap.from_list('my_colormap', colors)"
   ]
  },
  {
   "cell_type": "code",
   "execution_count": 14,
   "id": "944eeca2-971e-4f2e-aa91-d0984472b83f",
   "metadata": {},
   "outputs": [],
   "source": [
    "lmin = -1.0\n",
    "incr = 0.1\n",
    "lmax = lmin*(-1)+0.1\n",
    "# define the bins and normalize\n",
    "bounds = np.arange(lmin,lmax,incr)\n",
    "norm = mcolors.BoundaryNorm(bounds, mycm.N)"
   ]
  },
  {
   "cell_type": "code",
   "execution_count": null,
   "id": "a88bcba6-451b-447b-8f96-00a8210b1ab4",
   "metadata": {},
   "outputs": [],
   "source": []
  },
  {
   "cell_type": "code",
   "execution_count": 15,
   "id": "db866d66-6090-4766-9350-8cf5c393d271",
   "metadata": {},
   "outputs": [
    {
     "name": "stdout",
     "output_type": "stream",
     "text": [
      "S_AI_corr_map_SSH_S_riv_lag0y.png\n"
     ]
    },
    {
     "name": "stderr",
     "output_type": "stream",
     "text": [
      "/gpfslocalsup/pub/anaconda-py3/2020.11/envs/climate_science/lib/python3.9/site-packages/cartopy/mpl/geoaxes.py:1597: MatplotlibDeprecationWarning: shading='flat' when X and Y have the same dimensions as C is deprecated since 3.3.  Either specify the corners of the quadrilaterals with X and Y, or pass shading='auto', 'nearest' or 'gouraud', or set rcParams['pcolor.shading'].  This will become an error two minor releases later.\n",
      "  X, Y, C, shading = self._pcolorargs('pcolormesh', *args,\n"
     ]
    },
    {
     "name": "stdout",
     "output_type": "stream",
     "text": [
      "S_AI_corr_map_SSH_S_riv_lag5y.png\n"
     ]
    },
    {
     "name": "stderr",
     "output_type": "stream",
     "text": [
      "/gpfslocalsup/pub/anaconda-py3/2020.11/envs/climate_science/lib/python3.9/site-packages/cartopy/mpl/geoaxes.py:1597: MatplotlibDeprecationWarning: shading='flat' when X and Y have the same dimensions as C is deprecated since 3.3.  Either specify the corners of the quadrilaterals with X and Y, or pass shading='auto', 'nearest' or 'gouraud', or set rcParams['pcolor.shading'].  This will become an error two minor releases later.\n",
      "  X, Y, C, shading = self._pcolorargs('pcolormesh', *args,\n"
     ]
    },
    {
     "name": "stdout",
     "output_type": "stream",
     "text": [
      "S_AI_corr_map_SSH_S_riv_lag10y.png\n"
     ]
    },
    {
     "name": "stderr",
     "output_type": "stream",
     "text": [
      "/gpfslocalsup/pub/anaconda-py3/2020.11/envs/climate_science/lib/python3.9/site-packages/cartopy/mpl/geoaxes.py:1597: MatplotlibDeprecationWarning: shading='flat' when X and Y have the same dimensions as C is deprecated since 3.3.  Either specify the corners of the quadrilaterals with X and Y, or pass shading='auto', 'nearest' or 'gouraud', or set rcParams['pcolor.shading'].  This will become an error two minor releases later.\n",
      "  X, Y, C, shading = self._pcolorargs('pcolormesh', *args,\n"
     ]
    },
    {
     "name": "stdout",
     "output_type": "stream",
     "text": [
      "S_AI_corr_map_SSH_S_riv_lag15y.png\n"
     ]
    },
    {
     "name": "stderr",
     "output_type": "stream",
     "text": [
      "/gpfslocalsup/pub/anaconda-py3/2020.11/envs/climate_science/lib/python3.9/site-packages/cartopy/mpl/geoaxes.py:1597: MatplotlibDeprecationWarning: shading='flat' when X and Y have the same dimensions as C is deprecated since 3.3.  Either specify the corners of the quadrilaterals with X and Y, or pass shading='auto', 'nearest' or 'gouraud', or set rcParams['pcolor.shading'].  This will become an error two minor releases later.\n",
      "  X, Y, C, shading = self._pcolorargs('pcolormesh', *args,\n"
     ]
    },
    {
     "name": "stdout",
     "output_type": "stream",
     "text": [
      "S_AI_corr_map_SSH_S_riv_lag20y.png\n"
     ]
    },
    {
     "name": "stderr",
     "output_type": "stream",
     "text": [
      "/gpfslocalsup/pub/anaconda-py3/2020.11/envs/climate_science/lib/python3.9/site-packages/cartopy/mpl/geoaxes.py:1597: MatplotlibDeprecationWarning: shading='flat' when X and Y have the same dimensions as C is deprecated since 3.3.  Either specify the corners of the quadrilaterals with X and Y, or pass shading='auto', 'nearest' or 'gouraud', or set rcParams['pcolor.shading'].  This will become an error two minor releases later.\n",
      "  X, Y, C, shading = self._pcolorargs('pcolormesh', *args,\n"
     ]
    },
    {
     "name": "stdout",
     "output_type": "stream",
     "text": [
      "S_AI_corr_map_SSH_S_riv_lag25y.png\n"
     ]
    },
    {
     "name": "stderr",
     "output_type": "stream",
     "text": [
      "/gpfslocalsup/pub/anaconda-py3/2020.11/envs/climate_science/lib/python3.9/site-packages/cartopy/mpl/geoaxes.py:1597: MatplotlibDeprecationWarning: shading='flat' when X and Y have the same dimensions as C is deprecated since 3.3.  Either specify the corners of the quadrilaterals with X and Y, or pass shading='auto', 'nearest' or 'gouraud', or set rcParams['pcolor.shading'].  This will become an error two minor releases later.\n",
      "  X, Y, C, shading = self._pcolorargs('pcolormesh', *args,\n"
     ]
    },
    {
     "data": {
      "text/plain": [
       "<Figure size 2592x1440 with 0 Axes>"
      ]
     },
     "metadata": {},
     "output_type": "display_data"
    },
    {
     "data": {
      "text/plain": [
       "<Figure size 2592x1440 with 0 Axes>"
      ]
     },
     "metadata": {},
     "output_type": "display_data"
    },
    {
     "data": {
      "text/plain": [
       "<Figure size 2592x1440 with 0 Axes>"
      ]
     },
     "metadata": {},
     "output_type": "display_data"
    },
    {
     "data": {
      "text/plain": [
       "<Figure size 2592x1440 with 0 Axes>"
      ]
     },
     "metadata": {},
     "output_type": "display_data"
    },
    {
     "data": {
      "text/plain": [
       "<Figure size 2592x1440 with 0 Axes>"
      ]
     },
     "metadata": {},
     "output_type": "display_data"
    },
    {
     "data": {
      "text/plain": [
       "<Figure size 2592x1440 with 0 Axes>"
      ]
     },
     "metadata": {},
     "output_type": "display_data"
    }
   ],
   "source": [
    "#========= CREATE FIGURE\n",
    "diro = \"/gpfsscratch/rech/cli/uor98hu/corr_maps/\"\n",
    "    \n",
    "# RUN to PLOT\n",
    "for i in np.arange(6):\n",
    "    data2plot = r_matrix2plot.isel(lag=i).where(tmask!=0,0).squeeze()\n",
    "    # yr, mm = dates(S_GR_short.isel(time_counter=t))\n",
    "    tlabel= \"Correlation coefficient for time lag = \"+str(r_matrix2plot.lag[i].values)+\" years\" #\"whole column S_GR integral for \"+str(yr)+\"-\"+f\"{mm:02d}\" + r\" [10$-3$]\"\n",
    "    namo  =\"S_AI_corr_map_SSH_S_riv_lag\"+str(r_matrix2plot.lag[i].values)+\"y.png\"\n",
    "    print(namo)\n",
    "    #===========================================\n",
    "    fig = plt.figure(figsize=([18,10]),facecolor='none', dpi=72*2)\n",
    "\n",
    "    trdata  = ccrs.PlateCarree() # Data system proj (if coords are in lat lon, use PlateCarre here)\n",
    "    ax = plt.axes(projection= ccrs.NearsidePerspective(central_longitude=loncentr, central_latitude=latcentr,satellite_height=sath))\n",
    "\n",
    "    #========= PLOT DATA\n",
    "\n",
    "    ax.contour(nav_lon,nav_lat,maskBG2plot,1,colors=\"k\",transform=trdata)\n",
    "    cs  = plt.pcolormesh(nav_lon2plot, nav_lat2plot, data2plot,shading='flat',cmap = mycm,transform=trdata, norm=norm)\n",
    "    fig.colorbar(cs,extend='neither', ticks=bounds,label=r'correlation coefficient')\n",
    "\n",
    "    # cs2  = plt.pcolormesh(nav_lon, nav_lat, m2plt, shading='flat',transform=trdata) \n",
    "    #========= coastlines and gridlines\n",
    "    rivers = cartopy.feature.NaturalEarthFeature(category='physical', name='rivers_lake_centerlines',scale='50m',facecolor='none',edgecolor='b')\n",
    "    clr2 = ax.add_feature(rivers,alpha=0.7,facecolor='none',edgecolor='blue',zorder=6)\n",
    "    cl2 = ax.add_feature(cfeature.LAND.with_scale('50m'),facecolor=\"dimgrey\",edgecolor= 'none',alpha=1,zorder=5)\n",
    "    gl =ax.gridlines(xlocs=range(-180,181,incrgridlon), ylocs=range(-90,91,incrgridlat),draw_labels=True,linewidth=1, color='#585858', alpha=0.3, linestyle='--',zorder=8)\n",
    "    label_style = {'size': 12, 'color': '#BDBDBD', 'weight': 'normal'}\n",
    "    gl.xlabel_style = label_style; gl.ylabel_style = label_style\n",
    "\n",
    "\n",
    "    #============= BATHYMETRY\n",
    "    bathy_levels = [200,1000,2000,4000] # We will apply a Gaussian filter to smooth the data. \n",
    "    color_levels= ['k','navy','mediumblue','slateblue']\n",
    "    # west\n",
    "    Ct1 = ax.contour(nav_lon,nav_lat,mbathy.where(nav_lon<0), bathy_levels,colors=color_levels,linewidths=0.7,linestyles='solid',transform=trdata)\n",
    "    # east\n",
    "    Ct2 = ax.contour(nav_lon,nav_lat,mbathy.where(nav_lon>0), bathy_levels,colors=color_levels,linewidths=0.7,linestyles='solid',transform=trdata)\n",
    "\n",
    "\n",
    "    plt.title(tlabel,fontsize=24)\n",
    "    # plt.show()\n",
    "    fig.savefig(diro+namo, facecolor=fig.get_facecolor(), bbox_inches='tight') #,edgecolor='none', \n",
    "    # plt.close(fig)\n",
    "    plt.clf()"
   ]
  },
  {
   "cell_type": "code",
   "execution_count": null,
   "id": "751d9cc4-d20e-4790-82c0-d4f191861f43",
   "metadata": {},
   "outputs": [],
   "source": []
  },
  {
   "cell_type": "code",
   "execution_count": null,
   "id": "e6bd3e7e-3c18-41df-a07a-317399e8d89b",
   "metadata": {},
   "outputs": [],
   "source": []
  },
  {
   "cell_type": "code",
   "execution_count": null,
   "id": "f7c7fe66-c937-446d-9030-6e80a1157cbf",
   "metadata": {},
   "outputs": [],
   "source": []
  }
 ],
 "metadata": {
  "kernelspec": {
   "display_name": "climate_science",
   "language": "python",
   "name": "module-conda-env-climate_science"
  },
  "language_info": {
   "codemirror_mode": {
    "name": "ipython",
    "version": 3
   },
   "file_extension": ".py",
   "mimetype": "text/x-python",
   "name": "python",
   "nbconvert_exporter": "python",
   "pygments_lexer": "ipython3",
   "version": "3.9.1"
  }
 },
 "nbformat": 4,
 "nbformat_minor": 5
}
