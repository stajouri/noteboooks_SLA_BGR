{
 "cells": [
  {
   "cell_type": "markdown",
   "id": "49aef471-b63d-4b6a-9eba-5de2e34f1857",
   "metadata": {},
   "source": [
    "But : compute the correlation coefficient of the lagged ssh time series between 2005-2018. for GAI-AI"
   ]
  },
  {
   "cell_type": "code",
   "execution_count": 1,
   "id": "6f6d6d02-c914-47df-8764-70ce66410162",
   "metadata": {},
   "outputs": [],
   "source": [
    "## standart libraries\n",
    "\n",
    "import os,sys\n",
    "import numpy as np\n",
    "\n",
    "# xarray\n",
    "import xarray as xr\n",
    "\n",
    "import cartopy\n",
    "import cartopy.crs as ccrs\n",
    "import matplotlib.pyplot as plt\n",
    "from matplotlib.colors import Colormap\n",
    "import matplotlib.colors as mcolors\n",
    "import matplotlib.dates as mdates\n",
    "import matplotlib.cm as cm\n",
    "import matplotlib.dates as mdates\n",
    "import matplotlib.ticker as mticker\n",
    "from matplotlib.colors import from_levels_and_colors\n",
    "from mpl_toolkits.axes_grid1.inset_locator import inset_axes\n",
    "\n",
    "import cartopy.feature as cfeature\n",
    "# plot\n",
    "import regress3d as reg\n",
    "import cmocean as ccm"
   ]
  },
  {
   "cell_type": "code",
   "execution_count": 2,
   "id": "3b121de7-471b-4830-a55d-db0a6324db9c",
   "metadata": {},
   "outputs": [
    {
     "data": {
      "text/html": [
       "<div>\n",
       "    <div style=\"width: 24px; height: 24px; background-color: #e1e1e1; border: 3px solid #9D9D9D; border-radius: 5px; position: absolute;\"> </div>\n",
       "    <div style=\"margin-left: 48px;\">\n",
       "        <h3 style=\"margin-bottom: 0px;\">Client</h3>\n",
       "        <p style=\"color: #9D9D9D; margin-bottom: 0px;\">Client-5b75f26d-06c8-11ee-8a66-0cc47af5d0a7</p>\n",
       "        <table style=\"width: 100%; text-align: left;\">\n",
       "\n",
       "        <tr>\n",
       "        \n",
       "            <td style=\"text-align: left;\"><strong>Connection method:</strong> Cluster object</td>\n",
       "            <td style=\"text-align: left;\"><strong>Cluster type:</strong> distributed.LocalCluster</td>\n",
       "        \n",
       "        </tr>\n",
       "\n",
       "        \n",
       "            <tr>\n",
       "                <td style=\"text-align: left;\">\n",
       "                    <strong>Dashboard: </strong> <a href=\"http://127.0.0.1:8787/status\" target=\"_blank\">http://127.0.0.1:8787/status</a>\n",
       "                </td>\n",
       "                <td style=\"text-align: left;\"></td>\n",
       "            </tr>\n",
       "        \n",
       "\n",
       "        </table>\n",
       "\n",
       "        \n",
       "            <details>\n",
       "            <summary style=\"margin-bottom: 20px;\"><h3 style=\"display: inline;\">Cluster Info</h3></summary>\n",
       "            <div class=\"jp-RenderedHTMLCommon jp-RenderedHTML jp-mod-trusted jp-OutputArea-output\">\n",
       "    <div style=\"width: 24px; height: 24px; background-color: #e1e1e1; border: 3px solid #9D9D9D; border-radius: 5px; position: absolute;\">\n",
       "    </div>\n",
       "    <div style=\"margin-left: 48px;\">\n",
       "        <h3 style=\"margin-bottom: 0px; margin-top: 0px;\">LocalCluster</h3>\n",
       "        <p style=\"color: #9D9D9D; margin-bottom: 0px;\">f772e433</p>\n",
       "        <table style=\"width: 100%; text-align: left;\">\n",
       "            <tr>\n",
       "                <td style=\"text-align: left;\">\n",
       "                    <strong>Dashboard:</strong> <a href=\"http://127.0.0.1:8787/status\" target=\"_blank\">http://127.0.0.1:8787/status</a>\n",
       "                </td>\n",
       "                <td style=\"text-align: left;\">\n",
       "                    <strong>Workers:</strong> 5\n",
       "                </td>\n",
       "            </tr>\n",
       "            <tr>\n",
       "                <td style=\"text-align: left;\">\n",
       "                    <strong>Total threads:</strong> 10\n",
       "                </td>\n",
       "                <td style=\"text-align: left;\">\n",
       "                    <strong>Total memory:</strong> 20.00 GiB\n",
       "                </td>\n",
       "            </tr>\n",
       "            \n",
       "            <tr>\n",
       "    <td style=\"text-align: left;\"><strong>Status:</strong> running</td>\n",
       "    <td style=\"text-align: left;\"><strong>Using processes:</strong> True</td>\n",
       "</tr>\n",
       "\n",
       "            \n",
       "        </table>\n",
       "\n",
       "        <details>\n",
       "            <summary style=\"margin-bottom: 20px;\">\n",
       "                <h3 style=\"display: inline;\">Scheduler Info</h3>\n",
       "            </summary>\n",
       "\n",
       "            <div style=\"\">\n",
       "    <div>\n",
       "        <div style=\"width: 24px; height: 24px; background-color: #FFF7E5; border: 3px solid #FF6132; border-radius: 5px; position: absolute;\"> </div>\n",
       "        <div style=\"margin-left: 48px;\">\n",
       "            <h3 style=\"margin-bottom: 0px;\">Scheduler</h3>\n",
       "            <p style=\"color: #9D9D9D; margin-bottom: 0px;\">Scheduler-16a80830-64b1-4742-aab6-735a406f4c20</p>\n",
       "            <table style=\"width: 100%; text-align: left;\">\n",
       "                <tr>\n",
       "                    <td style=\"text-align: left;\">\n",
       "                        <strong>Comm:</strong> tcp://127.0.0.1:44595\n",
       "                    </td>\n",
       "                    <td style=\"text-align: left;\">\n",
       "                        <strong>Workers:</strong> 5\n",
       "                    </td>\n",
       "                </tr>\n",
       "                <tr>\n",
       "                    <td style=\"text-align: left;\">\n",
       "                        <strong>Dashboard:</strong> <a href=\"http://127.0.0.1:8787/status\" target=\"_blank\">http://127.0.0.1:8787/status</a>\n",
       "                    </td>\n",
       "                    <td style=\"text-align: left;\">\n",
       "                        <strong>Total threads:</strong> 10\n",
       "                    </td>\n",
       "                </tr>\n",
       "                <tr>\n",
       "                    <td style=\"text-align: left;\">\n",
       "                        <strong>Started:</strong> Just now\n",
       "                    </td>\n",
       "                    <td style=\"text-align: left;\">\n",
       "                        <strong>Total memory:</strong> 20.00 GiB\n",
       "                    </td>\n",
       "                </tr>\n",
       "            </table>\n",
       "        </div>\n",
       "    </div>\n",
       "\n",
       "    <details style=\"margin-left: 48px;\">\n",
       "        <summary style=\"margin-bottom: 20px;\">\n",
       "            <h3 style=\"display: inline;\">Workers</h3>\n",
       "        </summary>\n",
       "\n",
       "        \n",
       "        <div style=\"margin-bottom: 20px;\">\n",
       "            <div style=\"width: 24px; height: 24px; background-color: #DBF5FF; border: 3px solid #4CC9FF; border-radius: 5px; position: absolute;\"> </div>\n",
       "            <div style=\"margin-left: 48px;\">\n",
       "            <details>\n",
       "                <summary>\n",
       "                    <h4 style=\"margin-bottom: 0px; display: inline;\">Worker: 0</h4>\n",
       "                </summary>\n",
       "                <table style=\"width: 100%; text-align: left;\">\n",
       "                    <tr>\n",
       "                        <td style=\"text-align: left;\">\n",
       "                            <strong>Comm: </strong> tcp://127.0.0.1:42425\n",
       "                        </td>\n",
       "                        <td style=\"text-align: left;\">\n",
       "                            <strong>Total threads: </strong> 2\n",
       "                        </td>\n",
       "                    </tr>\n",
       "                    <tr>\n",
       "                        <td style=\"text-align: left;\">\n",
       "                            <strong>Dashboard: </strong> <a href=\"http://127.0.0.1:33743/status\" target=\"_blank\">http://127.0.0.1:33743/status</a>\n",
       "                        </td>\n",
       "                        <td style=\"text-align: left;\">\n",
       "                            <strong>Memory: </strong> 4.00 GiB\n",
       "                        </td>\n",
       "                    </tr>\n",
       "                    <tr>\n",
       "                        <td style=\"text-align: left;\">\n",
       "                            <strong>Nanny: </strong> tcp://127.0.0.1:35257\n",
       "                        </td>\n",
       "                        <td style=\"text-align: left;\"></td>\n",
       "                    </tr>\n",
       "                    <tr>\n",
       "                        <td colspan=\"2\" style=\"text-align: left;\">\n",
       "                            <strong>Local directory: </strong> /tmp/dask-worker-space/worker-kfbvjj24\n",
       "                        </td>\n",
       "                    </tr>\n",
       "\n",
       "                    \n",
       "\n",
       "                    \n",
       "\n",
       "                </table>\n",
       "            </details>\n",
       "            </div>\n",
       "        </div>\n",
       "        \n",
       "        <div style=\"margin-bottom: 20px;\">\n",
       "            <div style=\"width: 24px; height: 24px; background-color: #DBF5FF; border: 3px solid #4CC9FF; border-radius: 5px; position: absolute;\"> </div>\n",
       "            <div style=\"margin-left: 48px;\">\n",
       "            <details>\n",
       "                <summary>\n",
       "                    <h4 style=\"margin-bottom: 0px; display: inline;\">Worker: 1</h4>\n",
       "                </summary>\n",
       "                <table style=\"width: 100%; text-align: left;\">\n",
       "                    <tr>\n",
       "                        <td style=\"text-align: left;\">\n",
       "                            <strong>Comm: </strong> tcp://127.0.0.1:37519\n",
       "                        </td>\n",
       "                        <td style=\"text-align: left;\">\n",
       "                            <strong>Total threads: </strong> 2\n",
       "                        </td>\n",
       "                    </tr>\n",
       "                    <tr>\n",
       "                        <td style=\"text-align: left;\">\n",
       "                            <strong>Dashboard: </strong> <a href=\"http://127.0.0.1:45363/status\" target=\"_blank\">http://127.0.0.1:45363/status</a>\n",
       "                        </td>\n",
       "                        <td style=\"text-align: left;\">\n",
       "                            <strong>Memory: </strong> 4.00 GiB\n",
       "                        </td>\n",
       "                    </tr>\n",
       "                    <tr>\n",
       "                        <td style=\"text-align: left;\">\n",
       "                            <strong>Nanny: </strong> tcp://127.0.0.1:38271\n",
       "                        </td>\n",
       "                        <td style=\"text-align: left;\"></td>\n",
       "                    </tr>\n",
       "                    <tr>\n",
       "                        <td colspan=\"2\" style=\"text-align: left;\">\n",
       "                            <strong>Local directory: </strong> /tmp/dask-worker-space/worker-3yf2axsv\n",
       "                        </td>\n",
       "                    </tr>\n",
       "\n",
       "                    \n",
       "\n",
       "                    \n",
       "\n",
       "                </table>\n",
       "            </details>\n",
       "            </div>\n",
       "        </div>\n",
       "        \n",
       "        <div style=\"margin-bottom: 20px;\">\n",
       "            <div style=\"width: 24px; height: 24px; background-color: #DBF5FF; border: 3px solid #4CC9FF; border-radius: 5px; position: absolute;\"> </div>\n",
       "            <div style=\"margin-left: 48px;\">\n",
       "            <details>\n",
       "                <summary>\n",
       "                    <h4 style=\"margin-bottom: 0px; display: inline;\">Worker: 2</h4>\n",
       "                </summary>\n",
       "                <table style=\"width: 100%; text-align: left;\">\n",
       "                    <tr>\n",
       "                        <td style=\"text-align: left;\">\n",
       "                            <strong>Comm: </strong> tcp://127.0.0.1:46183\n",
       "                        </td>\n",
       "                        <td style=\"text-align: left;\">\n",
       "                            <strong>Total threads: </strong> 2\n",
       "                        </td>\n",
       "                    </tr>\n",
       "                    <tr>\n",
       "                        <td style=\"text-align: left;\">\n",
       "                            <strong>Dashboard: </strong> <a href=\"http://127.0.0.1:40315/status\" target=\"_blank\">http://127.0.0.1:40315/status</a>\n",
       "                        </td>\n",
       "                        <td style=\"text-align: left;\">\n",
       "                            <strong>Memory: </strong> 4.00 GiB\n",
       "                        </td>\n",
       "                    </tr>\n",
       "                    <tr>\n",
       "                        <td style=\"text-align: left;\">\n",
       "                            <strong>Nanny: </strong> tcp://127.0.0.1:43451\n",
       "                        </td>\n",
       "                        <td style=\"text-align: left;\"></td>\n",
       "                    </tr>\n",
       "                    <tr>\n",
       "                        <td colspan=\"2\" style=\"text-align: left;\">\n",
       "                            <strong>Local directory: </strong> /tmp/dask-worker-space/worker-j3edzije\n",
       "                        </td>\n",
       "                    </tr>\n",
       "\n",
       "                    \n",
       "\n",
       "                    \n",
       "\n",
       "                </table>\n",
       "            </details>\n",
       "            </div>\n",
       "        </div>\n",
       "        \n",
       "        <div style=\"margin-bottom: 20px;\">\n",
       "            <div style=\"width: 24px; height: 24px; background-color: #DBF5FF; border: 3px solid #4CC9FF; border-radius: 5px; position: absolute;\"> </div>\n",
       "            <div style=\"margin-left: 48px;\">\n",
       "            <details>\n",
       "                <summary>\n",
       "                    <h4 style=\"margin-bottom: 0px; display: inline;\">Worker: 3</h4>\n",
       "                </summary>\n",
       "                <table style=\"width: 100%; text-align: left;\">\n",
       "                    <tr>\n",
       "                        <td style=\"text-align: left;\">\n",
       "                            <strong>Comm: </strong> tcp://127.0.0.1:37873\n",
       "                        </td>\n",
       "                        <td style=\"text-align: left;\">\n",
       "                            <strong>Total threads: </strong> 2\n",
       "                        </td>\n",
       "                    </tr>\n",
       "                    <tr>\n",
       "                        <td style=\"text-align: left;\">\n",
       "                            <strong>Dashboard: </strong> <a href=\"http://127.0.0.1:42771/status\" target=\"_blank\">http://127.0.0.1:42771/status</a>\n",
       "                        </td>\n",
       "                        <td style=\"text-align: left;\">\n",
       "                            <strong>Memory: </strong> 4.00 GiB\n",
       "                        </td>\n",
       "                    </tr>\n",
       "                    <tr>\n",
       "                        <td style=\"text-align: left;\">\n",
       "                            <strong>Nanny: </strong> tcp://127.0.0.1:37805\n",
       "                        </td>\n",
       "                        <td style=\"text-align: left;\"></td>\n",
       "                    </tr>\n",
       "                    <tr>\n",
       "                        <td colspan=\"2\" style=\"text-align: left;\">\n",
       "                            <strong>Local directory: </strong> /tmp/dask-worker-space/worker-59nhztur\n",
       "                        </td>\n",
       "                    </tr>\n",
       "\n",
       "                    \n",
       "\n",
       "                    \n",
       "\n",
       "                </table>\n",
       "            </details>\n",
       "            </div>\n",
       "        </div>\n",
       "        \n",
       "        <div style=\"margin-bottom: 20px;\">\n",
       "            <div style=\"width: 24px; height: 24px; background-color: #DBF5FF; border: 3px solid #4CC9FF; border-radius: 5px; position: absolute;\"> </div>\n",
       "            <div style=\"margin-left: 48px;\">\n",
       "            <details>\n",
       "                <summary>\n",
       "                    <h4 style=\"margin-bottom: 0px; display: inline;\">Worker: 4</h4>\n",
       "                </summary>\n",
       "                <table style=\"width: 100%; text-align: left;\">\n",
       "                    <tr>\n",
       "                        <td style=\"text-align: left;\">\n",
       "                            <strong>Comm: </strong> tcp://127.0.0.1:34159\n",
       "                        </td>\n",
       "                        <td style=\"text-align: left;\">\n",
       "                            <strong>Total threads: </strong> 2\n",
       "                        </td>\n",
       "                    </tr>\n",
       "                    <tr>\n",
       "                        <td style=\"text-align: left;\">\n",
       "                            <strong>Dashboard: </strong> <a href=\"http://127.0.0.1:34111/status\" target=\"_blank\">http://127.0.0.1:34111/status</a>\n",
       "                        </td>\n",
       "                        <td style=\"text-align: left;\">\n",
       "                            <strong>Memory: </strong> 4.00 GiB\n",
       "                        </td>\n",
       "                    </tr>\n",
       "                    <tr>\n",
       "                        <td style=\"text-align: left;\">\n",
       "                            <strong>Nanny: </strong> tcp://127.0.0.1:42855\n",
       "                        </td>\n",
       "                        <td style=\"text-align: left;\"></td>\n",
       "                    </tr>\n",
       "                    <tr>\n",
       "                        <td colspan=\"2\" style=\"text-align: left;\">\n",
       "                            <strong>Local directory: </strong> /tmp/dask-worker-space/worker-tggefo2n\n",
       "                        </td>\n",
       "                    </tr>\n",
       "\n",
       "                    \n",
       "\n",
       "                    \n",
       "\n",
       "                </table>\n",
       "            </details>\n",
       "            </div>\n",
       "        </div>\n",
       "        \n",
       "\n",
       "    </details>\n",
       "</div>\n",
       "\n",
       "        </details>\n",
       "    </div>\n",
       "</div>\n",
       "            </details>\n",
       "        \n",
       "\n",
       "    </div>\n",
       "</div>"
      ],
      "text/plain": [
       "<Client: 'tcp://127.0.0.1:44595' processes=5 threads=10, memory=20.00 GiB>"
      ]
     },
     "execution_count": 2,
     "metadata": {},
     "output_type": "execute_result"
    }
   ],
   "source": [
    "from dask.distributed import Client\n",
    "c = Client()\n",
    "c"
   ]
  },
  {
   "cell_type": "markdown",
   "id": "8cbb926f-f199-4254-ab95-95da088537ab",
   "metadata": {},
   "source": [
    "### prepare the time series to which I am going to compare the 3D matrix : t = 14 (years)"
   ]
  },
  {
   "cell_type": "code",
   "execution_count": 3,
   "id": "c4fe583a-17f6-43a0-9867-5422919c9934",
   "metadata": {},
   "outputs": [],
   "source": [
    "chunk_size = {\"x\":500,\"y\":500}\n",
    "diri=\"/gpfswork/rech/cli/rcli002/eORCA025.L75/eORCA025.L75-I/\"\n",
    "mesh_hgr = xr.open_dataset(diri+'mesh_hgr.nc',chunks=chunk_size).squeeze()\n",
    "tmask = mesh_hgr.tmask\n",
    "\n",
    "e1t = mesh_hgr.e1t.fillna(0)\n",
    "e2t = mesh_hgr.e2t.fillna(0)\n",
    "\n",
    "nav_lon =  mesh_hgr.nav_lon\n",
    "nav_lat =  mesh_hgr.nav_lat\n",
    "\n",
    "# constructing the weight\n",
    "bt = (e1t * e2t).load()# area of each cell"
   ]
  },
  {
   "cell_type": "code",
   "execution_count": 4,
   "id": "c0698b29-2c17-4e14-94c9-18bdfe0ae1b3",
   "metadata": {},
   "outputs": [],
   "source": [
    "maskBG = xr.open_dataset('/gpfswork/rech/cli/uor98hu/MYDATA/TRANSPORT_WP1/BGRmaskobs.nc', chunks=chunk_size).BGRmask.squeeze()\n",
    "\n",
    "diridat = '/gpfswork/rech/cli/uor98hu/MYDATA/SSH/'\n",
    "\n",
    "daGAI = xr.open_mfdataset(diridat+'GAI/eORCA025.L75-IMHOTEP.GAI_y1980_2018.1m_sossheigCorrected.nc',chunks=chunk_size).sossheig.sel(time_counter=slice(\"2005\",\"2018\"))\n",
    "daAI = xr.open_mfdataset(diridat+'AI/eORCA025.L75-IMHOTEP.AI_y1980_2018.1m_sossheigCorrected.nc',chunks=chunk_size).sossheig.sel(time_counter=slice(\"2005\",\"2018\"))\n",
    "daS = xr.open_mfdataset(diridat  +'S/eORCA025.L75-IMHOTEP.S_y1980_2018.1m_sossheigCorrected.nc',chunks=chunk_size).sossheig.sel(time_counter=slice(\"2005\",\"2018\"))\n",
    "\n",
    "# doing mean over each year\n",
    "daGAI = daGAI.groupby('time_counter.year').mean('time_counter')\n",
    "daAI = daAI.groupby('time_counter.year').mean('time_counter')\n",
    "daS  = daS.groupby('time_counter.year').mean('time_counter')\n",
    "\n",
    "# constructing the weight\n",
    "btboxBG = bt.where(maskBG,drop=True)\n",
    "tmaskboxBG = tmask.where(maskBG,drop=True)\n",
    "oceanArea = (btboxBG*tmaskboxBG[0])  #tmask : 1 on ocean, 0 on land\n",
    "totalOceanArea = oceanArea.sum()\n",
    "WeightboxBG = (oceanArea/totalOceanArea) #.compute()\n",
    "\n",
    "sshGAIboxBG = (daGAI.where(maskBG,drop=True) * WeightboxBG).sum(('x','y'))\n",
    "sshAIboxBG  = (daAI.where(maskBG,drop=True) * WeightboxBG).sum(('x','y'))\n",
    "sshSboxBG   = (daS.where(maskBG,drop=True)  * WeightboxBG).sum(('x','y'))\n",
    "\n",
    "diffGAI_AI = sshGAIboxBG - sshAIboxBG\n",
    "diffAI_S = sshAIboxBG - sshSboxBG"
   ]
  },
  {
   "cell_type": "code",
   "execution_count": 5,
   "id": "048b089b-e3e3-4490-b121-e66cf02f5d4e",
   "metadata": {},
   "outputs": [],
   "source": [
    "# diffGAI_AI.plot()\n",
    "# diffAI_S.plot()"
   ]
  },
  {
   "cell_type": "markdown",
   "id": "e544d030-1bdc-4567-a890-35f1a54a17cc",
   "metadata": {},
   "source": [
    "### définition de la région d'analyse"
   ]
  },
  {
   "cell_type": "code",
   "execution_count": 5,
   "id": "ac459db5-f7b6-4050-a19c-30f2ae77bbce",
   "metadata": {},
   "outputs": [
    {
     "name": "stdout",
     "output_type": "stream",
     "text": [
      "CPU times: user 6.96 s, sys: 768 ms, total: 7.73 s\n",
      "Wall time: 11.5 s\n"
     ]
    }
   ],
   "source": [
    "%%time\n",
    "chunk_size = {\"time_counter\":1} # {\"x\":500,\"y\":500} \"x\":360,\"y\":500\n",
    "\n",
    "\n",
    "# GAI -AI\n",
    "# path = \"/gpfsscratch/rech/cli/uor98hu/Gr_contribution/integral_wholecolumn\"\n",
    "# S_GR = xr.open_mfdataset(path+\"/eORCA025.L75-IMHOTEP.G_y*mall_1m_GrSalinitywholeColumn.nc\", chunks=chunk_size).S_GR_integral\n",
    "# S_GR = S_GR.groupby(\"time_counter.year\").mean('time_counter')\n",
    "# S_GR_cropped = S_GR.where(nav_lat>=60, drop=True).load()\n",
    "\n",
    "path = \"/gpfsscratch/rech/cli/uor98hu/Gr_contribution/integral_300m\"\n",
    "S_GR = xr.open_mfdataset(path+\"/eORCA025.L75-IMHOTEP.G_y*mall_1m_GrSalinity300m.nc\", chunks=chunk_size).S_GR_integral\n",
    "S_GR = S_GR.groupby(\"time_counter.year\").mean('time_counter')\n",
    "S_GR_cropped = S_GR.where(nav_lat>=60, drop=True).load()\n",
    "\n",
    "# AI-S\n",
    "# path = \"/gpfsscratch/rech/cli/uor98hu/Rivers_contribution/integral_wholecolumn\"\n",
    "# S_riv = xr.open_mfdataset(path+\"/eORCA025.L75-IMHOTEP.RIVERS_y*mall_1m_RivSalinitywholeColumn.nc\", chunks=chunk_size).S_riv_integral\n",
    "# S_riv = S_riv.groupby(\"time_counter.year\").mean('time_counter') *(-1)\n",
    "# S_riv_cropped = S_riv.where(nav_lat>=60, drop=True).load()\n",
    "\n",
    "path = \"/gpfsscratch/rech/cli/uor98hu/Rivers_contribution/integral_300m\"\n",
    "S_riv = xr.open_mfdataset(path+\"/eORCA025.L75-IMHOTEP.RIVERS_y*mall_1m_RivSalinity300m.nc\", chunks=chunk_size).S_riv_integral\n",
    "S_riv = S_riv.groupby(\"time_counter.year\").mean('time_counter')\n",
    "S_riv_cropped = S_riv.where(nav_lat>=60, drop=True).load()"
   ]
  },
  {
   "cell_type": "code",
   "execution_count": null,
   "id": "07587f25-597f-4970-93e7-a67fb7fef76d",
   "metadata": {},
   "outputs": [],
   "source": []
  },
  {
   "cell_type": "markdown",
   "id": "4274437d-24f0-40e8-bf8b-e8a58b1c4a9c",
   "metadata": {},
   "source": [
    "# compute the correlation"
   ]
  },
  {
   "cell_type": "markdown",
   "id": "3747741c-8465-4e66-b2d5-3027c2b5f613",
   "metadata": {
    "tags": []
   },
   "source": [
    "### GAI - AI"
   ]
  },
  {
   "cell_type": "code",
   "execution_count": 6,
   "id": "8bb551f0-48d9-4a07-8f31-7ce0134b9738",
   "metadata": {},
   "outputs": [
    {
     "name": "stderr",
     "output_type": "stream",
     "text": [
      "/gpfsdswork/projects/rech/cli/uor98hu/pythonfiles/lagged_correlation/regress3d.py:53: RuntimeWarning: invalid value encountered in true_divide\n",
      "  expvar=(1-(SSE/SSY))*100.0\n",
      "/gpfsdswork/projects/rech/cli/uor98hu/pythonfiles/lagged_correlation/regress3d.py:72: RuntimeWarning: invalid value encountered in true_divide\n",
      "  t = coeffs[1,:] / serr\n",
      "/gpfsdswork/projects/rech/cli/uor98hu/pythonfiles/lagged_correlation/regress3d.py:80: RuntimeWarning: invalid value encountered in sqrt\n",
      "  r=0.1*np.sqrt(expvar)\n"
     ]
    },
    {
     "name": "stdout",
     "output_type": "stream",
     "text": [
      "CPU times: user 29.1 s, sys: 18 s, total: 47.1 s\n",
      "Wall time: 28.4 s\n"
     ]
    }
   ],
   "source": [
    "%%time\n",
    "# compute lagged correlation year per year\n",
    "# 2005-2018 time period is 14 years long\n",
    "# we go back up to 10 years of lagged correlation\n",
    "\n",
    "# intialisation\n",
    "r_matrix_gr = np.zeros((25,232,1221))\n",
    "expvar,coeffs,p,r = reg.regress3d(diffGAI_AI.values,S_GR_cropped.values[-14:,:,:])\n",
    "r_matrix_gr[0,:,:] = r\n",
    "\n",
    "for lag in np.arange(1,25):\n",
    "    istart = 14+lag\n",
    "    expvar,coeffs,p,r = reg.regress3d(diffGAI_AI.values,S_GR_cropped.values[-istart:-lag,:,:])\n",
    "    r_matrix_gr[lag,:,:] = r\n",
    "    \n",
    "r_matrix2plot_Gr = xr.DataArray(r_matrix_gr,dims=[\"lag\",\"y\", \"x\"], coords=dict(lag=np.arange(0,25)))"
   ]
  },
  {
   "cell_type": "markdown",
   "id": "772ee02a-f5fb-45cf-bed1-368ac580a994",
   "metadata": {
    "tags": []
   },
   "source": [
    "### AI -S"
   ]
  },
  {
   "cell_type": "code",
   "execution_count": 7,
   "id": "8e392323-110a-4190-91d9-094dcebc9ce6",
   "metadata": {},
   "outputs": [
    {
     "name": "stdout",
     "output_type": "stream",
     "text": [
      "CPU times: user 28.8 s, sys: 18.2 s, total: 47 s\n",
      "Wall time: 28.6 s\n"
     ]
    }
   ],
   "source": [
    "%%time\n",
    "# compute lagged correlation year per year\n",
    "# 2005-2018 time period is 14 years long\n",
    "# we go back up to 10 years of lagged correlation\n",
    "\n",
    "# intialisation\n",
    "r_matrix_riv = np.zeros((25,232,1221))\n",
    "expvar,coeffs,p,r = reg.regress3d(diffAI_S.values,S_riv_cropped.values[-14:,:,:])\n",
    "r_matrix_riv[0,:,:] = r\n",
    "\n",
    "for lag in np.arange(1,25):\n",
    "    istart = 14+lag\n",
    "    expvar,coeffs,p,r = reg.regress3d(diffAI_S.values,S_riv_cropped.values[-istart:-lag,:,:])\n",
    "    r_matrix_riv[lag,:,:] = r\n",
    "    \n",
    "r_matrix2plot_riv = xr.DataArray(r_matrix_riv,dims=[\"lag\",\"y\", \"x\"], coords=dict(lag=np.arange(0,25)))"
   ]
  },
  {
   "cell_type": "markdown",
   "id": "59115fa8-5185-4b0a-a06d-d8e9c534f7be",
   "metadata": {
    "tags": []
   },
   "source": [
    "# comparaison Gr et Riv"
   ]
  },
  {
   "cell_type": "code",
   "execution_count": 8,
   "id": "6e6b4910-60ac-4327-a35d-becc2ccd9219",
   "metadata": {},
   "outputs": [
    {
     "name": "stdout",
     "output_type": "stream",
     "text": [
      "CPU times: user 11 s, sys: 103 ms, total: 11.1 s\n",
      "Wall time: 10.9 s\n"
     ]
    }
   ],
   "source": [
    "%%time\n",
    "comp_matrix = np.zeros((25,232,1221))\n",
    "\n",
    "for lag in np.arange(25):\n",
    "    for y in np.arange(232):\n",
    "        for x in np.arange(1221):\n",
    "            if r_matrix_riv[lag,y,x] * r_matrix_gr[lag,y,x] >0:\n",
    "                comp_matrix[lag,y,x] = (r_matrix_riv[lag,y,x] + r_matrix_gr[lag,y,x])/2\n",
    "            else :\n",
    "                comp_matrix[lag,y,x] = np.nan\n",
    "                "
   ]
  },
  {
   "cell_type": "code",
   "execution_count": 9,
   "id": "20ed01b1-ba00-4e11-a79f-58127135f511",
   "metadata": {},
   "outputs": [],
   "source": [
    "comp_matrix2plot = xr.DataArray(comp_matrix,dims=[\"lag\",\"y\", \"x\"], coords=dict(lag=np.arange(0,25)))"
   ]
  },
  {
   "cell_type": "code",
   "execution_count": null,
   "id": "507e0adb-8177-4c00-ade4-141c91321511",
   "metadata": {},
   "outputs": [],
   "source": []
  },
  {
   "cell_type": "code",
   "execution_count": 8,
   "id": "46c5c185-a48f-46b0-a410-573fef661bcb",
   "metadata": {},
   "outputs": [],
   "source": [
    "# lag = 16\n",
    "# istart = 14+lag\n",
    "\n",
    "# # S_GR_cropped[-istart:-lag,:,:]\n",
    "# S_riv_cropped[-istart:-lag,:,:]\n",
    "\n",
    "# # r_matrix2plot"
   ]
  },
  {
   "cell_type": "code",
   "execution_count": 45,
   "id": "8f9e3808-d116-40e2-9930-0086a070f628",
   "metadata": {},
   "outputs": [],
   "source": [
    "# old method\n",
    "# lag = 0\n",
    "# expvar,coeffs,p,r = reg.regress3d(diffGAI_AI.values,S_GR_cropped.values[-14:,:,:])\n",
    "# # lag = 5 ans\n",
    "# expvar,coeffs,p,r_5 = reg.regress3d(diffGAI_AI.values[5:],S_GR_cropped.values[:-5,:,:]) \n",
    "# # lag = 10 ans\n",
    "# expvar,coeffs,p,r_10 = reg.regress3d(diffGAI_AI.values[10:],S_GR_cropped.values[:-10,:,:]) \n",
    "# # lag = 15\n",
    "# expvar,coeffs,p,r_15 = reg.regress3d(diffGAI_AI.values[15:],S_GR_cropped.values[:-15,:,:]) \n",
    "# # lag =20\n",
    "# expvar,coeffs,p,r_20 = reg.regress3d(diffGAI_AI.values[20:],S_GR_cropped.values[:-20,:,:]) \n",
    "# # lag = 25\n",
    "# expvar,coeffs,p,r_25 = reg.regress3d(diffGAI_AI.values[25:],S_GR_cropped.values[:-25,:,:]) \n",
    "\n",
    "# r2plot = xr.DataArray(r,dims=[\"y\", \"x\"])\n",
    "# r_matrix[0,:,:] = r\n",
    "# r_matrix[1,:,:] = r_5\n",
    "# r_matrix[2,:,:] = r_10\n",
    "# r_matrix[3,:,:] = r_15\n",
    "# r_matrix[4,:,:] = r_20\n",
    "# r_matrix[5,:,:] = r_25\n",
    "\n",
    "# r_matrix2plot = xr.DataArray(r_matrix,dims=[\"lag\",\"y\", \"x\"], coords=dict(lag=np.arange(0,30,5)))"
   ]
  },
  {
   "cell_type": "markdown",
   "id": "251d1a34-09d3-4885-9264-f866bfed6b10",
   "metadata": {},
   "source": [
    "# plot nicely"
   ]
  },
  {
   "cell_type": "code",
   "execution_count": 10,
   "id": "2ae98476-f8a1-47e8-932d-3ee33f014045",
   "metadata": {},
   "outputs": [],
   "source": [
    "def truncate_colormap(cmap, minval=0.0, maxval=1.0, n=100):\n",
    "    new_cmap = mcolors.LinearSegmentedColormap.from_list(\n",
    "        'trunc({n},{a:.2f},{b:.2f})'.format(n=cmap.name, a=minval, b=maxval),\n",
    "        cmap(np.linspace(minval, maxval, n)))\n",
    "    return new_cmap"
   ]
  },
  {
   "cell_type": "code",
   "execution_count": 11,
   "id": "f4025433-b0b1-412e-8116-5ea2f031ea63",
   "metadata": {},
   "outputs": [],
   "source": [
    "# read grid files\n",
    "diri=\"/gpfswork/rech/cli/rcli002/eORCA025.L75/eORCA025.L75-I/\"\n",
    "nav_lat = xr.open_dataset(diri+'mesh_hgr.nc')['nav_lat'].squeeze()#.where(nav_lat>=60, drop=True)\n",
    "\n",
    "maskBG2plot = maskBG.where(nav_lat>=60, drop=True)\n",
    "tmask = xr.open_dataset(diri+'mesh_hgr.nc')['tmask'][0,0,:,:].where(nav_lat>=60, drop=True) # grille lat/lon\n",
    "nav_lon = xr.open_dataset(diri+'mesh_hgr.nc')['nav_lon'].squeeze().where(nav_lat>=60, drop=True)\n",
    "mbathy = xr.open_dataset(diri+'eORCA025.L75_domain_cfg_closed_seas_greenland.nc')['bathy_meter'].isel(t=0).where(nav_lat>=60, drop=True) # grille lat/lon\n",
    "nav_lat = nav_lat.where(nav_lat>=60, drop=True)\n",
    "\n",
    "# land mask from model\n",
    "m2plt      = tmask.where(tmask==0)\n",
    "\n",
    "# default gridlines parameters\n",
    "gridl=False\n",
    "incrgridlon=30\n",
    "incrgridlat=10\n",
    "\n",
    "# vue N.Atl\n",
    "# loncentr=330 # before it was zero\n",
    "# latcentr=70\n",
    "#vue polaire\n",
    "loncentr=200 # before it was zero\n",
    "latcentr=90\n",
    "\n",
    "sath=2085831\n",
    "\n",
    "nav_lon2plot = nav_lon.fillna(0)\n",
    "nav_lat2plot = nav_lat.fillna(0)\n"
   ]
  },
  {
   "cell_type": "code",
   "execution_count": 12,
   "id": "c77b8a10-ffc8-4a52-bbed-bfc506c1111d",
   "metadata": {},
   "outputs": [],
   "source": [
    "cmap = ccm.cm.balance\n",
    "my_map1 = truncate_colormap(cmap, 0, 0.4)\n",
    "my_map2 = truncate_colormap(cmap, 0.6, 1)\n",
    "colors1 = my_map1(np.linspace(0., 1, 50))\n",
    "colors2 = my_map2(np.linspace(0., 1, 50))\n",
    "colors = np.vstack(( colors1, colors2))\n",
    "mycm = mcolors.LinearSegmentedColormap.from_list('my_colormap', colors)"
   ]
  },
  {
   "cell_type": "markdown",
   "id": "db841cf5-fe99-4d97-b654-1208a22f7633",
   "metadata": {
    "tags": []
   },
   "source": [
    "# plot correlation maps"
   ]
  },
  {
   "cell_type": "code",
   "execution_count": 10,
   "id": "944eeca2-971e-4f2e-aa91-d0984472b83f",
   "metadata": {},
   "outputs": [],
   "source": [
    "lmin = -1.0\n",
    "incr = 0.1\n",
    "lmax = lmin*(-1)+0.1\n",
    "# define the bins and normalize\n",
    "bounds = np.arange(lmin,lmax,incr)\n",
    "norm = mcolors.BoundaryNorm(bounds, mycm.N)"
   ]
  },
  {
   "cell_type": "code",
   "execution_count": 11,
   "id": "db866d66-6090-4766-9350-8cf5c393d271",
   "metadata": {
    "tags": []
   },
   "outputs": [
    {
     "name": "stdout",
     "output_type": "stream",
     "text": [
      "GAI_AI_corr_map_SSH_S_GR_lag0y.png\n"
     ]
    },
    {
     "name": "stderr",
     "output_type": "stream",
     "text": [
      "/gpfslocalsup/pub/anaconda-py3/2020.11/envs/climate_science/lib/python3.9/site-packages/cartopy/mpl/geoaxes.py:1597: MatplotlibDeprecationWarning: shading='flat' when X and Y have the same dimensions as C is deprecated since 3.3.  Either specify the corners of the quadrilaterals with X and Y, or pass shading='auto', 'nearest' or 'gouraud', or set rcParams['pcolor.shading'].  This will become an error two minor releases later.\n",
      "  X, Y, C, shading = self._pcolorargs('pcolormesh', *args,\n"
     ]
    },
    {
     "name": "stdout",
     "output_type": "stream",
     "text": [
      "GAI_AI_corr_map_SSH_S_GR_lag1y.png\n"
     ]
    },
    {
     "name": "stderr",
     "output_type": "stream",
     "text": [
      "/gpfslocalsup/pub/anaconda-py3/2020.11/envs/climate_science/lib/python3.9/site-packages/cartopy/mpl/geoaxes.py:1597: MatplotlibDeprecationWarning: shading='flat' when X and Y have the same dimensions as C is deprecated since 3.3.  Either specify the corners of the quadrilaterals with X and Y, or pass shading='auto', 'nearest' or 'gouraud', or set rcParams['pcolor.shading'].  This will become an error two minor releases later.\n",
      "  X, Y, C, shading = self._pcolorargs('pcolormesh', *args,\n"
     ]
    },
    {
     "name": "stdout",
     "output_type": "stream",
     "text": [
      "GAI_AI_corr_map_SSH_S_GR_lag2y.png\n"
     ]
    },
    {
     "name": "stderr",
     "output_type": "stream",
     "text": [
      "/gpfslocalsup/pub/anaconda-py3/2020.11/envs/climate_science/lib/python3.9/site-packages/cartopy/mpl/geoaxes.py:1597: MatplotlibDeprecationWarning: shading='flat' when X and Y have the same dimensions as C is deprecated since 3.3.  Either specify the corners of the quadrilaterals with X and Y, or pass shading='auto', 'nearest' or 'gouraud', or set rcParams['pcolor.shading'].  This will become an error two minor releases later.\n",
      "  X, Y, C, shading = self._pcolorargs('pcolormesh', *args,\n"
     ]
    },
    {
     "name": "stdout",
     "output_type": "stream",
     "text": [
      "GAI_AI_corr_map_SSH_S_GR_lag3y.png\n"
     ]
    },
    {
     "name": "stderr",
     "output_type": "stream",
     "text": [
      "/gpfslocalsup/pub/anaconda-py3/2020.11/envs/climate_science/lib/python3.9/site-packages/cartopy/mpl/geoaxes.py:1597: MatplotlibDeprecationWarning: shading='flat' when X and Y have the same dimensions as C is deprecated since 3.3.  Either specify the corners of the quadrilaterals with X and Y, or pass shading='auto', 'nearest' or 'gouraud', or set rcParams['pcolor.shading'].  This will become an error two minor releases later.\n",
      "  X, Y, C, shading = self._pcolorargs('pcolormesh', *args,\n"
     ]
    },
    {
     "name": "stdout",
     "output_type": "stream",
     "text": [
      "GAI_AI_corr_map_SSH_S_GR_lag4y.png\n"
     ]
    },
    {
     "name": "stderr",
     "output_type": "stream",
     "text": [
      "/gpfslocalsup/pub/anaconda-py3/2020.11/envs/climate_science/lib/python3.9/site-packages/cartopy/mpl/geoaxes.py:1597: MatplotlibDeprecationWarning: shading='flat' when X and Y have the same dimensions as C is deprecated since 3.3.  Either specify the corners of the quadrilaterals with X and Y, or pass shading='auto', 'nearest' or 'gouraud', or set rcParams['pcolor.shading'].  This will become an error two minor releases later.\n",
      "  X, Y, C, shading = self._pcolorargs('pcolormesh', *args,\n"
     ]
    },
    {
     "name": "stdout",
     "output_type": "stream",
     "text": [
      "GAI_AI_corr_map_SSH_S_GR_lag5y.png\n"
     ]
    },
    {
     "name": "stderr",
     "output_type": "stream",
     "text": [
      "/gpfslocalsup/pub/anaconda-py3/2020.11/envs/climate_science/lib/python3.9/site-packages/cartopy/mpl/geoaxes.py:1597: MatplotlibDeprecationWarning: shading='flat' when X and Y have the same dimensions as C is deprecated since 3.3.  Either specify the corners of the quadrilaterals with X and Y, or pass shading='auto', 'nearest' or 'gouraud', or set rcParams['pcolor.shading'].  This will become an error two minor releases later.\n",
      "  X, Y, C, shading = self._pcolorargs('pcolormesh', *args,\n"
     ]
    },
    {
     "name": "stdout",
     "output_type": "stream",
     "text": [
      "GAI_AI_corr_map_SSH_S_GR_lag6y.png\n"
     ]
    },
    {
     "name": "stderr",
     "output_type": "stream",
     "text": [
      "/gpfslocalsup/pub/anaconda-py3/2020.11/envs/climate_science/lib/python3.9/site-packages/cartopy/mpl/geoaxes.py:1597: MatplotlibDeprecationWarning: shading='flat' when X and Y have the same dimensions as C is deprecated since 3.3.  Either specify the corners of the quadrilaterals with X and Y, or pass shading='auto', 'nearest' or 'gouraud', or set rcParams['pcolor.shading'].  This will become an error two minor releases later.\n",
      "  X, Y, C, shading = self._pcolorargs('pcolormesh', *args,\n"
     ]
    },
    {
     "name": "stdout",
     "output_type": "stream",
     "text": [
      "GAI_AI_corr_map_SSH_S_GR_lag7y.png\n"
     ]
    },
    {
     "name": "stderr",
     "output_type": "stream",
     "text": [
      "/gpfslocalsup/pub/anaconda-py3/2020.11/envs/climate_science/lib/python3.9/site-packages/cartopy/mpl/geoaxes.py:1597: MatplotlibDeprecationWarning: shading='flat' when X and Y have the same dimensions as C is deprecated since 3.3.  Either specify the corners of the quadrilaterals with X and Y, or pass shading='auto', 'nearest' or 'gouraud', or set rcParams['pcolor.shading'].  This will become an error two minor releases later.\n",
      "  X, Y, C, shading = self._pcolorargs('pcolormesh', *args,\n"
     ]
    },
    {
     "name": "stdout",
     "output_type": "stream",
     "text": [
      "GAI_AI_corr_map_SSH_S_GR_lag8y.png\n"
     ]
    },
    {
     "name": "stderr",
     "output_type": "stream",
     "text": [
      "/gpfslocalsup/pub/anaconda-py3/2020.11/envs/climate_science/lib/python3.9/site-packages/cartopy/mpl/geoaxes.py:1597: MatplotlibDeprecationWarning: shading='flat' when X and Y have the same dimensions as C is deprecated since 3.3.  Either specify the corners of the quadrilaterals with X and Y, or pass shading='auto', 'nearest' or 'gouraud', or set rcParams['pcolor.shading'].  This will become an error two minor releases later.\n",
      "  X, Y, C, shading = self._pcolorargs('pcolormesh', *args,\n"
     ]
    },
    {
     "name": "stdout",
     "output_type": "stream",
     "text": [
      "GAI_AI_corr_map_SSH_S_GR_lag9y.png\n"
     ]
    },
    {
     "name": "stderr",
     "output_type": "stream",
     "text": [
      "/gpfslocalsup/pub/anaconda-py3/2020.11/envs/climate_science/lib/python3.9/site-packages/cartopy/mpl/geoaxes.py:1597: MatplotlibDeprecationWarning: shading='flat' when X and Y have the same dimensions as C is deprecated since 3.3.  Either specify the corners of the quadrilaterals with X and Y, or pass shading='auto', 'nearest' or 'gouraud', or set rcParams['pcolor.shading'].  This will become an error two minor releases later.\n",
      "  X, Y, C, shading = self._pcolorargs('pcolormesh', *args,\n"
     ]
    },
    {
     "name": "stdout",
     "output_type": "stream",
     "text": [
      "GAI_AI_corr_map_SSH_S_GR_lag10y.png\n"
     ]
    },
    {
     "name": "stderr",
     "output_type": "stream",
     "text": [
      "/gpfslocalsup/pub/anaconda-py3/2020.11/envs/climate_science/lib/python3.9/site-packages/cartopy/mpl/geoaxes.py:1597: MatplotlibDeprecationWarning: shading='flat' when X and Y have the same dimensions as C is deprecated since 3.3.  Either specify the corners of the quadrilaterals with X and Y, or pass shading='auto', 'nearest' or 'gouraud', or set rcParams['pcolor.shading'].  This will become an error two minor releases later.\n",
      "  X, Y, C, shading = self._pcolorargs('pcolormesh', *args,\n"
     ]
    },
    {
     "name": "stdout",
     "output_type": "stream",
     "text": [
      "GAI_AI_corr_map_SSH_S_GR_lag11y.png\n"
     ]
    },
    {
     "name": "stderr",
     "output_type": "stream",
     "text": [
      "/gpfslocalsup/pub/anaconda-py3/2020.11/envs/climate_science/lib/python3.9/site-packages/cartopy/mpl/geoaxes.py:1597: MatplotlibDeprecationWarning: shading='flat' when X and Y have the same dimensions as C is deprecated since 3.3.  Either specify the corners of the quadrilaterals with X and Y, or pass shading='auto', 'nearest' or 'gouraud', or set rcParams['pcolor.shading'].  This will become an error two minor releases later.\n",
      "  X, Y, C, shading = self._pcolorargs('pcolormesh', *args,\n"
     ]
    },
    {
     "name": "stdout",
     "output_type": "stream",
     "text": [
      "GAI_AI_corr_map_SSH_S_GR_lag12y.png\n"
     ]
    },
    {
     "name": "stderr",
     "output_type": "stream",
     "text": [
      "/gpfslocalsup/pub/anaconda-py3/2020.11/envs/climate_science/lib/python3.9/site-packages/cartopy/mpl/geoaxes.py:1597: MatplotlibDeprecationWarning: shading='flat' when X and Y have the same dimensions as C is deprecated since 3.3.  Either specify the corners of the quadrilaterals with X and Y, or pass shading='auto', 'nearest' or 'gouraud', or set rcParams['pcolor.shading'].  This will become an error two minor releases later.\n",
      "  X, Y, C, shading = self._pcolorargs('pcolormesh', *args,\n"
     ]
    },
    {
     "name": "stdout",
     "output_type": "stream",
     "text": [
      "GAI_AI_corr_map_SSH_S_GR_lag13y.png\n"
     ]
    },
    {
     "name": "stderr",
     "output_type": "stream",
     "text": [
      "/gpfslocalsup/pub/anaconda-py3/2020.11/envs/climate_science/lib/python3.9/site-packages/cartopy/mpl/geoaxes.py:1597: MatplotlibDeprecationWarning: shading='flat' when X and Y have the same dimensions as C is deprecated since 3.3.  Either specify the corners of the quadrilaterals with X and Y, or pass shading='auto', 'nearest' or 'gouraud', or set rcParams['pcolor.shading'].  This will become an error two minor releases later.\n",
      "  X, Y, C, shading = self._pcolorargs('pcolormesh', *args,\n"
     ]
    },
    {
     "name": "stdout",
     "output_type": "stream",
     "text": [
      "GAI_AI_corr_map_SSH_S_GR_lag14y.png\n"
     ]
    },
    {
     "name": "stderr",
     "output_type": "stream",
     "text": [
      "/gpfslocalsup/pub/anaconda-py3/2020.11/envs/climate_science/lib/python3.9/site-packages/cartopy/mpl/geoaxes.py:1597: MatplotlibDeprecationWarning: shading='flat' when X and Y have the same dimensions as C is deprecated since 3.3.  Either specify the corners of the quadrilaterals with X and Y, or pass shading='auto', 'nearest' or 'gouraud', or set rcParams['pcolor.shading'].  This will become an error two minor releases later.\n",
      "  X, Y, C, shading = self._pcolorargs('pcolormesh', *args,\n"
     ]
    },
    {
     "name": "stdout",
     "output_type": "stream",
     "text": [
      "GAI_AI_corr_map_SSH_S_GR_lag15y.png\n"
     ]
    },
    {
     "name": "stderr",
     "output_type": "stream",
     "text": [
      "/gpfslocalsup/pub/anaconda-py3/2020.11/envs/climate_science/lib/python3.9/site-packages/cartopy/mpl/geoaxes.py:1597: MatplotlibDeprecationWarning: shading='flat' when X and Y have the same dimensions as C is deprecated since 3.3.  Either specify the corners of the quadrilaterals with X and Y, or pass shading='auto', 'nearest' or 'gouraud', or set rcParams['pcolor.shading'].  This will become an error two minor releases later.\n",
      "  X, Y, C, shading = self._pcolorargs('pcolormesh', *args,\n"
     ]
    },
    {
     "name": "stdout",
     "output_type": "stream",
     "text": [
      "GAI_AI_corr_map_SSH_S_GR_lag16y.png\n"
     ]
    },
    {
     "name": "stderr",
     "output_type": "stream",
     "text": [
      "/gpfslocalsup/pub/anaconda-py3/2020.11/envs/climate_science/lib/python3.9/site-packages/cartopy/mpl/geoaxes.py:1597: MatplotlibDeprecationWarning: shading='flat' when X and Y have the same dimensions as C is deprecated since 3.3.  Either specify the corners of the quadrilaterals with X and Y, or pass shading='auto', 'nearest' or 'gouraud', or set rcParams['pcolor.shading'].  This will become an error two minor releases later.\n",
      "  X, Y, C, shading = self._pcolorargs('pcolormesh', *args,\n"
     ]
    },
    {
     "name": "stdout",
     "output_type": "stream",
     "text": [
      "GAI_AI_corr_map_SSH_S_GR_lag17y.png\n"
     ]
    },
    {
     "name": "stderr",
     "output_type": "stream",
     "text": [
      "/gpfslocalsup/pub/anaconda-py3/2020.11/envs/climate_science/lib/python3.9/site-packages/cartopy/mpl/geoaxes.py:1597: MatplotlibDeprecationWarning: shading='flat' when X and Y have the same dimensions as C is deprecated since 3.3.  Either specify the corners of the quadrilaterals with X and Y, or pass shading='auto', 'nearest' or 'gouraud', or set rcParams['pcolor.shading'].  This will become an error two minor releases later.\n",
      "  X, Y, C, shading = self._pcolorargs('pcolormesh', *args,\n"
     ]
    },
    {
     "name": "stdout",
     "output_type": "stream",
     "text": [
      "GAI_AI_corr_map_SSH_S_GR_lag18y.png\n"
     ]
    },
    {
     "name": "stderr",
     "output_type": "stream",
     "text": [
      "/gpfslocalsup/pub/anaconda-py3/2020.11/envs/climate_science/lib/python3.9/site-packages/cartopy/mpl/geoaxes.py:1597: MatplotlibDeprecationWarning: shading='flat' when X and Y have the same dimensions as C is deprecated since 3.3.  Either specify the corners of the quadrilaterals with X and Y, or pass shading='auto', 'nearest' or 'gouraud', or set rcParams['pcolor.shading'].  This will become an error two minor releases later.\n",
      "  X, Y, C, shading = self._pcolorargs('pcolormesh', *args,\n"
     ]
    },
    {
     "name": "stdout",
     "output_type": "stream",
     "text": [
      "GAI_AI_corr_map_SSH_S_GR_lag19y.png\n"
     ]
    },
    {
     "name": "stderr",
     "output_type": "stream",
     "text": [
      "/gpfslocalsup/pub/anaconda-py3/2020.11/envs/climate_science/lib/python3.9/site-packages/cartopy/mpl/geoaxes.py:1597: MatplotlibDeprecationWarning: shading='flat' when X and Y have the same dimensions as C is deprecated since 3.3.  Either specify the corners of the quadrilaterals with X and Y, or pass shading='auto', 'nearest' or 'gouraud', or set rcParams['pcolor.shading'].  This will become an error two minor releases later.\n",
      "  X, Y, C, shading = self._pcolorargs('pcolormesh', *args,\n"
     ]
    },
    {
     "name": "stdout",
     "output_type": "stream",
     "text": [
      "GAI_AI_corr_map_SSH_S_GR_lag20y.png\n"
     ]
    },
    {
     "name": "stderr",
     "output_type": "stream",
     "text": [
      "<ipython-input-11-0394487149f5>:16: RuntimeWarning: More than 20 figures have been opened. Figures created through the pyplot interface (`matplotlib.pyplot.figure`) are retained until explicitly closed and may consume too much memory. (To control this warning, see the rcParam `figure.max_open_warning`).\n",
      "  fig = plt.figure(figsize=([18,10]),facecolor='none', dpi=72*2)\n",
      "/gpfslocalsup/pub/anaconda-py3/2020.11/envs/climate_science/lib/python3.9/site-packages/cartopy/mpl/geoaxes.py:1597: MatplotlibDeprecationWarning: shading='flat' when X and Y have the same dimensions as C is deprecated since 3.3.  Either specify the corners of the quadrilaterals with X and Y, or pass shading='auto', 'nearest' or 'gouraud', or set rcParams['pcolor.shading'].  This will become an error two minor releases later.\n",
      "  X, Y, C, shading = self._pcolorargs('pcolormesh', *args,\n"
     ]
    },
    {
     "name": "stdout",
     "output_type": "stream",
     "text": [
      "GAI_AI_corr_map_SSH_S_GR_lag21y.png\n"
     ]
    },
    {
     "name": "stderr",
     "output_type": "stream",
     "text": [
      "/gpfslocalsup/pub/anaconda-py3/2020.11/envs/climate_science/lib/python3.9/site-packages/cartopy/mpl/geoaxes.py:1597: MatplotlibDeprecationWarning: shading='flat' when X and Y have the same dimensions as C is deprecated since 3.3.  Either specify the corners of the quadrilaterals with X and Y, or pass shading='auto', 'nearest' or 'gouraud', or set rcParams['pcolor.shading'].  This will become an error two minor releases later.\n",
      "  X, Y, C, shading = self._pcolorargs('pcolormesh', *args,\n"
     ]
    },
    {
     "name": "stdout",
     "output_type": "stream",
     "text": [
      "GAI_AI_corr_map_SSH_S_GR_lag22y.png\n"
     ]
    },
    {
     "name": "stderr",
     "output_type": "stream",
     "text": [
      "/gpfslocalsup/pub/anaconda-py3/2020.11/envs/climate_science/lib/python3.9/site-packages/cartopy/mpl/geoaxes.py:1597: MatplotlibDeprecationWarning: shading='flat' when X and Y have the same dimensions as C is deprecated since 3.3.  Either specify the corners of the quadrilaterals with X and Y, or pass shading='auto', 'nearest' or 'gouraud', or set rcParams['pcolor.shading'].  This will become an error two minor releases later.\n",
      "  X, Y, C, shading = self._pcolorargs('pcolormesh', *args,\n"
     ]
    },
    {
     "name": "stdout",
     "output_type": "stream",
     "text": [
      "GAI_AI_corr_map_SSH_S_GR_lag23y.png\n"
     ]
    },
    {
     "name": "stderr",
     "output_type": "stream",
     "text": [
      "/gpfslocalsup/pub/anaconda-py3/2020.11/envs/climate_science/lib/python3.9/site-packages/cartopy/mpl/geoaxes.py:1597: MatplotlibDeprecationWarning: shading='flat' when X and Y have the same dimensions as C is deprecated since 3.3.  Either specify the corners of the quadrilaterals with X and Y, or pass shading='auto', 'nearest' or 'gouraud', or set rcParams['pcolor.shading'].  This will become an error two minor releases later.\n",
      "  X, Y, C, shading = self._pcolorargs('pcolormesh', *args,\n"
     ]
    },
    {
     "name": "stdout",
     "output_type": "stream",
     "text": [
      "GAI_AI_corr_map_SSH_S_GR_lag24y.png\n"
     ]
    },
    {
     "name": "stderr",
     "output_type": "stream",
     "text": [
      "/gpfslocalsup/pub/anaconda-py3/2020.11/envs/climate_science/lib/python3.9/site-packages/cartopy/mpl/geoaxes.py:1597: MatplotlibDeprecationWarning: shading='flat' when X and Y have the same dimensions as C is deprecated since 3.3.  Either specify the corners of the quadrilaterals with X and Y, or pass shading='auto', 'nearest' or 'gouraud', or set rcParams['pcolor.shading'].  This will become an error two minor releases later.\n",
      "  X, Y, C, shading = self._pcolorargs('pcolormesh', *args,\n"
     ]
    },
    {
     "data": {
      "text/plain": [
       "<Figure size 2592x1440 with 0 Axes>"
      ]
     },
     "metadata": {},
     "output_type": "display_data"
    },
    {
     "data": {
      "text/plain": [
       "<Figure size 2592x1440 with 0 Axes>"
      ]
     },
     "metadata": {},
     "output_type": "display_data"
    },
    {
     "data": {
      "text/plain": [
       "<Figure size 2592x1440 with 0 Axes>"
      ]
     },
     "metadata": {},
     "output_type": "display_data"
    },
    {
     "data": {
      "text/plain": [
       "<Figure size 2592x1440 with 0 Axes>"
      ]
     },
     "metadata": {},
     "output_type": "display_data"
    },
    {
     "data": {
      "text/plain": [
       "<Figure size 2592x1440 with 0 Axes>"
      ]
     },
     "metadata": {},
     "output_type": "display_data"
    },
    {
     "data": {
      "text/plain": [
       "<Figure size 2592x1440 with 0 Axes>"
      ]
     },
     "metadata": {},
     "output_type": "display_data"
    },
    {
     "data": {
      "text/plain": [
       "<Figure size 2592x1440 with 0 Axes>"
      ]
     },
     "metadata": {},
     "output_type": "display_data"
    },
    {
     "data": {
      "text/plain": [
       "<Figure size 2592x1440 with 0 Axes>"
      ]
     },
     "metadata": {},
     "output_type": "display_data"
    },
    {
     "data": {
      "text/plain": [
       "<Figure size 2592x1440 with 0 Axes>"
      ]
     },
     "metadata": {},
     "output_type": "display_data"
    },
    {
     "data": {
      "text/plain": [
       "<Figure size 2592x1440 with 0 Axes>"
      ]
     },
     "metadata": {},
     "output_type": "display_data"
    },
    {
     "data": {
      "text/plain": [
       "<Figure size 2592x1440 with 0 Axes>"
      ]
     },
     "metadata": {},
     "output_type": "display_data"
    },
    {
     "data": {
      "text/plain": [
       "<Figure size 2592x1440 with 0 Axes>"
      ]
     },
     "metadata": {},
     "output_type": "display_data"
    },
    {
     "data": {
      "text/plain": [
       "<Figure size 2592x1440 with 0 Axes>"
      ]
     },
     "metadata": {},
     "output_type": "display_data"
    },
    {
     "data": {
      "text/plain": [
       "<Figure size 2592x1440 with 0 Axes>"
      ]
     },
     "metadata": {},
     "output_type": "display_data"
    },
    {
     "data": {
      "text/plain": [
       "<Figure size 2592x1440 with 0 Axes>"
      ]
     },
     "metadata": {},
     "output_type": "display_data"
    },
    {
     "data": {
      "text/plain": [
       "<Figure size 2592x1440 with 0 Axes>"
      ]
     },
     "metadata": {},
     "output_type": "display_data"
    },
    {
     "data": {
      "text/plain": [
       "<Figure size 2592x1440 with 0 Axes>"
      ]
     },
     "metadata": {},
     "output_type": "display_data"
    },
    {
     "data": {
      "text/plain": [
       "<Figure size 2592x1440 with 0 Axes>"
      ]
     },
     "metadata": {},
     "output_type": "display_data"
    },
    {
     "data": {
      "text/plain": [
       "<Figure size 2592x1440 with 0 Axes>"
      ]
     },
     "metadata": {},
     "output_type": "display_data"
    },
    {
     "data": {
      "text/plain": [
       "<Figure size 2592x1440 with 0 Axes>"
      ]
     },
     "metadata": {},
     "output_type": "display_data"
    },
    {
     "data": {
      "text/plain": [
       "<Figure size 2592x1440 with 0 Axes>"
      ]
     },
     "metadata": {},
     "output_type": "display_data"
    },
    {
     "data": {
      "text/plain": [
       "<Figure size 2592x1440 with 0 Axes>"
      ]
     },
     "metadata": {},
     "output_type": "display_data"
    },
    {
     "data": {
      "text/plain": [
       "<Figure size 2592x1440 with 0 Axes>"
      ]
     },
     "metadata": {},
     "output_type": "display_data"
    },
    {
     "data": {
      "text/plain": [
       "<Figure size 2592x1440 with 0 Axes>"
      ]
     },
     "metadata": {},
     "output_type": "display_data"
    },
    {
     "data": {
      "text/plain": [
       "<Figure size 2592x1440 with 0 Axes>"
      ]
     },
     "metadata": {},
     "output_type": "display_data"
    }
   ],
   "source": [
    "#========= CREATE FIGURE\n",
    "diro = \"/gpfsscratch/rech/cli/uor98hu/corr_maps_gr/\" # GAI -AI\n",
    "# diro = \"/gpfsscratch/rech/cli/uor98hu/corr_maps_riv/\" # AI - S\n",
    "\n",
    "r_matrix2plot = r_matrix2plot_Gr\n",
    "# RUN to PLOT\n",
    "for i in np.arange(25):\n",
    "    data2plot = r_matrix2plot.isel(lag=i).where(tmask!=0,0).squeeze()\n",
    "    # yr, mm = dates(S_GR_short.isel(time_counter=t))\n",
    "    tlabel= \"Correlation coefficient for time lag = \"+str(r_matrix2plot.lag[i].values)+\" years\" #\"whole column S_GR integral for \"+str(yr)+\"-\"+f\"{mm:02d}\" + r\" [10$-3$]\"\n",
    "    namo  =\"GAI_AI_corr_map_SSH_S_GR_lag\"+str(r_matrix2plot.lag[i].values)+\"y.png\"\n",
    "    # namo  =\"AI_S_corr_map_SSH_S_riv_lag\"+str(r_matrix2plot.lag[i].values)+\"yv2.png\"\n",
    "    print(namo)\n",
    "    \n",
    "    #===========================================\n",
    "    fig = plt.figure(figsize=([18,10]),facecolor='none', dpi=72*2)\n",
    "\n",
    "    trdata  = ccrs.PlateCarree() # Data system proj (if coords are in lat lon, use PlateCarre here)\n",
    "    ax = plt.axes(projection= ccrs.NearsidePerspective(central_longitude=loncentr, central_latitude=latcentr,satellite_height=sath))\n",
    "\n",
    "    #========= PLOT DATA\n",
    "\n",
    "    ax.contour(nav_lon,nav_lat,maskBG2plot,1,colors=\"k\",transform=trdata)\n",
    "    cs  = plt.pcolormesh(nav_lon2plot, nav_lat2plot, data2plot,shading='flat',cmap = mycm,transform=trdata, norm=norm)\n",
    "    fig.colorbar(cs,extend='neither', ticks=bounds,label=r'correlation coefficient')\n",
    "\n",
    "    # cs2  = plt.pcolormesh(nav_lon, nav_lat, m2plt, shading='flat',transform=trdata) \n",
    "    #========= coastlines and gridlines\n",
    "    rivers = cartopy.feature.NaturalEarthFeature(category='physical', name='rivers_lake_centerlines',scale='50m',facecolor='none',edgecolor='b')\n",
    "    clr2 = ax.add_feature(rivers,alpha=0.7,facecolor='none',edgecolor='blue',zorder=6)\n",
    "    cl2 = ax.add_feature(cfeature.LAND.with_scale('50m'),facecolor=\"dimgrey\",edgecolor= 'none',alpha=1,zorder=5)\n",
    "    gl =ax.gridlines(xlocs=range(-180,181,incrgridlon), ylocs=range(-90,91,incrgridlat),draw_labels=True,linewidth=1, color='#585858', alpha=0.3, linestyle='--',zorder=8)\n",
    "    label_style = {'size': 12, 'color': '#BDBDBD', 'weight': 'normal'}\n",
    "    gl.xlabel_style = label_style; gl.ylabel_style = label_style\n",
    "\n",
    "\n",
    "    #============= BATHYMETRY\n",
    "    bathy_levels = [200,1000,2000,4000] # We will apply a Gaussian filter to smooth the data. \n",
    "    color_levels= ['k','navy','mediumblue','slateblue']\n",
    "    # west\n",
    "    Ct1 = ax.contour(nav_lon,nav_lat,mbathy.where(nav_lon<0), bathy_levels,colors=color_levels,linewidths=0.7,linestyles='solid',transform=trdata)\n",
    "    # east\n",
    "    Ct2 = ax.contour(nav_lon,nav_lat,mbathy.where(nav_lon>0), bathy_levels,colors=color_levels,linewidths=0.7,linestyles='solid',transform=trdata)\n",
    "\n",
    "\n",
    "    plt.title(tlabel,fontsize=24)\n",
    "    # plt.show()\n",
    "    fig.savefig(diro+namo, facecolor=fig.get_facecolor(), bbox_inches='tight') #,edgecolor='none', \n",
    "    # plt.close(fig)\n",
    "    plt.clf()"
   ]
  },
  {
   "cell_type": "markdown",
   "id": "30231740-66d3-4023-b840-c48e6ad9a13b",
   "metadata": {
    "tags": []
   },
   "source": [
    "# plot comparison map"
   ]
  },
  {
   "cell_type": "code",
   "execution_count": 13,
   "id": "f7c7fe66-c937-446d-9030-6e80a1157cbf",
   "metadata": {},
   "outputs": [],
   "source": [
    "lmin = -1.0\n",
    "incr = 0.1\n",
    "lmax = lmin*(-1)+0.1\n",
    "# define the bins and normalize\n",
    "bounds = np.arange(lmin,lmax,incr)\n",
    "norm = mcolors.BoundaryNorm(bounds, mycm.N)"
   ]
  },
  {
   "cell_type": "code",
   "execution_count": null,
   "id": "e6bd3e7e-3c18-41df-a07a-317399e8d89b",
   "metadata": {},
   "outputs": [],
   "source": []
  },
  {
   "cell_type": "code",
   "execution_count": 14,
   "id": "68250bd7-91fa-4418-a928-21501a1d7025",
   "metadata": {},
   "outputs": [
    {
     "name": "stdout",
     "output_type": "stream",
     "text": [
      "comp_corr_map_SSH_S_anom_300_lag0y.png\n"
     ]
    },
    {
     "name": "stderr",
     "output_type": "stream",
     "text": [
      "/gpfslocalsup/pub/anaconda-py3/2020.11/envs/climate_science/lib/python3.9/site-packages/cartopy/mpl/geoaxes.py:1597: MatplotlibDeprecationWarning: shading='flat' when X and Y have the same dimensions as C is deprecated since 3.3.  Either specify the corners of the quadrilaterals with X and Y, or pass shading='auto', 'nearest' or 'gouraud', or set rcParams['pcolor.shading'].  This will become an error two minor releases later.\n",
      "  X, Y, C, shading = self._pcolorargs('pcolormesh', *args,\n"
     ]
    },
    {
     "name": "stdout",
     "output_type": "stream",
     "text": [
      "comp_corr_map_SSH_S_anom_300_lag1y.png\n"
     ]
    },
    {
     "name": "stderr",
     "output_type": "stream",
     "text": [
      "/gpfslocalsup/pub/anaconda-py3/2020.11/envs/climate_science/lib/python3.9/site-packages/cartopy/mpl/geoaxes.py:1597: MatplotlibDeprecationWarning: shading='flat' when X and Y have the same dimensions as C is deprecated since 3.3.  Either specify the corners of the quadrilaterals with X and Y, or pass shading='auto', 'nearest' or 'gouraud', or set rcParams['pcolor.shading'].  This will become an error two minor releases later.\n",
      "  X, Y, C, shading = self._pcolorargs('pcolormesh', *args,\n"
     ]
    },
    {
     "name": "stdout",
     "output_type": "stream",
     "text": [
      "comp_corr_map_SSH_S_anom_300_lag2y.png\n"
     ]
    },
    {
     "name": "stderr",
     "output_type": "stream",
     "text": [
      "/gpfslocalsup/pub/anaconda-py3/2020.11/envs/climate_science/lib/python3.9/site-packages/cartopy/mpl/geoaxes.py:1597: MatplotlibDeprecationWarning: shading='flat' when X and Y have the same dimensions as C is deprecated since 3.3.  Either specify the corners of the quadrilaterals with X and Y, or pass shading='auto', 'nearest' or 'gouraud', or set rcParams['pcolor.shading'].  This will become an error two minor releases later.\n",
      "  X, Y, C, shading = self._pcolorargs('pcolormesh', *args,\n"
     ]
    },
    {
     "name": "stdout",
     "output_type": "stream",
     "text": [
      "comp_corr_map_SSH_S_anom_300_lag3y.png\n"
     ]
    },
    {
     "name": "stderr",
     "output_type": "stream",
     "text": [
      "/gpfslocalsup/pub/anaconda-py3/2020.11/envs/climate_science/lib/python3.9/site-packages/cartopy/mpl/geoaxes.py:1597: MatplotlibDeprecationWarning: shading='flat' when X and Y have the same dimensions as C is deprecated since 3.3.  Either specify the corners of the quadrilaterals with X and Y, or pass shading='auto', 'nearest' or 'gouraud', or set rcParams['pcolor.shading'].  This will become an error two minor releases later.\n",
      "  X, Y, C, shading = self._pcolorargs('pcolormesh', *args,\n"
     ]
    },
    {
     "name": "stdout",
     "output_type": "stream",
     "text": [
      "comp_corr_map_SSH_S_anom_300_lag4y.png\n"
     ]
    },
    {
     "name": "stderr",
     "output_type": "stream",
     "text": [
      "/gpfslocalsup/pub/anaconda-py3/2020.11/envs/climate_science/lib/python3.9/site-packages/cartopy/mpl/geoaxes.py:1597: MatplotlibDeprecationWarning: shading='flat' when X and Y have the same dimensions as C is deprecated since 3.3.  Either specify the corners of the quadrilaterals with X and Y, or pass shading='auto', 'nearest' or 'gouraud', or set rcParams['pcolor.shading'].  This will become an error two minor releases later.\n",
      "  X, Y, C, shading = self._pcolorargs('pcolormesh', *args,\n"
     ]
    },
    {
     "name": "stdout",
     "output_type": "stream",
     "text": [
      "comp_corr_map_SSH_S_anom_300_lag5y.png\n"
     ]
    },
    {
     "name": "stderr",
     "output_type": "stream",
     "text": [
      "/gpfslocalsup/pub/anaconda-py3/2020.11/envs/climate_science/lib/python3.9/site-packages/cartopy/mpl/geoaxes.py:1597: MatplotlibDeprecationWarning: shading='flat' when X and Y have the same dimensions as C is deprecated since 3.3.  Either specify the corners of the quadrilaterals with X and Y, or pass shading='auto', 'nearest' or 'gouraud', or set rcParams['pcolor.shading'].  This will become an error two minor releases later.\n",
      "  X, Y, C, shading = self._pcolorargs('pcolormesh', *args,\n"
     ]
    },
    {
     "name": "stdout",
     "output_type": "stream",
     "text": [
      "comp_corr_map_SSH_S_anom_300_lag6y.png\n"
     ]
    },
    {
     "name": "stderr",
     "output_type": "stream",
     "text": [
      "/gpfslocalsup/pub/anaconda-py3/2020.11/envs/climate_science/lib/python3.9/site-packages/cartopy/mpl/geoaxes.py:1597: MatplotlibDeprecationWarning: shading='flat' when X and Y have the same dimensions as C is deprecated since 3.3.  Either specify the corners of the quadrilaterals with X and Y, or pass shading='auto', 'nearest' or 'gouraud', or set rcParams['pcolor.shading'].  This will become an error two minor releases later.\n",
      "  X, Y, C, shading = self._pcolorargs('pcolormesh', *args,\n"
     ]
    },
    {
     "name": "stdout",
     "output_type": "stream",
     "text": [
      "comp_corr_map_SSH_S_anom_300_lag7y.png\n"
     ]
    },
    {
     "name": "stderr",
     "output_type": "stream",
     "text": [
      "/gpfslocalsup/pub/anaconda-py3/2020.11/envs/climate_science/lib/python3.9/site-packages/cartopy/mpl/geoaxes.py:1597: MatplotlibDeprecationWarning: shading='flat' when X and Y have the same dimensions as C is deprecated since 3.3.  Either specify the corners of the quadrilaterals with X and Y, or pass shading='auto', 'nearest' or 'gouraud', or set rcParams['pcolor.shading'].  This will become an error two minor releases later.\n",
      "  X, Y, C, shading = self._pcolorargs('pcolormesh', *args,\n"
     ]
    },
    {
     "name": "stdout",
     "output_type": "stream",
     "text": [
      "comp_corr_map_SSH_S_anom_300_lag8y.png\n"
     ]
    },
    {
     "name": "stderr",
     "output_type": "stream",
     "text": [
      "/gpfslocalsup/pub/anaconda-py3/2020.11/envs/climate_science/lib/python3.9/site-packages/cartopy/mpl/geoaxes.py:1597: MatplotlibDeprecationWarning: shading='flat' when X and Y have the same dimensions as C is deprecated since 3.3.  Either specify the corners of the quadrilaterals with X and Y, or pass shading='auto', 'nearest' or 'gouraud', or set rcParams['pcolor.shading'].  This will become an error two minor releases later.\n",
      "  X, Y, C, shading = self._pcolorargs('pcolormesh', *args,\n"
     ]
    },
    {
     "name": "stdout",
     "output_type": "stream",
     "text": [
      "comp_corr_map_SSH_S_anom_300_lag9y.png\n"
     ]
    },
    {
     "name": "stderr",
     "output_type": "stream",
     "text": [
      "/gpfslocalsup/pub/anaconda-py3/2020.11/envs/climate_science/lib/python3.9/site-packages/cartopy/mpl/geoaxes.py:1597: MatplotlibDeprecationWarning: shading='flat' when X and Y have the same dimensions as C is deprecated since 3.3.  Either specify the corners of the quadrilaterals with X and Y, or pass shading='auto', 'nearest' or 'gouraud', or set rcParams['pcolor.shading'].  This will become an error two minor releases later.\n",
      "  X, Y, C, shading = self._pcolorargs('pcolormesh', *args,\n"
     ]
    },
    {
     "data": {
      "text/plain": [
       "<Figure size 2592x1440 with 0 Axes>"
      ]
     },
     "metadata": {},
     "output_type": "display_data"
    },
    {
     "data": {
      "text/plain": [
       "<Figure size 2592x1440 with 0 Axes>"
      ]
     },
     "metadata": {},
     "output_type": "display_data"
    },
    {
     "data": {
      "text/plain": [
       "<Figure size 2592x1440 with 0 Axes>"
      ]
     },
     "metadata": {},
     "output_type": "display_data"
    },
    {
     "data": {
      "text/plain": [
       "<Figure size 2592x1440 with 0 Axes>"
      ]
     },
     "metadata": {},
     "output_type": "display_data"
    },
    {
     "data": {
      "text/plain": [
       "<Figure size 2592x1440 with 0 Axes>"
      ]
     },
     "metadata": {},
     "output_type": "display_data"
    },
    {
     "data": {
      "text/plain": [
       "<Figure size 2592x1440 with 0 Axes>"
      ]
     },
     "metadata": {},
     "output_type": "display_data"
    },
    {
     "data": {
      "text/plain": [
       "<Figure size 2592x1440 with 0 Axes>"
      ]
     },
     "metadata": {},
     "output_type": "display_data"
    },
    {
     "data": {
      "text/plain": [
       "<Figure size 2592x1440 with 0 Axes>"
      ]
     },
     "metadata": {},
     "output_type": "display_data"
    },
    {
     "data": {
      "text/plain": [
       "<Figure size 2592x1440 with 0 Axes>"
      ]
     },
     "metadata": {},
     "output_type": "display_data"
    },
    {
     "data": {
      "text/plain": [
       "<Figure size 2592x1440 with 0 Axes>"
      ]
     },
     "metadata": {},
     "output_type": "display_data"
    }
   ],
   "source": [
    "#========= CREATE FIGURE\n",
    "# diro = \"/gpfsscratch/rech/cli/uor98hu/corr_maps/\" # GAI -AI\n",
    "# diro = \"/gpfsscratch/rech/cli/uor98hu/corr_maps_riv/\" # AI - S\n",
    "diro = \"/gpfsscratch/rech/cli/uor98hu/comp_corr_maps/\" # comparison maps\n",
    "\n",
    "\n",
    "# RUN to PLOT\n",
    "for i in np.arange(10):\n",
    "    data2plot = comp_matrix2plot.isel(lag=i).where(tmask!=0,0).squeeze()\n",
    "    tlabel= \"Comparison correlation coefficient for time lag = \"+str(comp_matrix2plot.lag[i].values)+\" years\" #\"whole column S_GR integral for \"+str(yr)+\"-\"+f\"{mm:02d}\" + r\" [10$-3$]\"\n",
    "    namo  =\"comp_corr_map_SSH_S_anom_300_lag\"+str(comp_matrix2plot.lag[i].values)+\"y.png\"\n",
    "    # namo  =\"comp_corr_map_SSH_S_anom_bottom_lag\"+str(comp_matrix2plot.lag[i].values)+\"y.png\"\n",
    "\n",
    "    print(namo)\n",
    "    \n",
    "    #===========================================\n",
    "    fig = plt.figure(figsize=([18,10]),facecolor='none', dpi=72*2)\n",
    "\n",
    "    trdata  = ccrs.PlateCarree() # Data system proj (if coords are in lat lon, use PlateCarre here)\n",
    "    ax = plt.axes(projection= ccrs.NearsidePerspective(central_longitude=loncentr, central_latitude=latcentr,satellite_height=sath))\n",
    "\n",
    "    #========= PLOT DATA\n",
    "\n",
    "    ax.contour(nav_lon,nav_lat,maskBG2plot,1,colors=\"k\",transform=trdata)\n",
    "    cs  = plt.pcolormesh(nav_lon2plot, nav_lat2plot, data2plot,shading='flat',cmap = mycm,transform=trdata, norm=norm)\n",
    "    fig.colorbar(cs,extend='neither', ticks=bounds,label=r'correlation coefficient')\n",
    "\n",
    "    ct = ax.contour(nav_lon,nav_lat,data2plot,[-0.8,0.8],colors=['white','white'],linewidths=0.7,linestyles='dashed',transform=trdata)\n",
    "\n",
    "    # cs2  = plt.pcolormesh(nav_lon, nav_lat, m2plt, shading='flat',transform=trdata) \n",
    "    #========= coastlines and gridlines\n",
    "    rivers = cartopy.feature.NaturalEarthFeature(category='physical', name='rivers_lake_centerlines',scale='50m',facecolor='none',edgecolor='b')\n",
    "    clr2 = ax.add_feature(rivers,alpha=0.7,facecolor='none',edgecolor='blue',zorder=6)\n",
    "    cl2 = ax.add_feature(cfeature.LAND.with_scale('50m'),facecolor=\"dimgrey\",edgecolor= 'none',alpha=1,zorder=5)\n",
    "    gl =ax.gridlines(xlocs=range(-180,181,incrgridlon), ylocs=range(-90,91,incrgridlat),draw_labels=True,linewidth=1, color='#585858', alpha=0.3, linestyle='--',zorder=8)\n",
    "    label_style = {'size': 12, 'color': '#BDBDBD', 'weight': 'normal'}\n",
    "    gl.xlabel_style = label_style; gl.ylabel_style = label_style\n",
    "\n",
    "\n",
    "    #============= BATHYMETRY\n",
    "    bathy_levels = [200,1000,2000,4000] # We will apply a Gaussian filter to smooth the data. \n",
    "    color_levels= ['k','navy','mediumblue','slateblue']\n",
    "    # west\n",
    "    Ct1 = ax.contour(nav_lon,nav_lat,mbathy.where(nav_lon<0), bathy_levels,colors=color_levels,linewidths=0.7,linestyles='solid',transform=trdata)\n",
    "    # east\n",
    "    Ct2 = ax.contour(nav_lon,nav_lat,mbathy.where(nav_lon>0), bathy_levels,colors=color_levels,linewidths=0.7,linestyles='solid',transform=trdata)\n",
    "\n",
    "\n",
    "    plt.title(tlabel,fontsize=24)\n",
    "    # plt.show()\n",
    "    fig.savefig(diro+namo, facecolor=fig.get_facecolor(), bbox_inches='tight') #,edgecolor='none', \n",
    "    # plt.close(fig)\n",
    "    plt.clf()"
   ]
  },
  {
   "cell_type": "code",
   "execution_count": null,
   "id": "b31a34da-99f6-4b72-bcc7-6a40474531d2",
   "metadata": {},
   "outputs": [],
   "source": []
  }
 ],
 "metadata": {
  "kernelspec": {
   "display_name": "climate_science",
   "language": "python",
   "name": "module-conda-env-climate_science"
  },
  "language_info": {
   "codemirror_mode": {
    "name": "ipython",
    "version": 3
   },
   "file_extension": ".py",
   "mimetype": "text/x-python",
   "name": "python",
   "nbconvert_exporter": "python",
   "pygments_lexer": "ipython3",
   "version": "3.9.1"
  }
 },
 "nbformat": 4,
 "nbformat_minor": 5
}
