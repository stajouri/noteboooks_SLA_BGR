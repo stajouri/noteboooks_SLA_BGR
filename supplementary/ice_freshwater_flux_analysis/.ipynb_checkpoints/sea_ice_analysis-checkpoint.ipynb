{
 "cells": [
  {
   "cell_type": "code",
   "execution_count": 59,
   "id": "0349df8f-6a38-4a98-a74e-8275a6a6fb6d",
   "metadata": {
    "tags": []
   },
   "outputs": [],
   "source": [
    "## standart libraries\n",
    "\n",
    "import os,sys\n",
    "import numpy as np\n",
    "\n",
    "\n",
    "# xarray\n",
    "import xarray as xr\n",
    "import datetime\n",
    "# plot\n",
    "import cartopy\n",
    "import cartopy.crs as ccrs\n",
    "import matplotlib.pyplot as plt\n",
    "from matplotlib.colors import Colormap\n",
    "import matplotlib.colors as mcolors\n",
    "import matplotlib.dates as mdates\n",
    "import matplotlib.cm as cm\n",
    "import matplotlib.dates as mdates\n",
    "import matplotlib.ticker as mticker\n",
    "from matplotlib.colors import from_levels_and_colors\n",
    "from mpl_toolkits.axes_grid1.inset_locator import inset_axes\n",
    "\n",
    "import cartopy.feature as cfeature\n",
    "\n",
    "# for jupyter notebook display\n",
    "%matplotlib inline"
   ]
  },
  {
   "cell_type": "code",
   "execution_count": 87,
   "id": "b2d3c7ba-4934-41c9-845b-2b2f12a73a5b",
   "metadata": {
    "tags": []
   },
   "outputs": [],
   "source": [
    "import cmocean.cm as cmo\n"
   ]
  },
  {
   "cell_type": "code",
   "execution_count": 2,
   "id": "a9df4bb0-2773-4370-b116-937813833352",
   "metadata": {
    "tags": []
   },
   "outputs": [
    {
     "data": {
      "text/html": [
       "<div>\n",
       "    <div style=\"width: 24px; height: 24px; background-color: #e1e1e1; border: 3px solid #9D9D9D; border-radius: 5px; position: absolute;\"> </div>\n",
       "    <div style=\"margin-left: 48px;\">\n",
       "        <h3 style=\"margin-bottom: 0px;\">Client</h3>\n",
       "        <p style=\"color: #9D9D9D; margin-bottom: 0px;\">Client-49d6afbd-3a80-11ee-865b-0cc47af5c98f</p>\n",
       "        <table style=\"width: 100%; text-align: left;\">\n",
       "\n",
       "        <tr>\n",
       "        \n",
       "            <td style=\"text-align: left;\"><strong>Connection method:</strong> Cluster object</td>\n",
       "            <td style=\"text-align: left;\"><strong>Cluster type:</strong> distributed.LocalCluster</td>\n",
       "        \n",
       "        </tr>\n",
       "\n",
       "        \n",
       "            <tr>\n",
       "                <td style=\"text-align: left;\">\n",
       "                    <strong>Dashboard: </strong> <a href=\"http://127.0.0.1:8787/status\" target=\"_blank\">http://127.0.0.1:8787/status</a>\n",
       "                </td>\n",
       "                <td style=\"text-align: left;\"></td>\n",
       "            </tr>\n",
       "        \n",
       "\n",
       "        </table>\n",
       "\n",
       "        \n",
       "            <details>\n",
       "            <summary style=\"margin-bottom: 20px;\"><h3 style=\"display: inline;\">Cluster Info</h3></summary>\n",
       "            <div class=\"jp-RenderedHTMLCommon jp-RenderedHTML jp-mod-trusted jp-OutputArea-output\">\n",
       "    <div style=\"width: 24px; height: 24px; background-color: #e1e1e1; border: 3px solid #9D9D9D; border-radius: 5px; position: absolute;\">\n",
       "    </div>\n",
       "    <div style=\"margin-left: 48px;\">\n",
       "        <h3 style=\"margin-bottom: 0px; margin-top: 0px;\">LocalCluster</h3>\n",
       "        <p style=\"color: #9D9D9D; margin-bottom: 0px;\">56160caa</p>\n",
       "        <table style=\"width: 100%; text-align: left;\">\n",
       "            <tr>\n",
       "                <td style=\"text-align: left;\">\n",
       "                    <strong>Dashboard:</strong> <a href=\"http://127.0.0.1:8787/status\" target=\"_blank\">http://127.0.0.1:8787/status</a>\n",
       "                </td>\n",
       "                <td style=\"text-align: left;\">\n",
       "                    <strong>Workers:</strong> 5\n",
       "                </td>\n",
       "            </tr>\n",
       "            <tr>\n",
       "                <td style=\"text-align: left;\">\n",
       "                    <strong>Total threads:</strong> 10\n",
       "                </td>\n",
       "                <td style=\"text-align: left;\">\n",
       "                    <strong>Total memory:</strong> 20.00 GiB\n",
       "                </td>\n",
       "            </tr>\n",
       "            \n",
       "            <tr>\n",
       "    <td style=\"text-align: left;\"><strong>Status:</strong> running</td>\n",
       "    <td style=\"text-align: left;\"><strong>Using processes:</strong> True</td>\n",
       "</tr>\n",
       "\n",
       "            \n",
       "        </table>\n",
       "\n",
       "        <details>\n",
       "            <summary style=\"margin-bottom: 20px;\">\n",
       "                <h3 style=\"display: inline;\">Scheduler Info</h3>\n",
       "            </summary>\n",
       "\n",
       "            <div style=\"\">\n",
       "    <div>\n",
       "        <div style=\"width: 24px; height: 24px; background-color: #FFF7E5; border: 3px solid #FF6132; border-radius: 5px; position: absolute;\"> </div>\n",
       "        <div style=\"margin-left: 48px;\">\n",
       "            <h3 style=\"margin-bottom: 0px;\">Scheduler</h3>\n",
       "            <p style=\"color: #9D9D9D; margin-bottom: 0px;\">Scheduler-c5fde050-3585-480c-82d2-388a201f348a</p>\n",
       "            <table style=\"width: 100%; text-align: left;\">\n",
       "                <tr>\n",
       "                    <td style=\"text-align: left;\">\n",
       "                        <strong>Comm:</strong> tcp://127.0.0.1:42935\n",
       "                    </td>\n",
       "                    <td style=\"text-align: left;\">\n",
       "                        <strong>Workers:</strong> 5\n",
       "                    </td>\n",
       "                </tr>\n",
       "                <tr>\n",
       "                    <td style=\"text-align: left;\">\n",
       "                        <strong>Dashboard:</strong> <a href=\"http://127.0.0.1:8787/status\" target=\"_blank\">http://127.0.0.1:8787/status</a>\n",
       "                    </td>\n",
       "                    <td style=\"text-align: left;\">\n",
       "                        <strong>Total threads:</strong> 10\n",
       "                    </td>\n",
       "                </tr>\n",
       "                <tr>\n",
       "                    <td style=\"text-align: left;\">\n",
       "                        <strong>Started:</strong> Just now\n",
       "                    </td>\n",
       "                    <td style=\"text-align: left;\">\n",
       "                        <strong>Total memory:</strong> 20.00 GiB\n",
       "                    </td>\n",
       "                </tr>\n",
       "            </table>\n",
       "        </div>\n",
       "    </div>\n",
       "\n",
       "    <details style=\"margin-left: 48px;\">\n",
       "        <summary style=\"margin-bottom: 20px;\">\n",
       "            <h3 style=\"display: inline;\">Workers</h3>\n",
       "        </summary>\n",
       "\n",
       "        \n",
       "        <div style=\"margin-bottom: 20px;\">\n",
       "            <div style=\"width: 24px; height: 24px; background-color: #DBF5FF; border: 3px solid #4CC9FF; border-radius: 5px; position: absolute;\"> </div>\n",
       "            <div style=\"margin-left: 48px;\">\n",
       "            <details>\n",
       "                <summary>\n",
       "                    <h4 style=\"margin-bottom: 0px; display: inline;\">Worker: 0</h4>\n",
       "                </summary>\n",
       "                <table style=\"width: 100%; text-align: left;\">\n",
       "                    <tr>\n",
       "                        <td style=\"text-align: left;\">\n",
       "                            <strong>Comm: </strong> tcp://127.0.0.1:38301\n",
       "                        </td>\n",
       "                        <td style=\"text-align: left;\">\n",
       "                            <strong>Total threads: </strong> 2\n",
       "                        </td>\n",
       "                    </tr>\n",
       "                    <tr>\n",
       "                        <td style=\"text-align: left;\">\n",
       "                            <strong>Dashboard: </strong> <a href=\"http://127.0.0.1:42463/status\" target=\"_blank\">http://127.0.0.1:42463/status</a>\n",
       "                        </td>\n",
       "                        <td style=\"text-align: left;\">\n",
       "                            <strong>Memory: </strong> 4.00 GiB\n",
       "                        </td>\n",
       "                    </tr>\n",
       "                    <tr>\n",
       "                        <td style=\"text-align: left;\">\n",
       "                            <strong>Nanny: </strong> tcp://127.0.0.1:40087\n",
       "                        </td>\n",
       "                        <td style=\"text-align: left;\"></td>\n",
       "                    </tr>\n",
       "                    <tr>\n",
       "                        <td colspan=\"2\" style=\"text-align: left;\">\n",
       "                            <strong>Local directory: </strong> /tmp/dask-worker-space/worker-fe9s72wq\n",
       "                        </td>\n",
       "                    </tr>\n",
       "\n",
       "                    \n",
       "\n",
       "                    \n",
       "\n",
       "                </table>\n",
       "            </details>\n",
       "            </div>\n",
       "        </div>\n",
       "        \n",
       "        <div style=\"margin-bottom: 20px;\">\n",
       "            <div style=\"width: 24px; height: 24px; background-color: #DBF5FF; border: 3px solid #4CC9FF; border-radius: 5px; position: absolute;\"> </div>\n",
       "            <div style=\"margin-left: 48px;\">\n",
       "            <details>\n",
       "                <summary>\n",
       "                    <h4 style=\"margin-bottom: 0px; display: inline;\">Worker: 1</h4>\n",
       "                </summary>\n",
       "                <table style=\"width: 100%; text-align: left;\">\n",
       "                    <tr>\n",
       "                        <td style=\"text-align: left;\">\n",
       "                            <strong>Comm: </strong> tcp://127.0.0.1:43705\n",
       "                        </td>\n",
       "                        <td style=\"text-align: left;\">\n",
       "                            <strong>Total threads: </strong> 2\n",
       "                        </td>\n",
       "                    </tr>\n",
       "                    <tr>\n",
       "                        <td style=\"text-align: left;\">\n",
       "                            <strong>Dashboard: </strong> <a href=\"http://127.0.0.1:40691/status\" target=\"_blank\">http://127.0.0.1:40691/status</a>\n",
       "                        </td>\n",
       "                        <td style=\"text-align: left;\">\n",
       "                            <strong>Memory: </strong> 4.00 GiB\n",
       "                        </td>\n",
       "                    </tr>\n",
       "                    <tr>\n",
       "                        <td style=\"text-align: left;\">\n",
       "                            <strong>Nanny: </strong> tcp://127.0.0.1:43861\n",
       "                        </td>\n",
       "                        <td style=\"text-align: left;\"></td>\n",
       "                    </tr>\n",
       "                    <tr>\n",
       "                        <td colspan=\"2\" style=\"text-align: left;\">\n",
       "                            <strong>Local directory: </strong> /tmp/dask-worker-space/worker-9b6giwui\n",
       "                        </td>\n",
       "                    </tr>\n",
       "\n",
       "                    \n",
       "\n",
       "                    \n",
       "\n",
       "                </table>\n",
       "            </details>\n",
       "            </div>\n",
       "        </div>\n",
       "        \n",
       "        <div style=\"margin-bottom: 20px;\">\n",
       "            <div style=\"width: 24px; height: 24px; background-color: #DBF5FF; border: 3px solid #4CC9FF; border-radius: 5px; position: absolute;\"> </div>\n",
       "            <div style=\"margin-left: 48px;\">\n",
       "            <details>\n",
       "                <summary>\n",
       "                    <h4 style=\"margin-bottom: 0px; display: inline;\">Worker: 2</h4>\n",
       "                </summary>\n",
       "                <table style=\"width: 100%; text-align: left;\">\n",
       "                    <tr>\n",
       "                        <td style=\"text-align: left;\">\n",
       "                            <strong>Comm: </strong> tcp://127.0.0.1:46283\n",
       "                        </td>\n",
       "                        <td style=\"text-align: left;\">\n",
       "                            <strong>Total threads: </strong> 2\n",
       "                        </td>\n",
       "                    </tr>\n",
       "                    <tr>\n",
       "                        <td style=\"text-align: left;\">\n",
       "                            <strong>Dashboard: </strong> <a href=\"http://127.0.0.1:34155/status\" target=\"_blank\">http://127.0.0.1:34155/status</a>\n",
       "                        </td>\n",
       "                        <td style=\"text-align: left;\">\n",
       "                            <strong>Memory: </strong> 4.00 GiB\n",
       "                        </td>\n",
       "                    </tr>\n",
       "                    <tr>\n",
       "                        <td style=\"text-align: left;\">\n",
       "                            <strong>Nanny: </strong> tcp://127.0.0.1:42003\n",
       "                        </td>\n",
       "                        <td style=\"text-align: left;\"></td>\n",
       "                    </tr>\n",
       "                    <tr>\n",
       "                        <td colspan=\"2\" style=\"text-align: left;\">\n",
       "                            <strong>Local directory: </strong> /tmp/dask-worker-space/worker-79si_835\n",
       "                        </td>\n",
       "                    </tr>\n",
       "\n",
       "                    \n",
       "\n",
       "                    \n",
       "\n",
       "                </table>\n",
       "            </details>\n",
       "            </div>\n",
       "        </div>\n",
       "        \n",
       "        <div style=\"margin-bottom: 20px;\">\n",
       "            <div style=\"width: 24px; height: 24px; background-color: #DBF5FF; border: 3px solid #4CC9FF; border-radius: 5px; position: absolute;\"> </div>\n",
       "            <div style=\"margin-left: 48px;\">\n",
       "            <details>\n",
       "                <summary>\n",
       "                    <h4 style=\"margin-bottom: 0px; display: inline;\">Worker: 3</h4>\n",
       "                </summary>\n",
       "                <table style=\"width: 100%; text-align: left;\">\n",
       "                    <tr>\n",
       "                        <td style=\"text-align: left;\">\n",
       "                            <strong>Comm: </strong> tcp://127.0.0.1:45835\n",
       "                        </td>\n",
       "                        <td style=\"text-align: left;\">\n",
       "                            <strong>Total threads: </strong> 2\n",
       "                        </td>\n",
       "                    </tr>\n",
       "                    <tr>\n",
       "                        <td style=\"text-align: left;\">\n",
       "                            <strong>Dashboard: </strong> <a href=\"http://127.0.0.1:42597/status\" target=\"_blank\">http://127.0.0.1:42597/status</a>\n",
       "                        </td>\n",
       "                        <td style=\"text-align: left;\">\n",
       "                            <strong>Memory: </strong> 4.00 GiB\n",
       "                        </td>\n",
       "                    </tr>\n",
       "                    <tr>\n",
       "                        <td style=\"text-align: left;\">\n",
       "                            <strong>Nanny: </strong> tcp://127.0.0.1:40509\n",
       "                        </td>\n",
       "                        <td style=\"text-align: left;\"></td>\n",
       "                    </tr>\n",
       "                    <tr>\n",
       "                        <td colspan=\"2\" style=\"text-align: left;\">\n",
       "                            <strong>Local directory: </strong> /tmp/dask-worker-space/worker-o3b5mz2g\n",
       "                        </td>\n",
       "                    </tr>\n",
       "\n",
       "                    \n",
       "\n",
       "                    \n",
       "\n",
       "                </table>\n",
       "            </details>\n",
       "            </div>\n",
       "        </div>\n",
       "        \n",
       "        <div style=\"margin-bottom: 20px;\">\n",
       "            <div style=\"width: 24px; height: 24px; background-color: #DBF5FF; border: 3px solid #4CC9FF; border-radius: 5px; position: absolute;\"> </div>\n",
       "            <div style=\"margin-left: 48px;\">\n",
       "            <details>\n",
       "                <summary>\n",
       "                    <h4 style=\"margin-bottom: 0px; display: inline;\">Worker: 4</h4>\n",
       "                </summary>\n",
       "                <table style=\"width: 100%; text-align: left;\">\n",
       "                    <tr>\n",
       "                        <td style=\"text-align: left;\">\n",
       "                            <strong>Comm: </strong> tcp://127.0.0.1:39077\n",
       "                        </td>\n",
       "                        <td style=\"text-align: left;\">\n",
       "                            <strong>Total threads: </strong> 2\n",
       "                        </td>\n",
       "                    </tr>\n",
       "                    <tr>\n",
       "                        <td style=\"text-align: left;\">\n",
       "                            <strong>Dashboard: </strong> <a href=\"http://127.0.0.1:38581/status\" target=\"_blank\">http://127.0.0.1:38581/status</a>\n",
       "                        </td>\n",
       "                        <td style=\"text-align: left;\">\n",
       "                            <strong>Memory: </strong> 4.00 GiB\n",
       "                        </td>\n",
       "                    </tr>\n",
       "                    <tr>\n",
       "                        <td style=\"text-align: left;\">\n",
       "                            <strong>Nanny: </strong> tcp://127.0.0.1:32821\n",
       "                        </td>\n",
       "                        <td style=\"text-align: left;\"></td>\n",
       "                    </tr>\n",
       "                    <tr>\n",
       "                        <td colspan=\"2\" style=\"text-align: left;\">\n",
       "                            <strong>Local directory: </strong> /tmp/dask-worker-space/worker-0oxp6kxe\n",
       "                        </td>\n",
       "                    </tr>\n",
       "\n",
       "                    \n",
       "\n",
       "                    \n",
       "\n",
       "                </table>\n",
       "            </details>\n",
       "            </div>\n",
       "        </div>\n",
       "        \n",
       "\n",
       "    </details>\n",
       "</div>\n",
       "\n",
       "        </details>\n",
       "    </div>\n",
       "</div>\n",
       "            </details>\n",
       "        \n",
       "\n",
       "    </div>\n",
       "</div>"
      ],
      "text/plain": [
       "<Client: 'tcp://127.0.0.1:42935' processes=5 threads=10, memory=20.00 GiB>"
      ]
     },
     "execution_count": 2,
     "metadata": {},
     "output_type": "execute_result"
    }
   ],
   "source": [
    "from dask.distributed import Client\n",
    "c = Client()\n",
    "c"
   ]
  },
  {
   "cell_type": "markdown",
   "id": "4b8982be-4b60-406a-a654-126246871ed8",
   "metadata": {},
   "source": [
    "# Loading data"
   ]
  },
  {
   "cell_type": "code",
   "execution_count": 11,
   "id": "926746fe-2d9a-46ea-84ec-a76c4e772b5a",
   "metadata": {
    "tags": []
   },
   "outputs": [],
   "source": [
    "prefix = \"eORCA025.L75-IMHOTEP\"\n",
    "diridatref=\"/gpfsstore/rech/cli/rcli002/eORCA025.L75/\"+prefix+\".\"  \n",
    "fo='1m'\n",
    "\n",
    "# GAI\n",
    "filepathREF = diridatref+\"GAI-S/\"+fo+\"/????/\"+prefix+\".GAI_y*m*.1m_icemod.nc\"\n",
    "GAIdsmonth = xr.open_mfdataset(filepathREF,chunks={\"time_counter\":1}, parallel=True)\n",
    "\n",
    "# AI\n",
    "filepath = diridatref+\"AI-S/\"+fo+\"/????/\"+prefix+\".AI_y*m*.1m_icemod.nc\"\n",
    "AIdsmonth = xr.open_mfdataset(filepath,chunks={\"time_counter\":1}, parallel=True)\n",
    "\n",
    "# S\n",
    "filepathS = diridatref+\"S-S/\"+fo+\"/????/\"+prefix+\".S_y*m*.1m_icemod.nc\"\n",
    "Sdsmonth = xr.open_mfdataset(filepathS,chunks={\"time_counter\":1}, parallel=True)\n"
   ]
  },
  {
   "cell_type": "code",
   "execution_count": 23,
   "id": "943c6b2c-c942-4e0c-b418-3707d3815811",
   "metadata": {
    "tags": []
   },
   "outputs": [],
   "source": [
    "GAIvoln    = GAIdsmonth.sivoln.groupby('time_counter.year').mean('time_counter').compute()\n",
    "GAIarean   = GAIdsmonth.siarean.groupby('time_counter.year').mean('time_counter').compute()\n",
    "GAIextentn = GAIdsmonth.siextentn.groupby('time_counter.year').mean('time_counter').compute()\n",
    "\n",
    "AIvoln    = AIdsmonth.sivoln.groupby('time_counter.year').mean('time_counter').compute()\n",
    "AIarean   = AIdsmonth.siarean.groupby('time_counter.year').mean('time_counter').compute()\n",
    "AIextentn = AIdsmonth.siextentn.groupby('time_counter.year').mean('time_counter').compute()\n",
    "\n",
    "Svoln    = Sdsmonth.sivoln.groupby('time_counter.year').mean('time_counter').compute()\n",
    "Sarean   = Sdsmonth.siarean.groupby('time_counter.year').mean('time_counter').compute()\n",
    "Sextentn = Sdsmonth.siextentn.groupby('time_counter.year').mean('time_counter').compute()"
   ]
  },
  {
   "cell_type": "code",
   "execution_count": 102,
   "id": "9fdd8633-92d5-4ad2-9935-c92740e0c877",
   "metadata": {
    "tags": []
   },
   "outputs": [
    {
     "name": "stdout",
     "output_type": "stream",
     "text": [
      "ts_GAI_seaice.png\n"
     ]
    },
    {
     "data": {
      "image/png": "[encoded data removed]",
      "text/plain": [
       "<Figure size 1927.56x325.984 with 3 Axes>"
      ]
     },
     "metadata": {
      "needs_background": "light"
     },
     "output_type": "display_data"
    }
   ],
   "source": [
    "diro = \"/gpfsscratch/rech/cli/uor98hu/PLOTS/\" # plot directory\n",
    "namo = 'ts_GAI_seaice.png'\n",
    "print(namo)\n",
    "\n",
    "cmmm = 1/2.54  # centimeters in inches\n",
    "fig,(ax1, ax2, ax3) = plt.subplots(nrows=1, ncols=3,figsize=(34*cmmm, 5.75*cmmm), facecolor='none', dpi=72*2)\n",
    "\n",
    "GAIvoln.plot(ax=ax1, color='k',linewidth=1)\n",
    "GAIarean.plot(ax=ax2, color='k',linewidth=1)\n",
    "GAIextentn.plot(ax=ax3, color='k',linewidth=1)\n",
    "\n",
    "AIvoln.plot(ax=ax1, color='k',linestyle='dashed',linewidth=2)\n",
    "AIarean.plot(ax=ax2, color='k',linestyle='dashed',linewidth=2)\n",
    "AIextentn.plot(ax=ax3, color='k',linestyle='dashed',linewidth=2)\n",
    "\n",
    "Svoln.plot(ax=ax1, color='k',linestyle='dotted',linewidth=2)\n",
    "Sarean.plot(ax=ax2, color='k',linestyle='dotted',linewidth=2)\n",
    "Sextentn.plot(ax=ax3, color='k',linestyle='dotted',linewidth=2)\n",
    "\n",
    "ax1.grid()\n",
    "ax2.grid()\n",
    "ax3.grid()\n",
    "\n",
    "#ax1.set_title('')\n",
    "ax1.set_ylabel('Sea ice volume [1e3 km3]',fontsize=8)\n",
    "ax2.set_ylabel('Sea ice area [1e6 km2]',fontsize=8)\n",
    "ax3.set_ylabel('Sea ice extent [1e6 km2]',fontsize=8)\n",
    "\n",
    "ax1.legend(['exp1','exp2','CLIM'],fontsize=8,loc=\"lower left\") \n",
    "\n",
    "ax1.axvspan(2005, 2018, color=\"grey\", alpha=0.1)\n",
    "ax2.axvspan(2005, 2018, color=\"grey\", alpha=0.1)\n",
    "ax3.axvspan(2005, 2018, color=\"grey\", alpha=0.1)\n",
    "\n",
    "plt.show()\n",
    "fig.savefig(diro+namo, facecolor=fig.get_facecolor(), pad_inches=0.1, bbox_inches='tight') #,edgecolor='none', bbox_inches='tight'\n",
    "plt.close(fig)"
   ]
  },
  {
   "cell_type": "markdown",
   "id": "ad803e7c-f10f-4a4c-a5f7-bfb22ae653be",
   "metadata": {},
   "source": [
    "# maps of sea ice volume"
   ]
  },
  {
   "cell_type": "code",
   "execution_count": 48,
   "id": "c84a7716-4a34-419a-bf81-8ac1ea756232",
   "metadata": {
    "tags": []
   },
   "outputs": [],
   "source": [
    "GAIsivolu = GAIdsmonth.sivolu.groupby('time_counter.year').mean('time_counter') #\n",
    "AIsivolu = AIdsmonth.sivolu.groupby('time_counter.year').mean('time_counter')#.compute()\n",
    "Ssivolu = Sdsmonth.sivolu.groupby('time_counter.year').mean('time_counter')#.compute()"
   ]
  },
  {
   "cell_type": "code",
   "execution_count": 49,
   "id": "332c9be6-59bf-4b90-b98a-88a099441312",
   "metadata": {
    "tags": []
   },
   "outputs": [],
   "source": [
    "GAIpolyfit_results = GAIsivolu.polyfit(dim='year', deg=1).polyfit_coefficients.compute()\n",
    "AIpolyfit_results = AIsivolu.polyfit(dim='year', deg=1).polyfit_coefficients.compute()\n",
    "Spolyfit_results = Ssivolu.polyfit(dim='year', deg=1).polyfit_coefficients.compute()"
   ]
  },
  {
   "cell_type": "code",
   "execution_count": 103,
   "id": "551b8953-20f6-4c70-9981-3e8dae49c7ee",
   "metadata": {
    "tags": []
   },
   "outputs": [],
   "source": [
    "GR_RIV = GAIpolyfit_results - Spolyfit_results\n",
    "GREENLAND = GAIpolyfit_results - AIpolyfit_results\n",
    "RIVERS = AIpolyfit_results - Spolyfit_results"
   ]
  },
  {
   "cell_type": "code",
   "execution_count": 109,
   "id": "2e4129f8-6890-45aa-a13b-36b9a75ab9a4",
   "metadata": {
    "tags": []
   },
   "outputs": [
    {
     "data": {
      "text/plain": [
       "(array([8.00000e+00, 2.00000e+00, 6.00000e+00, 1.92304e+05, 1.11799e+05,\n",
       "        2.30000e+01, 1.00000e+00, 2.00000e+00, 0.00000e+00, 1.00000e+00]),\n",
       " array([-9.04313580e+00, -6.77952893e+00, -4.51592206e+00, -2.25231518e+00,\n",
       "         1.12916880e-02,  2.27489856e+00,  4.53850543e+00,  6.80211230e+00,\n",
       "         9.06571918e+00,  1.13293260e+01,  1.35929329e+01]),\n",
       " <BarContainer object of 10 artists>)"
      ]
     },
     "execution_count": 109,
     "metadata": {},
     "output_type": "execute_result"
    },
    {
     "data": {
      "image/png": "[encoded data removed]",
      "text/plain": [
       "<Figure size 432x288 with 1 Axes>"
      ]
     },
     "metadata": {
      "needs_background": "light"
     },
     "output_type": "display_data"
    }
   ],
   "source": [
    "(GR_RIV[0]*100).plot.hist()\n",
    "(GREENLAND[0]*100).plot.hist()\n",
    "(RIVERS[0]*100).plot.hist()"
   ]
  },
  {
   "cell_type": "code",
   "execution_count": 52,
   "id": "1c5b3461-6b85-46b0-a992-ea86d186bb79",
   "metadata": {
    "tags": []
   },
   "outputs": [],
   "source": [
    "# read grid files\n",
    "diri=\"/gpfswork/rech/cli/rcli002/eORCA025.L75/eORCA025.L75-I/\"\n",
    "tmask = xr.open_dataset(diri+'mesh_hgr.nc')['tmask'][0,0,:,:] # grille lat/lon\n",
    "nav_lon = xr.open_dataset(diri+'mesh_hgr.nc')['nav_lon']\n",
    "nav_lat = xr.open_dataset(diri+'mesh_hgr.nc')['nav_lat']\n",
    "mbathy = xr.open_dataset(diri+'eORCA025.L75_domain_cfg_closed_seas_greenland.nc')['bathy_meter'].isel(t=0) # grille lat/lon\n",
    "\n",
    "BGRmask = xr.open_dataset('/gpfswork/rech/cli/uor98hu/MYDATA/TRANSPORT_WP1/BGRmaskobs.nc').BGRmask.squeeze()\n",
    "# default gridlines parameters\n",
    "gridl=False\n",
    "incrgridlon=30\n",
    "incrgridlat=10\n",
    "\n",
    "# vue N.Atl\n",
    "# loncentr=330 # before it was zero\n",
    "# latcentr=70\n",
    "\n",
    "#vue polaire\n",
    "loncentr=200 # before it was zero\n",
    "latcentr=90\n",
    "\n",
    "sath=2085831"
   ]
  },
  {
   "cell_type": "code",
   "execution_count": 60,
   "id": "d139c975-d062-4a88-9855-59fe5b6c8dbc",
   "metadata": {
    "tags": []
   },
   "outputs": [],
   "source": [
    "#========= Plot settings ===============\n",
    "# colormap\n",
    "def truncate_colormap(cmap, minval=0.0, maxval=1.0, n=100):\n",
    "    new_cmap = mcolors.LinearSegmentedColormap.from_list(\n",
    "        'trunc({n},{a:.2f},{b:.2f})'.format(n=cmap.name, a=minval, b=maxval),\n",
    "        cmap(np.linspace(minval, maxval, n)))\n",
    "    return new_cmap"
   ]
  },
  {
   "cell_type": "code",
   "execution_count": 100,
   "id": "1cc5e150-a498-4f23-b299-25036ab9191a",
   "metadata": {
    "tags": []
   },
   "outputs": [],
   "source": [
    "y1='1980'; y2=\"2018\""
   ]
  },
  {
   "cell_type": "markdown",
   "id": "6752ad86-ec65-4394-9e2f-44f2adbe01d8",
   "metadata": {},
   "source": [
    "# plot GAI trend map"
   ]
  },
  {
   "cell_type": "code",
   "execution_count": 95,
   "id": "3d4958d1-70b4-4efa-aa93-7d729e7a6c73",
   "metadata": {
    "tags": []
   },
   "outputs": [],
   "source": [
    "cmap = cm.RdYlBu_r\n",
    "\n",
    "my_map1 = truncate_colormap(cmap)\n",
    "colors = my_map1(np.linspace(0., 1, 50))\n",
    "mycm = mcolors.LinearSegmentedColormap.from_list('my_colormap', colors)\n",
    "\n",
    "lmin = -5\n",
    "incr = 0.5\n",
    "lmax = lmin*(-1)+0.1\n",
    "# define the bins and normalize\n",
    "bounds = np.arange(lmin,lmax,incr)\n",
    "norm = mcolors.BoundaryNorm(bounds, mycm.N)"
   ]
  },
  {
   "cell_type": "code",
   "execution_count": 101,
   "id": "d18adc02-d0c1-4a01-8665-4b979dd4360a",
   "metadata": {
    "tags": []
   },
   "outputs": [
    {
     "name": "stdout",
     "output_type": "stream",
     "text": [
      "exp1_trendseaicevolumemap_1980-2018.png\n"
     ]
    }
   ],
   "source": [
    "#========= CREATE FIGURE\n",
    "data2plot = (GAIpolyfit_results[0]*100).squeeze()#.where(tmask!=0,0).squeeze()\n",
    "namo  =\"exp1_trendseaicevolumemap_\"+y1+\"-\"+y2+\".png\"\n",
    "\n",
    "print(namo)\n",
    "#===========================================\n",
    "fig = plt.figure(figsize=([18,10]),facecolor='none', dpi=72*2)\n",
    "\n",
    "trdata  = ccrs.PlateCarree() # Data system proj (if coords are in lat lon, use PlateCarre here)\n",
    "ax = plt.axes(projection= ccrs.NearsidePerspective(central_longitude=loncentr, central_latitude=latcentr,satellite_height=sath))\n",
    "\n",
    "#========= PLOT DATA\n",
    "\n",
    "ax.contour(nav_lon,nav_lat,BGRmask,1,colors=\"k\",transform=trdata)\n",
    "cs  = plt.pcolormesh(nav_lon, nav_lat, data2plot,shading='flat',cmap = cmap,transform=trdata, norm=norm)\n",
    "cbar = fig.colorbar(cs,extend='both', ticks=bounds)\n",
    "cbar.ax.tick_params(labelsize=14)\n",
    "cbar.set_label(r'Exp1 sea ice volume per area trends over '+y1+'-'+y2+' [cm/yr]', fontsize=20)\n",
    "# cbar.set_label(r'RIVERS SSH trends over '+y1+'-'+y2+' [mm/yr]', fontsize=20)\n",
    "# cbar.set_label(r'GR+RIVERS SSH trends over '+y1+'-'+y2+' [mm/yr]', fontsize=20)\n",
    "\n",
    "#========= coastlines and gridlines\n",
    "rivers = cartopy.feature.NaturalEarthFeature(category='physical', name='rivers_lake_centerlines',scale='50m',facecolor='none',edgecolor='b')\n",
    "clr2 = ax.add_feature(rivers,alpha=0.7,facecolor='none',edgecolor='blue',zorder=6)\n",
    "cl2 = ax.add_feature(cfeature.LAND.with_scale('50m'),facecolor=\"dimgrey\",edgecolor= 'none',alpha=1,zorder=5)\n",
    "gl =ax.gridlines(xlocs=range(-180,181,incrgridlon), ylocs=range(-90,91,incrgridlat),draw_labels=True,linewidth=1, color='#585858', alpha=0.3, linestyle='--',zorder=8)\n",
    "label_style = {'size': 12, 'color': '#BDBDBD', 'weight': 'normal'}\n",
    "gl.xlabel_style = label_style; gl.ylabel_style = label_style\n",
    "\n",
    "\n",
    "#============= BATHYMETRY\n",
    "bathy_levels = [200,1000,2000,4000] # We will apply a Gaussian filter to smooth the data. \n",
    "color_levels= ['k','navy','mediumblue','slateblue']\n",
    "# west\n",
    "Ct1 = ax.contour(nav_lon,nav_lat,mbathy.where(nav_lon<0), bathy_levels,colors=color_levels,linewidths=0.7,linestyles='solid',transform=trdata)\n",
    "# east\n",
    "Ct2 = ax.contour(nav_lon,nav_lat,mbathy.where(nav_lon>0), bathy_levels,colors=color_levels,linewidths=0.7,linestyles='solid',transform=trdata)\n",
    "\n",
    "# plt.title(tlabel,fontsize=24)\n",
    "#plt.show()\n",
    "fig.savefig(diro+namo, facecolor=fig.get_facecolor(), bbox_inches='tight') #,edgecolor='none', \n",
    "plt.close(fig)\n",
    "# plt.clf()"
   ]
  },
  {
   "cell_type": "markdown",
   "id": "55dc5b90-b54c-47ee-ad1d-8e3c60a8f857",
   "metadata": {},
   "source": [
    "# plot différence maps"
   ]
  },
  {
   "cell_type": "code",
   "execution_count": null,
   "id": "cb2982d3-d173-4116-acff-05a68eefcd84",
   "metadata": {},
   "outputs": [],
   "source": []
  }
 ],
 "metadata": {
  "kernelspec": {
   "display_name": "climate_science",
   "language": "python",
   "name": "module-conda-env-climate_science"
  },
  "language_info": {
   "codemirror_mode": {
    "name": "ipython",
    "version": 3
   },
   "file_extension": ".py",
   "mimetype": "text/x-python",
   "name": "python",
   "nbconvert_exporter": "python",
   "pygments_lexer": "ipython3",
   "version": "3.9.1"
  }
 },
 "nbformat": 4,
 "nbformat_minor": 5
}
