{
 "cells": [
  {
   "cell_type": "code",
   "execution_count": 1,
   "id": "9aaa3148-e13b-43bd-ba3e-ae1afbb904fa",
   "metadata": {},
   "outputs": [],
   "source": [
    "# standart librairies\n",
    "import os,sys\n",
    "import numpy as np\n",
    "import xarray as xr\n",
    "import pandas as pd\n",
    "import datetime\n",
    "\n",
    "# plot\n",
    "import cartopy\n",
    "import cartopy.feature as cfeature\n",
    "import cartopy.crs as ccrs\n",
    "import matplotlib.path as mpath\n",
    "import matplotlib.pyplot as plt\n",
    "from matplotlib.colors import Colormap\n",
    "import matplotlib.colors as mcolors\n",
    "import matplotlib.dates as mdates\n",
    "import matplotlib.cm as cm\n",
    "import matplotlib.dates as mdates\n",
    "import matplotlib.ticker as mticker\n",
    "from matplotlib import ticker\n",
    "\n",
    "from matplotlib.colors import from_levels_and_colors\n",
    "from mpl_toolkits.axes_grid1.inset_locator import inset_axes\n"
   ]
  },
  {
   "cell_type": "code",
   "execution_count": 2,
   "id": "cb18e00c-005a-4b5f-a046-18f75813c37f",
   "metadata": {},
   "outputs": [],
   "source": [
    "CB_colors = {\n",
    "\t'blue':\t'#377eb8',\n",
    "\t'orange':  '#ff7f00',\n",
    "\t'green':   '#4daf4a',\n",
    "\t'pink':\t'#f781bf',\n",
    "\t'brown':   '#a65628',\n",
    "\t'purple':  '#984ea3',\n",
    "\t'gray':\t'#999999',\n",
    "\t'red': \t'#e41a1c',\n",
    "\t'yellow':  '#dede00'\n",
    "}"
   ]
  },
  {
   "cell_type": "code",
   "execution_count": 3,
   "id": "ec55f4c7-0ac6-4830-a9d1-9d4ff05c1bd6",
   "metadata": {},
   "outputs": [
    {
     "data": {
      "text/html": [
       "<table style=\"border: 2px solid white;\">\n",
       "<tr>\n",
       "<td style=\"vertical-align: top; border: 0px solid white\">\n",
       "<h3 style=\"text-align: left;\">Client</h3>\n",
       "<ul style=\"text-align: left; list-style: none; margin: 0; padding: 0;\">\n",
       "  <li><b>Scheduler: </b>tcp://127.0.0.1:35447</li>\n",
       "  <li><b>Dashboard: </b><a href='http://127.0.0.1:8787/status' target='_blank'>http://127.0.0.1:8787/status</a></li>\n",
       "</ul>\n",
       "</td>\n",
       "<td style=\"vertical-align: top; border: 0px solid white\">\n",
       "<h3 style=\"text-align: left;\">Cluster</h3>\n",
       "<ul style=\"text-align: left; list-style:none; margin: 0; padding: 0;\">\n",
       "  <li><b>Workers: </b>5</li>\n",
       "  <li><b>Cores: </b>10</li>\n",
       "  <li><b>Memory: </b>20.97 GB</li>\n",
       "</ul>\n",
       "</td>\n",
       "</tr>\n",
       "</table>"
      ],
      "text/plain": [
       "<Client: 'tcp://127.0.0.1:35447' processes=5 threads=10, memory=20.97 GB>"
      ]
     },
     "execution_count": 3,
     "metadata": {},
     "output_type": "execute_result"
    }
   ],
   "source": [
    "# from dask.distributed import Client\n",
    "import multiprocessing.popen_spawn_posix\n",
    "from distributed import Client\n",
    "\n",
    "c = Client()\n",
    "# c = Client(n_workers=6, threads_per_worker=1, memory_limit=\"8 GiB\",local_directory=\"/gpfsscratch/rech/cli/uor98hu/dask_tmp/\")\n",
    "c"
   ]
  },
  {
   "cell_type": "markdown",
   "id": "4507f479-60e8-48bf-b1fd-56702807eabb",
   "metadata": {},
   "source": [
    "# loading Altimetry observations products in the Arctic"
   ]
  },
  {
   "cell_type": "code",
   "execution_count": 4,
   "id": "88529434-8463-452b-b62e-25b8cd7bb88e",
   "metadata": {},
   "outputs": [],
   "source": [
    "dec_year = xr.open_dataset(\"/gpfswork/rech/cli/uor98hu/DATA4VALIDATION/dec_year_1m_2005-2018.nc\").dec_year"
   ]
  },
  {
   "cell_type": "code",
   "execution_count": 5,
   "id": "0cbbe48d-d7e6-4dd8-b6ef-0fe1fae5f5a5",
   "metadata": {},
   "outputs": [],
   "source": [
    "# monthly time series \n",
    "slats_DTU      = xr.open_dataset(\"/gpfswork/rech/cli/uor98hu/DATA4VALIDATION/DTU_TUM/cci_dtu_tum_arctic_sla_ts_BGRbox.nc\").ts_sla_box\n",
    "slats_CPOM     = xr.open_dataset(\"/gpfswork/rech/cli/uor98hu/DATA4VALIDATION/Armitage/Full_DOT_data_Arco_ts_BGRbox.nc\").ts_sla_box\n",
    "slats_Armitage = xr.open_dataset(\"/gpfswork/rech/cli/uor98hu/DATA4VALIDATION/Armitage/CPOM_DOT_ts_BGRbox.nc\").ts_sla_box\n",
    "slats_SAGA     = xr.open_dataset(\"/gpfswork/rech/cli/uor98hu/DATA4VALIDATION/Doglioni/SAGA_sla_ts_BGRbox.nc\").ts_sla_box\n",
    "slats_PRANDI_adt= xr.open_dataset(\"/gpfswork/rech/cli/uor98hu/DATA4VALIDATION/PRANDI/Prandi_adt_ts_BGRbox.nc\").ts_sla_box\n",
    "slats_PRANDI   = xr.open_dataset(\"/gpfswork/rech/cli/uor98hu/DATA4VALIDATION/PRANDI/Prandi_sla_ts_BGRbox.nc\").ts_sla_box\n",
    "slats_ECCO     = xr.open_dataset(\"/gpfswork/rech/cli/uor98hu/DATA4VALIDATION/ECCO/BGRmask_ssh_ecco_ts.nc\").ssh_ecco_ts\n",
    "slats_ECCO2plot = slats_ECCO - slats_ECCO.mean('time_counter')\n"
   ]
  },
  {
   "cell_type": "code",
   "execution_count": 6,
   "id": "94c9fd0d-a7d6-4a62-9036-b06f1bc54b90",
   "metadata": {},
   "outputs": [],
   "source": [
    "# yearly time series\n",
    "slats_DTU_1y = slats_DTU.sel(time_counter=slice(\"1993\",\"2017\")).groupby('time_counter.year').mean('time_counter') #1993 to 2017\n",
    "slats_CPOM_1y = slats_CPOM.groupby('time_counter.year').mean('time_counter') #2011 to 2018;  \n",
    "slats_Armitage_1y = slats_Armitage.groupby('time_counter.year').mean('time_counter') #2003 to 2014;  \n",
    "slats_SAGA_1y = slats_SAGA.groupby('time_counter.year').mean('time_counter') #2011 to 2018;\n",
    "slats_PRANDI_1y = slats_PRANDI.groupby('time_counter.year').mean('time_counter') #2011 to 2018;\n",
    "slats_ECCO2plot_1y = slats_ECCO2plot.groupby('time_counter.year').mean('time_counter') #1992 to 2017;  \n"
   ]
  },
  {
   "cell_type": "code",
   "execution_count": 7,
   "id": "7bc8bce8-2b0a-41a1-86dc-fd38b2aef7e9",
   "metadata": {},
   "outputs": [],
   "source": [
    "GMSL_AVISO = xr.open_dataset(\"/gpfswork/rech/cli/uor98hu/DATA4VALIDATION/AVISO_DATA/MSL_Serie_MERGED_Global_AVISO_GIA_NoAdjust_Filter2m.nc\").msl.sel(time=slice(\"1993\",\"2018\")).rename({'time':'time_counter'})\n",
    "GMSL_AVISO_1m = GMSL_AVISO.resample(time_counter=\"1M\").mean()\n",
    "GMSL_AVISO_1y = GMSL_AVISO.resample(time_counter=\"1Y\").mean().rename({\"time_counter\":\"year\"}).assign_coords(year=(\"year\",np.arange(1993,2019)))\n",
    "\n",
    "GMSL_ECCO_NASA  = xr.open_dataset(\"/gpfswork/rech/cli/uor98hu/DATA4VALIDATION/ECCO/GLOBAL_MEAN_SEA_LEVEL_mon_mean_ECCO_V4r4_1D.nc\").global_mean_sea_level_anomaly\n",
    "GMSL_ECCO_NASA_1y = GMSL_ECCO_NASA.groupby('time.year').mean('time')\n"
   ]
  },
  {
   "cell_type": "markdown",
   "id": "ac962dea-ed19-4b74-a5e7-da542db3c615",
   "metadata": {},
   "source": [
    "### correct the yearly time series from the GMSL"
   ]
  },
  {
   "cell_type": "code",
   "execution_count": 8,
   "id": "82a9164f-b2c6-4ad4-a2e0-64ddcfd4f0a1",
   "metadata": {},
   "outputs": [],
   "source": [
    "slats_DTU_1y_corr = slats_DTU_1y           - GMSL_AVISO_1y\n",
    "slats_CPOM_1y_corr = slats_CPOM_1y         - GMSL_AVISO_1y\n",
    "slats_Armitage_1y_corr = slats_Armitage_1y - GMSL_AVISO_1y\n",
    "slats_SAGA_1y_corr = slats_SAGA_1y         - GMSL_AVISO_1y\n",
    "slats_PRANDI_1y_corr = slats_PRANDI_1y     - GMSL_AVISO_1y\n",
    "slats_ECCO2plot_1y_corr= slats_ECCO2plot_1y - GMSL_ECCO_NASA_1y"
   ]
  },
  {
   "cell_type": "markdown",
   "id": "b6c1f3d1-0d9b-4262-bb66-be4a8fed5b31",
   "metadata": {},
   "source": [
    "# Load model data"
   ]
  },
  {
   "cell_type": "code",
   "execution_count": 12,
   "id": "0eab1f4e-f8eb-4da3-8f16-0e0e6a1c45e7",
   "metadata": {},
   "outputs": [],
   "source": [
    "ssh_1y = xr.open_dataset('/gpfswork/rech/cli/uor98hu/MYDATA/SSH/GAI/GAI_ts1980-2018_ssh_BGRbox.nc').ssh_BGRbox"
   ]
  },
  {
   "cell_type": "code",
   "execution_count": 13,
   "id": "f46bb916-32a9-4fb2-9f0d-704c55510ed5",
   "metadata": {
    "tags": []
   },
   "outputs": [],
   "source": [
    "# adjust the reference of the SLA of the altimetry products \n",
    "slats_DTU_1y_corr_match2       = slats_DTU_1y_corr       - slats_DTU_1y_corr.mean() + ssh_1y.sel(year=slice('1993','2017')).mean()\n",
    "slats_CPOM_1y_corr_match2      = slats_CPOM_1y_corr      - slats_CPOM_1y_corr.mean() + ssh_1y.sel(year=slice('2011','2018')).mean()\n",
    "slats_Armitage_1y_corr_match2  = slats_Armitage_1y_corr  - slats_Armitage_1y_corr.mean() + ssh_1y.sel(year=slice('2003','2014')).mean()\n",
    "slats_SAGA_1y_corr_match2      = slats_SAGA_1y_corr      - slats_SAGA_1y_corr.mean() + ssh_1y.sel(year=slice('2011','2018')).mean()\n",
    "slats_PRANDI_1y_corr_match2    = slats_PRANDI_1y_corr    - slats_PRANDI_1y_corr.mean() + ssh_1y.sel(year=slice('2011','2018')).mean()\n",
    "slats_ECCO2plot_1y_corr_match2 = slats_ECCO2plot_1y_corr - slats_ECCO2plot_1y_corr.mean() + ssh_1y.sel(year=slice('1992','2017')).mean()"
   ]
  },
  {
   "cell_type": "markdown",
   "id": "471526a7-022d-49b1-bbd5-83cb0683b19a",
   "metadata": {},
   "source": [
    "# compute data for paper text"
   ]
  },
  {
   "cell_type": "code",
   "execution_count": 15,
   "id": "69447fe3-1f2c-4771-8fd2-b7bb904e9737",
   "metadata": {
    "tags": []
   },
   "outputs": [
    {
     "name": "stdout",
     "output_type": "stream",
     "text": [
      "6.805756276711121\n",
      "6.350007500578269\n",
      "3.4324714589493603\n",
      "1.9353674016746505\n",
      "4.71479729372861\n",
      "1.0558502849848816\n",
      "1.1172744552228104\n"
     ]
    }
   ],
   "source": [
    "## ---- compute std over their respective time periods (to get the interannual variability)\n",
    "print((ssh_1y*100).std().values)\n",
    "print((slats_ECCO2plot_1y_corr_match2*100).std().values)\n",
    "print((slats_DTU_1y_corr_match2*100).std().values)\n",
    "print((slats_CPOM_1y_corr_match2*100).std().values)\n",
    "print((slats_Armitage_1y_corr_match2*100).std().values)\n",
    "print((slats_SAGA_1y_corr_match2*100).std().values)\n",
    "print((slats_PRANDI_1y_corr_match2*100).std().values)"
   ]
  },
  {
   "cell_type": "code",
   "execution_count": 23,
   "id": "6e0fb6a9-cbc0-41a8-804c-715a3d87c7e1",
   "metadata": {
    "tags": []
   },
   "outputs": [
    {
     "name": "stdout",
     "output_type": "stream",
     "text": [
      "0.93\n",
      "0.25\n",
      "0.64\n",
      "0.82\n",
      "0.36\n",
      "0.49\n"
     ]
    }
   ],
   "source": [
    "# compute pearson's correlation coefficient (measure of correspondance between datasets)\n",
    "print(str(np.round(xr.corr(ssh_1y.sel(year=slice(1992,2017)), slats_ECCO2plot_1y_corr_match2).values,2)))\n",
    "print(str(np.round(xr.corr(ssh_1y, slats_DTU_1y_corr_match2).values,2)))\n",
    "print(str(np.round(xr.corr(ssh_1y, slats_CPOM_1y_corr_match2).values,2)))\n",
    "print(str(np.round(xr.corr(ssh_1y, slats_Armitage_1y_corr_match2).values,2)))\n",
    "print(str(np.round(xr.corr(ssh_1y, slats_SAGA_1y_corr_match2).values,2)))\n",
    "print(str(np.round(xr.corr(ssh_1y, slats_PRANDI_1y_corr_match2).values,2)))"
   ]
  },
  {
   "cell_type": "code",
   "execution_count": 50,
   "id": "ba9f79cf-fe79-4165-9176-3f565a1d1f95",
   "metadata": {
    "tags": []
   },
   "outputs": [
    {
     "name": "stdout",
     "output_type": "stream",
     "text": [
      "12.3954099572738\n",
      "1.2382783747337807\n",
      "2.0402454818026827\n",
      "4.530455884900604\n",
      "0.9451890567189065\n",
      "1.3768717296714377\n"
     ]
    }
   ],
   "source": [
    "# test of significance\n",
    "r_ecco = 0.93\n",
    "r_dtu = 0.25\n",
    "r_cpom = 0.64\n",
    "r_armi = 0.82\n",
    "r_saga = 0.36\n",
    "r_prandi = 0.49\n",
    "\n",
    "#compute the t value: n is the lenght of the time series (number of years)\n",
    "def compute_t(r, n):\n",
    "    return r /np.sqrt((1-r**2)/(n-2))\n",
    "\n",
    "t_ecco = compute_t(r_ecco,26)\n",
    "t_dtu = compute_t(r_dtu,25)\n",
    "t_cpom = compute_t(r_cpom,8)\n",
    "t_armi = compute_t(r_armi,12)\n",
    "t_saga = compute_t(r_saga,8)\n",
    "t_prandi = compute_t(r_prandi,8)\n",
    "\n",
    "print(t_ecco)\n",
    "print(t_dtu)\n",
    "print(t_cpom)\n",
    "print(t_armi)\n",
    "print(t_saga)\n",
    "print(t_prandi)"
   ]
  },
  {
   "cell_type": "code",
   "execution_count": 52,
   "id": "e4b94a7a-53bc-4832-b389-2f272c37a95a",
   "metadata": {
    "tags": []
   },
   "outputs": [
    {
     "name": "stdout",
     "output_type": "stream",
     "text": [
      "1.7108820799094275\n",
      "1.7138715277470473\n",
      "1.9431802803927816\n",
      "1.8124611228107335\n",
      "1.9431802803927816\n",
      "1.9431802803927816\n"
     ]
    }
   ],
   "source": [
    "from scipy import stats\n",
    "# compute t* : (stats.t.ppf(1-alpha,dof-2))\n",
    "\n",
    "print(stats.t.ppf(1-0.05,24))\n",
    "print(stats.t.ppf(1-0.05,23))\n",
    "print(stats.t.ppf(1-0.05,6))\n",
    "print(stats.t.ppf(1-0.05,10))\n",
    "print(stats.t.ppf(1-0.05,6))\n",
    "print(stats.t.ppf(1-0.05,6))\n",
    "\n",
    "# is significant if t is > t*"
   ]
  },
  {
   "cell_type": "code",
   "execution_count": 14,
   "id": "07ed64f2-1a8d-4cf5-baa2-ff9742c546ef",
   "metadata": {},
   "outputs": [
    {
     "name": "stderr",
     "output_type": "stream",
     "text": [
      "/gpfslocalsup/pub/anaconda-py3/2020.11/envs/climate_science/lib/python3.9/site-packages/esmtools/stats.py:394: FutureWarning: ``output_sizes`` should be given in the ``dask_gufunc_kwargs`` parameter. It will be removed as direct parameter in a future version.\n",
      "  results = xr.apply_ufunc(\n"
     ]
    },
    {
     "data": {
      "text/html": [
       "<div><svg style=\"position: absolute; width: 0; height: 0; overflow: hidden\">\n",
       "<defs>\n",
       "<symbol id=\"icon-database\" viewBox=\"0 0 32 32\">\n",
       "<path d=\"M16 0c-8.837 0-16 2.239-16 5v4c0 2.761 7.163 5 16 5s16-2.239 16-5v-4c0-2.761-7.163-5-16-5z\"></path>\n",
       "<path d=\"M16 17c-8.837 0-16-2.239-16-5v6c0 2.761 7.163 5 16 5s16-2.239 16-5v-6c0 2.761-7.163 5-16 5z\"></path>\n",
       "<path d=\"M16 26c-8.837 0-16-2.239-16-5v6c0 2.761 7.163 5 16 5s16-2.239 16-5v-6c0 2.761-7.163 5-16 5z\"></path>\n",
       "</symbol>\n",
       "<symbol id=\"icon-file-text2\" viewBox=\"0 0 32 32\">\n",
       "<path d=\"M28.681 7.159c-0.694-0.947-1.662-2.053-2.724-3.116s-2.169-2.030-3.116-2.724c-1.612-1.182-2.393-1.319-2.841-1.319h-15.5c-1.378 0-2.5 1.121-2.5 2.5v27c0 1.378 1.122 2.5 2.5 2.5h23c1.378 0 2.5-1.122 2.5-2.5v-19.5c0-0.448-0.137-1.23-1.319-2.841zM24.543 5.457c0.959 0.959 1.712 1.825 2.268 2.543h-4.811v-4.811c0.718 0.556 1.584 1.309 2.543 2.268zM28 29.5c0 0.271-0.229 0.5-0.5 0.5h-23c-0.271 0-0.5-0.229-0.5-0.5v-27c0-0.271 0.229-0.5 0.5-0.5 0 0 15.499-0 15.5 0v7c0 0.552 0.448 1 1 1h7v19.5z\"></path>\n",
       "<path d=\"M23 26h-14c-0.552 0-1-0.448-1-1s0.448-1 1-1h14c0.552 0 1 0.448 1 1s-0.448 1-1 1z\"></path>\n",
       "<path d=\"M23 22h-14c-0.552 0-1-0.448-1-1s0.448-1 1-1h14c0.552 0 1 0.448 1 1s-0.448 1-1 1z\"></path>\n",
       "<path d=\"M23 18h-14c-0.552 0-1-0.448-1-1s0.448-1 1-1h14c0.552 0 1 0.448 1 1s-0.448 1-1 1z\"></path>\n",
       "</symbol>\n",
       "</defs>\n",
       "</svg>\n",
       "<style>/* CSS stylesheet for displaying xarray objects in jupyterlab.\n",
       " *\n",
       " */\n",
       "\n",
       ":root {\n",
       "  --xr-font-color0: var(--jp-content-font-color0, rgba(0, 0, 0, 1));\n",
       "  --xr-font-color2: var(--jp-content-font-color2, rgba(0, 0, 0, 0.54));\n",
       "  --xr-font-color3: var(--jp-content-font-color3, rgba(0, 0, 0, 0.38));\n",
       "  --xr-border-color: var(--jp-border-color2, #e0e0e0);\n",
       "  --xr-disabled-color: var(--jp-layout-color3, #bdbdbd);\n",
       "  --xr-background-color: var(--jp-layout-color0, white);\n",
       "  --xr-background-color-row-even: var(--jp-layout-color1, white);\n",
       "  --xr-background-color-row-odd: var(--jp-layout-color2, #eeeeee);\n",
       "}\n",
       "\n",
       "html[theme=dark],\n",
       "body.vscode-dark {\n",
       "  --xr-font-color0: rgba(255, 255, 255, 1);\n",
       "  --xr-font-color2: rgba(255, 255, 255, 0.54);\n",
       "  --xr-font-color3: rgba(255, 255, 255, 0.38);\n",
       "  --xr-border-color: #1F1F1F;\n",
       "  --xr-disabled-color: #515151;\n",
       "  --xr-background-color: #111111;\n",
       "  --xr-background-color-row-even: #111111;\n",
       "  --xr-background-color-row-odd: #313131;\n",
       "}\n",
       "\n",
       ".xr-wrap {\n",
       "  display: block !important;\n",
       "  min-width: 300px;\n",
       "  max-width: 700px;\n",
       "}\n",
       "\n",
       ".xr-text-repr-fallback {\n",
       "  /* fallback to plain text repr when CSS is not injected (untrusted notebook) */\n",
       "  display: none;\n",
       "}\n",
       "\n",
       ".xr-header {\n",
       "  padding-top: 6px;\n",
       "  padding-bottom: 6px;\n",
       "  margin-bottom: 4px;\n",
       "  border-bottom: solid 1px var(--xr-border-color);\n",
       "}\n",
       "\n",
       ".xr-header > div,\n",
       ".xr-header > ul {\n",
       "  display: inline;\n",
       "  margin-top: 0;\n",
       "  margin-bottom: 0;\n",
       "}\n",
       "\n",
       ".xr-obj-type,\n",
       ".xr-array-name {\n",
       "  margin-left: 2px;\n",
       "  margin-right: 10px;\n",
       "}\n",
       "\n",
       ".xr-obj-type {\n",
       "  color: var(--xr-font-color2);\n",
       "}\n",
       "\n",
       ".xr-sections {\n",
       "  padding-left: 0 !important;\n",
       "  display: grid;\n",
       "  grid-template-columns: 150px auto auto 1fr 20px 20px;\n",
       "}\n",
       "\n",
       ".xr-section-item {\n",
       "  display: contents;\n",
       "}\n",
       "\n",
       ".xr-section-item input {\n",
       "  display: none;\n",
       "}\n",
       "\n",
       ".xr-section-item input + label {\n",
       "  color: var(--xr-disabled-color);\n",
       "}\n",
       "\n",
       ".xr-section-item input:enabled + label {\n",
       "  cursor: pointer;\n",
       "  color: var(--xr-font-color2);\n",
       "}\n",
       "\n",
       ".xr-section-item input:enabled + label:hover {\n",
       "  color: var(--xr-font-color0);\n",
       "}\n",
       "\n",
       ".xr-section-summary {\n",
       "  grid-column: 1;\n",
       "  color: var(--xr-font-color2);\n",
       "  font-weight: 500;\n",
       "}\n",
       "\n",
       ".xr-section-summary > span {\n",
       "  display: inline-block;\n",
       "  padding-left: 0.5em;\n",
       "}\n",
       "\n",
       ".xr-section-summary-in:disabled + label {\n",
       "  color: var(--xr-font-color2);\n",
       "}\n",
       "\n",
       ".xr-section-summary-in + label:before {\n",
       "  display: inline-block;\n",
       "  content: '►';\n",
       "  font-size: 11px;\n",
       "  width: 15px;\n",
       "  text-align: center;\n",
       "}\n",
       "\n",
       ".xr-section-summary-in:disabled + label:before {\n",
       "  color: var(--xr-disabled-color);\n",
       "}\n",
       "\n",
       ".xr-section-summary-in:checked + label:before {\n",
       "  content: '▼';\n",
       "}\n",
       "\n",
       ".xr-section-summary-in:checked + label > span {\n",
       "  display: none;\n",
       "}\n",
       "\n",
       ".xr-section-summary,\n",
       ".xr-section-inline-details {\n",
       "  padding-top: 4px;\n",
       "  padding-bottom: 4px;\n",
       "}\n",
       "\n",
       ".xr-section-inline-details {\n",
       "  grid-column: 2 / -1;\n",
       "}\n",
       "\n",
       ".xr-section-details {\n",
       "  display: none;\n",
       "  grid-column: 1 / -1;\n",
       "  margin-bottom: 5px;\n",
       "}\n",
       "\n",
       ".xr-section-summary-in:checked ~ .xr-section-details {\n",
       "  display: contents;\n",
       "}\n",
       "\n",
       ".xr-array-wrap {\n",
       "  grid-column: 1 / -1;\n",
       "  display: grid;\n",
       "  grid-template-columns: 20px auto;\n",
       "}\n",
       "\n",
       ".xr-array-wrap > label {\n",
       "  grid-column: 1;\n",
       "  vertical-align: top;\n",
       "}\n",
       "\n",
       ".xr-preview {\n",
       "  color: var(--xr-font-color3);\n",
       "}\n",
       "\n",
       ".xr-array-preview,\n",
       ".xr-array-data {\n",
       "  padding: 0 5px !important;\n",
       "  grid-column: 2;\n",
       "}\n",
       "\n",
       ".xr-array-data,\n",
       ".xr-array-in:checked ~ .xr-array-preview {\n",
       "  display: none;\n",
       "}\n",
       "\n",
       ".xr-array-in:checked ~ .xr-array-data,\n",
       ".xr-array-preview {\n",
       "  display: inline-block;\n",
       "}\n",
       "\n",
       ".xr-dim-list {\n",
       "  display: inline-block !important;\n",
       "  list-style: none;\n",
       "  padding: 0 !important;\n",
       "  margin: 0;\n",
       "}\n",
       "\n",
       ".xr-dim-list li {\n",
       "  display: inline-block;\n",
       "  padding: 0;\n",
       "  margin: 0;\n",
       "}\n",
       "\n",
       ".xr-dim-list:before {\n",
       "  content: '(';\n",
       "}\n",
       "\n",
       ".xr-dim-list:after {\n",
       "  content: ')';\n",
       "}\n",
       "\n",
       ".xr-dim-list li:not(:last-child):after {\n",
       "  content: ',';\n",
       "  padding-right: 5px;\n",
       "}\n",
       "\n",
       ".xr-has-index {\n",
       "  font-weight: bold;\n",
       "}\n",
       "\n",
       ".xr-var-list,\n",
       ".xr-var-item {\n",
       "  display: contents;\n",
       "}\n",
       "\n",
       ".xr-var-item > div,\n",
       ".xr-var-item label,\n",
       ".xr-var-item > .xr-var-name span {\n",
       "  background-color: var(--xr-background-color-row-even);\n",
       "  margin-bottom: 0;\n",
       "}\n",
       "\n",
       ".xr-var-item > .xr-var-name:hover span {\n",
       "  padding-right: 5px;\n",
       "}\n",
       "\n",
       ".xr-var-list > li:nth-child(odd) > div,\n",
       ".xr-var-list > li:nth-child(odd) > label,\n",
       ".xr-var-list > li:nth-child(odd) > .xr-var-name span {\n",
       "  background-color: var(--xr-background-color-row-odd);\n",
       "}\n",
       "\n",
       ".xr-var-name {\n",
       "  grid-column: 1;\n",
       "}\n",
       "\n",
       ".xr-var-dims {\n",
       "  grid-column: 2;\n",
       "}\n",
       "\n",
       ".xr-var-dtype {\n",
       "  grid-column: 3;\n",
       "  text-align: right;\n",
       "  color: var(--xr-font-color2);\n",
       "}\n",
       "\n",
       ".xr-var-preview {\n",
       "  grid-column: 4;\n",
       "}\n",
       "\n",
       ".xr-var-name,\n",
       ".xr-var-dims,\n",
       ".xr-var-dtype,\n",
       ".xr-preview,\n",
       ".xr-attrs dt {\n",
       "  white-space: nowrap;\n",
       "  overflow: hidden;\n",
       "  text-overflow: ellipsis;\n",
       "  padding-right: 10px;\n",
       "}\n",
       "\n",
       ".xr-var-name:hover,\n",
       ".xr-var-dims:hover,\n",
       ".xr-var-dtype:hover,\n",
       ".xr-attrs dt:hover {\n",
       "  overflow: visible;\n",
       "  width: auto;\n",
       "  z-index: 1;\n",
       "}\n",
       "\n",
       ".xr-var-attrs,\n",
       ".xr-var-data {\n",
       "  display: none;\n",
       "  background-color: var(--xr-background-color) !important;\n",
       "  padding-bottom: 5px !important;\n",
       "}\n",
       "\n",
       ".xr-var-attrs-in:checked ~ .xr-var-attrs,\n",
       ".xr-var-data-in:checked ~ .xr-var-data {\n",
       "  display: block;\n",
       "}\n",
       "\n",
       ".xr-var-data > table {\n",
       "  float: right;\n",
       "}\n",
       "\n",
       ".xr-var-name span,\n",
       ".xr-var-data,\n",
       ".xr-attrs {\n",
       "  padding-left: 25px !important;\n",
       "}\n",
       "\n",
       ".xr-attrs,\n",
       ".xr-var-attrs,\n",
       ".xr-var-data {\n",
       "  grid-column: 1 / -1;\n",
       "}\n",
       "\n",
       "dl.xr-attrs {\n",
       "  padding: 0;\n",
       "  margin: 0;\n",
       "  display: grid;\n",
       "  grid-template-columns: 125px auto;\n",
       "}\n",
       "\n",
       ".xr-attrs dt,\n",
       ".xr-attrs dd {\n",
       "  padding: 0;\n",
       "  margin: 0;\n",
       "  float: left;\n",
       "  padding-right: 10px;\n",
       "  width: auto;\n",
       "}\n",
       "\n",
       ".xr-attrs dt {\n",
       "  font-weight: normal;\n",
       "  grid-column: 1;\n",
       "}\n",
       "\n",
       ".xr-attrs dt:hover span {\n",
       "  display: inline-block;\n",
       "  background: var(--xr-background-color);\n",
       "  padding-right: 10px;\n",
       "}\n",
       "\n",
       ".xr-attrs dd {\n",
       "  grid-column: 2;\n",
       "  white-space: pre-wrap;\n",
       "  word-break: break-all;\n",
       "}\n",
       "\n",
       ".xr-icon-database,\n",
       ".xr-icon-file-text2 {\n",
       "  display: inline-block;\n",
       "  vertical-align: middle;\n",
       "  width: 1em;\n",
       "  height: 1.5em !important;\n",
       "  stroke-width: 0;\n",
       "  stroke: currentColor;\n",
       "  fill: currentColor;\n",
       "}\n",
       "</style><pre class='xr-text-repr-fallback'>&lt;xarray.DataArray ()&gt;\n",
       "array(6.46378952e-06)\n",
       "Coordinates:\n",
       "    time_counter  float64 0.0\n",
       "    deptht        float32 0.5058\n",
       "    parameter     &lt;U9 &#x27;pvalue&#x27;</pre><div class='xr-wrap' style='display:none'><div class='xr-header'><div class='xr-obj-type'>xarray.DataArray</div><div class='xr-array-name'></div></div><ul class='xr-sections'><li class='xr-section-item'><div class='xr-array-wrap'><input id='section-f82a42a5-3c24-4690-a548-ff0d342e6659' class='xr-array-in' type='checkbox' checked><label for='section-f82a42a5-3c24-4690-a548-ff0d342e6659' title='Show/hide data repr'><svg class='icon xr-icon-database'><use xlink:href='#icon-database'></use></svg></label><div class='xr-array-preview xr-preview'><span>6.464e-06</span></div><div class='xr-array-data'><pre>array(6.46378952e-06)</pre></div></div></li><li class='xr-section-item'><input id='section-57a6976d-476c-4d1b-bbd8-620a061a4075' class='xr-section-summary-in' type='checkbox'  checked><label for='section-57a6976d-476c-4d1b-bbd8-620a061a4075' class='xr-section-summary' >Coordinates: <span>(3)</span></label><div class='xr-section-inline-details'></div><div class='xr-section-details'><ul class='xr-var-list'><li class='xr-var-item'><div class='xr-var-name'><span>time_counter</span></div><div class='xr-var-dims'>()</div><div class='xr-var-dtype'>float64</div><div class='xr-var-preview xr-preview'>0.0</div><input id='attrs-99246c34-7de1-4fa7-91e0-a890d6354131' class='xr-var-attrs-in' type='checkbox' disabled><label for='attrs-99246c34-7de1-4fa7-91e0-a890d6354131' title='Show/Hide attributes'><svg class='icon xr-icon-file-text2'><use xlink:href='#icon-file-text2'></use></svg></label><input id='data-4719e1d3-4e28-46d6-a189-8310faa96c9a' class='xr-var-data-in' type='checkbox'><label for='data-4719e1d3-4e28-46d6-a189-8310faa96c9a' title='Show/Hide data repr'><svg class='icon xr-icon-database'><use xlink:href='#icon-database'></use></svg></label><div class='xr-var-attrs'><dl class='xr-attrs'></dl></div><div class='xr-var-data'><pre>array(0.)</pre></div></li><li class='xr-var-item'><div class='xr-var-name'><span>deptht</span></div><div class='xr-var-dims'>()</div><div class='xr-var-dtype'>float32</div><div class='xr-var-preview xr-preview'>0.5058</div><input id='attrs-2ee1e217-4797-472f-8b58-57ac90cbd82d' class='xr-var-attrs-in' type='checkbox' disabled><label for='attrs-2ee1e217-4797-472f-8b58-57ac90cbd82d' title='Show/Hide attributes'><svg class='icon xr-icon-file-text2'><use xlink:href='#icon-file-text2'></use></svg></label><input id='data-84274cfe-3a52-4b3c-a839-a6c867e1c458' class='xr-var-data-in' type='checkbox'><label for='data-84274cfe-3a52-4b3c-a839-a6c867e1c458' title='Show/Hide data repr'><svg class='icon xr-icon-database'><use xlink:href='#icon-database'></use></svg></label><div class='xr-var-attrs'><dl class='xr-attrs'></dl></div><div class='xr-var-data'><pre>array(0.50576, dtype=float32)</pre></div></li><li class='xr-var-item'><div class='xr-var-name'><span>parameter</span></div><div class='xr-var-dims'>()</div><div class='xr-var-dtype'>&lt;U9</div><div class='xr-var-preview xr-preview'>&#x27;pvalue&#x27;</div><input id='attrs-e7a12088-6cc9-4550-ac40-2e32114a5d64' class='xr-var-attrs-in' type='checkbox' disabled><label for='attrs-e7a12088-6cc9-4550-ac40-2e32114a5d64' title='Show/Hide attributes'><svg class='icon xr-icon-file-text2'><use xlink:href='#icon-file-text2'></use></svg></label><input id='data-cb57603b-2d94-401d-82b8-f27b3f96b9a3' class='xr-var-data-in' type='checkbox'><label for='data-cb57603b-2d94-401d-82b8-f27b3f96b9a3' title='Show/Hide data repr'><svg class='icon xr-icon-database'><use xlink:href='#icon-database'></use></svg></label><div class='xr-var-attrs'><dl class='xr-attrs'></dl></div><div class='xr-var-data'><pre>array(&#x27;pvalue&#x27;, dtype=&#x27;&lt;U9&#x27;)</pre></div></li></ul></div></li><li class='xr-section-item'><input id='section-9f0c4497-51a8-463a-a009-55ad14a08edf' class='xr-section-summary-in' type='checkbox' disabled ><label for='section-9f0c4497-51a8-463a-a009-55ad14a08edf' class='xr-section-summary'  title='Expand/collapse section'>Attributes: <span>(0)</span></label><div class='xr-section-inline-details'></div><div class='xr-section-details'><dl class='xr-attrs'></dl></div></li></ul></div></div>"
      ],
      "text/plain": [
       "<xarray.DataArray ()>\n",
       "array(6.46378952e-06)\n",
       "Coordinates:\n",
       "    time_counter  float64 0.0\n",
       "    deptht        float32 0.5058\n",
       "    parameter     <U9 'pvalue'"
      ]
     },
     "execution_count": 14,
     "metadata": {},
     "output_type": "execute_result"
    }
   ],
   "source": [
    "# compute trend for exp1 and Ecco and their significance\n",
    "import esmtools\n",
    "\n",
    "t1 = \"2005\"\n",
    "t2 = \"2017\"\n",
    "\n",
    "ssh_1y_cm = (ssh_1y.sel(year=slice(t1,t2))*100).compute()\n",
    "lin_ssh_1y = esmtools.stats.linregress(ssh_1y_cm, dim=\"year\")\n",
    "\n",
    "ecco_cm = (slats_ECCO2plot_1y_corr_match2.sel(year=slice(t1,t2))*100).compute()\n",
    "lin_ecco = esmtools.stats.linregress(ecco_cm, dim=\"year\")\n"
   ]
  },
  {
   "cell_type": "code",
   "execution_count": 90,
   "id": "089365ac-28dc-404b-8ee3-3f400e714c5d",
   "metadata": {
    "tags": []
   },
   "outputs": [
    {
     "name": "stdout",
     "output_type": "stream",
     "text": [
      "exp1 slope (95%): 1.39  +/- 0.32\n",
      "ecco slope (95%): 1.27  +/- 0.35\n"
     ]
    }
   ],
   "source": [
    "from scipy.stats import t\n",
    "tinv = lambda p, df: abs(t.ppf(p/2, df))\n",
    "\n",
    "ts = tinv(0.05, 13-2) # = 2.1788 # is the number of years for the ssh and ecco trends\n",
    "\n",
    "print(f\"exp1 slope (95%): {lin_ssh_1y.sel(parameter='slope').values:.2f}  +/- {ts*lin_ssh_1y.sel(parameter='stderr').values:.2f}\")\n",
    "print(f\"ecco slope (95%): {lin_ecco.sel(parameter='slope').values:.2f}  +/- {ts*lin_ecco.sel(parameter='stderr').values:.2f}\")"
   ]
  },
  {
   "cell_type": "code",
   "execution_count": 92,
   "id": "f4927d7c-57c2-479e-92b4-e18bb67fad20",
   "metadata": {
    "tags": []
   },
   "outputs": [
    {
     "name": "stdout",
     "output_type": "stream",
     "text": [
      "0.9329350359196478\n",
      "True\n",
      "exp1 slope (95%): 0.93  +/- 0.70\n"
     ]
    }
   ],
   "source": [
    "# compute trend for Armitage and the significance\n",
    "armi_cm = (slats_Armitage_1y_corr_match2.sel(year=slice(\"2003\",\"2014\"))*100).compute()\n",
    "lin_armi = esmtools.stats.linregress(armi_cm, dim=\"year\")\n",
    "\n",
    "print(lin_armi.sel(parameter='slope').values)\n",
    "print(lin_armi.sel(parameter='pvalue').values< 0.05 ) # if True i significant\n",
    "\n",
    "ts = tinv(0.05, 12-2)\n",
    "\n",
    "print(f\"exp1 slope (95%): {lin_armi.sel(parameter='slope').values:.2f}  +/- {ts*lin_armi.sel(parameter='stderr').values:.2f}\")"
   ]
  },
  {
   "cell_type": "code",
   "execution_count": 82,
   "id": "4f3806a5-766a-481c-a813-076f7c06a19d",
   "metadata": {
    "tags": []
   },
   "outputs": [
    {
     "name": "stdout",
     "output_type": "stream",
     "text": [
      "0.05614060355195571\n",
      "False\n"
     ]
    }
   ],
   "source": [
    "# compute trend for DTU/TUM and the significance\n",
    "cm = (slats_DTU_1y_corr_match2*100).compute()\n",
    "lin_ = esmtools.stats.linregress(cm, dim=\"year\")\n",
    "\n",
    "print(lin_.sel(parameter='slope').values)\n",
    "print(lin_.sel(parameter='pvalue').values< 0.05 ) # if True i significant"
   ]
  },
  {
   "cell_type": "code",
   "execution_count": 87,
   "id": "63e0ebc9-8873-4c01-a1a9-f72cd61443c0",
   "metadata": {
    "tags": []
   },
   "outputs": [
    {
     "name": "stdout",
     "output_type": "stream",
     "text": [
      "0.16441469129359365\n",
      "False\n"
     ]
    }
   ],
   "source": [
    "# compute trend for PRANDI and the significance\n",
    "cm = (slats_PRANDI_1y_corr_match2*100).compute()\n",
    "lin_ = esmtools.stats.linregress(cm, dim=\"year\")\n",
    "\n",
    "print(lin_.sel(parameter='slope').values)\n",
    "print(lin_.sel(parameter='pvalue').values< 0.05 ) # if True i significant"
   ]
  },
  {
   "cell_type": "code",
   "execution_count": null,
   "id": "84b66378-99d9-4120-ac38-0c45a0b33d82",
   "metadata": {},
   "outputs": [],
   "source": []
  },
  {
   "cell_type": "markdown",
   "id": "836f5eb3-9e3f-492e-bc9b-c6363715143d",
   "metadata": {},
   "source": [
    "# Plot figure"
   ]
  },
  {
   "cell_type": "code",
   "execution_count": 16,
   "id": "88ff5e97-ed73-4b19-94ed-d8f5ef5ca639",
   "metadata": {
    "tags": []
   },
   "outputs": [
    {
     "name": "stdout",
     "output_type": "stream",
     "text": [
      "ts_1y_allobs_model_AvisoGMSLcorrectionshiftedfinal.png\n"
     ]
    },
    {
     "data": {
      "image/png": "[encoded data removed]",
      "text/plain": [
       "<Figure size 1814.17x510.236 with 1 Axes>"
      ]
     },
     "metadata": {
      "needs_background": "light"
     },
     "output_type": "display_data"
    }
   ],
   "source": [
    "diro = \"/gpfsscratch/rech/cli/uor98hu/PLOTS/\" # plot directory\n",
    "namo = 'ts_1y_allobs_model_AvisoGMSLcorrectionshiftedfinal.png'\n",
    "print(namo)\n",
    "centim = 1/2.54  # centimeters in inches\n",
    "\n",
    "fig ,(ax1) = plt.subplots(nrows=1, ncols=1, sharex=True, figsize=(32*centim, 9*centim), facecolor='none', dpi=72*2)\n",
    "\n",
    "(ssh_1y*100).plot(ax=ax1, color='k', linewidth=2)\n",
    "(slats_ECCO2plot_1y_corr_match2*100).plot(ax=ax1, color=CB_colors['brown'], linewidth=2)\n",
    "(slats_DTU_1y_corr_match2*100).plot(ax=ax1, color=CB_colors['red'], linewidth=1.2)\n",
    "(slats_CPOM_1y_corr_match2*100).plot(ax=ax1, color=CB_colors['blue'], linewidth=1.2)\n",
    "(slats_Armitage_1y_corr_match2*100).plot(ax=ax1, color=CB_colors['orange'], linewidth=1.2)\n",
    "(slats_SAGA_1y_corr_match2*100).plot(ax=ax1, color=CB_colors['green'], linewidth=1.2)\n",
    "(slats_PRANDI_1y_corr_match2*100).plot(ax=ax1, color=CB_colors['pink'], linewidth=1.2)\n",
    "\n",
    "ax1.grid()\n",
    "ax1.legend(['exp1',\"ECCO V4r4\",'CCI DTU', 'CPOM', 'Armitage et al., (2016)',\"Doglioni et al., (2021)\",\"Prandi et al., (2021)\"], \n",
    "           loc='upper center',ncol=4, bbox_to_anchor=(0.5, -0.17), fancybox=True, fontsize = 14)\n",
    "ax1.set_title('')\n",
    "ax1.set_xlabel('Time',fontsize = 14); \n",
    "ax1.set_ylabel('SLA [cm]',fontsize = 14)\n",
    "\n",
    "lim1 = -20\n",
    "lim2 = 20\n",
    "ax1.set_ylim(lim1,lim2)\n",
    "\n",
    "ax1.axvspan(2005, 2018, color=\"grey\", alpha=0.1)\n",
    "\n",
    "plt.show()\n",
    "fig.savefig(diro+namo, facecolor=fig.get_facecolor(), pad_inches=0.1, bbox_inches='tight') #,edgecolor='none', bbox_inches='tight'\n",
    "plt.close(fig)"
   ]
  }
 ],
 "metadata": {
  "kernelspec": {
   "display_name": "climate_science",
   "language": "python",
   "name": "module-conda-env-climate_science"
  },
  "language_info": {
   "codemirror_mode": {
    "name": "ipython",
    "version": 3
   },
   "file_extension": ".py",
   "mimetype": "text/x-python",
   "name": "python",
   "nbconvert_exporter": "python",
   "pygments_lexer": "ipython3",
   "version": "3.9.1"
  }
 },
 "nbformat": 4,
 "nbformat_minor": 5
}
